{
  "nbformat": 4,
  "nbformat_minor": 0,
  "metadata": {
    "colab": {
      "provenance": [],
      "gpuType": "T4"
    },
    "kernelspec": {
      "name": "python3",
      "display_name": "Python 3"
    },
    "language_info": {
      "name": "python"
    },
    "accelerator": "GPU"
  },
  "cells": [
    {
      "cell_type": "markdown",
      "source": [
        "`\ub7f0\ud0c0\uc784 > \ub7f0\ud0c0\uc784 \uc720\ud615 \ubcc0\uacbd > T4 GPU` \uc774 \uacfc\uc815\uc744 \ubc18\ub4dc\uc2dc \uba3c\uc800 \uc218\ud589\ud558\uace0 \ud558\uc154\uc57c GPU\ub97c \uc0ac\uc6a9\ud560 \uc218 \uc788\uc2b5\ub2c8\ub2e4."
      ],
      "metadata": {
        "id": "fFf51r_LCFY3"
      }
    },
    {
      "cell_type": "code",
      "source": [
        "!pip install PyPDF2 datasets sentence-transformers==3.4.1"
      ],
      "metadata": {
        "colab": {
          "base_uri": "https://localhost:8080/"
        },
        "id": "MuwpwTwWaPZA",
        "outputId": "d6bfd62c-aa18-431d-eb9f-8eff25bc7755"
      },
      "execution_count": null,
      "outputs": [
        {
          "output_type": "stream",
          "name": "stdout",
          "text": [
            "Collecting PyPDF2\n",
            "  Downloading pypdf2-3.0.1-py3-none-any.whl.metadata (6.8 kB)\n",
            "Collecting datasets\n",
            "  Downloading datasets-3.5.0-py3-none-any.whl.metadata (19 kB)\n",
            "Requirement already satisfied: sentence-transformers==3.4.1 in /usr/local/lib/python3.11/dist-packages (3.4.1)\n",
            "Requirement already satisfied: transformers<5.0.0,>=4.41.0 in /usr/local/lib/python3.11/dist-packages (from sentence-transformers==3.4.1) (4.48.3)\n",
            "Requirement already satisfied: tqdm in /usr/local/lib/python3.11/dist-packages (from sentence-transformers==3.4.1) (4.67.1)\n",
            "Requirement already satisfied: torch>=1.11.0 in /usr/local/lib/python3.11/dist-packages (from sentence-transformers==3.4.1) (2.5.1+cu124)\n",
            "Requirement already satisfied: scikit-learn in /usr/local/lib/python3.11/dist-packages (from sentence-transformers==3.4.1) (1.6.1)\n",
            "Requirement already satisfied: scipy in /usr/local/lib/python3.11/dist-packages (from sentence-transformers==3.4.1) (1.13.1)\n",
            "Requirement already satisfied: huggingface-hub>=0.20.0 in /usr/local/lib/python3.11/dist-packages (from sentence-transformers==3.4.1) (0.28.1)\n",
            "Requirement already satisfied: Pillow in /usr/local/lib/python3.11/dist-packages (from sentence-transformers==3.4.1) (11.1.0)\n",
            "Requirement already satisfied: filelock in /usr/local/lib/python3.11/dist-packages (from datasets) (3.17.0)\n",
            "Requirement already satisfied: numpy>=1.17 in /usr/local/lib/python3.11/dist-packages (from datasets) (1.26.4)\n",
            "Requirement already satisfied: pyarrow>=15.0.0 in /usr/local/lib/python3.11/dist-packages (from datasets) (18.1.0)\n",
            "Collecting dill<0.3.9,>=0.3.0 (from datasets)\n",
            "  Downloading dill-0.3.8-py3-none-any.whl.metadata (10 kB)\n",
            "Requirement already satisfied: pandas in /usr/local/lib/python3.11/dist-packages (from datasets) (2.2.2)\n",
            "Requirement already satisfied: requests>=2.32.2 in /usr/local/lib/python3.11/dist-packages (from datasets) (2.32.3)\n",
            "Collecting xxhash (from datasets)\n",
            "  Downloading xxhash-3.5.0-cp311-cp311-manylinux_2_17_x86_64.manylinux2014_x86_64.whl.metadata (12 kB)\n",
            "Collecting multiprocess<0.70.17 (from datasets)\n",
            "  Downloading multiprocess-0.70.16-py311-none-any.whl.metadata (7.2 kB)\n",
            "Requirement already satisfied: fsspec<=2024.12.0,>=2023.1.0 in /usr/local/lib/python3.11/dist-packages (from fsspec[http]<=2024.12.0,>=2023.1.0->datasets) (2024.10.0)\n",
            "Requirement already satisfied: aiohttp in /usr/local/lib/python3.11/dist-packages (from datasets) (3.11.13)\n",
            "Requirement already satisfied: packaging in /usr/local/lib/python3.11/dist-packages (from datasets) (24.2)\n",
            "Requirement already satisfied: pyyaml>=5.1 in /usr/local/lib/python3.11/dist-packages (from datasets) (6.0.2)\n",
            "Requirement already satisfied: aiohappyeyeballs>=2.3.0 in /usr/local/lib/python3.11/dist-packages (from aiohttp->datasets) (2.4.6)\n",
            "Requirement already satisfied: aiosignal>=1.1.2 in /usr/local/lib/python3.11/dist-packages (from aiohttp->datasets) (1.3.2)\n",
            "Requirement already satisfied: attrs>=17.3.0 in /usr/local/lib/python3.11/dist-packages (from aiohttp->datasets) (25.1.0)\n",
            "Requirement already satisfied: frozenlist>=1.1.1 in /usr/local/lib/python3.11/dist-packages (from aiohttp->datasets) (1.5.0)\n",
            "Requirement already satisfied: multidict<7.0,>=4.5 in /usr/local/lib/python3.11/dist-packages (from aiohttp->datasets) (6.1.0)\n",
            "Requirement already satisfied: propcache>=0.2.0 in /usr/local/lib/python3.11/dist-packages (from aiohttp->datasets) (0.3.0)\n",
            "Requirement already satisfied: yarl<2.0,>=1.17.0 in /usr/local/lib/python3.11/dist-packages (from aiohttp->datasets) (1.18.3)\n",
            "Requirement already satisfied: typing-extensions>=3.7.4.3 in /usr/local/lib/python3.11/dist-packages (from huggingface-hub>=0.20.0->sentence-transformers==3.4.1) (4.12.2)\n",
            "Requirement already satisfied: charset-normalizer<4,>=2 in /usr/local/lib/python3.11/dist-packages (from requests>=2.32.2->datasets) (3.4.1)\n",
            "Requirement already satisfied: idna<4,>=2.5 in /usr/local/lib/python3.11/dist-packages (from requests>=2.32.2->datasets) (3.10)\n",
            "Requirement already satisfied: urllib3<3,>=1.21.1 in /usr/local/lib/python3.11/dist-packages (from requests>=2.32.2->datasets) (2.3.0)\n",
            "Requirement already satisfied: certifi>=2017.4.17 in /usr/local/lib/python3.11/dist-packages (from requests>=2.32.2->datasets) (2025.1.31)\n",
            "Requirement already satisfied: networkx in /usr/local/lib/python3.11/dist-packages (from torch>=1.11.0->sentence-transformers==3.4.1) (3.4.2)\n",
            "Requirement already satisfied: jinja2 in /usr/local/lib/python3.11/dist-packages (from torch>=1.11.0->sentence-transformers==3.4.1) (3.1.5)\n",
            "Collecting nvidia-cuda-nvrtc-cu12==12.4.127 (from torch>=1.11.0->sentence-transformers==3.4.1)\n",
            "  Downloading nvidia_cuda_nvrtc_cu12-12.4.127-py3-none-manylinux2014_x86_64.whl.metadata (1.5 kB)\n",
            "Collecting nvidia-cuda-runtime-cu12==12.4.127 (from torch>=1.11.0->sentence-transformers==3.4.1)\n",
            "  Downloading nvidia_cuda_runtime_cu12-12.4.127-py3-none-manylinux2014_x86_64.whl.metadata (1.5 kB)\n",
            "Collecting nvidia-cuda-cupti-cu12==12.4.127 (from torch>=1.11.0->sentence-transformers==3.4.1)\n",
            "  Downloading nvidia_cuda_cupti_cu12-12.4.127-py3-none-manylinux2014_x86_64.whl.metadata (1.6 kB)\n",
            "Collecting nvidia-cudnn-cu12==9.1.0.70 (from torch>=1.11.0->sentence-transformers==3.4.1)\n",
            "  Downloading nvidia_cudnn_cu12-9.1.0.70-py3-none-manylinux2014_x86_64.whl.metadata (1.6 kB)\n",
            "Collecting nvidia-cublas-cu12==12.4.5.8 (from torch>=1.11.0->sentence-transformers==3.4.1)\n",
            "  Downloading nvidia_cublas_cu12-12.4.5.8-py3-none-manylinux2014_x86_64.whl.metadata (1.5 kB)\n",
            "Collecting nvidia-cufft-cu12==11.2.1.3 (from torch>=1.11.0->sentence-transformers==3.4.1)\n",
            "  Downloading nvidia_cufft_cu12-11.2.1.3-py3-none-manylinux2014_x86_64.whl.metadata (1.5 kB)\n",
            "Collecting nvidia-curand-cu12==10.3.5.147 (from torch>=1.11.0->sentence-transformers==3.4.1)\n",
            "  Downloading nvidia_curand_cu12-10.3.5.147-py3-none-manylinux2014_x86_64.whl.metadata (1.5 kB)\n",
            "Collecting nvidia-cusolver-cu12==11.6.1.9 (from torch>=1.11.0->sentence-transformers==3.4.1)\n",
            "  Downloading nvidia_cusolver_cu12-11.6.1.9-py3-none-manylinux2014_x86_64.whl.metadata (1.6 kB)\n",
            "Collecting nvidia-cusparse-cu12==12.3.1.170 (from torch>=1.11.0->sentence-transformers==3.4.1)\n",
            "  Downloading nvidia_cusparse_cu12-12.3.1.170-py3-none-manylinux2014_x86_64.whl.metadata (1.6 kB)\n",
            "Requirement already satisfied: nvidia-nccl-cu12==2.21.5 in /usr/local/lib/python3.11/dist-packages (from torch>=1.11.0->sentence-transformers==3.4.1) (2.21.5)\n",
            "Requirement already satisfied: nvidia-nvtx-cu12==12.4.127 in /usr/local/lib/python3.11/dist-packages (from torch>=1.11.0->sentence-transformers==3.4.1) (12.4.127)\n",
            "Collecting nvidia-nvjitlink-cu12==12.4.127 (from torch>=1.11.0->sentence-transformers==3.4.1)\n",
            "  Downloading nvidia_nvjitlink_cu12-12.4.127-py3-none-manylinux2014_x86_64.whl.metadata (1.5 kB)\n",
            "Requirement already satisfied: triton==3.1.0 in /usr/local/lib/python3.11/dist-packages (from torch>=1.11.0->sentence-transformers==3.4.1) (3.1.0)\n",
            "Requirement already satisfied: sympy==1.13.1 in /usr/local/lib/python3.11/dist-packages (from torch>=1.11.0->sentence-transformers==3.4.1) (1.13.1)\n",
            "Requirement already satisfied: mpmath<1.4,>=1.1.0 in /usr/local/lib/python3.11/dist-packages (from sympy==1.13.1->torch>=1.11.0->sentence-transformers==3.4.1) (1.3.0)\n",
            "Requirement already satisfied: regex!=2019.12.17 in /usr/local/lib/python3.11/dist-packages (from transformers<5.0.0,>=4.41.0->sentence-transformers==3.4.1) (2024.11.6)\n",
            "Requirement already satisfied: tokenizers<0.22,>=0.21 in /usr/local/lib/python3.11/dist-packages (from transformers<5.0.0,>=4.41.0->sentence-transformers==3.4.1) (0.21.0)\n",
            "Requirement already satisfied: safetensors>=0.4.1 in /usr/local/lib/python3.11/dist-packages (from transformers<5.0.0,>=4.41.0->sentence-transformers==3.4.1) (0.5.3)\n",
            "Requirement already satisfied: python-dateutil>=2.8.2 in /usr/local/lib/python3.11/dist-packages (from pandas->datasets) (2.8.2)\n",
            "Requirement already satisfied: pytz>=2020.1 in /usr/local/lib/python3.11/dist-packages (from pandas->datasets) (2025.1)\n",
            "Requirement already satisfied: tzdata>=2022.7 in /usr/local/lib/python3.11/dist-packages (from pandas->datasets) (2025.1)\n",
            "Requirement already satisfied: joblib>=1.2.0 in /usr/local/lib/python3.11/dist-packages (from scikit-learn->sentence-transformers==3.4.1) (1.4.2)\n",
            "Requirement already satisfied: threadpoolctl>=3.1.0 in /usr/local/lib/python3.11/dist-packages (from scikit-learn->sentence-transformers==3.4.1) (3.5.0)\n",
            "Requirement already satisfied: six>=1.5 in /usr/local/lib/python3.11/dist-packages (from python-dateutil>=2.8.2->pandas->datasets) (1.17.0)\n",
            "Requirement already satisfied: MarkupSafe>=2.0 in /usr/local/lib/python3.11/dist-packages (from jinja2->torch>=1.11.0->sentence-transformers==3.4.1) (3.0.2)\n",
            "Downloading pypdf2-3.0.1-py3-none-any.whl (232 kB)\n",
            "\u001b[2K   \u001b[90m\u2501\u2501\u2501\u2501\u2501\u2501\u2501\u2501\u2501\u2501\u2501\u2501\u2501\u2501\u2501\u2501\u2501\u2501\u2501\u2501\u2501\u2501\u2501\u2501\u2501\u2501\u2501\u2501\u2501\u2501\u2501\u2501\u2501\u2501\u2501\u2501\u2501\u2501\u2501\u2501\u001b[0m \u001b[32m232.6/232.6 kB\u001b[0m \u001b[31m6.5 MB/s\u001b[0m eta \u001b[36m0:00:00\u001b[0m\n",
            "\u001b[?25hDownloading datasets-3.5.0-py3-none-any.whl (491 kB)\n",
            "\u001b[2K   \u001b[90m\u2501\u2501\u2501\u2501\u2501\u2501\u2501\u2501\u2501\u2501\u2501\u2501\u2501\u2501\u2501\u2501\u2501\u2501\u2501\u2501\u2501\u2501\u2501\u2501\u2501\u2501\u2501\u2501\u2501\u2501\u2501\u2501\u2501\u2501\u2501\u2501\u2501\u2501\u2501\u2501\u001b[0m \u001b[32m491.2/491.2 kB\u001b[0m \u001b[31m16.7 MB/s\u001b[0m eta \u001b[36m0:00:00\u001b[0m\n",
            "\u001b[?25hDownloading dill-0.3.8-py3-none-any.whl (116 kB)\n",
            "\u001b[2K   \u001b[90m\u2501\u2501\u2501\u2501\u2501\u2501\u2501\u2501\u2501\u2501\u2501\u2501\u2501\u2501\u2501\u2501\u2501\u2501\u2501\u2501\u2501\u2501\u2501\u2501\u2501\u2501\u2501\u2501\u2501\u2501\u2501\u2501\u2501\u2501\u2501\u2501\u2501\u2501\u2501\u2501\u001b[0m \u001b[32m116.3/116.3 kB\u001b[0m \u001b[31m7.1 MB/s\u001b[0m eta \u001b[36m0:00:00\u001b[0m\n",
            "\u001b[?25hDownloading multiprocess-0.70.16-py311-none-any.whl (143 kB)\n",
            "\u001b[2K   \u001b[90m\u2501\u2501\u2501\u2501\u2501\u2501\u2501\u2501\u2501\u2501\u2501\u2501\u2501\u2501\u2501\u2501\u2501\u2501\u2501\u2501\u2501\u2501\u2501\u2501\u2501\u2501\u2501\u2501\u2501\u2501\u2501\u2501\u2501\u2501\u2501\u2501\u2501\u2501\u2501\u2501\u001b[0m \u001b[32m143.5/143.5 kB\u001b[0m \u001b[31m8.2 MB/s\u001b[0m eta \u001b[36m0:00:00\u001b[0m\n",
            "\u001b[?25hDownloading nvidia_cublas_cu12-12.4.5.8-py3-none-manylinux2014_x86_64.whl (363.4 MB)\n",
            "\u001b[2K   \u001b[90m\u2501\u2501\u2501\u2501\u2501\u2501\u2501\u2501\u2501\u2501\u2501\u2501\u2501\u2501\u2501\u2501\u2501\u2501\u2501\u2501\u2501\u2501\u2501\u2501\u2501\u2501\u2501\u2501\u2501\u2501\u2501\u2501\u2501\u2501\u2501\u2501\u2501\u2501\u2501\u2501\u001b[0m \u001b[32m363.4/363.4 MB\u001b[0m \u001b[31m3.0 MB/s\u001b[0m eta \u001b[36m0:00:00\u001b[0m\n",
            "\u001b[?25hDownloading nvidia_cuda_cupti_cu12-12.4.127-py3-none-manylinux2014_x86_64.whl (13.8 MB)\n",
            "\u001b[2K   \u001b[90m\u2501\u2501\u2501\u2501\u2501\u2501\u2501\u2501\u2501\u2501\u2501\u2501\u2501\u2501\u2501\u2501\u2501\u2501\u2501\u2501\u2501\u2501\u2501\u2501\u2501\u2501\u2501\u2501\u2501\u2501\u2501\u2501\u2501\u2501\u2501\u2501\u2501\u2501\u2501\u2501\u001b[0m \u001b[32m13.8/13.8 MB\u001b[0m \u001b[31m23.3 MB/s\u001b[0m eta \u001b[36m0:00:00\u001b[0m\n",
            "\u001b[?25hDownloading nvidia_cuda_nvrtc_cu12-12.4.127-py3-none-manylinux2014_x86_64.whl (24.6 MB)\n",
            "\u001b[2K   \u001b[90m\u2501\u2501\u2501\u2501\u2501\u2501\u2501\u2501\u2501\u2501\u2501\u2501\u2501\u2501\u2501\u2501\u2501\u2501\u2501\u2501\u2501\u2501\u2501\u2501\u2501\u2501\u2501\u2501\u2501\u2501\u2501\u2501\u2501\u2501\u2501\u2501\u2501\u2501\u2501\u2501\u001b[0m \u001b[32m24.6/24.6 MB\u001b[0m \u001b[31m22.2 MB/s\u001b[0m eta \u001b[36m0:00:00\u001b[0m\n",
            "\u001b[?25hDownloading nvidia_cuda_runtime_cu12-12.4.127-py3-none-manylinux2014_x86_64.whl (883 kB)\n",
            "\u001b[2K   \u001b[90m\u2501\u2501\u2501\u2501\u2501\u2501\u2501\u2501\u2501\u2501\u2501\u2501\u2501\u2501\u2501\u2501\u2501\u2501\u2501\u2501\u2501\u2501\u2501\u2501\u2501\u2501\u2501\u2501\u2501\u2501\u2501\u2501\u2501\u2501\u2501\u2501\u2501\u2501\u2501\u2501\u001b[0m \u001b[32m883.7/883.7 kB\u001b[0m \u001b[31m24.6 MB/s\u001b[0m eta \u001b[36m0:00:00\u001b[0m\n",
            "\u001b[?25hDownloading nvidia_cudnn_cu12-9.1.0.70-py3-none-manylinux2014_x86_64.whl (664.8 MB)\n",
            "\u001b[2K   \u001b[90m\u2501\u2501\u2501\u2501\u2501\u2501\u2501\u2501\u2501\u2501\u2501\u2501\u2501\u2501\u2501\u2501\u2501\u2501\u2501\u2501\u2501\u2501\u2501\u2501\u2501\u2501\u2501\u2501\u2501\u2501\u2501\u2501\u2501\u2501\u2501\u2501\u2501\u2501\u2501\u2501\u001b[0m \u001b[32m664.8/664.8 MB\u001b[0m \u001b[31m1.9 MB/s\u001b[0m eta \u001b[36m0:00:00\u001b[0m\n",
            "\u001b[?25hDownloading nvidia_cufft_cu12-11.2.1.3-py3-none-manylinux2014_x86_64.whl (211.5 MB)\n",
            "\u001b[2K   \u001b[90m\u2501\u2501\u2501\u2501\u2501\u2501\u2501\u2501\u2501\u2501\u2501\u2501\u2501\u2501\u2501\u2501\u2501\u2501\u2501\u2501\u2501\u2501\u2501\u2501\u2501\u2501\u2501\u2501\u2501\u2501\u2501\u2501\u2501\u2501\u2501\u2501\u2501\u2501\u2501\u2501\u001b[0m \u001b[32m211.5/211.5 MB\u001b[0m \u001b[31m6.0 MB/s\u001b[0m eta \u001b[36m0:00:00\u001b[0m\n",
            "\u001b[?25hDownloading nvidia_curand_cu12-10.3.5.147-py3-none-manylinux2014_x86_64.whl (56.3 MB)\n",
            "\u001b[2K   \u001b[90m\u2501\u2501\u2501\u2501\u2501\u2501\u2501\u2501\u2501\u2501\u2501\u2501\u2501\u2501\u2501\u2501\u2501\u2501\u2501\u2501\u2501\u2501\u2501\u2501\u2501\u2501\u2501\u2501\u2501\u2501\u2501\u2501\u2501\u2501\u2501\u2501\u2501\u2501\u2501\u2501\u001b[0m \u001b[32m56.3/56.3 MB\u001b[0m \u001b[31m11.1 MB/s\u001b[0m eta \u001b[36m0:00:00\u001b[0m\n",
            "\u001b[?25hDownloading nvidia_cusolver_cu12-11.6.1.9-py3-none-manylinux2014_x86_64.whl (127.9 MB)\n",
            "\u001b[2K   \u001b[90m\u2501\u2501\u2501\u2501\u2501\u2501\u2501\u2501\u2501\u2501\u2501\u2501\u2501\u2501\u2501\u2501\u2501\u2501\u2501\u2501\u2501\u2501\u2501\u2501\u2501\u2501\u2501\u2501\u2501\u2501\u2501\u2501\u2501\u2501\u2501\u2501\u2501\u2501\u2501\u2501\u001b[0m \u001b[32m127.9/127.9 MB\u001b[0m \u001b[31m7.4 MB/s\u001b[0m eta \u001b[36m0:00:00\u001b[0m\n",
            "\u001b[?25hDownloading nvidia_cusparse_cu12-12.3.1.170-py3-none-manylinux2014_x86_64.whl (207.5 MB)\n",
            "\u001b[2K   \u001b[90m\u2501\u2501\u2501\u2501\u2501\u2501\u2501\u2501\u2501\u2501\u2501\u2501\u2501\u2501\u2501\u2501\u2501\u2501\u2501\u2501\u2501\u2501\u2501\u2501\u2501\u2501\u2501\u2501\u2501\u2501\u2501\u2501\u2501\u2501\u2501\u2501\u2501\u2501\u2501\u2501\u001b[0m \u001b[32m207.5/207.5 MB\u001b[0m \u001b[31m5.8 MB/s\u001b[0m eta \u001b[36m0:00:00\u001b[0m\n",
            "\u001b[?25hDownloading nvidia_nvjitlink_cu12-12.4.127-py3-none-manylinux2014_x86_64.whl (21.1 MB)\n",
            "\u001b[2K   \u001b[90m\u2501\u2501\u2501\u2501\u2501\u2501\u2501\u2501\u2501\u2501\u2501\u2501\u2501\u2501\u2501\u2501\u2501\u2501\u2501\u2501\u2501\u2501\u2501\u2501\u2501\u2501\u2501\u2501\u2501\u2501\u2501\u2501\u2501\u2501\u2501\u2501\u2501\u2501\u2501\u2501\u001b[0m \u001b[32m21.1/21.1 MB\u001b[0m \u001b[31m83.5 MB/s\u001b[0m eta \u001b[36m0:00:00\u001b[0m\n",
            "\u001b[?25hDownloading xxhash-3.5.0-cp311-cp311-manylinux_2_17_x86_64.manylinux2014_x86_64.whl (194 kB)\n",
            "\u001b[2K   \u001b[90m\u2501\u2501\u2501\u2501\u2501\u2501\u2501\u2501\u2501\u2501\u2501\u2501\u2501\u2501\u2501\u2501\u2501\u2501\u2501\u2501\u2501\u2501\u2501\u2501\u2501\u2501\u2501\u2501\u2501\u2501\u2501\u2501\u2501\u2501\u2501\u2501\u2501\u2501\u2501\u2501\u001b[0m \u001b[32m194.8/194.8 kB\u001b[0m \u001b[31m16.4 MB/s\u001b[0m eta \u001b[36m0:00:00\u001b[0m\n",
            "\u001b[?25hInstalling collected packages: xxhash, PyPDF2, nvidia-nvjitlink-cu12, nvidia-curand-cu12, nvidia-cufft-cu12, nvidia-cuda-runtime-cu12, nvidia-cuda-nvrtc-cu12, nvidia-cuda-cupti-cu12, nvidia-cublas-cu12, dill, nvidia-cusparse-cu12, nvidia-cudnn-cu12, multiprocess, nvidia-cusolver-cu12, datasets\n",
            "  Attempting uninstall: nvidia-nvjitlink-cu12\n",
            "    Found existing installation: nvidia-nvjitlink-cu12 12.5.82\n",
            "    Uninstalling nvidia-nvjitlink-cu12-12.5.82:\n",
            "      Successfully uninstalled nvidia-nvjitlink-cu12-12.5.82\n",
            "  Attempting uninstall: nvidia-curand-cu12\n",
            "    Found existing installation: nvidia-curand-cu12 10.3.6.82\n",
            "    Uninstalling nvidia-curand-cu12-10.3.6.82:\n",
            "      Successfully uninstalled nvidia-curand-cu12-10.3.6.82\n",
            "  Attempting uninstall: nvidia-cufft-cu12\n",
            "    Found existing installation: nvidia-cufft-cu12 11.2.3.61\n",
            "    Uninstalling nvidia-cufft-cu12-11.2.3.61:\n",
            "      Successfully uninstalled nvidia-cufft-cu12-11.2.3.61\n",
            "  Attempting uninstall: nvidia-cuda-runtime-cu12\n",
            "    Found existing installation: nvidia-cuda-runtime-cu12 12.5.82\n",
            "    Uninstalling nvidia-cuda-runtime-cu12-12.5.82:\n",
            "      Successfully uninstalled nvidia-cuda-runtime-cu12-12.5.82\n",
            "  Attempting uninstall: nvidia-cuda-nvrtc-cu12\n",
            "    Found existing installation: nvidia-cuda-nvrtc-cu12 12.5.82\n",
            "    Uninstalling nvidia-cuda-nvrtc-cu12-12.5.82:\n",
            "      Successfully uninstalled nvidia-cuda-nvrtc-cu12-12.5.82\n",
            "  Attempting uninstall: nvidia-cuda-cupti-cu12\n",
            "    Found existing installation: nvidia-cuda-cupti-cu12 12.5.82\n",
            "    Uninstalling nvidia-cuda-cupti-cu12-12.5.82:\n",
            "      Successfully uninstalled nvidia-cuda-cupti-cu12-12.5.82\n",
            "  Attempting uninstall: nvidia-cublas-cu12\n",
            "    Found existing installation: nvidia-cublas-cu12 12.5.3.2\n",
            "    Uninstalling nvidia-cublas-cu12-12.5.3.2:\n",
            "      Successfully uninstalled nvidia-cublas-cu12-12.5.3.2\n",
            "  Attempting uninstall: nvidia-cusparse-cu12\n",
            "    Found existing installation: nvidia-cusparse-cu12 12.5.1.3\n",
            "    Uninstalling nvidia-cusparse-cu12-12.5.1.3:\n",
            "      Successfully uninstalled nvidia-cusparse-cu12-12.5.1.3\n",
            "  Attempting uninstall: nvidia-cudnn-cu12\n",
            "    Found existing installation: nvidia-cudnn-cu12 9.3.0.75\n",
            "    Uninstalling nvidia-cudnn-cu12-9.3.0.75:\n",
            "      Successfully uninstalled nvidia-cudnn-cu12-9.3.0.75\n",
            "  Attempting uninstall: nvidia-cusolver-cu12\n",
            "    Found existing installation: nvidia-cusolver-cu12 11.6.3.83\n",
            "    Uninstalling nvidia-cusolver-cu12-11.6.3.83:\n",
            "      Successfully uninstalled nvidia-cusolver-cu12-11.6.3.83\n",
            "Successfully installed PyPDF2-3.0.1 datasets-3.5.0 dill-0.3.8 multiprocess-0.70.16 nvidia-cublas-cu12-12.4.5.8 nvidia-cuda-cupti-cu12-12.4.127 nvidia-cuda-nvrtc-cu12-12.4.127 nvidia-cuda-runtime-cu12-12.4.127 nvidia-cudnn-cu12-9.1.0.70 nvidia-cufft-cu12-11.2.1.3 nvidia-curand-cu12-10.3.5.147 nvidia-cusolver-cu12-11.6.1.9 nvidia-cusparse-cu12-12.3.1.170 nvidia-nvjitlink-cu12-12.4.127 xxhash-3.5.0\n"
          ]
        }
      ]
    },
    {
      "cell_type": "code",
      "source": [
        "import os\n",
        "import requests\n",
        "import json\n",
        "import pandas as pd\n",
        "import numpy as np\n",
        "from tqdm.notebook import tqdm\n",
        "from openai import OpenAI\n",
        "from torch.utils.data import DataLoader\n",
        "from sentence_transformers import SentenceTransformer, losses, InputExample\n",
        "from sentence_transformers.evaluation import InformationRetrievalEvaluator\n",
        "import torch\n",
        "from sklearn.metrics.pairwise import cosine_similarity\n",
        "import PyPDF2"
      ],
      "metadata": {
        "id": "rDcGxtwjo0cX"
      },
      "execution_count": null,
      "outputs": []
    },
    {
      "cell_type": "code",
      "source": [
        "# OpenAI API \ud0a4 \uc124\uc815\n",
        "os.environ[\"OPENAI_API_KEY\"] = \"\uc5ec\ub7ec\ubd84\uc758 Key \uac12\"\n",
        "\n",
        "# 1. PDF \ud30c\uc77c \ub2e4\uc6b4\ub85c\ub4dc\n",
        "urls = [\n",
        "   \"https://raw.githubusercontent.com/llama-index-tutorial/llama-index-tutorial/main/ch06/ict_japan_2024.pdf\",\n",
        "   \"https://raw.githubusercontent.com/llama-index-tutorial/llama-index-tutorial/main/ch06/ict_usa_2024.pdf\"\n",
        "]"
      ],
      "metadata": {
        "id": "4wtZVnk6o91l"
      },
      "execution_count": null,
      "outputs": []
    },
    {
      "cell_type": "code",
      "source": [
        "for url in urls:\n",
        "   filename = url.split(\"/\")[-1]\n",
        "   response = requests.get(url)\n",
        "   with open(filename, \"wb\") as f:\n",
        "       f.write(response.content)\n",
        "   print(f\"{filename} \ub2e4\uc6b4\ub85c\ub4dc \uc644\ub8cc\")"
      ],
      "metadata": {
        "colab": {
          "base_uri": "https://localhost:8080/"
        },
        "id": "duWPPFBwo_TG",
        "outputId": "9c343dfa-0647-4e2a-a7a5-d64922bada0f"
      },
      "execution_count": null,
      "outputs": [
        {
          "output_type": "stream",
          "name": "stdout",
          "text": [
            "ict_japan_2024.pdf \ub2e4\uc6b4\ub85c\ub4dc \uc644\ub8cc\n",
            "ict_usa_2024.pdf \ub2e4\uc6b4\ub85c\ub4dc \uc644\ub8cc\n"
          ]
        }
      ]
    },
    {
      "cell_type": "code",
      "source": [
        "def extract_text_from_pdf(pdf_path):\n",
        "   \"\"\"PDF \ud30c\uc77c\uc5d0\uc11c \ud14d\uc2a4\ud2b8\ub97c \ucd94\ucd9c\ud558\ub294 \ud568\uc218\"\"\"\n",
        "   text_chunks = []\n",
        "   with open(pdf_path, 'rb') as file:\n",
        "       pdf_reader = PyPDF2.PdfReader(file)\n",
        "       for page_num in range(len(pdf_reader.pages)):\n",
        "           page = pdf_reader.pages[page_num]\n",
        "           text = page.extract_text()\n",
        "           # \ud398\uc774\uc9c0 \ub2e8\uc704\ub85c \uccad\ud06c \uc0dd\uc131\n",
        "           if text.strip():\n",
        "               text = text.strip()\n",
        "               # \ubb38\uc11c \uae38\uc774\uac00 10\uc790 \ucd08\uacfc\uc778 \uacbd\uc6b0\ub9cc \ucd94\uac00\n",
        "               if len(text) > 10:\n",
        "                   text_chunks.append(text)\n",
        "   return text_chunks\n",
        "\n",
        "# \ubbf8\uad6d ICT \ub3d9\ud5a5 (\ud559\uc2b5 \ub370\uc774\ud130)\n",
        "train_corpus = extract_text_from_pdf('ict_usa_2024.pdf')\n",
        "print(f'\ud559\uc2b5 \ub370\uc774\ud130 \ubb38\uc11c \uac1c\uc218: {len(train_corpus)}')\n",
        "\n",
        "# \uc77c\ubcf8 ICT \ub3d9\ud5a5 (\uac80\uc99d \ub370\uc774\ud130)\n",
        "val_corpus = extract_text_from_pdf('ict_japan_2024.pdf')\n",
        "print(f'\uac80\uc99d \ub370\uc774\ud130 \ubb38\uc11c \uac1c\uc218: {len(val_corpus)}')"
      ],
      "metadata": {
        "colab": {
          "base_uri": "https://localhost:8080/"
        },
        "id": "HUiq7MjPpGDR",
        "outputId": "158aaf8c-a8e2-414b-aabd-da1b93aeed12"
      },
      "execution_count": null,
      "outputs": [
        {
          "output_type": "stream",
          "name": "stdout",
          "text": [
            "\ud559\uc2b5 \ub370\uc774\ud130 \ubb38\uc11c \uac1c\uc218: 26\n",
            "\uac80\uc99d \ub370\uc774\ud130 \ubb38\uc11c \uac1c\uc218: 27\n"
          ]
        }
      ]
    },
    {
      "cell_type": "code",
      "source": [
        "print('10\ubc88 \ubb38\uc11c:', train_corpus[10])"
      ],
      "metadata": {
        "colab": {
          "base_uri": "https://localhost:8080/"
        },
        "id": "hxjniIA7b770",
        "outputId": "168385a0-e561-4b08-d932-d191e242e75f"
      },
      "execution_count": null,
      "outputs": [
        {
          "output_type": "stream",
          "name": "stdout",
          "text": [
            "10\ubc88 \ubb38\uc11c: 13 \u2160. ICT \uad6d\uac00 \uc0b0\uc5c5 \ud604\ud669\n",
            " 4.ICT \uc8fc\uc694 \ubc95\ub839 \ubc0f \uaddc\uc81c\n",
            "  \u2461 \ubc18\ub3c4\uccb4 \uacfc\ud559\ubc95 (CHIPS and Science Act)\n",
            " \ubc18\ub3c4\uccb4 \u00b7\uc804\uc790 \uae30\uc5c5, $1,660 \uc5b5 \uaddc\ubaa8 \ud22c\uc790 \uc720\uce58 \n",
            "\u2022 \uc870 \ubc14\uc774\ub4e0 (Joe Biden) \ubbf8\uad6d \ub300\ud1b5\ub839\uc740 2022\ub144 7\uc6d4 \u2018\ubc18\ub3c4\uccb4 \uacfc\ud559\ubc95 (CHIPS and Science Act)\u2019\uc744 \uc2b9\uc778\ud568  \n",
            "\u2022 \ubc18\ub3c4\uccb4 \uacfc\ud559\ubc95\uc740 \ubbf8\uad6d\uc758 \uacbd\uc7c1\ub825\uc744 \uac15\ud654\ud558\uace0 , \ubbf8\uad6d\uc758 \uacf5\uae09\ub9dd\uc744 \ud0c4\ub825\uc801\uc73c\ub85c \uad6c\ucd95\ud574 \uad6d\uac00 \uc548\ubcf4\ub97c \n",
            "\uacf5\uace0\ud788 \ud558\uba70 \uad6d\uac00\uc758 \uc8fc\uc694 \uae30\uc220\uc5d0 \ub300\ud55c \uc811\uadfc\uc744 \uc9c0\uc6d0\ud558\ub294 \uac83\uc744 \ubaa9\ud45c\ub85c \ud568. \ubc95\ub960 \uc81c\uc815\uc73c\ub85c \ubbf8\uad6d \ub0b4 \n",
            "\ubc18\ub3c4\uccb4 \uc0dd\uc0b0 \uc81c\uc870\uc0ac \uad00\ub828 \uc790\ubcf8 \ud22c\uc790\ub294 25%\uc758 \uc138\uc561 \uacf5\uc81c \ud61c\ud0dd\uc774 \uc81c\uacf5\ub428\n",
            "\u2022 \ubbf8\uad6d \ubc31\uc545\uad00\uc740 2023\ub144 8\uc6d4, \ubc18\ub3c4\uccb4 \uacfc\ud559\ubc95\uc774 \uc11c\uba85\ub41c \uc9c0 1\ub144 \ub9cc\uc5d0 \ubc18\ub3c4\uccb4\uc640 \uc804\uc790 \uad00\ub828 \uae30\uc5c5\ub4e4\uc774 \n",
            "1,660 \uc5b5 \ub2ec\ub7ec(221\uc8706,100 \uc5b5 \uc6d0)\uc758 \ud22c\uc790\ub97c \uc720\uce58\ud588\ub2e4\uace0 \ubc1c\ud45c\ud568 . \ubc14\uc774\ub4e0 \ud589\uc815\ubd80\uc758 \uc9d1\uad8c \uc774\ud6c4 \uae30\uc5c5\ub4e4\uc740 \n",
            "\ubbf8\uad6d \ub0b4 \ubc18\ub3c4\uccb4\uc640 \uc804\uc790 \ubd84\uc57c \ud22c\uc790\uc5d0 \ucd1d 2,310 \uc5b5 \ub2ec\ub7ec(\uc57d 308\uc870 3,850 \uc5b5 \uc6d0) \uc774\uc0c1\uc758 \ud22c\uc790\ub97c \uc57d\uc18d\ud568\n",
            "[\ud45c 8] \ubc18\ub3c4\uccb4 \uacfc\ud559\ubc95 \uc8fc\uc694 \uc774\uc815\ud45c \ubc0f \uc9c4\ucc99 \ud604\ud669\n",
            "\uc8fc\uc694 \uc774\uc815\ud45c \uc9c4\ucc99 \ud604\ud669 (23\ub144 8\uc6d4 \uae30\uc900)\n",
            "\ubbf8\uad6d \ubc18\ub3c4\uccb4 \uc81c\uc870 \n",
            "\uc9c0\uc6d0\u2023 \uc0c1\ubb34\ubd80\ub294 CHIPS \ud1b5\uacfc 6\uac1c\uc6d4 \ub9cc\uc5d0 \ud574\ub2f9 \ubc95\uc5d0\uc11c \uc81c\uacf5\ud558\ub294 390\uc5b5 \ub2ec\ub7ec \ubc18\ub3c4\uccb4 \uc81c\uc870 \n",
            "\uc778\uc13c\ud2f0\ube0c\uc5d0 \ub300\ud55c \uccab \ubc88\uc9f8 \uc790\uae08 \uc870\ub2ec \uae30\ud68c \uc2dc\uc791\n",
            "\u2023 \uc0c1\ubb34\ubd80\ub294 42\uac1c \uc8fc\uc5d0\uc11c CHIPS \uc790\uae08 \uc9c0\uc6d0\uc5d0 \uad00\uc2ec \uc788\ub294 460\uac1c \uae30\uc5c5\uc73c\ub85c\ubd80\ud130 \uc18c\uac1c\uc11c \uc811\uc218\n",
            "\u2023 \uc0c1\ubb34\ubd80\ub294 CHIPS \uc778\uc13c\ud2f0\ube0c \ud504\ub85c\uadf8\ub7a8 \uad00\ub828 140\uba85 \uc774\uc0c1\uc758 \uc778\ub825\uc73c\ub85c \uad6c\uc131\ub41c \u2018\uce69\uc2a4 \ud3ec \n",
            "\uc544\uba54\ub9ac\uce74 (CHIPS for America)\u2019 \ud300 \uad6c\uc131\n",
            "\u2023 \uc7ac\ubb34\ubd80\ub294 \ud22c\uc790\uc5d0 \ub300\ud55c 25% \uc138\uc561 \uacf5\uc81c \uad00\ub828 \uc9c0\uce68 \uc81c\uacf5 \uc704\ud574 \uaddc\uce59 \uc81c\uc548 \ubc1c\ud45c\n",
            "\uad6d\uac00 \uc548\ubcf4\ub97c \n",
            "\ubcf4\ud638\ud558\uace0 \ub3d9\ub9f9\uad6d \ubc0f \n",
            "\ud30c\ud2b8\ub108\uc640 \ud611\ub825\u2023 \uad6d\ubb34\ubd80\ub294 \uad6d\uc81c \uae30\uc220 \ubcf4\uc548 \ubc0f \ud601\uc2e0 \uae30\uae08 \uc2dc\ud589 \uacc4\ud68d \ubc1c\ud45c\n",
            "\u2023 \uad6d\ubc29\ubd80\uc640 \uc0c1\ubb34\ubd80\ub294 CHIPS \ud22c\uc790\ub97c \ud1b5\ud55c \uc548\ubcf4 \uad00\ub828 \ubc18\ub3c4\uccb4 \uc81c\uc870\ub97c \uc704\ud574 \ud611\ub825 \ud655\ub300 \ud611\uc758\n",
            "\u2023 CHIPS \ub97c \uc2dc\ud589\ud558\uba74\uc11c \uc0c1\ubb34\ubd80\ub294 \uc5ec\ub7ec \ud30c\ud2b8\ub108 \ubc0f \ub3d9\ub9f9\uad6d\uacfc \uae34\ubc00\ud55c \uc811\ucd09 \uc720\uc9c0\n",
            "\ubbf8\uad6d \uadfc\ub85c\uc790\ub97c \uc704\ud55c \n",
            "\uc77c\uc790\ub9ac \ubc0f \uc778\ub825 \n",
            "\ud30c\uc774\ud504\ub77c\uc778 \ucc3d\ucd9c\u2023 \ubc18\ub3c4\uccb4 \ubc0f \uae30\ud0c0 \uc0b0\uc5c5\uc5d0\uc11c \uc591\uc9c8\uc758 \uc77c\uc790\ub9ac\ub97c \ucc3d\ucd9c\ud560 \ud30c\uc774\ud504\ub77c\uc778 \uad6c\ucd95\uc744 \uc704\ud574 5\uac1c\uc758 \uc778\ub825 \n",
            "\ud5c8\ube0c \ucd08\uae30 \uc138\ud2b8 \ubc1c\ud45c\n",
            "\u2023 \ucd5c\uc18c 50\uac1c \uc774\uc0c1\uc758 \ucee4\ubba4\ub2c8\ud2f0 \ub300\ud559\uc5d0\uc11c \uc2e0\uaddc \ubc0f \ud655\uc7a5\ub41c \ubc18\ub3c4\uccb4 \uc778\ub825 \ud504\ub85c\uadf8\ub7a8 \ubc1c\ud45c\n",
            "\u2023 \uad6d\ub9bd\uacfc\ud559\uc7ac\ub2e8 (NSF) \uc740 \uc81c\uc870 \uc778\ub825 \ubc0f \uc5f0\uad6c\uc790 \uc9c0\uc6d0, \ucee4\ub9ac\ud058\ub7fc \uac1c\ubc1c\uc5d0 \ucd08\uc810\uc744 \ub9de\ucd98 \uc0c8\ub85c\uc6b4 \n",
            "\uacc4\ud68d\uc744 \ud1b5\ud574 \ubbf8\uad6d \ubc18\ub3c4\uccb4 \uc778\ub825 \ud22c\uc790\n",
            "\u2023 \ubc18\ub3c4\uccb4 \uae30\uc5c5\uc758 \uc815\uaddc\uc9c1 \ucc44\uc6a9\uc5d0 \uc9c0\uc6d0\ud55c \ud559\uc0dd \uc218\ub294 2022~2023 \ub144\uc5d0 79% \uc99d\uac00\n",
            "\ud601\uc2e0 \ud22c\uc790\u2023 \uc0c1\ubb34\ubd80\ub294 \uae30\ud0c0 \ubd80\ucc98\ub4e4\uacfc \uad6d\ub9bd \ubc18\ub3c4\uccb4 \uae30\uc220 \uc13c\ud130 \uc124\ub9bd \ucd94\uc9c4\n",
            "\u2023 \uc0c1\ubb34\ubd80\ub294 110\uc5b5 \ub2ec\ub7ec \uaddc\ubaa8\uc758 R&D \uc790\uae08\uc744 \uacc4\uce21 \ud504\ub85c\uadf8\ub7a8 , \uad6d\ub9bd \uace0\uae09 \ud3ec\uc7a5 \uc81c\uc870 \ud504\ub85c\uadf8\ub7a8 , \n",
            "\ucd5c\ub300 3\uac1c\uc758 \uc2e0\uaddc \u2018Manufacturing USA\u2019 \uc5f0\uad6c\uc18c \ub4f1 \uae30\ud0c0 \ubd80\ubb38\uc5d0\ub3c4 \ud22c\uc790\n",
            "\u2023 \uad6d\ubc29\ubd80\ub294 \ub9c8\uc774\ud06c\ub85c\uc804\uc790\uacf5\ud559 \uacf5\uc6a9 R&D \ud504\ub85c\uadf8\ub7a8\uc5d0 \ub300\ud55c \uc194\ub8e8\uc158 \uc694\uccad\uc11c \ubc1c\ud45c\n",
            "\uc9c0\uc5ed \uacbd\uc81c \uac1c\ubc1c \ubc0f \n",
            "\ud601\uc2e0 \uc9c0\uc6d0\u2023 \uc0c1\ubb34\ubd80\ub294 5\uc5b5 \ub2ec\ub7ec \uaddc\ubaa8\uc758 \uae30\uc220 \ud5c8\ube0c \ud504\ub85c\uadf8\ub7a8 1\ub2e8\uacc4\ub97c \uc704\ud55c \uc790\uae08 \uc870\ub2ec \uae30\ud68c \ubc1c\ud45c\n",
            "\u2023 \ub099\ud6c4 \uc9c0\uc5ed \uacbd\uc81c\ubc1c\uc804 \ubc0f \uc77c\uc790\ub9ac \ucc3d\ucd9c\uc744 \uc704\ud55c Recompete \ud504\ub85c\uadf8\ub7a8 1\ub2e8\uacc4\uc5d0 2\uc5b5 \ub2ec\ub7ec \uc790\uae08 \n",
            "\uc870\ub2ec \uae30\ud68c \ubc1c\ud45c\n",
            "\u2023 \uad6d\ub9bd\uacfc\ud559\uc7ac\ub2e8\uc740 \uae30\uc220, \ud601\uc2e0, \ud30c\ud2b8\ub108\uc2ed\uc744 \uc704\ud55c \uc0c8\ub85c\uc6b4 \ubd80\uc11c \uc124\ub9bd\n",
            "\ubb34\uc120 \ud601\uc2e0 \ubc0f\n",
            "\ubcf4\uc548 \uc9c0\uc6d0\u2023 \uc0c1\ubb34\ubd80\ub294 \uac1c\ubc29\uc801\uc774\uace0 \uc0c1\ud638 \uc6b4\uc6a9 \uac00\ub2a5\ud55c \ubb34\uc120 \ub124\ud2b8\uc6cc\ud06c \uac1c\ubc1c \uc9c0\uc6d0\uc744 \uc704\ud574 15\uc5b5 \ub2ec\ub7ec \uaddc\ubaa8\uc758 \n",
            "\uacf5\uacf5 \ubb34\uc120 \uacf5\uae09\ub9dd \ud601\uc2e0 \uae30\uae08\uc758 \uccab \ubc88\uc9f8 \ubcf4\uc870\uae08 \ubc1c\ud45c\n",
            "\ucd9c\ucc98 : \ubbf8\uad6d \ubc31\uc545\uad00\n"
          ]
        }
      ]
    },
    {
      "cell_type": "code",
      "source": [
        "# OpenAI \ud074\ub77c\uc774\uc5b8\ud2b8 \ucd08\uae30\ud654\n",
        "client = OpenAI()\n",
        "\n",
        "# 3. \uac01 \ubb38\uc11c\uc5d0 \ub300\ud55c \uc9c8\ubb38 \uc0dd\uc131 (OpenAI API \uc0ac\uc6a9)\n",
        "def generate_queries(corpus, num_questions_per_chunk=2):\n",
        "    all_queries = []\n",
        "    all_positive_docs = []\n",
        "\n",
        "    # \uae30\ubcf8 \ud504\ub86c\ud504\ud2b8 \ud15c\ud50c\ub9bf \uc124\uc815\n",
        "    prompt_template = \"\"\"\\\n",
        "    \ub2e4\uc74c\uc740 \ucc38\uace0\ud560 \ub0b4\uc6a9\uc785\ub2c8\ub2e4.\n",
        "\n",
        "    ---------------------\n",
        "    {context_str}\n",
        "    ---------------------\n",
        "\n",
        "    \uc704 \ub0b4\uc6a9\uc744 \ubc14\ud0d5\uc73c\ub85c \ub0bc \uc218 \uc788\ub294 \uc9c8\ubb38\uc744 {num_questions_per_chunk}\uac1c \ub9cc\ub4e4\uc5b4\uc8fc\uc138\uc694.\n",
        "    \uc9c8\ubb38\ub9cc \uc791\uc131\ud558\uace0 \uc2e4\uc81c \uc815\ub2f5\uc774\ub098 \ubcf4\uae30 \ub4f1\uc740 \uc791\uc131\ud558\uc9c0 \uc54a\uc2b5\ub2c8\ub2e4.\n",
        "\n",
        "    \ud574\ub2f9 \uc9c8\ubb38\uc740 \ubcf8\ubb38\uc744 \ubcfc \uc218 \uc5c6\ub2e4\uace0 \uac00\uc815\ud569\ub2c8\ub2e4.\n",
        "    \ub530\ub77c\uc11c '\uc704 \ubcf8\ubb38\uc744 \ubc14\ud0d5\uc73c\ub85c~' \ub77c\ub294 \uc2dd\uc758 \uc9c8\ubb38\uc740 \ud560 \uc218 \uc5c6\uc2b5\ub2c8\ub2e4.\n",
        "\n",
        "    \uc9c8\ubb38\uc740 \uc544\ub798\uc640 \uac19\uc740 \ud615\uc2dd\uc73c\ub85c \ubc88\ud638\ub97c \ub098\uc5f4\ud558\uc5ec \uc0dd\uc131\ud558\uc2ed\uc2dc\uc624.\n",
        "\n",
        "    1. (\uc9c8\ubb38)\n",
        "    2. (\uc9c8\ubb38)\n",
        "    \"\"\"\n",
        "\n",
        "    # corpus\uc758 \uac01 \ubb38\uc11c\uc5d0 \ub300\ud574 \ubc18\ubcf5 \uc2e4\ud589\n",
        "    for text in tqdm(corpus):\n",
        "        # \ud604\uc7ac \ubb38\uc11c\uc5d0 \ub300\ud55c \ud504\ub86c\ud504\ud2b8 \uc0dd\uc131\n",
        "        messages = [\n",
        "            {\"role\": \"system\", \"content\": \"You are a helpful assistant that generates questions based on provided content.\"},\n",
        "            {\"role\": \"user\", \"content\": prompt_template.format(\n",
        "                context_str=text,\n",
        "                num_questions_per_chunk=num_questions_per_chunk\n",
        "            )}\n",
        "        ]\n",
        "\n",
        "        # GPT \ubaa8\ub378\uc744 \uc0ac\uc6a9\ud574 \uc9c8\ubb38 \uc0dd\uc131\n",
        "        response = client.chat.completions.create(\n",
        "            model=\"gpt-4o\",\n",
        "            messages=messages,\n",
        "            temperature=0.7,\n",
        "        )\n",
        "\n",
        "        # \uc751\ub2f5\uc744 \uc904\ubc14\uafc8\uc744 \uae30\uc900\uc73c\ub85c \ubd84\ub9ac\ud558\uc5ec \uac1c\ubcc4 \uc9c8\ubb38\uc73c\ub85c \ub9cc\ub4e6\n",
        "        result = response.choices[0].message.content.strip().split(\"\\n\")\n",
        "\n",
        "        # \uc9c8\ubb38 \ud615\uc2dd \uc815\ub9ac\n",
        "        questions = []\n",
        "        for line in result:\n",
        "            if line.strip():\n",
        "                parts = line.strip().split('. ', 1)\n",
        "                if len(parts) > 1:\n",
        "                    questions.append(parts[1])\n",
        "                else:\n",
        "                    questions.append(parts[0])\n",
        "\n",
        "        # \ube48 \uc9c8\ubb38 \uc81c\uac70\n",
        "        questions = [q for q in questions if len(q) > 0]\n",
        "\n",
        "        # \uac01 \uc9c8\ubb38\uc5d0 \ub300\ud574 \ubb38\uc11c \ub9e4\uce6d \ubc0f \uc800\uc7a5\n",
        "        for question in questions:\n",
        "            all_queries.append(question)\n",
        "            all_positive_docs.append(text)\n",
        "\n",
        "    return all_queries, all_positive_docs"
      ],
      "metadata": {
        "id": "HDPPvJbCpKF-"
      },
      "execution_count": null,
      "outputs": []
    },
    {
      "cell_type": "code",
      "source": [
        "# \ud559\uc2b5 \ub370\uc774\ud130 \uc9c8\ubb38 \uc0dd\uc131\n",
        "train_queries, train_positive_docs = generate_queries(train_corpus)\n",
        "print(f'\uc0dd\uc131\ub41c \ud559\uc2b5\uc6a9 \uc9c8\ubb38 \uac1c\uc218: {len(train_queries)}')\n",
        "\n",
        "# \uac80\uc99d \ub370\uc774\ud130 \uc9c8\ubb38 \uc0dd\uc131\n",
        "val_queries, val_positive_docs = generate_queries(val_corpus)\n",
        "print(f'\uc0dd\uc131\ub41c \uac80\uc99d\uc6a9 \uc9c8\ubb38 \uac1c\uc218: {len(val_queries)}')\n",
        "\n",
        "# 4. \ud559\uc2b5 \ub370\uc774\ud130 \uc900\ube44\n",
        "train_examples = []\n",
        "for query, doc in zip(train_queries, train_positive_docs):\n",
        "    example = InputExample(texts=[query, doc])\n",
        "    train_examples.append(example)"
      ],
      "metadata": {
        "colab": {
          "base_uri": "https://localhost:8080/",
          "height": 118,
          "referenced_widgets": [
            "a9fda0566b1340e086c94b79c4670e6f",
            "b91ca02a71564c84959f0d2a71e7d6fc",
            "659ce408090749aba7c37f7386cba21b",
            "9451601429b648cd96ebb67971b23788",
            "502be0c379f34197875e39af157a5013",
            "5748abcf05e1401aa0e6450cc3d0710f",
            "bfc8322f49c54c53805345dd8a40727e",
            "b668451dc2a04908b95cfe777659bf5a",
            "2b8bee1e1e964a298f238cdd3ccae4d5",
            "1ea68fcb71b1483fba5fb0a841878d16",
            "c00c42c171a848cebd9ac2134b5545c9",
            "3caad1c8790e422984a757a1ac277a10",
            "d34f641ff9c049d2b469e94ebb98e652",
            "b31abb9622da40a0b2ab88742c21f581",
            "6fe946904ee842339e0fb6cc61eb9c91",
            "59cb87855fde42b8a7502e9d20a5f88e",
            "6b283094aefe4447a332990c50c4045f",
            "b64da519bdaf4739bb2b6c8d09e42827",
            "13fa12e73d0344ab815779b64065d20b",
            "0ca79b605ce14663a15ff4087cf7e9c7",
            "f2ff0692c1d340df9c9a843daf654096",
            "27b9e95cd6ee42aaa3ad0047958e42da"
          ]
        },
        "id": "5bfieGiApL12",
        "outputId": "61607264-7a44-4b07-a626-fed478057982"
      },
      "execution_count": null,
      "outputs": [
        {
          "output_type": "display_data",
          "data": {
            "text/plain": [
              "  0%|          | 0/26 [00:00<?, ?it/s]"
            ],
            "application/vnd.jupyter.widget-view+json": {
              "version_major": 2,
              "version_minor": 0,
              "model_id": "a9fda0566b1340e086c94b79c4670e6f"
            }
          },
          "metadata": {}
        },
        {
          "output_type": "stream",
          "name": "stdout",
          "text": [
            "\uc0dd\uc131\ub41c \ud559\uc2b5\uc6a9 \uc9c8\ubb38 \uac1c\uc218: 52\n"
          ]
        },
        {
          "output_type": "display_data",
          "data": {
            "text/plain": [
              "  0%|          | 0/27 [00:00<?, ?it/s]"
            ],
            "application/vnd.jupyter.widget-view+json": {
              "version_major": 2,
              "version_minor": 0,
              "model_id": "3caad1c8790e422984a757a1ac277a10"
            }
          },
          "metadata": {}
        },
        {
          "output_type": "stream",
          "name": "stdout",
          "text": [
            "\uc0dd\uc131\ub41c \uac80\uc99d\uc6a9 \uc9c8\ubb38 \uac1c\uc218: 54\n"
          ]
        }
      ]
    },
    {
      "cell_type": "code",
      "source": [
        "# \uccab\ubc88\uc9f8 \uc0d8\ud50c\n",
        "train_examples[0].texts"
      ],
      "metadata": {
        "colab": {
          "base_uri": "https://localhost:8080/"
        },
        "id": "1fN_kvVD5A90",
        "outputId": "45d546ae-0be1-4a0e-b02f-5b6548261cd7"
      },
      "execution_count": null,
      "outputs": [
        {
          "output_type": "execute_result",
          "data": {
            "text/plain": [
              "['\ubbf8\uad6d\uc758 \ube45\ud14c\ud06c \uae30\uc5c5\ub4e4\uc774 \uc9d1\uc911\ud558\uace0 \uc788\ub294 \uc778\uacf5\uc9c0\ub2a5 \uae30\uc220\uc758 \ud55c \ubd84\uc57c\ub294 \ubb34\uc5c7\uc778\uac00\uc694?',\n",
              " '\u2160 ICT\uad6d\uac00\uc0b0\uc5c5\ud604\ud669  4\\n(*) SUMMARY\\n1. \uad6d\uac00 \uac1c\ud669\\n2. ICT \uc815\ubd80\uae30\uad6c\\n3. ICT \uc8fc\uc694\uc815\ucc45\\n4. ICT \uc8fc\uc694\ubc95\ub839\ubc0f\uaddc\uc81c\\n5. ICT \uc8fc\uc694\uae30\uc5c5\\n6. \ud55c\uad6d \ud611\ub825 \ubc0f \uad6d\ub0b4\uae30\uc5c5 \uc9c4\ucd9c\uc0ac\ub840\\n\u2161 ICT\uc774\uc288Top 10  16\\n(*) SUMMARY\\n\u2460 \ubbf8\uad6d \ube45\ud14c\ud06c \uae30\uc5c5, \uc778\uacf5\uc9c0\ub2a5 \ucc57\ubd07 \uac1c\ubc1c\uc5d0 \uc8fc\ub825\\n\u2461 \ubbf8\uad6d, \uc77c\ubcf8\uacfc \uc591\uc790\ucef4\ud4e8\ud305 \uac1c\ubc1c \ud611\ub825\\n\u2462 \ubbf8\uad6d, \uc6b0\uc8fc \ud074\ub77c\uc6b0\ub4dc \ucef4\ud4e8\ud305 \uc2dc\uc7a5 \uc8fc\ub3c4\\n\u2463 \ubbf8\uad6d, \ub4dc\ub860 \ubc30\uc1a1 \ub3c4\uc785 \ud65c\ubc1c\\n\u2464 \ubbf8\uad6d, \uae0d\uc815\uc801\uc778 \uc758\ub8cc AI \uc778\uc2dd \ubc14\ud0d5\uc73c\ub85c \uc5f0\uad6c \ud65c\ubc1c\\n\u2465 \ubbf8\uad6d, \ubc18\ub3c4\uccb4 \uc0b0\uc5c5 \ud65c\uc131\ud654\uc5d0 \ubc15\ucc28\\n\u2466 \ubbf8\uad6d, \uae30\uc220 \uad50\ub958\ub97c \uc704\ud55c \uad6d\uac00 \uac04 \ud611\ub825 \ud65c\ubc1c\\n\u2467 \ubbf8\uad6d, \uc0ac\uc774\ubc84 \ubcf4\uc548 \ub300\uc751 \uac15\ud654\\n\u2468 \ubbf8\uad6d, 6G \uc8fc\ub3c4\uad8c \ud655\ubcf4 \uc704\ud55c \uc5f0\uad6c \ucd94\uc9c4\\n\u2469 \ubbf8 \uad6d\ubc29\ubd80 , \ub514\uc9c0\ud138 \ud2b8\uc708 \uae30\uc220 \ub3c4\uc785 \ud655\ub300\\n\u203b \ucc38\uace0\ubb38\ud5cc']"
            ]
          },
          "metadata": {},
          "execution_count": 9
        }
      ]
    },
    {
      "cell_type": "code",
      "source": [
        "# \ub450\ubc88\uc9f8 \uc0d8\ud50c\n",
        "train_examples[1].texts"
      ],
      "metadata": {
        "colab": {
          "base_uri": "https://localhost:8080/"
        },
        "id": "5zoqTt6V5H81",
        "outputId": "cf90f97a-520b-47bc-a611-6a1354945153"
      },
      "execution_count": null,
      "outputs": [
        {
          "output_type": "execute_result",
          "data": {
            "text/plain": [
              "['\ubbf8\uad6d\uc774 \uc77c\ubcf8\uacfc \ud611\ub825\ud558\uc5ec \uac1c\ubc1c\uc744 \ucd94\uc9c4\ud558\uace0 \uc788\ub294 \ucca8\ub2e8 \uae30\uc220\uc740 \ubb34\uc5c7\uc778\uac00\uc694?',\n",
              " '\u2160 ICT\uad6d\uac00\uc0b0\uc5c5\ud604\ud669  4\\n(*) SUMMARY\\n1. \uad6d\uac00 \uac1c\ud669\\n2. ICT \uc815\ubd80\uae30\uad6c\\n3. ICT \uc8fc\uc694\uc815\ucc45\\n4. ICT \uc8fc\uc694\ubc95\ub839\ubc0f\uaddc\uc81c\\n5. ICT \uc8fc\uc694\uae30\uc5c5\\n6. \ud55c\uad6d \ud611\ub825 \ubc0f \uad6d\ub0b4\uae30\uc5c5 \uc9c4\ucd9c\uc0ac\ub840\\n\u2161 ICT\uc774\uc288Top 10  16\\n(*) SUMMARY\\n\u2460 \ubbf8\uad6d \ube45\ud14c\ud06c \uae30\uc5c5, \uc778\uacf5\uc9c0\ub2a5 \ucc57\ubd07 \uac1c\ubc1c\uc5d0 \uc8fc\ub825\\n\u2461 \ubbf8\uad6d, \uc77c\ubcf8\uacfc \uc591\uc790\ucef4\ud4e8\ud305 \uac1c\ubc1c \ud611\ub825\\n\u2462 \ubbf8\uad6d, \uc6b0\uc8fc \ud074\ub77c\uc6b0\ub4dc \ucef4\ud4e8\ud305 \uc2dc\uc7a5 \uc8fc\ub3c4\\n\u2463 \ubbf8\uad6d, \ub4dc\ub860 \ubc30\uc1a1 \ub3c4\uc785 \ud65c\ubc1c\\n\u2464 \ubbf8\uad6d, \uae0d\uc815\uc801\uc778 \uc758\ub8cc AI \uc778\uc2dd \ubc14\ud0d5\uc73c\ub85c \uc5f0\uad6c \ud65c\ubc1c\\n\u2465 \ubbf8\uad6d, \ubc18\ub3c4\uccb4 \uc0b0\uc5c5 \ud65c\uc131\ud654\uc5d0 \ubc15\ucc28\\n\u2466 \ubbf8\uad6d, \uae30\uc220 \uad50\ub958\ub97c \uc704\ud55c \uad6d\uac00 \uac04 \ud611\ub825 \ud65c\ubc1c\\n\u2467 \ubbf8\uad6d, \uc0ac\uc774\ubc84 \ubcf4\uc548 \ub300\uc751 \uac15\ud654\\n\u2468 \ubbf8\uad6d, 6G \uc8fc\ub3c4\uad8c \ud655\ubcf4 \uc704\ud55c \uc5f0\uad6c \ucd94\uc9c4\\n\u2469 \ubbf8 \uad6d\ubc29\ubd80 , \ub514\uc9c0\ud138 \ud2b8\uc708 \uae30\uc220 \ub3c4\uc785 \ud655\ub300\\n\u203b \ucc38\uace0\ubb38\ud5cc']"
            ]
          },
          "metadata": {},
          "execution_count": 10
        }
      ]
    },
    {
      "cell_type": "code",
      "source": [
        "# \uc138\ubc88\uc9f8 \uc0d8\ud50c\n",
        "train_examples[2].texts"
      ],
      "metadata": {
        "colab": {
          "base_uri": "https://localhost:8080/"
        },
        "id": "hwQBWWR25m5N",
        "outputId": "fbabdd20-c431-453b-86a6-be4b137171a4"
      },
      "execution_count": null,
      "outputs": [
        {
          "output_type": "execute_result",
          "data": {
            "text/plain": [
              "['ICT \uad6d\uac00 \uc0b0\uc5c5 \ud604\ud669\uc5d0\uc11c \uc5b8\uae09\ub41c \uc8fc\uc694 \uc815\ubd80\uae30\uad6c\uc5d0\ub294 \uc5b4\ub5a4 \uac83\ub4e4\uc774 \uc788\ub098\uc694?',\n",
              " '\u2160 ICT \uad6d\uac00 \uc0b0\uc5c5 \ud604\ud669                   4\\n   (*) SUMMARY\\n   1. \uad6d\uac00 \uac1c\ud669\\n   2. ICT \uc815\ubd80\uae30\uad6c\\n   3. ICT \uc8fc\uc694 \uc815\ucc45\\n   4. ICT \uc8fc\uc694 \ubc95\ub839 \ubc0f \uaddc\uc81c\\n   5. ICT \uc8fc\uc694\uae30\uc5c5\\n   6. \ud55c\uad6d \ud611\ub825 \ubc0f \uad6d\ub0b4\uae30\uc5c5 \uc9c4\ucd9c\uc0ac\ub840']"
            ]
          },
          "metadata": {},
          "execution_count": 11
        }
      ]
    },
    {
      "cell_type": "code",
      "source": [
        "# \ub124\ubc88\uc9f8 \uc0d8\ud50c\n",
        "train_examples[3].texts"
      ],
      "metadata": {
        "colab": {
          "base_uri": "https://localhost:8080/"
        },
        "id": "_N3xeCbr5oQf",
        "outputId": "0402241b-808b-457c-d27f-e9c9ce3d79d1"
      },
      "execution_count": null,
      "outputs": [
        {
          "output_type": "execute_result",
          "data": {
            "text/plain": [
              "['\ud55c\uad6d\uacfc\uc758 \ud611\ub825 \uc0ac\ub840 \ubc0f \uad6d\ub0b4 \uae30\uc5c5\uc758 \uc9c4\ucd9c \uc0ac\ub840\uc5d0\ub294 \uc5b4\ub5a4 \uac83\ub4e4\uc774 \ud3ec\ud568\ub418\uc5b4 \uc788\ub098\uc694?',\n",
              " '\u2160 ICT \uad6d\uac00 \uc0b0\uc5c5 \ud604\ud669                   4\\n   (*) SUMMARY\\n   1. \uad6d\uac00 \uac1c\ud669\\n   2. ICT \uc815\ubd80\uae30\uad6c\\n   3. ICT \uc8fc\uc694 \uc815\ucc45\\n   4. ICT \uc8fc\uc694 \ubc95\ub839 \ubc0f \uaddc\uc81c\\n   5. ICT \uc8fc\uc694\uae30\uc5c5\\n   6. \ud55c\uad6d \ud611\ub825 \ubc0f \uad6d\ub0b4\uae30\uc5c5 \uc9c4\ucd9c\uc0ac\ub840']"
            ]
          },
          "metadata": {},
          "execution_count": 12
        }
      ]
    },
    {
      "cell_type": "code",
      "source": [
        "queries = [sample.texts[0] for sample in train_examples]"
      ],
      "metadata": {
        "id": "4EpBBuWb3hVr"
      },
      "execution_count": null,
      "outputs": []
    },
    {
      "cell_type": "code",
      "source": [
        "len(queries)"
      ],
      "metadata": {
        "colab": {
          "base_uri": "https://localhost:8080/"
        },
        "id": "U5yzpPIa3qaW",
        "outputId": "89763307-643c-4354-fa3c-25a269e12849"
      },
      "execution_count": null,
      "outputs": [
        {
          "output_type": "execute_result",
          "data": {
            "text/plain": [
              "52"
            ]
          },
          "metadata": {},
          "execution_count": 14
        }
      ]
    },
    {
      "cell_type": "code",
      "source": [
        "train_examples[0].texts"
      ],
      "metadata": {
        "colab": {
          "base_uri": "https://localhost:8080/"
        },
        "id": "zDyOEcZds49i",
        "outputId": "86bb6d4e-6eb9-4bc7-bc2a-7a90247ab46c"
      },
      "execution_count": null,
      "outputs": [
        {
          "output_type": "execute_result",
          "data": {
            "text/plain": [
              "['\ubbf8\uad6d\uc758 \ube45\ud14c\ud06c \uae30\uc5c5\ub4e4\uc774 \uc9d1\uc911\ud558\uace0 \uc788\ub294 \uc778\uacf5\uc9c0\ub2a5 \uae30\uc220\uc758 \ud55c \ubd84\uc57c\ub294 \ubb34\uc5c7\uc778\uac00\uc694?',\n",
              " '\u2160 ICT\uad6d\uac00\uc0b0\uc5c5\ud604\ud669  4\\n(*) SUMMARY\\n1. \uad6d\uac00 \uac1c\ud669\\n2. ICT \uc815\ubd80\uae30\uad6c\\n3. ICT \uc8fc\uc694\uc815\ucc45\\n4. ICT \uc8fc\uc694\ubc95\ub839\ubc0f\uaddc\uc81c\\n5. ICT \uc8fc\uc694\uae30\uc5c5\\n6. \ud55c\uad6d \ud611\ub825 \ubc0f \uad6d\ub0b4\uae30\uc5c5 \uc9c4\ucd9c\uc0ac\ub840\\n\u2161 ICT\uc774\uc288Top 10  16\\n(*) SUMMARY\\n\u2460 \ubbf8\uad6d \ube45\ud14c\ud06c \uae30\uc5c5, \uc778\uacf5\uc9c0\ub2a5 \ucc57\ubd07 \uac1c\ubc1c\uc5d0 \uc8fc\ub825\\n\u2461 \ubbf8\uad6d, \uc77c\ubcf8\uacfc \uc591\uc790\ucef4\ud4e8\ud305 \uac1c\ubc1c \ud611\ub825\\n\u2462 \ubbf8\uad6d, \uc6b0\uc8fc \ud074\ub77c\uc6b0\ub4dc \ucef4\ud4e8\ud305 \uc2dc\uc7a5 \uc8fc\ub3c4\\n\u2463 \ubbf8\uad6d, \ub4dc\ub860 \ubc30\uc1a1 \ub3c4\uc785 \ud65c\ubc1c\\n\u2464 \ubbf8\uad6d, \uae0d\uc815\uc801\uc778 \uc758\ub8cc AI \uc778\uc2dd \ubc14\ud0d5\uc73c\ub85c \uc5f0\uad6c \ud65c\ubc1c\\n\u2465 \ubbf8\uad6d, \ubc18\ub3c4\uccb4 \uc0b0\uc5c5 \ud65c\uc131\ud654\uc5d0 \ubc15\ucc28\\n\u2466 \ubbf8\uad6d, \uae30\uc220 \uad50\ub958\ub97c \uc704\ud55c \uad6d\uac00 \uac04 \ud611\ub825 \ud65c\ubc1c\\n\u2467 \ubbf8\uad6d, \uc0ac\uc774\ubc84 \ubcf4\uc548 \ub300\uc751 \uac15\ud654\\n\u2468 \ubbf8\uad6d, 6G \uc8fc\ub3c4\uad8c \ud655\ubcf4 \uc704\ud55c \uc5f0\uad6c \ucd94\uc9c4\\n\u2469 \ubbf8 \uad6d\ubc29\ubd80 , \ub514\uc9c0\ud138 \ud2b8\uc708 \uae30\uc220 \ub3c4\uc785 \ud655\ub300\\n\u203b \ucc38\uace0\ubb38\ud5cc']"
            ]
          },
          "metadata": {},
          "execution_count": 15
        }
      ]
    },
    {
      "cell_type": "code",
      "source": [
        "train_examples[1].texts"
      ],
      "metadata": {
        "colab": {
          "base_uri": "https://localhost:8080/"
        },
        "id": "ittVQE26syob",
        "outputId": "72840e4f-95a6-4b9e-8e2c-be48fba5c416"
      },
      "execution_count": null,
      "outputs": [
        {
          "output_type": "execute_result",
          "data": {
            "text/plain": [
              "['\ubbf8\uad6d\uc774 \uc77c\ubcf8\uacfc \ud611\ub825\ud558\uc5ec \uac1c\ubc1c\uc744 \ucd94\uc9c4\ud558\uace0 \uc788\ub294 \ucca8\ub2e8 \uae30\uc220\uc740 \ubb34\uc5c7\uc778\uac00\uc694?',\n",
              " '\u2160 ICT\uad6d\uac00\uc0b0\uc5c5\ud604\ud669  4\\n(*) SUMMARY\\n1. \uad6d\uac00 \uac1c\ud669\\n2. ICT \uc815\ubd80\uae30\uad6c\\n3. ICT \uc8fc\uc694\uc815\ucc45\\n4. ICT \uc8fc\uc694\ubc95\ub839\ubc0f\uaddc\uc81c\\n5. ICT \uc8fc\uc694\uae30\uc5c5\\n6. \ud55c\uad6d \ud611\ub825 \ubc0f \uad6d\ub0b4\uae30\uc5c5 \uc9c4\ucd9c\uc0ac\ub840\\n\u2161 ICT\uc774\uc288Top 10  16\\n(*) SUMMARY\\n\u2460 \ubbf8\uad6d \ube45\ud14c\ud06c \uae30\uc5c5, \uc778\uacf5\uc9c0\ub2a5 \ucc57\ubd07 \uac1c\ubc1c\uc5d0 \uc8fc\ub825\\n\u2461 \ubbf8\uad6d, \uc77c\ubcf8\uacfc \uc591\uc790\ucef4\ud4e8\ud305 \uac1c\ubc1c \ud611\ub825\\n\u2462 \ubbf8\uad6d, \uc6b0\uc8fc \ud074\ub77c\uc6b0\ub4dc \ucef4\ud4e8\ud305 \uc2dc\uc7a5 \uc8fc\ub3c4\\n\u2463 \ubbf8\uad6d, \ub4dc\ub860 \ubc30\uc1a1 \ub3c4\uc785 \ud65c\ubc1c\\n\u2464 \ubbf8\uad6d, \uae0d\uc815\uc801\uc778 \uc758\ub8cc AI \uc778\uc2dd \ubc14\ud0d5\uc73c\ub85c \uc5f0\uad6c \ud65c\ubc1c\\n\u2465 \ubbf8\uad6d, \ubc18\ub3c4\uccb4 \uc0b0\uc5c5 \ud65c\uc131\ud654\uc5d0 \ubc15\ucc28\\n\u2466 \ubbf8\uad6d, \uae30\uc220 \uad50\ub958\ub97c \uc704\ud55c \uad6d\uac00 \uac04 \ud611\ub825 \ud65c\ubc1c\\n\u2467 \ubbf8\uad6d, \uc0ac\uc774\ubc84 \ubcf4\uc548 \ub300\uc751 \uac15\ud654\\n\u2468 \ubbf8\uad6d, 6G \uc8fc\ub3c4\uad8c \ud655\ubcf4 \uc704\ud55c \uc5f0\uad6c \ucd94\uc9c4\\n\u2469 \ubbf8 \uad6d\ubc29\ubd80 , \ub514\uc9c0\ud138 \ud2b8\uc708 \uae30\uc220 \ub3c4\uc785 \ud655\ub300\\n\u203b \ucc38\uace0\ubb38\ud5cc']"
            ]
          },
          "metadata": {},
          "execution_count": 16
        }
      ]
    },
    {
      "cell_type": "code",
      "source": [
        "train_examples[2].texts"
      ],
      "metadata": {
        "colab": {
          "base_uri": "https://localhost:8080/"
        },
        "id": "xUlTvOnitGYq",
        "outputId": "5300716e-ac1a-4dee-c9d9-5243d8105753"
      },
      "execution_count": null,
      "outputs": [
        {
          "output_type": "execute_result",
          "data": {
            "text/plain": [
              "['ICT \uad6d\uac00 \uc0b0\uc5c5 \ud604\ud669\uc5d0\uc11c \uc5b8\uae09\ub41c \uc8fc\uc694 \uc815\ubd80\uae30\uad6c\uc5d0\ub294 \uc5b4\ub5a4 \uac83\ub4e4\uc774 \uc788\ub098\uc694?',\n",
              " '\u2160 ICT \uad6d\uac00 \uc0b0\uc5c5 \ud604\ud669                   4\\n   (*) SUMMARY\\n   1. \uad6d\uac00 \uac1c\ud669\\n   2. ICT \uc815\ubd80\uae30\uad6c\\n   3. ICT \uc8fc\uc694 \uc815\ucc45\\n   4. ICT \uc8fc\uc694 \ubc95\ub839 \ubc0f \uaddc\uc81c\\n   5. ICT \uc8fc\uc694\uae30\uc5c5\\n   6. \ud55c\uad6d \ud611\ub825 \ubc0f \uad6d\ub0b4\uae30\uc5c5 \uc9c4\ucd9c\uc0ac\ub840']"
            ]
          },
          "metadata": {},
          "execution_count": 17
        }
      ]
    },
    {
      "cell_type": "code",
      "source": [
        "# \uc784\uc758\uc758 25 \uc0d8\ud50c\n",
        "print(train_examples[25].texts)  # \uc9c8\ubb38\uacfc \ubb38\uc11c \ub0b4\uc6a9\uc774 \ub9ac\uc2a4\ud2b8\ub85c \ucd9c\ub825\ub428"
      ],
      "metadata": {
        "colab": {
          "base_uri": "https://localhost:8080/"
        },
        "id": "AqPqppGnqWQn",
        "outputId": "e6ba3005-2b24-4a49-880d-5c838aec1c8b"
      },
      "execution_count": null,
      "outputs": [
        {
          "output_type": "stream",
          "name": "stdout",
          "text": [
            "['\ucd5c\uadfc \uba87 \ub144\uac04 \ud55c\uad6d\uc758 ICT \uae30\uc5c5\ub4e4\uc774 \ubbf8\uad6d \uc2dc\uc7a5\uc5d0 \uc9c4\ucd9c\ud55c \uc0ac\ub840\ub294 \ubb34\uc5c7\uc778\uac00\uc694?', \"15 \u2160. ICT \uad6d\uac00 \uc0b0\uc5c5 \ud604\ud669\\n 6.\ud55c\uad6d \ud611\ub825 \ubc0f \uad6d\ub0b4\uae30\uc5c5 \uc9c4\ucd9c\uc0ac\ub840\\n \ud55c\uad6d-\ubbf8\uad6d FTA \uccb4\uacb0 \uc5ec\ubd80\\n\u2022 2012\ub144 3\uc6d4 \ud55c-\ubbf8 FTA \ubc1c\ud6a8\ub428\\n\u2022 2019\ub144 1\uc6d4 \ud55c-\ubbf8 FTA \uac1c\uc815 \uc758\uc815\uc11c \ubc1c\ud6a8, \ud22c\uc790\uc790 -\uad6d\uac00\ubd84\uc7c1\ud574\uacb0\uc81c\ub3c4 (ISDS) \uc640 \uc218\ucd9c\uae30\uc5c5\uc5d0 \ubd80\ub2f4\uc774 \\n\ub41c \ubb34\uc5ed\uad6c\uc81c \uc808\ucc28 \uac1c\uc120\ub428\\n\u2022 2022\ub144 \ud55c-\ubbf8 FTA 10\uc8fc\ub144\uc744 \uae30\ub150\ud574 \uc815\ubd80\u00b7\uad6d\ud68c \ub300\ud45c\ub2e8\uc774 \uc6cc\uc2f1\ud134 D.C(Washington DC), \\n\ubbf8\uc2dc\uac04 (Michigan), \ub274\uc695(New York) \ub4f1\uc744 \ubc29\ubb38\ud568\\n \ud55c\uad6d-\ubbf8\uad6d ICT \uae30\uad00 \ud611\ub825 \uc0ac\ub840\\n\u2022 \uacfc\uae30\uc815\ud1b5\ubd80\uc640 \ubbf8\uad6d \uae30\uad00 \uac04 ICT \ud611\ub825 \uc0ac\ub840\uac00 \uc8fc\ubaa9\ub428 \\n \ud55c\uad6d-\ubbf8\uad6d ICT \uae30\uc5c5 \uc9c4\ucd9c \uc0ac\ub840\\n\u2022 \ub2e4\uc591\ud55c \uc0b0\uc5c5\uacfc \uaddc\ubaa8\uc758 \ud55c\uad6d \uae30\uc5c5\ub4e4\uc774 \ubbf8\uad6d \uc2dc\uc7a5 \uc9c4\ucd9c\uc744 \uc704\ud574 \ub178\ub825\ud558\uace0 \uc788\uc74c \\n[\ud45c 10] \ud55c\uad6d-\ubbf8\uad6d \ud611\ub825 \ud604\ud669\\n\uad6c\ubd84 \ub0a0\uc9dc \ub0b4\uc6a9\\nFTA \uccb4\uacb0\uc5ec\ubd80\\n(\ubc1c\ud6a8)12.03 \u2023 \ud55c-\ubbf8 FTA \ubc1c\ud6a8\\n19.01 \u2023 \ud55c-\ubbf8 FTA \uac1c\uc815 \uc758\uc815\uc11c \ubc1c\ud6a8\\n22.03 \u2023 \ud55c-\ubbf8 FTA 10\uc8fc\ub144 \uae30\ub150\ud574 \uc815\ubd80\u00b7\uad6d\ud68c \ub300\ud45c\ub2e8 \ubc29\ubbf8 \uc77c\uc815 \uc9c4\ud589\\n\uc815\ubd8023.01\u2023 \uacbd\ubd81\ub3c4 , \uc0b0\ud0c0\ud074\ub77c\ub77c \ud55c\uc778\uc0c1\uacf5\ud68c\uc758\uc18c\uc640 '\uc2e4\ub9ac\ucf58\ubc38\ub9ac \uc2a4\ud0c0\ud2b8\uc5c5 \uc544\uce74\ub370\ubbf8 \\n\uacbd\ubd81 MOU' \uac1c\ucd5c\\n23.01 \u2023 \uad11\uc8fc\uc2dc , AI \uc2a4\ud0c0\ud2b8\uc5c5 \ubbf8\uad6d \uc9c4\ucd9c \uc9c0\uc6d0\\n23.01\u2023 \ud654\uc131\uc2dc , \uc2e4\ub9ac\ucf58\ubc38\ub9ac \uc0b0\ud0c0\ud074\ub77c\ub77c \ud55c\uc778\uc0c1\uacf5\ud68c\uc758\uc18c\uc640 \u2018\uc2a4\ud0c0\ud2b8\uc5c5 \uae30\uc5c5\uc758 \\n\uae00\ub85c\ubc8c \uc9c4\ucd9c \uc9c0\uc6d0 \uc5c5\ubb34\ud611\uc57d \u2019 \uccb4\uacb0\\n23.07 \u2023 \uacfc\uae30\uc815\ud1b5\ubd80 , \ud55c\u00b7\ubbf8 WRC \ud611\ub825\ud68c\uc758 \uac1c\ucd5c\\n24.01 \u2023 \uacfc\uae30\uc815\ud1b5\ubd80 , \ubbf8\uad6d CES 2024\uc11c \u2018\ub514\uc9c0\ud138 \uccad\ub144 \uc778\uc7ac \ud3ec\ub7fc\u2019 \uac1c\ucd5c\\n\uae30\uc5c523.01 \u2023 \ubc14\uc774\ub4e0 \ub300\ud1b5\ub839 , \ud55c\ud654 \uc194\ub8e8\uc158 \ubbf8\uad6d \uc870\uc9c0\uc544\uc8fc \u2018\uc194\ub77c \ud5c8\ube0c\u2019 \ud22c\uc790 \uacb0\uc815 \ud658\uc601\\n23.01 \u2023 \ud544\uc6cc\ud06c , \ubbf8\uad6d \ubc95\uc778 \uc124\ub9bd \ubc0f \uc571 \uc11c\ube44\uc2a4 \ub860\uce6d\uc73c\ub85c \ubbf8\uad6d \uc2dc\uc7a5 \ubcf8\uaca9 \uc9c4\ucd9c\\n23.08 \u2023 \ud604\ub300\ucc28\uadf8\ub8f9 \ubaa8\uc154\ub110 , \u2018\uc544\uc774\uc624\ub2c9 5 \ub85c\ubcf4 \ud0dd\uc2dc\u2019 \ub85c\uc2a4\uc564\uc824\ub808\uc2a4\ub85c \uc11c\ube44\uc2a4 \ud655\uc7a5\\n23.08 \u2023 \ud1a0\ub9c8\ud1a0\uc2dc\uc2a4\ud15c , \ubbf8\uad6d \uc6d0\uaca9 \uc9c4\ub8cc \uc2dc\uc7a5 \uc9c4\ucd9c\\n24.01 \u2023 SK\ud154\ub808\ucf64 , \ub3d9\ubb3c AI \uc9c4\ub2e8 \uc194\ub8e8\uc158 \uc5d1\uc2a4\uce7c\ub9ac\ubc84 \ubbf8\uad6d\uc2dc\uc7a5 \ubcf8\uaca9 \uacf5\ub7b5\\n24.02 \u2023 \uc62c\uac70\ub098\uc774\uc988 , SOC-2 \ubc0f HIPPA \ubbf8\uad6d \ubcf4\uc548\uc778\uc99d \ud68d\ub4dd\\n\ucd9c\ucc98 : \uc8fc\uc694 ICT \ub9e4\uccb4 \ubc1c\ud45c \uae30\uc0ac \ucde8\ud569\"]\n"
          ]
        }
      ]
    },
    {
      "cell_type": "code",
      "source": [
        "print(\"\ubb38\uc11c:\")\n",
        "print(train_examples[25].texts[1])  # \ub450 \ubc88\uc9f8 \uc694\uc18c\ub294 \ubb38\uc11c \ub0b4\uc6a9\n",
        "print('--' * 50)\n",
        "print(\"\ubb38\uc11c\ub85c\ubd80\ud130 \uc0dd\uc131\ud55c \uc9c8\ubb38:\")\n",
        "print(train_examples[25].texts[0])  # \uccab \ubc88\uc9f8 \uc694\uc18c\ub294 \uc9c8\ubb38"
      ],
      "metadata": {
        "colab": {
          "base_uri": "https://localhost:8080/"
        },
        "id": "W0SP6xFnq9Vu",
        "outputId": "ed0acfc8-9c1d-4c9c-ea09-0c607565d1ea"
      },
      "execution_count": null,
      "outputs": [
        {
          "output_type": "stream",
          "name": "stdout",
          "text": [
            "\ubb38\uc11c:\n",
            "15 \u2160. ICT \uad6d\uac00 \uc0b0\uc5c5 \ud604\ud669\n",
            " 6.\ud55c\uad6d \ud611\ub825 \ubc0f \uad6d\ub0b4\uae30\uc5c5 \uc9c4\ucd9c\uc0ac\ub840\n",
            " \ud55c\uad6d-\ubbf8\uad6d FTA \uccb4\uacb0 \uc5ec\ubd80\n",
            "\u2022 2012\ub144 3\uc6d4 \ud55c-\ubbf8 FTA \ubc1c\ud6a8\ub428\n",
            "\u2022 2019\ub144 1\uc6d4 \ud55c-\ubbf8 FTA \uac1c\uc815 \uc758\uc815\uc11c \ubc1c\ud6a8, \ud22c\uc790\uc790 -\uad6d\uac00\ubd84\uc7c1\ud574\uacb0\uc81c\ub3c4 (ISDS) \uc640 \uc218\ucd9c\uae30\uc5c5\uc5d0 \ubd80\ub2f4\uc774 \n",
            "\ub41c \ubb34\uc5ed\uad6c\uc81c \uc808\ucc28 \uac1c\uc120\ub428\n",
            "\u2022 2022\ub144 \ud55c-\ubbf8 FTA 10\uc8fc\ub144\uc744 \uae30\ub150\ud574 \uc815\ubd80\u00b7\uad6d\ud68c \ub300\ud45c\ub2e8\uc774 \uc6cc\uc2f1\ud134 D.C(Washington DC), \n",
            "\ubbf8\uc2dc\uac04 (Michigan), \ub274\uc695(New York) \ub4f1\uc744 \ubc29\ubb38\ud568\n",
            " \ud55c\uad6d-\ubbf8\uad6d ICT \uae30\uad00 \ud611\ub825 \uc0ac\ub840\n",
            "\u2022 \uacfc\uae30\uc815\ud1b5\ubd80\uc640 \ubbf8\uad6d \uae30\uad00 \uac04 ICT \ud611\ub825 \uc0ac\ub840\uac00 \uc8fc\ubaa9\ub428 \n",
            " \ud55c\uad6d-\ubbf8\uad6d ICT \uae30\uc5c5 \uc9c4\ucd9c \uc0ac\ub840\n",
            "\u2022 \ub2e4\uc591\ud55c \uc0b0\uc5c5\uacfc \uaddc\ubaa8\uc758 \ud55c\uad6d \uae30\uc5c5\ub4e4\uc774 \ubbf8\uad6d \uc2dc\uc7a5 \uc9c4\ucd9c\uc744 \uc704\ud574 \ub178\ub825\ud558\uace0 \uc788\uc74c \n",
            "[\ud45c 10] \ud55c\uad6d-\ubbf8\uad6d \ud611\ub825 \ud604\ud669\n",
            "\uad6c\ubd84 \ub0a0\uc9dc \ub0b4\uc6a9\n",
            "FTA \uccb4\uacb0\uc5ec\ubd80\n",
            "(\ubc1c\ud6a8)12.03 \u2023 \ud55c-\ubbf8 FTA \ubc1c\ud6a8\n",
            "19.01 \u2023 \ud55c-\ubbf8 FTA \uac1c\uc815 \uc758\uc815\uc11c \ubc1c\ud6a8\n",
            "22.03 \u2023 \ud55c-\ubbf8 FTA 10\uc8fc\ub144 \uae30\ub150\ud574 \uc815\ubd80\u00b7\uad6d\ud68c \ub300\ud45c\ub2e8 \ubc29\ubbf8 \uc77c\uc815 \uc9c4\ud589\n",
            "\uc815\ubd8023.01\u2023 \uacbd\ubd81\ub3c4 , \uc0b0\ud0c0\ud074\ub77c\ub77c \ud55c\uc778\uc0c1\uacf5\ud68c\uc758\uc18c\uc640 '\uc2e4\ub9ac\ucf58\ubc38\ub9ac \uc2a4\ud0c0\ud2b8\uc5c5 \uc544\uce74\ub370\ubbf8 \n",
            "\uacbd\ubd81 MOU' \uac1c\ucd5c\n",
            "23.01 \u2023 \uad11\uc8fc\uc2dc , AI \uc2a4\ud0c0\ud2b8\uc5c5 \ubbf8\uad6d \uc9c4\ucd9c \uc9c0\uc6d0\n",
            "23.01\u2023 \ud654\uc131\uc2dc , \uc2e4\ub9ac\ucf58\ubc38\ub9ac \uc0b0\ud0c0\ud074\ub77c\ub77c \ud55c\uc778\uc0c1\uacf5\ud68c\uc758\uc18c\uc640 \u2018\uc2a4\ud0c0\ud2b8\uc5c5 \uae30\uc5c5\uc758 \n",
            "\uae00\ub85c\ubc8c \uc9c4\ucd9c \uc9c0\uc6d0 \uc5c5\ubb34\ud611\uc57d \u2019 \uccb4\uacb0\n",
            "23.07 \u2023 \uacfc\uae30\uc815\ud1b5\ubd80 , \ud55c\u00b7\ubbf8 WRC \ud611\ub825\ud68c\uc758 \uac1c\ucd5c\n",
            "24.01 \u2023 \uacfc\uae30\uc815\ud1b5\ubd80 , \ubbf8\uad6d CES 2024\uc11c \u2018\ub514\uc9c0\ud138 \uccad\ub144 \uc778\uc7ac \ud3ec\ub7fc\u2019 \uac1c\ucd5c\n",
            "\uae30\uc5c523.01 \u2023 \ubc14\uc774\ub4e0 \ub300\ud1b5\ub839 , \ud55c\ud654 \uc194\ub8e8\uc158 \ubbf8\uad6d \uc870\uc9c0\uc544\uc8fc \u2018\uc194\ub77c \ud5c8\ube0c\u2019 \ud22c\uc790 \uacb0\uc815 \ud658\uc601\n",
            "23.01 \u2023 \ud544\uc6cc\ud06c , \ubbf8\uad6d \ubc95\uc778 \uc124\ub9bd \ubc0f \uc571 \uc11c\ube44\uc2a4 \ub860\uce6d\uc73c\ub85c \ubbf8\uad6d \uc2dc\uc7a5 \ubcf8\uaca9 \uc9c4\ucd9c\n",
            "23.08 \u2023 \ud604\ub300\ucc28\uadf8\ub8f9 \ubaa8\uc154\ub110 , \u2018\uc544\uc774\uc624\ub2c9 5 \ub85c\ubcf4 \ud0dd\uc2dc\u2019 \ub85c\uc2a4\uc564\uc824\ub808\uc2a4\ub85c \uc11c\ube44\uc2a4 \ud655\uc7a5\n",
            "23.08 \u2023 \ud1a0\ub9c8\ud1a0\uc2dc\uc2a4\ud15c , \ubbf8\uad6d \uc6d0\uaca9 \uc9c4\ub8cc \uc2dc\uc7a5 \uc9c4\ucd9c\n",
            "24.01 \u2023 SK\ud154\ub808\ucf64 , \ub3d9\ubb3c AI \uc9c4\ub2e8 \uc194\ub8e8\uc158 \uc5d1\uc2a4\uce7c\ub9ac\ubc84 \ubbf8\uad6d\uc2dc\uc7a5 \ubcf8\uaca9 \uacf5\ub7b5\n",
            "24.02 \u2023 \uc62c\uac70\ub098\uc774\uc988 , SOC-2 \ubc0f HIPPA \ubbf8\uad6d \ubcf4\uc548\uc778\uc99d \ud68d\ub4dd\n",
            "\ucd9c\ucc98 : \uc8fc\uc694 ICT \ub9e4\uccb4 \ubc1c\ud45c \uae30\uc0ac \ucde8\ud569\n",
            "----------------------------------------------------------------------------------------------------\n",
            "\ubb38\uc11c\ub85c\ubd80\ud130 \uc0dd\uc131\ud55c \uc9c8\ubb38:\n",
            "\ucd5c\uadfc \uba87 \ub144\uac04 \ud55c\uad6d\uc758 ICT \uae30\uc5c5\ub4e4\uc774 \ubbf8\uad6d \uc2dc\uc7a5\uc5d0 \uc9c4\ucd9c\ud55c \uc0ac\ub840\ub294 \ubb34\uc5c7\uc778\uac00\uc694?\n"
          ]
        }
      ]
    },
    {
      "cell_type": "code",
      "source": [
        "# 5. \ub370\uc774\ud130 \ub85c\ub354 \uc0dd\uc131\n",
        "# \ud604\uc7ac Colab GPU\uc758 \ud55c\uacc4\ub85c \ub9e4\uc6b0 \uc791\uc740 \ubc30\uce58 \ud06c\uae30\uc778 5\ub97c \uc120\ud0dd\ud588\uc2b5\ub2c8\ub2e4.\n",
        "# \uc77c\ubc18\uc801\uc73c\ub85c\ub294 \ubc30\uce58 \ud06c\uae30\uac00 \ud074\uc218\ub85d \uc131\ub2a5\uc774 \uc88b\uc2b5\ub2c8\ub2e4.\n",
        "BATCH_SIZE = 4  # \ubc30\uce58 \ud06c\uae30 \uc870\uc815\n",
        "loader = DataLoader(train_examples, batch_size=BATCH_SIZE, shuffle=True)"
      ],
      "metadata": {
        "id": "45ajGdI3pdOI"
      },
      "execution_count": null,
      "outputs": []
    },
    {
      "cell_type": "code",
      "source": [
        "# 6. \ubaa8\ub378 \ubc0f \uc190\uc2e4 \ud568\uc218 \uc124\uc815\n",
        "model_id = \"BAAI/bge-m3\"\n",
        "model = SentenceTransformer(model_id)\n",
        "\n",
        "# \uc190\uc2e4 \ud568\uc218 \uc815\uc758: \ubaa8\ub378\uc774 \uac80\uc0c9\uc5b4\uc640 \ud3ec\uc9c0\ud2f0\ube0c \ubb38\uc11c\ub294 \uac00\uae5d\uac8c, \ub124\uac70\ud2f0\ube0c \ubb38\uc11c\ub294 \uba40\uac8c \ud559\uc2b5\ud558\ub3c4\ub85d \uc720\ub3c4\n",
        "loss = losses.MultipleNegativesRankingLoss(model)"
      ],
      "metadata": {
        "colab": {
          "base_uri": "https://localhost:8080/",
          "height": 531,
          "referenced_widgets": [
            "1db6f51c2ae34607b45407ba574888a1",
            "0504b0b353954fb08808ac62cf808c61",
            "011cdba15feb45d682858634c87b9f78",
            "da6439b267a443418083bf77794d83cc",
            "8e75c4aa3fe34eefb4b280b74721941b",
            "8caa4bacf9cc4b0ba23b7a138811122b",
            "b359ca528f274de580e848cb408f7852",
            "e79fe1a7f6d04ead86cefad86a7d2b8f",
            "d27292f6827b48c1902ebad9d867ed2b",
            "b4fb08fcec3b497eb49f2e1a935d969d",
            "29867e593d804a9d852139cd5f6b477e",
            "ff1fdb70041046b8b5aef92feb7ad4ed",
            "a5b29efb6f9a44deb4c12f91118041de",
            "205fa0097e8743c480759f465b6c3cad",
            "d2a6c9d4866642e58623687f7966e233",
            "71c0d9912b604adc87cfcf7a27ad2a5f",
            "22941b928c3f4694ab626b19d8858c1b",
            "f0cfc7c7471a4bf09e4f10c99e7befc3",
            "e5284951c304488bb86a3a6265af7500",
            "77ea6dcfcda34d0aad60c8cf38c35db0",
            "39fb897d1e554615bb9ff2b33fac3e79",
            "15ce6469d58d4356bfea1f4122e31384",
            "7658aac329b24f35b2165fe2c7df4c73",
            "d85fe58e160248fbb24d91c8f2000ca1",
            "d756ad7161404c21bee00f38d83af34c",
            "74a0ca202263495ab62ba533d13b3965",
            "0457653311f74d89a2cfccf78a1a6847",
            "4515a8212c314a17801c29fe14c5393d",
            "211d7f6ccabe457c99af7100c17bd54e",
            "a044cc9756774dc3a559fb41643ca170",
            "2b9a2772c53043f7bd577d908d6b677c",
            "4077284ba97b480e8960db95471bc953",
            "2350058e60c1444bb4a5f696efa834e6",
            "f2c7334d31da437887f74ae656cd0e00",
            "948f40c81f09498ca2b4597458d05a9a",
            "485de7058f154819bb7e65bd7f05b851",
            "30ea73b1cc4240048ae48a5a3d6c76b8",
            "4960f54efd614a4290eef45c0748bc20",
            "5bf7bca9bbc24c9ea3571558a8f5b4cc",
            "cfbdd282affc45639b831a52839dab10",
            "a26a3e65c5114f1194850232c8dd3040",
            "d98e8aed7ac640bd8766faef121c0cf1",
            "48ff9f0c65ac4418b61687519158cc28",
            "9a5dda7ca6954310b5464ac124c98904",
            "cdb029ab25164e06b28be37cf0879d13",
            "d1d0077f3f8a492f992cbb0b7dadbd8d",
            "52fd75ad34aa4831a235f1e5fe2e39de",
            "58bf7b0db26a4aa1b3e27e9353850597",
            "37d787932d914e0583d98ea55f18352c",
            "5e82f8e7ad3649b0a134c2b998e7359d",
            "ca7359ae8b8d4babb038eaa413d4db99",
            "bdc13318c66b4d08ac22cb6f17a81bac",
            "f256421b8b454bcba4a28d5d02f8e415",
            "00ce56f3c2824be097ed6feae749a0cf",
            "8bcfa10d2c9a4db18fb6d7eaf58c3dc9",
            "9ed89d128b9645549e791f2b7ddbaf04",
            "3db8fc7f95a64ce890242c7841700402",
            "548a7d4d5d1844cf91e57791f71c481e",
            "210daff49d2f400ab47f9e80aa76f12c",
            "a5784e73cc9a4e719403fd374810f7d0",
            "3d2d5f22bac64301956a1e2eb47b4bda",
            "ef621f5e432c47dc82405d7cfacc50ad",
            "76f0ec5762d746a09a73205e549bab4a",
            "4b6ce63320444e03b6a5649cf9a6cf6c",
            "f04ce780f02744d4becd9918ee33ab94",
            "9a85cde10a764212b205d75c18685e2d",
            "81f7b4e7f3f54873bb6ab7781c4c4265",
            "6f94634e21964020b8a501233626ed7b",
            "b9ce94e2cad740689695eead0e2cd005",
            "40b26b9f6bd8401c9fdf621f858f5059",
            "3b14c4cb78424dd4882a0eb30a724a7b",
            "f87f1b63db574fa993a018ab74634f8c",
            "c0238312159b489ab6cb4c57834d8579",
            "1e2176f49ca5406b8a2200494c7a417b",
            "2f10894265ae4bea90bbf722040a458a",
            "2eaed611a3854b8f9157d9a066b957c8",
            "e57e66b84a6c4e788140dcdb651b25aa",
            "fdb09fd7101e4ea09ad1bf35904b7618",
            "936469c0d81e4a2c8fa927eaa6e8e456",
            "bee0fd13ed4e46b0a80fdc9f95cceb64",
            "54fa413b238d4c5f82a895bf078613d6",
            "cb7f936d97cc4339a409c6324c1e0173",
            "bbe1a524b0074ebda9a9b2ed9380a1d9",
            "526bb32812eb442dbf1a070a8eb2f638",
            "ff3700f297d4442fa63638b26a088312",
            "6c039275df4e402ab57990be96b9801f",
            "c5d1be87fa7b44fdb28cc6d073ef5f7f",
            "aa1d7f4e142b4f508ef8da05b59864e9",
            "2d4a3856dab94e09aeaff27e40c5ec47",
            "497216b950c74e96b61d3e5a8b5765b3",
            "e5983191abd34016a4c1c39eae3e731a",
            "d7a4dfb7f71444cf9f819bd3accb5414",
            "828423909da9429ea395864e7adc2293",
            "315bd3dab0dd49b8956cc4eb3c715ede",
            "d154de84aa1f42bea2e086d164860be9",
            "c6fe653c9db14238abfa449c50ad5555",
            "977f495001d54f45a8628ae4304e46cb",
            "a3880ddd82424da496b3ad75a9be8586",
            "8c7ff9b540834b7d9561bd0840407e84",
            "a2e86e41cc234c10b304de1f925b07ce",
            "9078801f1b2449efb1a36f72ecf8007a",
            "caeefe1fd40441dc9103506b167c0dbd",
            "74ba2d40791f49dbbb176fee89c2abf5",
            "4402983b806341eb9e607234e50495fb",
            "2c1925eaa07b4832a41ec3f27dbffd54",
            "36e3d7f8686b465198715b341098a02a",
            "0f4f6f3f84a048039a39e16c5a7301a0",
            "0460ffbd690f4833b550ea8add145f40",
            "e7abd40e35d64cabb8b4b824768185c1",
            "6d4f21f3ba0e4074a51ae51c9502c72f",
            "8cb038a4a1224fe780a4badd57bd3941",
            "e2ff7cab866a435282cd78c42c67252e",
            "f6b50426ed9e4c6a95204205aae55a95",
            "504543e6ec3d479fbd83ed21b0a2bc4d",
            "c7d08ae5192a45539e3f1a7c662781e4",
            "72ad62a196c541f795a43ea7ae87bbe6",
            "31ec458a55eb4464b3b62483cab2e25a",
            "94b3218a17844db09bd8ce2418617d42",
            "3fab798d744e4fd0b8d582cc37b129ea",
            "89c63e9a95994c7db4adfdef86f155bd",
            "ac21bcaf71f84ea992e1ab934f0c6a4f",
            "161d918c84a547b6b8bb7505620a22e9",
            "9d7ead7fd0404ff788d478013d9ef249",
            "e60196cf24f14306b1872d984f8edb3f",
            "0cbb005e8bf24d6998cc148c3e27b4a1",
            "6ef8894b6d374e7c82579e0277fb4b50",
            "1c66e7a2ac0e4aa2942bb36469aed4df",
            "a5abba73e1454ca6aa9e4719f25cb4d5",
            "428601c03e55468bbcfa784becadb2bc",
            "0718f6010ca84361910ad199f9505f8f",
            "fb3187e19e38451182ebde87683e0a5b",
            "e3b620c7d3b44f02912ebadc0994a20f"
          ]
        },
        "id": "TuluR02JqBto",
        "outputId": "287d4844-7459-4d07-8811-731da66edf23"
      },
      "execution_count": null,
      "outputs": [
        {
          "output_type": "stream",
          "name": "stderr",
          "text": [
            "/usr/local/lib/python3.11/dist-packages/huggingface_hub/utils/_auth.py:94: UserWarning: \n",
            "The secret `HF_TOKEN` does not exist in your Colab secrets.\n",
            "To authenticate with the Hugging Face Hub, create a token in your settings tab (https://huggingface.co/settings/tokens), set it as secret in your Google Colab and restart your session.\n",
            "You will be able to reuse this secret in all of your notebooks.\n",
            "Please note that authentication is recommended but still optional to access public models or datasets.\n",
            "  warnings.warn(\n"
          ]
        },
        {
          "output_type": "display_data",
          "data": {
            "text/plain": [
              "modules.json:   0%|          | 0.00/349 [00:00<?, ?B/s]"
            ],
            "application/vnd.jupyter.widget-view+json": {
              "version_major": 2,
              "version_minor": 0,
              "model_id": "1db6f51c2ae34607b45407ba574888a1"
            }
          },
          "metadata": {}
        },
        {
          "output_type": "display_data",
          "data": {
            "text/plain": [
              "config_sentence_transformers.json:   0%|          | 0.00/123 [00:00<?, ?B/s]"
            ],
            "application/vnd.jupyter.widget-view+json": {
              "version_major": 2,
              "version_minor": 0,
              "model_id": "ff1fdb70041046b8b5aef92feb7ad4ed"
            }
          },
          "metadata": {}
        },
        {
          "output_type": "display_data",
          "data": {
            "text/plain": [
              "README.md:   0%|          | 0.00/15.8k [00:00<?, ?B/s]"
            ],
            "application/vnd.jupyter.widget-view+json": {
              "version_major": 2,
              "version_minor": 0,
              "model_id": "7658aac329b24f35b2165fe2c7df4c73"
            }
          },
          "metadata": {}
        },
        {
          "output_type": "display_data",
          "data": {
            "text/plain": [
              "sentence_bert_config.json:   0%|          | 0.00/54.0 [00:00<?, ?B/s]"
            ],
            "application/vnd.jupyter.widget-view+json": {
              "version_major": 2,
              "version_minor": 0,
              "model_id": "f2c7334d31da437887f74ae656cd0e00"
            }
          },
          "metadata": {}
        },
        {
          "output_type": "display_data",
          "data": {
            "text/plain": [
              "config.json:   0%|          | 0.00/687 [00:00<?, ?B/s]"
            ],
            "application/vnd.jupyter.widget-view+json": {
              "version_major": 2,
              "version_minor": 0,
              "model_id": "cdb029ab25164e06b28be37cf0879d13"
            }
          },
          "metadata": {}
        },
        {
          "output_type": "display_data",
          "data": {
            "text/plain": [
              "pytorch_model.bin:   0%|          | 0.00/2.27G [00:00<?, ?B/s]"
            ],
            "application/vnd.jupyter.widget-view+json": {
              "version_major": 2,
              "version_minor": 0,
              "model_id": "9ed89d128b9645549e791f2b7ddbaf04"
            }
          },
          "metadata": {}
        },
        {
          "output_type": "display_data",
          "data": {
            "text/plain": [
              "tokenizer_config.json:   0%|          | 0.00/444 [00:00<?, ?B/s]"
            ],
            "application/vnd.jupyter.widget-view+json": {
              "version_major": 2,
              "version_minor": 0,
              "model_id": "81f7b4e7f3f54873bb6ab7781c4c4265"
            }
          },
          "metadata": {}
        },
        {
          "output_type": "display_data",
          "data": {
            "text/plain": [
              "sentencepiece.bpe.model:   0%|          | 0.00/5.07M [00:00<?, ?B/s]"
            ],
            "application/vnd.jupyter.widget-view+json": {
              "version_major": 2,
              "version_minor": 0,
              "model_id": "fdb09fd7101e4ea09ad1bf35904b7618"
            }
          },
          "metadata": {}
        },
        {
          "output_type": "display_data",
          "data": {
            "text/plain": [
              "model.safetensors:   0%|          | 0.00/2.27G [00:00<?, ?B/s]"
            ],
            "application/vnd.jupyter.widget-view+json": {
              "version_major": 2,
              "version_minor": 0,
              "model_id": "2d4a3856dab94e09aeaff27e40c5ec47"
            }
          },
          "metadata": {}
        },
        {
          "output_type": "display_data",
          "data": {
            "text/plain": [
              "tokenizer.json:   0%|          | 0.00/17.1M [00:00<?, ?B/s]"
            ],
            "application/vnd.jupyter.widget-view+json": {
              "version_major": 2,
              "version_minor": 0,
              "model_id": "a2e86e41cc234c10b304de1f925b07ce"
            }
          },
          "metadata": {}
        },
        {
          "output_type": "display_data",
          "data": {
            "text/plain": [
              "special_tokens_map.json:   0%|          | 0.00/964 [00:00<?, ?B/s]"
            ],
            "application/vnd.jupyter.widget-view+json": {
              "version_major": 2,
              "version_minor": 0,
              "model_id": "8cb038a4a1224fe780a4badd57bd3941"
            }
          },
          "metadata": {}
        },
        {
          "output_type": "display_data",
          "data": {
            "text/plain": [
              "config.json:   0%|          | 0.00/191 [00:00<?, ?B/s]"
            ],
            "application/vnd.jupyter.widget-view+json": {
              "version_major": 2,
              "version_minor": 0,
              "model_id": "161d918c84a547b6b8bb7505620a22e9"
            }
          },
          "metadata": {}
        }
      ]
    },
    {
      "cell_type": "code",
      "source": [
        "# 7. \uac80\uc99d \ub370\uc774\ud130 \ud3c9\uac00\uae30 \uc124\uc815\n",
        "# \uac80\uc99d \ub370\uc774\ud130\uc14b \uad6c\uc131\n",
        "val_dataset = {\n",
        "    'queries': {},\n",
        "    'corpus': {},\n",
        "    'relevant_docs': {}\n",
        "}\n",
        "\n",
        "# \ubb38\uc11c ID\ub97c \uba3c\uc800 \uc0dd\uc131\n",
        "doc_ids = {}\n",
        "for i, doc in enumerate(val_corpus):\n",
        "    doc_id = f\"d{i}\"\n",
        "    val_dataset['corpus'][doc_id] = doc\n",
        "    doc_ids[doc] = doc_id\n",
        "\n",
        "# \uc9c8\ubb38\uc5d0 ID \ubd80\uc5ec\ud558\uace0 \uad00\ub828 \ubb38\uc11c \uc124\uc815\n",
        "for i, (query, doc) in enumerate(zip(val_queries, val_positive_docs)):\n",
        "    query_id = f\"q{i}\"\n",
        "    val_dataset['queries'][query_id] = query\n",
        "\n",
        "    # \uc774 \uc9c8\ubb38\uc774 \uc5b4\ub5a4 \ubb38\uc11c\uc5d0\uc11c \uc654\ub294\uc9c0 \ucc3e\uae30\n",
        "    doc_id = doc_ids[doc]\n",
        "\n",
        "    # \uad00\ub828 \ubb38\uc11c \uc124\uc815\n",
        "    if query_id not in val_dataset['relevant_docs']:\n",
        "        val_dataset['relevant_docs'][query_id] = set()\n",
        "    val_dataset['relevant_docs'][query_id].add(doc_id)\n",
        "\n",
        "# \uac80\uc99d \ub370\uc774\ud130\uc14b \uc124\uc815: \ud3c9\uac00\ub97c \uc704\ud55c \ucffc\ub9ac, \ubb38\uc11c, \uc815\ub2f5 \ubb38\uc11c \ubaa9\ub85d\n",
        "dataset = val_dataset\n",
        "\n",
        "# \uac80\uc99d \ub370\uc774\ud130\uc14b\uc5d0\uc11c \ucf54\ud37c\uc2a4(\uc804\uccb4 \ubb38\uc11c), \ucffc\ub9ac, \uadf8\ub9ac\uace0 \uac01 \ucffc\ub9ac\uc640 \uad00\ub828\ub41c \ubb38\uc11c \uac00\uc838\uc624\uae30\n",
        "corpus = dataset['corpus']  # \uac80\uc0c9 \ub300\uc0c1 \ubb38\uc11c\n",
        "queries = dataset['queries']  # \uac80\uc0c9\uc5b4(\ucffc\ub9ac)\n",
        "relevant_docs = dataset['relevant_docs']  # \uac01 \ucffc\ub9ac\uc640 \uad00\ub828\ub41c \ubb38\uc11c (\ud3ec\uc9c0\ud2f0\ube0c)\n",
        "\n",
        "# Information Retrieval \ud3c9\uac00 \ub3c4\uad6c \uc124\uc815: \ucffc\ub9ac-\ubb38\uc11c \uac80\uc0c9 \uc131\ub2a5 \ud3c9\uac00\n",
        "evaluator = InformationRetrievalEvaluator(queries, corpus, relevant_docs)"
      ],
      "metadata": {
        "id": "ZzMZ0nUBrlhm"
      },
      "execution_count": null,
      "outputs": []
    },
    {
      "cell_type": "code",
      "source": [
        "dataset['corpus']"
      ],
      "metadata": {
        "colab": {
          "base_uri": "https://localhost:8080/"
        },
        "id": "g7t3aQuN1IMz",
        "outputId": "cd0213a0-3ac4-450f-bcf1-27968a0672c9"
      },
      "execution_count": null,
      "outputs": [
        {
          "output_type": "execute_result",
          "data": {
            "text/plain": [
              "{'d0': '\u2160 ICT\uad6d\uac00\uc0b0\uc5c5\ud604\ud669  4\\n(*) SUMMARY\\n1. \uad6d\uac00 \uac1c\ud669\\n2. ICT \uc815\ubd80\uae30\uad6c\\n3. ICT \uc8fc\uc694\uc815\ucc45\\n4. ICT \uc8fc\uc694\ubc95\ub839\ubc0f\uaddc\uc81c\\n5. ICT \uc8fc\uc694\uae30\uc5c5\\n6. \ud55c\uad6d \ud611\ub825 \ubc0f \uad6d\ub0b4\uae30\uc5c5 \uc9c4\ucd9c\uc0ac\ub840\\n\u2161 ICT\uc774\uc288Top 10  16\\n(*) SUMMARY\\n\u2460 \uc77c\ubcf8, \uc544\uc2dc\uc544\uc5d0\uc11c \ub450 \ubc88\uc9f8\ub85c \ud070 \ub370\uc774\ud130\uc13c\ud130 \ud5c8\ube0c\\n\u2461 \uc77c\ubcf8, \uc790\uccb4 \uac1c\ubc1c \uc18c\ud504\ud2b8\uc6e8\uc5b4\ub85c \uc0ac\uc774\ubc84\ubcf4\uc548 \uac15\ud654\\n\u2462 \uc77c\ubcf8, Web3 \uc0b0\uc5c5 \uc131\uc7a5 \ucd09\uc9c4 \ub3c4\ubaa8\\n\u2463 \uc77c\ubcf8, \uc815\ubd80 \ud589\uc815 \uc5c5\ubb34\uc5d0 \uc0dd\uc131\ud615 AI \ub3c4\uc785\\n\u2464 \uc77c\ubcf8, \uccab \uc790\uccb4 \uc81c\uc791 \uc591\uc790\ucef4\ud4e8\ud130 \uacf5\uac1c\\n\u2465 \uc77c\ubcf8, 6G \uae30\uc220 \uac15\ud654 \uc704\ud574 \ud611\ub825 \ubc0f \uaddc\uc81c \uc644\ud654\\n\u2466 \uc77c\ubcf8, \ub808\ubca8 4 \uc790\uc728\uc8fc\ud589 \ud5c8\uc6a9\\n\u2467 \uc77c\ubcf8, \uc0dd\uccb4\uc778\uc2dd \uacb0\uc81c \ub3c4\uc785 \uc99d\uac00\\n\u2468 \uc77c\ubcf8, \ud589\uc815 \uc11c\ube44\uc2a4 \ub514\uc9c0\ud138\ud654 \ub178\ub825\\n\u2469 \uc77c\ubcf8, \uc778\uc7ac \ubd80\uc871\uc73c\ub85c \ub514\uc9c0\ud138 \uc778\ub825 \uac15\ud654\uc5d0 \ud798\uc368\\n\u203b \ucc38\uace0\ubb38\ud5cc',\n",
              " 'd1': '\u2160 ICT \uad6d\uac00 \uc0b0\uc5c5 \ud604\ud669                   4\\n   (*) SUMMARY\\n   1. \uad6d\uac00 \uac1c\ud669\\n   2. ICT \uc815\ubd80\uae30\uad6c\\n   3. ICT \uc8fc\uc694 \uc815\ucc45\\n   4. ICT \uc8fc\uc694 \ubc95\ub839 \ubc0f \uaddc\uc81c\\n   5. ICT \uc8fc\uc694\uae30\uc5c5\\n   6. \ud55c\uad6d \ud611\ub825 \ubc0f \uad6d\ub0b4\uae30\uc5c5 \uc9c4\ucd9c\uc0ac\ub840',\n",
              " 'd2': '5 \u2160. ICT \uad6d\uac00 \uc0b0\uc5c5 \ud604\ud669\\n 1.\uad6d\uac00 \uac1c\ud669\\n \uc77c\ubcf8, \uae00\ub85c\ubc8c \ud601\uc2e0\uc9c0\uc218 \uc138\uacc4 40\uc704\\n\u2022 \uc77c\ubcf8\uc758 \uc778\ud130\ub137 \uc0ac\uc6a9\uc790 \ube44\uc911\uc740 82.9% \uc774\uba70 \uace0\uc815 \uad11\ub300\uc5ed \uac00\uc785\uc790 \ube44\uc911\uc740 36.0% \uc784\\n\u2022 \uc77c\ubcf8 \uae00\ub85c\ubc8c \ud601\uc2e0\uc9c0\uc218\ub294 \uc138\uacc4 13\uc704\uc784. \u2018\uc778\ud504\ub77c \u2019 \ubc0f \u2018\uc9c0\uc2dd \ubc0f \uae30\uc220 \uc0dd\uc0b0\u2019 \uc9c0\ud45c\uac00 \uc0c1\ub300\uc801\uc73c\ub85c \\n\uc6b0\uc704\uc5d0 \uc788\uc73c\uba70 , \u2018\ucc3d\uc870\uc801 \uc0dd\uc0b0\u2019\uc774 \uc0c1\ub300\uc801 \uc5f4\uc704\ub97c \ubcf4\uc784\\n \uae30\uc2dc\ub2e4 \ucd1d\ub9ac, \uacb0\uc81c \ud65c\uc131\ud654 \uc815\ucc45\uc5d0 \ucd08\uc810\\n\u2022 2023\ub144 \uc77c\ubcf8 \ubb3c\uac00\uc0c1\uc2b9\ub960\uc740 3.1%\ub85c 41\ub144\uc5d0 \ucd5c\ub300\ud3ed\uc744 \uae30\ub85d\ud568 . \uc77c\ubcf8\uc740\ud589\uc740 2023\ub144 12\uc6d4 \\n\uae08\uc735\uc815\ucc45\uacb0\uc815\ud68c\uc758\uc5d0\uc11c \ub2e8\uae30\uae08\ub9ac \ubaa9\ud45c\ub97c \u25b30.1%\ub85c \ub3d9\uacb0\ud558\uba74\uc11c \ub9c8\uc774\ub108\uc2a4 \uae08\ub9ac \uc885\ub8cc\ub97c \ubcf4\ub958\ud568\\n\u2022 \uc77c\ubcf8 \uae30\uc2dc\ub2e4 \ud6c4\ubbf8\uc624 (\u5cb8\u2f65\u2f42\u96c4 ) \ucd1d\ub9ac\ub294 \ud5a5\ud6c4 \uacbd\uc81c \ud65c\uc131\ud654\ub97c \uc704\ud55c \uc815\ucc45\uc5d0 \ucd08\uc810\uc744 \ub9de\ucd9c \uac83\uc784\uc744 \ubc1d\ud798. \\n\uadf8\uc911\uc5d0\uc11c\ub3c4 \uac10\uc138 \ub17c\uc758\uc5d0 \uc18d\ub3c4\ub97c \ub0b4\uace0 \uc788\uc74c\\n[\ud45c 1] \uc77c\ubcf8 ICT \uad6d\uac00 \uac1c\ud669\\n\uad6c\ubd84 \uae30\uc900\ub144\ub3c4 \ud55c\uad6d \uc77c\ubcf8\\n\uc77c\ubc18\uac1c\ud669\uc778\uad6c 2023 5,150 \ub9cc 5,000 \uba85 1\uc5b5 2,404 \ub9cc \uba85\\n\uba74\uc801(1,000ha) 2023 10,043 37,797\\n\uc5b8\uc5b4 2023 \ud55c\uad6d\uc5b4 \uc77c\ubcf8\uc5b4\\n\uc885\uad50 2023 \uae30\ub3c5\uad50 , \ubd88\uad50 \ub4f1 \ubd88\uad50, \uae30\ub3c5\uad50 \ub4f1\\n\uc815\ubd80\ud615\ud0dc / \uc758\ud68c\uc81c\ub3c4 2023 \ub300\ud1b5\ub839\uc81c / \ub2e8\uc6d0\uc81c \ub0b4\uac01\ucc45\uc784\uc81c / \uc591\uc6d0\uc81c\\n\uacbd\uc81c\ud604\ud669GDP 2023 1.70\uc870 \ub2ec\ub7ec 4.21\uc870 \ub2ec\ub7ec\\n\uacbd\uc81c \uc131\uc7a5\ub960 2023 1.31% 1.56%\\nS&P \uc2e0\uc6a9\ub4f1\uae09 2023 AA A\\nICT\ud604\ud669\uc774\ub3d9\uc804\ud654 \uac00\uc785\uc790 \uc218 2022 149\uba85(100\uba85\ub2f9) 170\uba85(100\uba85\ub2f9)\\n\uc774\ub3d9\ud1b5\uc2e0 \uac00\uc785\uc790 \uc218 2022 120\uba85(100\uba85\ub2f9) 234\uba85(100\uba85\ub2f9)\\n\uc720\uc120 \ube0c\ub85c\ub4dc\ubc34\ub4dc \uac00\uc785\uc790 \uc218 2022 45\uba85(100\uba85\ub2f9) 37\uba85(100\uba85\ub2f9)\\n\uc778\ud130\ub137 \uc0ac\uc6a9\uc790 \ube44\uc911 2022 97% 85%\\n\uae00\ub85c\ubc8c\\n\ud601\uc2e0\uc9c0\uc218\ucd1d\uc810 (\uc21c\uc704) 2023 58.6 (10) 54.6 (13)\\n\uc778\uc801\uc790\uc6d0 \ubc0f \uc5f0\uad6c 2023 66.9 (1) 53.8 (18)\\n\uc778\ud504\ub77c 2023 60.6 (11) 60.3 (13)\\n\uc9c0\uc2dd \ubc0f \uae30\uc220 \uc0dd\uc0b0 2023 53.3 (11) 51.1 (13)\\n\ucc3d\uc870\uc801 \uc0dd\uc0b0 2023 58.2 (5) 44.1 (25)\\n\ucd9c\ucc98 : World Bank, IMF, \uad6d\uc81c\uc804\uae30\ud1b5\uc2e0\uc5f0\ud569 (ITU), \uc138\uacc4\uc9c0\uc801\uc7ac\uc0b0\uad8c\uae30\uad6c (WIPO)',\n",
              " 'd3': '6 \u2160. ICT \uad6d\uac00 \uc0b0\uc5c5 \ud604\ud669\\n 2.ICT \uc815\ubd80\uae30\uad6c\\n  \u2460 \ucd1d\ubb34\uc131 (MIC)\\n \uc77c\ubcf8 \ucd1d\ubb34\uc131 (MIC)\\n\u2022 \uc77c\ubcf8 \ucd1d\ubb34\uc131 (Ministry of Internal Affairs and Communications) \uc740 \ud589\uc815, \uc9c0\ubc29\uc790\uce58 , \\n\uc815\ubcf4\ud1b5\uc2e0 , \uc6b0\uc815 \ubc0f \uc18c\ubc29\ubd84\uc57c\ub97c \ub2f4\ub2f9\ud558\ub294 \uc77c\ubcf8\uc758 \uc911\uc559\ud589\uc815\uae30\uad00\uc784 . ICT \uad00\ub828 \uc5ed\ud560\ub85c \u2460 \uc815\ubcf4\uc758 \\n\uc6d0\ud65c\ud55c \uc720\ud1b5 \ud655\ubcf4 \ubc0f \uc99d\uc9c4, \u2461 \uc804\ud30c\uc758 \uacf5\ud3c9\u00b7\ud6a8\uc728\uc801\uc778 \uc774\uc6a9\uc758 \ud655\ubcf4 \ubc0f \uc99d\uc9c4, \u2462 \uc815\ubcf4\ud1b5\uc2e0 \uc815\ucc45\uc758 \\n\uae30\ud68d\uacfc \uc785\uc548, \ucd94\uc9c4\uacfc \uc870\uc815, \u2463 ICT \uc778\ud504\ub77c \uc815\ube44 \ubc0f \ucd5c\uc2e0 \uc778\ud130\ub137 \ud658\uacbd \uad6c\ucd95, \u2464 \ubc29\uc1a1 \ubc0f \\n\uc815\ubcf4\uc720\ud1b5\uc744 \uc704\ud55c \uc720\ubb34\uc120 \uc774\uc124\uc758 \uc124\uce58 \ubc0f \uc0ac\uc6a9 \uaddc\uc81c, \ucd09\uc9c4 \ub4f1\uc744 \ub2f4\ub2f9\ud568\\n\u2022 \ucd5c\uadfc \uc77c\ubcf8 \ucd1d\ubb34\uc131\uc740 \ub85c\uceec 5G \uad6c\ud604\uc744 \uc704\ud55c \uac1c\uc815\ub41c \uac00\uc774\ub4dc\ub77c\uc778\uc744 \ubc1c\uac04\ud588\uc73c\uba70 \u2018\ud154\ub808\uc6cc\ud06c\ub97c \ud65c\uc6a9\ud55c \\n\uc9c0\uc5ed \uacfc\uc81c \ud574\uacb0 \uc0ac\ub840 \ucc3d\ucd9c\uc5d0 \uad00\ud55c \uc2e4\uc99d \uc0ac\uc5c5\u2019\uc744 \ucc44\ud0dd\ud568 . \ub610 2017\ub144\ubd80\ud130 \uc870\uc9c1\ub41c \uc0ac\uc774\ubc84\ubcf4\uc548 \\n\ud0dc\uc2a4\ud06c\ud3ec\uc2a4 \uc5f0\uad6c \uacb0\uacfc\ub97c \uae30\ubc18\uc73c\ub85c ICT \uc0ac\uc774\ubc84\ubcf4\uc548 \uc885\ud569\ub300\ucc45 2023 \ucd08\uc548\uc744 \ub9c8\ub828\ud568\\n[\ud45c 2] \uc77c\ubcf8 \ucd1d\ubb34\uc131 (MIC)\\n\uad6c\ubd84 \ub0b4\uc6a9\\n\uc8fc\uc694 \uc778\uc0ac\ub9c8\uce20\ubaa8\ud1a0 \uace0\uba54\uc774 \\u3000\\n(\u677e\u672c\\u3000\u525b\u660e)\\n\uc640\ud0c0\ub098\ubca0 \ud6a8\uc774\uce58\\n(\u6e21\u8fba\\u3000\u5b5d\u2f00)\\n\ucd1d\ubb34\ub300\uc2e0 \ucd1d\ubb34\ubd80\ub300\uc2e0\\n\uc8fc\uc694 \uc18c\uc2dd\ub85c\uceec 5G \uad6c\ud604\uc744 \uc704\ud55c \\n\uac1c\uc815\ub41c \uac00\uc774\ub4dc\ub77c\uc778 \ubc1c\uac04\u2023 \ub85c\uceec 5G \ub3c4\uc785 \ucd09\uc9c4\uc744 \uc704\ud55c \uc9c0\uce68 \uc81c\uc815\\n\u2023 \uc720\uc5f0\ud55c \uc6b4\uc601\uc744 \uc704\ud574 \uad6c\ud604 \uc9c0\uce68 \uac1c\uc815\\n\u2018\ud154\ub808\uc6cc\ud06c\ub97c \ud65c\uc6a9\ud55c \uc9c0\uc5ed \uacfc\uc81c \ud574\uacb0 \uc0ac\ub840 \\n\ucc3d\ucd9c\uc5d0 \uad00\ud55c \uc2e4\uc99d \uc0ac\uc5c5\u2019 \ucc44\ud0dd\u2023 \ucee8\uc18c\uc2dc\uc5c4\uc744 \ud1b5\ud574 24\ub144 3\uc6d4\uae4c\uc9c0 \uc2e4\uc2dc\\n\u2023 \uc9c0\ubc29 \uadfc\ubb34 \uad00\ub828 \ud154\ub808\uc6cc\ud06c \uc774\uc6a9 \uc0ac\ud68c \uc2e4\ud604 \\n\ubaa9\uc801\\nICT \uc0ac\uc774\ubc84\ubcf4\uc548 \uc885\ud569\ub300\ucc45 2023 \u2023 \ucd08\uc548 \uc758\uacac \uc218\ub834 \ubc0f \ud655\uc815 \ub300\ucc45 \ubc1c\ud45c\\n\u2023 \uc0ac\uc774\ubc84\ubcf4\uc548 \ubcf4\uc7a5 \ub300\ucc45 \ucd94\uc9c4 \uc608\uc815\\n\uc8fc\uc694\\n\uc0b0\ud558 \uc870\uc9c1\\n\ucd9c\ucc98 : \uc77c\ubcf8 \ucd1d\ubb34\uc131',\n",
              " 'd4': '7 \u2160. ICT \uad6d\uac00 \uc0b0\uc5c5 \ud604\ud669\\n 2.ICT \uc815\ubd80\uae30\uad6c\\n  \u2461 \ubb38\ubd80\uacfc\ud559\uc131 (MEXT)\\n \uc77c\ubcf8 \ubb38\ubd80\uacfc\ud559\uc131 (MEXT)\\n\u2022 \uc77c\ubcf8 \ubb38\ubd80\uacfc\ud559\uc131 (Ministry of Education, Culture, Sports, Science and Technology) \uc740 \\n\uad50\uc721, \ubb38\ud654, \uc2a4\ud3ec\uce20 \ubc0f \uacfc\ud559\uae30\uc220\uc758 \uc885\ud569\uc801\uc778 \uc9c4\ud765 \ub4f1\uc744 \ub2f4\ub2f9\ud558\ub294 \uc911\uc559\ud589\uc815\uae30\uad6c\uc784\\n\u2022 \ubb38\ubd80\uacfc\ud559\uc131\uc758 ICT \uad00\ub828 \uc5ed\ud560\uc740 \u2460 \uc815\ubd80\uc758 \uc5f0\uad6c \uac1c\ubc1c\uacc4\ud68d , \uc885\ud569\uacfc\ud559\uae30\uc220\ud68c\uc758\uc5d0 \uc758\ud55c \\n\uacfc\ud559\uae30\uc220\uac1c\ubc1c\uc758 \uc9d1\ud589, \u2461 \uacfc\ud559\uae30\uc220 \uae30\ubcf8\uc815\ucc45\uc758 \uae30\ud68d, \uc785\uc548, \ucd94\uc9c4\uacfc \uc870\uc815, \u2462 \uc815\ubcf4\ud1b5\uc2e0 \ubd84\uc57c \\n\uc5f0\uad6c\uac1c\ubc1c\uc758 \ucd94\uc9c4 \ubc0f \ud3c9\uac00, \u2463 \uacfc\ud559\uae30\uc220 \uc2dc\uc2a4\ud15c\uc758 \uac1c\ud601\uc744 \uc704\ud55c \ubc29\uc548\uc744 \ub9c8\ub828\ud560 \uc218 \uc788\ub294 \uad8c\ud55c \ubcf4\uc720 \\n\ub4f1\uc774 \uaf3d\ud798\\n\u2022 \ucd5c\uadfc \ubb38\ubd80\uacfc\ud559\uc131\uc740 \uad50\uc721 \ubd80\ubb38 DX(Data experience) \uc801\uc6a9\uc5d0 \uad00\uc2ec\uc744 \uac00\uc9c0\uba70 \u2018\uae30\uac00 \uc2a4\ucfe8(GIGA \\nSCHOOL) \uad50\ubb34 DX\u2019 \uacf5\ud45c, \uad50\uc721 \ub370\uc774\ud130 \ud65c\uc6a9\uc5d0 \uad00\ud55c \uc9c0\uc2dd\uc778 \ud68c\uc758 \uc9c4\ud589 \ub4f1\uc744 \ucd94\uc9c4\ud568 . \uc774 \uc678\uc5d0\ub3c4 \\n\uae30\uac00(GIGA) \ub2e8\ub9d0\uae30 \uac31\uc2e0\uc744 \uc704\ud574 \ub3c4\ub3c4\ubd80\ud604 (\u90fd\u9053\u5e9c \u770c)\uc5d0 2,643 \uc5b5 \uc5d4(\uc57d 2\uc870 4,042 \uc5b5 \uc6d0) \uaddc\ubaa8\uc758 \\n\uae30\uae08\uc744 \uc870\uc131\ud568\\n[\ud45c 3] \uc77c\ubcf8 \ubb38\ubd80\uacfc\ud559\uc131 (MEXT)\\n\uad6c\ubd84 \ub0b4\uc6a9\\n\uc8fc\uc694 \uc778\uc0ac\ubaa8\ub9ac\uc57c\ub9c8 \ub9c8\uc0ac\ud788\ud1a0\\n(\u76db\u2f2d\\u3000\u6b63\u4ec1)\\n\uc544\ubca0 \ud1a0\uc2dc\ucf54\\n(\u3042\u3079\\u3000\u4fca\u2f26)\\n\ubb38\ubd80\uacfc\ud559\ub300\uc2e0 \ubb38\ubd80\uacfc\ud559\ubd80\ub300\uc2e0\\n\uc8fc\uc694 \uc18c\uc2dd\uae30\uac00 \ub2e8\ub9d0 \uac31\uc2e0\uc5d0 \uae30\uae08 \uc870\uc131\u2023 \ub3c4\ub3c4\ubd80\ud604\uc5d0 2,643 \uc5b5 \uc5d4 \uae30\uae08 \uc870\uc131\\n\u2023 5\ub144\uc5d0 \uac78\uccd0 \ub2e8\ub9d0\uae30 \uac31\uc2e0 \ubc0f \uc608\ube44 \uae30\uae30\uc640 \\n\uc785\ucd9c\ub825 \uc9c0\uc6d0 \uc7a5\uce58\uc758 \uc815\ube44 \uc9c0\uc6d0\\n\u2018\uae30\uac00 \uc2a4\ucfe8(GIGA SCHOOL) \\n\uad50\ubb34 DX\u2019 \uacf5\ud45c\u2023 \uad50\uc9c1\uc6d0 \uadfc\ubb34 \uc6a9\uc774\uc131 \ubc0f \uad50\uc721 \uace0\ub3c4\ud654 \ubaa9\ud45c\\n\u2023 \ub808\uc774\uc640 \uc2dc\ub300 \uc77c\ubcf8 \uad50\uc721 \uae30\ubc18\uc73c\ub85c \uc9c0\uc9c0\\n \uad50\uc721 \ub370\uc774\ud130 \ud65c\uc6a9\uc5d0 \uad00\ud55c \uc9c0\uc2dd\uc778 \ud68c\uc758\u2023 \uad50\uc721 \ub370\uc774\ud130\uc758 \ud6a8\uacfc\uc801 \ud65c\uc6a9\uc5d0 \ub300\ud55c \\n\ud6a8\uacfc\uc801\uc778 \ubc29\ucc45 \uac80\ud1a0\\n\u2023 \uc720\ud29c\ube0c\ub97c \ud1b5\ud55c \ub77c\uc774\ube0c \uc804\ub2ec \ubc29\uc2dd \ucc44\ud0dd\\n\uc8fc\uc694\\n\uc0b0\ud558 \uc870\uc9c1\\n\ucd9c\ucc98 : \uc77c\ubcf8 \ubb38\ubd80\uacfc\ud559\uc131',\n",
              " 'd5': '8 \u2160. ICT \uad6d\uac00 \uc0b0\uc5c5 \ud604\ud669\\n 2.ICT \uc815\ubd80\uae30\uad6c\\n  \u2462 \uacbd\uc81c\uc0b0\uc5c5\uc131 (METI)\\n \uc77c\ubcf8 \uacbd\uc81c\uc0b0\uc5c5\uc131 (METI)\\n\u2022 \uc77c\ubcf8 \uacbd\uc81c\uc0b0\uc5c5\uc131 (Ministry of Economy, Trade and Industry) \uc740 \uacbd\uc81c\ud65c\ub825\uc744 \uc704\ud55c \uc815\ucc45 \uc218\ub9bd \\n\ubc0f \uc2e4\ud589\uacfc \uc0b0\uc5c5 \ubc0f \uae30\uc5c5\uc758 \uc721\uc131\uc744 \ub2f4\ub2f9\ud558\ub294 \ubd80\ucc98\uc784\\n\u2022 ICT \uacfc\ud559\uae30\uc220\uacfc \uad00\ub828\ud574\uc11c \uacbd\uc7c1\ub825 \uc788\ub294 \uc0b0\uc5c5 \ubc0f \uae30\uc5c5\uc758 \uc721\uc131 \ubc0f \uad00\ub9ac, \uad11\ubb3c \uc790\uc6d0 \ubc0f \uc5d0\ub108\uc9c0\uc758 \\n\uc548\uc815\uc801\uc778 \ud655\ubcf4\uc640 \ud6a8\uc728\uc801\uc778 \uc720\ud1b5\uad00\ub9ac , \uacbd\uc81c \ub3d9\ud5a5 \ubaa8\ub2c8\ud130\ub9c1 , \ubbfc\uad00 \ud611\ub825 \uc5f0\uad6c\uac1c\ubc1c\uc758 \ucd94\uc9c4 \ubc0f \ud3c9\uac00 \\n\ub4f1\uc758 \uc5c5\ubb34\ub97c \uc218\ud589\ud568\\n\u2022 \ucd5c\uadfc \uacbd\uc81c\uc0b0\uc5c5\uc131\uc740 \uc11c\ube44\uc2a4 \ub85c\ubd07\uc758 \uc548\uc804\ud55c \uc791\ub3d9\uc744 \uc704\ud55c \uad6d\uc81c \ud45c\uc900\uc744 \ubc1c\ud45c\ud588\uc73c\uba70 , EU EPA\uc640 \\n\u2018\ub370\uc774\ud130\uc758 \uc790\uc720\ub85c\uc6b4 \ud750\ub984\u2019 \uc870\ud56d\uc5d0 \ud569\uc758\ud588\uc73c\uba70 , \uad6d\ud1a0\ubd80\uc640 2021\ub144\ubd80\ud130 \ud611\uc5c5\ud55c \ud504\ub85c\uc81d\ud2b8\uc5d0 \ub530\ub77c \\n\uc77c\ubcf8 \ucd5c\ucd08\ub85c \ub808\ubca8 4 \uc790\uc728\uc8fc\ud589 \ubaa8\ube4c\ub9ac\ud2f0 \uc11c\ube44\uc2a4\ub97c \uc2dc\uc791\ud568\\n[\ud45c 4] \uc77c\ubcf8 \uacbd\uc81c\uc0b0\uc5c5\uc131 (METI)\\n\uad6c\ubd84 \ub0b4\uc6a9\\n\uc8fc\uc694 \uc778\uc0ac\uc0ac\uc774\ud1a0 \ucf04\\n(\u9f4b\u85e4\\u3000\u5065)\\n\uc774\uc640\ud0c0 \uce74\uc988\uce58\uce74\\n(\u5ca9\u2f65\\u3000\u548c\u89aa)\\n\uacbd\uc81c\uc0b0\uc5c5\ub300\uc2e0 \uacbd\uc81c\uc0b0\uc5c5\ubd80\ub300\uc2e0\\n\uc8fc\uc694 \uc18c\uc2dd\uc11c\ube44\uc2a4 \ub85c\ubd07\uc758 \uc548\uc804\ud55c \uc791\ub3d9\uc744 \uc704\ud55c \\n\uad6d\uc81c \ud45c\uc900 \ubc1c\ud45c\u2023 \uacbd\uc81c\uc0b0\uc5c5\uc131 \uc81c\uc548\uc744 \ud1a0\ub300\ub85c ISO\uc5d0\uc11c \ubc1c\ud45c\\n\u2023 \uc11c\ube44\uc2a4 \uc5c5\uacc4 \ub178\ub3d9\ub825 \ubd80\uc871 \ubb38\uc81c \uadf9\ubcf5 \ubaa9\uc801 \\n \uc77c\ubcf8-EU EPA, \\n\u2018\ub370\uc774\ud130\uc758 \uc790\uc720\ub85c\uc6b4 \ud750\ub984\u2019 \uc870\ud56d \ud569\uc758\u2023 \uc720\ub7fd \ubb34\uc5ed \uc704\uc6d0\uacfc \ub9cc\ub0a8 \uc9c4\ud589\\n\u2023 \ud611\uc815 \uac1c\uc815\uc548\uc758 \uc870\uae30 \uc11c\uba85\uc5d0 \ud544\uc694\ud55c \\n\uc808\ucc28\ub97c \uac00\uc18d\ud654 \ud558\ub294\ub370 \ub3d9\uc758 \\n\uc77c\ubcf8 \ucd5c\ucd08 \ub808\ubca8 4 \\n\uc790\uc728\uc8fc\ud589 \ubaa8\ube4c\ub9ac\ud2f0 \uc11c\ube44\uc2a4 \uc2dc\uc791\u2023 \uad6d\ud1a0\ubd80\uc640 2021\ub144\ubd80\ud130 \ud504\ub85c\uc81d\ud2b8 \uc9c4\ud589\\n\u2023 \ub3c4\ub85c\uad50\ud1b5\ucc28\ub7c9\ubc95\uc5d0 \ub530\ub77c \uc790\ub3d9\uc6b4\uc804 \\n\ucc28\ub7c9\uc73c\ub85c \uc2b9\uc778\\n\uc8fc\uc694\\n\uc0b0\ud558 \uc870\uc9c1\\n\ucd9c\ucc98 : \uc77c\ubcf8 \uacbd\uc81c\uc0b0\uc5c5\uc131',\n",
              " 'd6': '9 \u2160. ICT \uad6d\uac00 \uc0b0\uc5c5 \ud604\ud669\\n 2.ICT \uc815\ubd80\uae30\uad6c\\n \u2463 \ub514\uc9c0\ud138\uccad (\u30c7\u30b8\u30bf\u30eb \u5e81) \\n \uc77c\ubcf8 \ub514\uc9c0\ud138\uccad (T\u30c7\u30b8\u30bf\u30eb \u5e81)\\n\u2022 \ub514\uc9c0\ud138\uccad (Digital Agency) \uc740 2021\ub144 9\uc6d4 \ubc1c\uc871\ub418\uc5c8\uc73c\uba70 \ub514\uc9c0\ud138 \uc2dc\ub300\uc758 \ubbfc\uad00 \uc778\ud504\ub77c\ub97c \ub2e8\uae30\uac04\uc778 \\n\ud5a5\ud6c4 5\ub144 \uc774\ub0b4\uc5d0 \ub9cc\ub4e4\uc5b4\ub0b4\ub294 \uac83\uc744 \ubaa9\ud45c\ub85c \ud568. \ub0b4\uac01\ubd80 \uc9c1\uc18d\uc870\uc9c1\uc73c\ub85c \uc5ec\ub7ec \ubd80\ucc98\uc5d0\uc11c \ub2f4\ub2f9\ud558\ub358 \\n\ub514\uc9c0\ud138 \uad00\ub828 \uc5c5\ubb34\ub97c \uc77c\uc6d0\ud654\ud558\uace0 \uad6d\uac00, \uc9c0\uc790\uccb4 \ub4f1 \uc815\ubcf4\uc2dc\uc2a4\ud15c\uc744 \ucd1d\uad04\ud558\ub294 \ubd80\ucc98\ub85c \uc790\ub9ac\ub9e4\uae40\ud560 \\n\uc608\uc815\uc784\\n\u2022 \uc77c\ubcf8 \ub514\uc9c0\ud138\uccad\uc740 \ucd5c\uadfc \uc2a4\ub9c8\ud2b8\ud3f0\uc6a9 \uc804\uc790\uc99d\uba85\uc11c \ud0d1\uc7ac \uc11c\ube44\uc2a4 \ucd9c\uc2dc, \ub9c8\uc774\ub118\ubc84 \uce74\ub4dc \uc0ac\uc6a9\ubc95 \uacf5\uac1c, \\n\uc7ac\ud574 \uc608\ubc29 \ud658\uacbd \uc815\ube44 \ucd94\uc9c4 \ub4f1 \uc815\ucc45\uc744 \uc2e4\ud589\ud568\\n \\n[\ud45c 5] \uc77c\ubcf8 \ub514\uc9c0\ud138\uccad (\u30c7\u30b8\u30bf\u30eb \u5e81)\\n\uad6c\ubd84 \ub0b4\uc6a9\\n\uc8fc\uc694 \uc778\uc0ac\uace0\ub178 \ud0c0\ub85c\\n(\u6cb3\u91ce \u592a\u90ce)\\n\uc774\uc2dc\uce74\uc640 \uc1fc\ub9c8\uc0ac\\n(\u2f6f\u5ddd \u662d\u653f)\\n\ub514\uc9c0\ud138\ub300\uc2e0 \ub514\uc9c0\ud138\ubd80\ub300\uc2e0\\n\uc8fc\uc694 \uc18c\uc2dd\uc2a4\ub9c8\ud2b8\ud3f0\uc6a9 \uc804\uc790\uc99d\uba85\uc11c \ud0d1\uc7ac \uc11c\ube44\uc2a4\u2023 \ub9c8\uc774\ub118\ubc84 \uce74\ub4dc \uc18c\uc720\uc790\uac00 \ud0d1\uc7ac \uc2e0\uccad \uac00\ub2a5\\n\u2023 \uc2a4\ub9c8\ud2b8\ud3f0 \uc804\uc790\uc99d\uba85 \uc11c\ube44\uc2a4 \uc21c\ucc28\uc801 \ud655\ub300\\n\ub9c8\uc774\ub118\ubc84 \uce74\ub4dc \uc0ac\uc6a9\ubc95 \uacf5\uac1c\u2023 \ub77c\uc774\ud504 \uc2a4\ud14c\uc774\uc9c0 \ubcc4 \uc0ac\uc6a9 \ubc29\ubc95 \uc81c\uc2dc\\n\u2023 2024\ub144\ub3c4 \uc911 \ub9c8\uc774\ub118\ubc84 \uce74\ub4dc\uc640 \uc6b4\uc6a9 \\n\ub77c\uc774\uc120\uc2a4\ub97c \ud1b5\ud569\ud560 \uc608\uc815\\n\uc7ac\ud574 \uc608\ubc29 \ud658\uacbd \uc815\ube44 \ucd94\uc9c4\u2023 \uc7ac\ud574 \uc608\ubc29\uc744 \uc704\ud55c \ub370\uc774\ud130 \ud65c\uc6a9 \uac15\uc870\\n\u2023 \uc7ac\ub09c \uc608\ubc29 \uc544\ud0a4\ud14d\ucc98 \uc124\uacc4\uc640 \ub370\uc774\ud130 \uc5f0\uacc4 \\n\ud50c\ub7ab\ud3fc \uad6c\ucd95 \ubaa9\ud45c\\n\uc8fc\uc694\\n\uc0b0\ud558 \uc870\uc9c1\\n\ucd9c\ucc98 : \uc77c\ubcf8 \ub514\uc9c0\ud138\uccad \ud648\ud398\uc774\uc9c0',\n",
              " 'd7': '10 \u2160. ICT \uad6d\uac00 \uc0b0\uc5c5 \ud604\ud669\\n 3.ICT \uc8fc\uc694\uc815\ucc45\\n  \u2460 \uc0dd\uc131\ud615 AI \uc11c\ube44\uc2a4 \uc0ac\uc6a9\uc5d0 \uad00\ud55c \uc9c0\uce68 \\n \uc77c\ubcf8 \uac1c\uc778\uc815\ubcf4\uc704\uc6d0\ud68c , \uc0dd\uc131\ud615 AI \uc0ac\uc6a9 \uc9c0\uce68 \uacf5\uac1c\\n\u2022 2023\ub144 6\uc6d4 2\uc77c, \uc77c\ubcf8 \uac1c\uc778\uc815\ubcf4\ubcf4\ud638\uc704\uc6d0\ud68c\uac00 \u2018\uc0dd\uc131\ud615 AI \uc11c\ube44\uc2a4 \uc0ac\uc6a9\uc5d0 \uad00\ud55c \uc9c0\uce68\uc744 \ubc1c\ud45c\ud568\\n\u2022 \ud574\ub2f9 \uc9c0\uce68\uc740 \uad6c\uccb4\uc801\uc778 \ubc95 \uc704\ubc18\uc744 \uc9c0\uc801\ud558\uace0 \uc788\uc9c0\ub294 \uc54a\uc73c\ub098 , \uc0dd\uc131\ud615 AI \uc11c\ube44\uc2a4\ub97c \uc774\uc6a9 \ub610\ub294 \uae30\uacc4 \\n\ud559\uc2b5\uc744 \uc2e4\ud589\ud558\ub294 \uae30\uc5c5, \uc77c\ubc18 \uc0ac\uc6a9\uc790\uac00 \uc720\uc758\ud574\uc57c \ud560 \uc810\uc744 \uc0c1\uc138\ud558\uac8c \uc81c\uc2dc\ud568\\n\u2022 \ucc57GPT(ChatGPT) \uac1c\ubc1c \uae30\uc5c5 \uc624\ud508\uc5d0\uc774\uc544\uc774 (OpenAI) \uc5d0 \ub300\ud574\uc11c\ub294 \ubcc4\ub3c4\uc758 \uc9c0\uce68\uc774 \ud589\ud574\uc9c0\uace0 \uc788\uc5b4 \\n\uc774\uc640 \uad00\ub828\ub41c \uc790\ub8cc\ub3c4 \uacf5\uac1c\ub428\\n\u2022 \uac1c\uc778\uc815\ubcf4\uc704\uc6d0\ud68c\ub294 \uc9c0\uce68\uc744 \ud31c\ud50c\ub81b \ud615\uc2dd\uc73c\ub85c \uc815\ub9ac\ud558\uc5ec \uc6f9\uc0ac\uc774\ud2b8\uc5d0 \uacf5\uac1c\ud568 . \uc5ec\uae30\uc5d0\ub294 \uac1c\uc778\uc815\ubcf4 \ucde8\uae09 \\n\uc0ac\uc5c5\uc790 \ubc0f \ud589\uc815\uae30\uad00 \ub4f1\uc5d0\uc11c \uc785\ub825\ud558\ub294 \uc815\ubcf4\uac00 \uc0dd\uc131\ud615 AI \uc11c\ube44\uc2a4\uc758 \ud559\uc2b5\ub370\uc774\ud130\ub85c \uc774\uc6a9\ub418\ub294 \uacbd\uc6b0\uc5d0 \\n\uc720\uc758\ud574\uc57c \ud560 \uc810\ub4e4\uc744 \uc81c\uc2dc\ud568\\n- \uac1c\uc778\uc815\ubcf4\ub97c \ud3ec\ud568\ud55c \ub370\uc774\ud130\ub97c \uc81c3\uc790\uc5d0\uac8c \uc81c\uacf5\ud558\ub294 \uacbd\uc6b0 \ubcf8\uc778\uc758 \uc0ac\uc804 \ub3d9\uc758 \ud544\uc694\\n- \ubcf4\uc720\ud55c \uac1c\uc778\uc815\ubcf4\ub97c \uc774\uc6a9\u00b7\uc81c\uacf5\ud558\ub294 \uacbd\uc6b0\uc5d0\ub294 \ud2b9\uc815 \uc774\uc6a9 \ubaa9\uc801\uc5d0 \ud55c\uc815\\n[\ud45c 6] \u2018\uc0dd\uc131\ud615 AI \uc11c\ube44\uc2a4 \uc0ac\uc6a9\uc5d0 \uad00\ud55c \uc9c0\uce68\u2019 \uc8fc\uc694 \ub0b4\uc6a9\\n\uad6c\ubd84 \ub0b4\uc6a9\\n\uc774\uc6a9 \ubaa9\uc801 \ub0b4\uc5d0\uc11c\uc758 \\n\ud65c\uc6a9  \u25b6 \uac1c\uc778\uc815\ubcf4 \ucde8\uae09 \uc0ac\uc5c5\uc790\uac00 \uc0dd\uc131\ud615 AI \uc11c\ube44\uc2a4\uc5d0 \uac1c\uc778\uc815\ubcf4\ub97c \ud3ec\ud568\ud558\ub294 \ud504\ub86c\ud504\ud2b8\ub97c \uc785\ub825 \\n\uc2dc, \ud574\ub2f9 \uac1c\uc778\uc815\ubcf4 \uad00\ub828 \ud2b9\uc815 \uc774\uc6a9 \ubaa9\uc801\uc744 \ub2ec\uc131\ud558\ub294\ub370 \ud544\uc694\ud55c \ubc94\uc704 \ub0b4\uc5d0 \uc788\uc74c\uc744 \\n\ucda9\ubd84\ud788 \ud655\uc778 \ud544\uc694\\n\u25b6 \uc0dd\uc131 AI \uc11c\ube44\uc2a4\uc5d0 \uac1c\uc778\uc815\ubcf4\ub97c \ud3ec\ud568\ud55c \ud504\ub86c\ud504\ud2b8\ub97c \uc785\ub825\ud558\uc5ec \uac1c\uc778\uc815\ubcf4\ub85c\uc11c\uc758 \ub2f5\ubcc0\uc744 \\n\uc5bb\ub294 \uacbd\uc6b0, \uc774\uc6a9 \ubaa9\uc801\uc744 \ud2b9\uc815\ud560 \ud544\uc694\uac00 \uc874\uc7ac(\uac1c\uc778\uc815\ubcf4\ubcf4\ud638\ubc95 17\uc8701\ud56d)\\n\u25b6 \uac1c\uc778\uc815\ubcf4\ub97c \ud504\ub86c\ud504\ud2b8\ub85c \uc785\ub825\ud558\ub294 \ubaa9\uc801\uc774 \uc774\uc6a9 \ubaa9\uc801 \ubc94\uc704 \uc678\uc5d0 \uc788\uc744 \uacbd\uc6b0 \uac00\uba85 \uc815\ubcf4 \\n\uc81c\ub3c4\ub97c \uc774\uc6a9\ud558\uc5ec \uc774\uc6a9 \ubaa9\uc801 \ubcc0\uacbd \uace0\ub824\\n\uc0dd\uc131\ud615 AI \uc11c\ube44\uc2a4 \\n\uc81c\uacf5 \uc0ac\uc5c5\uc790\uac00 \uae30\uacc4 \\n\ud559\uc2b5\uc5d0 \uc774\uc6a9\ud558\uc9c0 \\n\uc54a\ub294 \uac83 \ud655\uc778\u25b6 \ub3d9\uc758\ub97c \uc5bb\uc740 \uac1c\uc778\uc815\ubcf4\ub97c \uc0dd\uc131\ud615 AI \uc11c\ube44\uc2a4\uc5d0 \uc785\ub825\ud558\uace0 , \ud504\ub86c\ud504\ud2b8\uc5d0 \ub300\ud55c \uc751\ub2f5 \uacb0\uacfc \\n\ucd9c\ub825 \uc774\uc678\uc758 \ubaa9\uc801\uc73c\ub85c \ucde8\uae09\ub418\ub294 \uacbd\uc6b0 \uac1c\uc778\uc815\ubcf4\ubcf4\ud638\ubc95 \uaddc\uc815 \uc704\ubc18 \uac00\ub2a5\uc131 \uc874\uc7ac\\n\u25b6 \uac1c\uc778\uc815\ubcf4 \ud504\ub86c\ud504\ud2b8\ub97c \uc785\ub825\ud558\ub294 \uacbd\uc6b0\uc5d0\ub294 \uc0dd\uc131\ud615 AI \uc11c\ube44\uc2a4\ub97c \uc81c\uacf5\ud558\ub294 \uc0ac\uc5c5\uc790\uac00 \uac1c\uc778 \\n\ub370\uc774\ud130\ub97c \uae30\uacc4 \ud559\uc2b5\uc5d0 \uc774\uc6a9\ud558\uc9c0 \uc54a\ub294 \uac83 \ub4f1 \ucda9\ubd84\ud788 \ud655\uc778 \ud544\uc694\\n\uae30\uacc4 \ud559\uc2b5\uc744 \uc801\uc6a9\ud560 \\n\uacbd\uc6b0\uc758 \uc81c\uc548 \u25b6 \uc0dd\uc131\ud615 AI \uc11c\ube44\uc2a4 \uc81c\uacf5 \uc0ac\uc5c5\uc790\uac00 \ubcf8\uc778\uc758 \ub3d9\uc758\ub97c \uc5bb\uc9c0 \uc54a\uc740 \ubbfc\uac10 \uc815\ubcf4\ub97c \ud68d\ub4dd\ud558\ub294 \uac83 \\n\uacbd\uace0\\n\u25b6 \uc608\uc678 \uc0ac\ud56d\uc744 \uc81c\uc678\ud558\uace0 , \uc778\ud130\ub137\uc744 \ud1b5\ud574 \ubbfc\uac10 \uc815\ubcf4\ub97c \ud68d\ub4dd\ud560 \uc2dc\uc5d0\ub3c4 \ubcf8\uc778\uc758 \ub3d9\uc758 \ud544\uc694\\n\u25b6 \uc0dd\uc169\ud615 AI \uc11c\ube44\uc2a4 \uc81c\uacf5\uc790\ub294 \uac1c\uc778\uc815\ubcf4 \uc0ac\uc6a9\uc758 \ubaa9\uc801\uc744 \uacf5\uc9c0\ud560 \ud544\uc694 \uc874\uc7ac \\n\ucd9c\ucc98 : ushijima-law',\n",
              " 'd8': '11 \u2160. ICT \uad6d\uac00 \uc0b0\uc5c5 \ud604\ud669\\n 3.ICT \uc8fc\uc694\uc815\ucc45\\n  \u2461 AI \ud559\uc2b5 \ub370\uc774\ud130 \uc81c\uacf5 \ucd09\uc9c4\uc744 \uc704\ud55c \uc561\uc158\ud50c\ub79c ver1.0\\n \uc77c\ubcf8 AI \ubaa8\ub378 \uc131\ub2a5 \ud5a5\uc0c1\uc744 \uc704\ud55c \uc561\uc158\ud50c\ub79c\\n\u2022 2023\ub144 11\uc6d4 \uc77c\ubcf8 \ub0b4\uac01\ubd80\ub294 AI \ubaa8\ub378 \uc131\ub2a5 \ud5a5\uc0c1\uc744 \uc704\ud574 \uc815\ubd80\uac00 \ubcf4\uc720\ud55c \uc548\uc804\uff65\uc548\uc2ec \ub370\uc774\ud130\ub97c AI \\n\uac1c\ubc1c\uc790\uc5d0\uac8c AI \ud559\uc2b5 \ub370\uc774\ud130\ub85c \uc81c\uacf5\ud558\uc5ec \uac1c\ubc1c\ud560 \uc218 \uc788\ub3c4\ub85d \uc561\uc158\ud50c\ub79c\uc744 \uacf5\uac1c\ud568\\n[\ud45c 7] \uc561\uc158\ud50c\ub79c\ubcc4 \ubaa9\ud45c \ubc0f \ub300\uc751 \\n1.\uc815\ubd80 \ub4f1\uc774 \ubcf4\uc720\ud55c \ub370\uc774\ud130\ub97c AI \ud559\uc2b5 \ub370\uc774\ud130\ub85c \uc81c\uacf5\ud558\ub294 \uac83\uc5d0 \uad00\ud55c \ud64d\ubcf4\\no \ubaa9\ud45c: \ub2e4\uc591\ud55c \uae30\ud68c\ub97c \uc774\uc6a9\ud558\uc5ec \uc815\ubd80 \ub4f1\uc774 \ubcf4\uc720\ud55c \ub370\uc774\ud130\uc758 AI \ud559\uc2b5 \ub370\uc774\ud130 \uc81c\uacf5 \ucd09\uc9c4\uc5d0 \ub300\ud574 \ud64d\ubcf4\ud558\uace0 , \uc77c\ubcf8\uc758 AI \\n\ubaa8\ub378 \uac1c\ubc1c\ub825 \uac15\ud654\uc5d0 \uae30\uc5ec\\no \ub178\ub825: - (\ub0b4\uac01\ubd80 , \ub514\uc9c0\ud138\uccad ) \uc815\ubd80\uc5d0 \ub4f1\ub85d\ub41c 2\ub9cc 2\ucc9c\uc5ec \uac1c\uc758 \ub370\uc774\ud130 \uc138\ud2b8 \ub4f1\uc744 \uc18c\uac1c\ud558\ub294 e-Gov \ub370\uc774\ud130 \ud3ec\ud138 \ub9c1\ud06c\ub97c AI \\n\uc804\ub7b5\ud68c\uc758 , AI \uc804\ub7b5\ud300 \ud648\ud398\uc774\uc9c0 \ub4f1\uc5d0 \uac8c\uc7ac \\n-\uc815\ubd80 \ub4f1\uc774 \ubcf4\uc720\ud55c \ub370\uc774\ud130\uc5d0 \ub300\ud574 e-Gov \ub370\uc774\ud130 \ud3ec\ud138\uc5d0 \ub4f1\ub85d\ud558\ub3c4\ub85d \uad00\uacc4 \ubd80\ucc98\uc5d0 \uc694\uccad\\n-AI \uad00\uacc4\uc790\uac00 \ubaa8\uc774\ub294 \ud589\uc0ac\uc5d0\uc11c e-Gov \ub370\uc774\ud130 \ud3ec\ud138, AI Japan \uc758 \ub370\uc774\ud130 \ud3ec\ud138, \ub0b4\uac01\ubd80 \ucee4\ubba4\ub2c8\ucf00\uc774\uc158 \ucc3d\uad6c \ud64d\ubcf4\\n-(\uad00\uacc4 \ubd80\ucc98 \ub4f1) \uad6d\ub9bd\uc5f0\uad6c\uac1c\ubc1c\ubc95\uc778\uc774 \uc774\uc6a9\uac00\ub2a5\ud55c \ub370\uc774\ud130 \uc911 \ub2e4\uc6b4\ub85c\ub4dc \uac00\ub2a5\ud55c URL \ubaa9\ub85d\ud654 , \uad6d\ub9bd\uc5f0\uad6c\uc18c \uc6f9\uc0ac\uc774\ud2b8\uc5d0 \uac8c\uc7ac\\n2.AI \uac1c\ubc1c\uc790\ub97c \uc704\ud55c \ucee4\ubba4\ub2c8\ucf00\uc774\uc158 \ucc3d\uad6c \ub9c8\ub828\\no \ubaa9\ud45c: AI \uac1c\ubc1c\uc790\ub4e4\uc758 AI \ud559\uc2b5 \ub370\uc774\ud130 \uad00\ub828 \uc0c1\ub2f4(\uc218\uc694) \uc811\uc218 \ubc0f \ub300\uc751, \uc0ac\uc5c5\uc790\uc758 \uc694\uad6c\uc0ac\ud56d \ub4f1\uc744 \ucde8\ud569\ud558\uc5ec \ud5a5\ud6c4 \uc815\ucc45 \\n\uac80\ud1a0\uc5d0 \uae30\uc5ec\\no \ub178\ub825: - (\ub0b4\uac01\ubd80 ) AI \uac1c\ubc1c\uc790\ub97c \uc704\ud574 \uc804\ubb38\uc131\uc774 \ub192\uc740 \uc9c1\uc6d0\uc73c\ub85c \uad6c\uc131\ub41c \ucee4\ubba4\ub2c8\ucf00\uc774\uc158 \ucc3d\uad6c\ub97c \ub0b4\uac01\ubd80\uc5d0 \uac1c\uc124, AI \ud559\uc2b5 \\n\ub370\uc774\ud130 \uc81c\uacf5 \ub4f1\uc744 \ud76c\ub9dd\ud558\ub294 \uc790\uc758 \uc0c1\ub2f4(\uc218\uc694) \ub4f1\uc744 \uc811\uc218\ud558\uace0 \uad00\uacc4 \ubd80\ucc98\uc640 \uc5f0\uacc4\ud558\uc5ec \ub300\uc751\\n-(\ub0b4\uac01\ubd80 , \uad00\uacc4\ubd80\ucc98 ) \uad00\uacc4\ubd80\ucc98 \ubc0f \uc720\uad00\uae30\uad00\uc5d0\ub3c4 \uc720\uc0ac\ud55c \ucc3d\uad6c \uac1c\uc124\uc744 \ucd09\uad6c\\n3.\uae30\uacc4 \ud310\ub3c5\uc774 \ubd88\uac00\ub2a5\ud55c \ub370\uc774\ud130 \ud615\uc2dd \ubcc0\ud658\\no \ubaa9\ud45c: AI \ud559\uc2b5\uc6a9 \ub370\uc774\ud130\ub85c \ud544\uc694\ud55c \ub370\uc774\ud130\uc5d0 \ub300\ud574 \uae30\uacc4 \ud310\ub3c5\uc774 \ubd88\uac00\ub2a5\ud55c PDF\ub098 JPEG \ud615\uc2dd \ub4f1\uc758 \ub370\uc774\ud130\ub97c \uae30\uacc4 \\n\ud310\ub3c5\uc774 \uac00\ub2a5\ud55c \ud14d\uc2a4\ud2b8\ub098 HTML \ud615\uc2dd\uc73c\ub85c \ubcc0\ud658\\no \ub178\ub825: - (\ub0b4\uac01\ubd80 , \ub514\uc9c0\ud138\uccad ) AI \uc804\ub7b5\ud300 \uc0b0\ud558\uc5d0 \ub370\uc774\ud130 PT \uc124\uce58, \uae30\uacc4\ud310\ub3c5 \uac00\ub2a5\ud55c \ud615\ud0dc\ub85c\uc758 \ub370\uc774\ud130 \uc804\ud658\uc744 \uc815\ubd80 \ucc28\uc6d0\uc73c\ub85c \\n\ub178\ub825\\n-(\ub370\uc774\ud130 PT, \uad6d\ub9bd\uc778\uc1c4\uad6d ) \ub0b4\uac01\ubd80 \uc0ac\uc5c5\uc73c\ub85c \uacf5\uac1c \ub370\uc774\ud130\ub97c \uae30\uacc4 \ud310\ub3c5 \uac00\ub2a5\ud55c \ud615\uc2dd\uc73c\ub85c \ubcc0\ud658\uc744 \uc2dc\ub3c4, \ub2e4\ub978 \ubd80\ucc98 \ub4f1\uc774 \\n\ud611\ub825\ud560 \uc218 \uc788\ub294 \uc0ac\ub840\uc640 \uad6c\uccb4\uc801\uc778 \ucd94\uc9c4 \ubc29\ubc95 \uac80\ud1a0\\n-\uc2dc\ubc94 \uacb0\uacfc\ub97c \uae30\ubc18\uc73c\ub85c \uc911\uc7a5\uae30\uc801\uc778 \ub370\uc774\ud130 \ud615\uc2dd \ubcc0\ud658\uc758 \ucd94\uc9c4 \ubc29\uc2dd, \uccb4\uc81c, \ube44\uc6a9 \ub4f1\uc758 \uaddc\uce59 \uac80\ud1a0 \ubc0f \uc0ac\uc5c5 \uccb4\uacc4 \uad6c\ucd95\\n-(\ub370\uc774\ud130 PT, \uad00\uacc4\ubd80\ucc98 ) \uae30\uacc4 \ud310\ub3c5\uc774 \ubd88\uac00\ub2a5\ud55c \ub370\uc774\ud130\ub97c \ubd84\ub958 \ubc0f \uc815\ub9ac\ud558\uc5ec \ubaa9\ub85d\ud654\\n4.\uc811\uadfc\uc774 \uc81c\ud55c\ub41c \ub370\uc774\ud130\ub97c \uc801\uaca9 \uc2e0\uccad\uc790\uc5d0\uac8c \uc2e0\uc18d\ud558\uac8c \uc81c\uacf5\\no \ubaa9\ud45c: AI \ud559\uc2b5 \ub370\uc774\ud130\ub85c \ud544\uc694\ud55c \ub370\uc774\ud130\uc5d0 \ub300\ud574 \uc811\uadfc \uc81c\ud55c \uc5ec\ubd80\ub97c \ud30c\uc545\ud558\uace0 , \uc811\uadfc\uac00\ub2a5\ud55c \uacbd\uc6b0 \uc801\uaca9 \uc2e0\uccad\uc790\uc5d0\uac8c \uc2e0\uc18d\ud558\uac8c \\n\uc81c\uacf5\\no \ub178\ub825: - (\ucd1d\ubb34\uc131 ) \uc2dc\ubc94\uc0ac\ub840\ub85c NICT\uac00 \ubcf4\uc720\ud558\uace0 \uc788\ub294 \uc77c\ubcf8\uc5b4 \ub370\uc774\ud130\uc5d0 \ub300\ud574 \uc5f0\ub0b4 \uacf5\ub3d9\uc5f0\uad6c \ud615\ud0dc\ub85c \uc81c\uacf5 \uac80\ud1a0 \uc911\\n-(\ub370\uc774\ud130 PT, \uad00\uacc4\ubd80\ucc98 ) AI \ud559\uc2b5 \ub370\uc774\ud130\ub85c\uc11c\uc758 \uc218\uc694 \ub370\uc774\ud130\uc5d0 \ub300\ud574 \uc811\uadfc \uac00\ub2a5 \uc5ec\ubd80\ub97c \uac80\ud1a0\\n-\uc811\uadfc\uc774 \uac00\ub2a5\ud55c \uacbd\uc6b0 \uc811\uadfc\uc5d0 \ud544\uc694\ud55c \uc870\uac74 \ubc0f \uc11c\ub958 \ub4f1\uc744 \uc218\ub9bd\ud558\uc5ec \uc801\uaca9 \uc2e0\uccad\uc790\uc5d0\uac8c \uc2e0\uc18d \uc81c\uacf5\\n5.\uc815\ubd80\ub3c4 AI \ud559\uc2b5 \uc2dc\ud589\\no \ubaa9\ud45c: \uc5c5\ubb34 \ud6a8\uc728\ud654 , \uc11c\ube44\uc2a4 \ud5a5\uc0c1, \ubcf4\ub2e4 \ucc3d\uc758\uc801\uc778 \uc5c5\ubb34\uc5d0 \ub300\ud55c \ub3c4\uc804(\uc815\ucc45\uc801 \ubb38\uc11c\uc548 \uc791\uc131 \ub4f1)\\no \ub178\ub825: - (\ub514\uc9c0\ud138\uccad ) \uc815\ubd80\ub3c4 \uacf5\uacf5\uae30\uad00\uc774 \ubcf4\uc720\ud55c \ub370\uc774\ud130 \ub4f1\uc744 \ud65c\uc6a9\ud574 AI \ud559\uc2b5 \uc2dc\ub3c4\\n-(\uad00\uacc4\ubd80\ucc98 ) \uc815\ubd80\uac00 \uad00\uc5ec\ud558\ub294 \ud504\ub85c\uc81d\ud2b8\ub098 \uc0ac\uc5c5\uc5d0\uc11c AI \ud559\uc2b5\uc744 \uc2e4\uc2dc\ud558\ub294 \uacbd\uc6b0, AI \ud559\uc2b5 \ub370\uc774\ud130 \uad00\ub828 \uacfc\uc81c\uc640 \uadf8 \ud574\uacb0 \ubc29\uc548 \\n\ub4f1\uc5d0 \uad00\ud55c \uc9c0\uc2dd \uc9d1\uc57d\\n\ucd9c\ucc98 : \uc77c\ubcf8 \ub0b4\uac01\ubd80',\n",
              " 'd9': '12 \u2160. ICT \uad6d\uac00 \uc0b0\uc5c5 \ud604\ud669\\n 3.ICT \uc8fc\uc694\uc815\ucc45\\n  \u2462 \ubc18\ub3c4\uccb4 \uff65\ub514\uc9c0\ud138 \uc0b0\uc5c5\uc804\ub7b5 \uac1c\uc815\uc548\\n \uace0\ub3c4\uc758 \ub514\uc9c0\ud138 \uc0ac\ud68c \uc2e4\ud604 \ubaa9\ud45c\\n\u2022 \uc77c\ubcf8 \uacbd\uc81c\uc0b0\uc5c5\uc131 (METI) \uc740 2023\ub144 5\uc6d4 \u2018\ubc18\ub3c4\uccb4 \uff65\ub514\uc9c0\ud138 \uc0b0\uc5c5\uc804\ub7b5 \u2019\uc744 \ubc1c\ud45c\ud568 . \ud574\ub2f9 \uc804\ub7b5\uc740 \ubc18\ub3c4\uccb4 , \\n\ub514\uc9c0\ud138 \uc778\ud504\ub77c , \ub514\uc9c0\ud138 \uc0b0\uc5c5\uc758 \ud5a5\ud6c4 \uc815\ucc45 \ubc29\ud5a5\uc744 \uac80\ud1a0\ud568\\n\u2022 2021\ub144 6\uc6d4 \ubc18\ub3c4\uccb4 \uff65\ub514\uc9c0\ud138 \uc0b0\uc5c5\uc804\ub7b5\uc744 \uacf5\ud45c\ud55c \uc9c0 2\ub144\uc774 \uacbd\uacfc \ub418\uc5c8\uc73c\uba70 , \ub7ec\uff65\uc6b0 \uc0ac\ud0dc\ub85c \uacbd\uc81c \\n\uc548\ubcf4\uc758 \uc911\uc694\uc131 \ubc0f \ub514\uc9c0\ud138\ud654 \uff65\ud658\uacbd \uad00\ub828 \ub300\uc751 \ud544\uc694\uc131 \uc99d\ub300\ub418\uba74\uc11c \ubc18\ub3c4\uccb4 \uff65\ub514\uc9c0\ud138 \uc0b0\uc5c5\uc804\ub7b5\uc744 \\n\uac1c\uc815\ud568\\n\u2022 \uc804\ub7b5\uc740 \ub514\uc9c0\ud138 \uae30\ubc18\uc744 \uad6c\ucd95\ud568\uc73c\ub85c\uc368 \uc800\ucd9c\uc0b0 \uff65\uace0\ub839\ud654 \uc0ac\ud68c\uc5d0\uc11c DX, GX\ub97c \ub2ec\uc131\ud558\ub294 \ub3d9\uc2dc\uc5d0 \\n\uc21c\ud658\uacbd\uc81c\uc0ac\ud68c , \ud68c\ubcf5 \ud0c4\ub825\uc131\uc774 \ub192\uc740 \uc0ac\ud68c\ub97c \uad6c\ucd95\ud558\uc5ec \uace0\ub3c4\uc758 \ub514\uc9c0\ud138 \uc0ac\ud68c \uc2e4\ud604\uc744 \ubaa9\ud45c\ub85c \ud568\\n\u2022 \ud574\ub2f9 \uc804\ub7b5\uc740 \uc885\ud569 \uc815\ucc45\uacfc \uac1c\ubcc4 \uc815\ucc45\uc73c\ub85c \ub098\ub268. \uc885\ud569 \uc815\ucc45\uc740 \u25b2\ubc18\ub3c4\uccb4 \uff65\uc774\ucc28\uc804\uc9c0 \ub4f1 \uae00\ub85c\ubc8c \uacf5\uae09\ub9dd \\n\uc548\uc815\ud654\ub97c \uc704\ud55c \ub300\uc751\ub825 \uac15\ud654, \u25b2\ucc28\uc138\ub300 \uae30\uc220 \uac1c\ubc1c \ubc0f \uc0c1\uc6a9\ud654\ub97c \uc704\ud55c \uc790\ubcf8 \uac15\ud654 \ubc29\uc548 \uc9c0\uc6d0 \uac80\ud1a0\uac00 \\n\uace0\uc548\ub428 . \uac1c\ubcc4\uc801\uc73c\ub85c\ub294 \u25b2\ubc18\ub3c4\uccb4 \ubd84\uc57c, \u25b2\uc815\ubcf4\ucc98\ub9ac \ubd84\uc57c, \u25b2\uace0\ub3c4 \uc815\ubcf4\ud1b5\uc2e0 \u00b7\uc778\ud504\ub77c , \u25b2\uc774\ucc28\uc804\uc2dc \\n\ubd84\uc57c\uc5d0 \ub300\ud55c \uc804\ub7b5\uc774 \uc81c\uc2dc\ub428\\n[\ud45c 8] \ubc18\ub3c4\uccb4 \uff65\ub514\uc9c0\ud138 \uc0b0\uc5c5\uc804\ub7b5 \uac1c\ubcc4 \uc804\ub7b5\\n\uad6c\ubd84 \ub0b4\uc6a9\\n\ubc18\ub3c4\uccb4 \ubd84\uc57c \u25b6 2030\ub144\uae4c\uc9c0 \uc77c\ubcf8 \ub0b4 \ubc18\ub3c4\uccb4 \uc0dd\uc0b0 \ub9e4\ucd9c\uc561 15\uc870\uc5d4 \uc774\uc0c1 \ub2ec\uc131\\n\uc815\ubcf4\ucc98\ub9ac \ubd84\uc57c\u25b6 \uc815\ubcf4\ucc98\ub9ac\uae30\ubc18 \uc815\ube44\ub97c \ud1b5\ud55c \uc0b0\uc5c5\uae30\ubc18 \uad6c\ucd95\\n- \uc81c\uc870 \ubc0f \uae08\uc735, \ud0c4\uc18c \uc911\ub9bd \ub4f1 \ub2e4\uc591\ud55c \ubd84\uc57c\uc758 \uace0\ub3c4\ud654\ub97c \uc704\ud55c \ud544\uc218 \uc778\ud504\ub77c\uc5d0 \ud574\ub2f9\\n- \uc0b0\uc5c5\uae30\ubc18 \uad6c\ucd95 \uc704\ud574 \uc0ac\uc6a9\uc790 \ubc0f \uc815\ubcf4\ucc98\ub9ac\uae30\ubc18 \uac1c\ubc1c \ucee4\ubba4\ub2c8\ud2f0\uc5d0\uc11c \ucd94\uc9c4\ud558\uace0\uc790 \ud558\ub294 \\n\ubaa9\ud45c\u00b7\ubc29\ud5a5\uc131\uc744 \uad6c\uccb4 \ubc0f \uacf5\uc720\ub97c \ud1b5\ud574 \ubd80\uc871\ud55c \uae30\uc220\uff65\ub178\ud558\uc6b0 \ub4f1 \ud574\uacb0\\n\u25b6 \uc0dd\uc131\ud615 \uc778\uacf5\uc9c0\ub2a5 \uc0b0\uc5c5\uc804\ub7b5\\n- \uc0dd\uc131\ud615 AI \uac1c\ubc1c\uff65\uc81c\uacf5\uff65\uc774\uc6a9\uacfc \uad00\ub828\ud55c \uc0ac\uc5c5\uc790\uc6a9 \uac00\uc774\ub4dc\ub77c\uc778 \uc815\ube44\\n- \uc0dd\uc131\ud615 AI \ud65c\uc6a9\uc744 \ud1b5\ud55c \uae30\uc5c5 DX \ubaa8\ubc94\uc0ac\ub840 \ubc1c\uad74\\n- \uc0dd\uc131\ud615 AI \ud65c\uc6a9 \uc778\uc7ac\uc721\uc131\ubc29\uc548 \uac80\ud1a0\\n\uace0\ub3c4 \uc815\ubcf4\ud1b5\uc2e0 \u00b7\uc778\ud504\ub77c \\n\ubd84\uc57c\u25b6 \ub514\uc9c0\ud138 \uc778\ud504\ub77c \uc815\ube44\\n- \ub3c4\ucfc4\uad8c\uff65\uc624\uc0ac\uce74\uad8c\uc744 \ubcf4\uc644\ud558\ub294 \ud64b\uce74\uc774\ub3c4 , \uaddc\uc288 \uc9c0\uc5ed \ub4f1 \uc81c3, 4\uc758 \ud575\uc2ec\uac70\uc810 \uc815\ube44\\n- \uc9c0\uc5ed\uc758 \ubd84\uc0b0\ud615 \ub370\uc774\ud130\uc13c\ud130 \uac74\uc124 \ub4f1 \ucef4\ud4e8\ud130 \uc790\uc6d0 \uc815\ube44\\n- \uace0\uc131\ub2a5 \ubc18\ub3c4\uccb4 \ub514\ubc14\uc774\uc2a4 \ud65c\uc6a9\uc744 \ud3ec\ud568\ud55c \uc77c\ubcf8 \ud1b5\uc2e0\uc2dc\uc2a4\ud15c\uc758 \uc5d0\ub108\uc9c0 \uc808\uc57d \uc131\ub2a5 \uac15\ud654 \ub4f1\uc744 \uc704\ud55c \\n\uad6d\uc81c\uacbd\uc7c1\ub825 \uac15\ud654 \ud544\uc694\\n\uc774\ucc28\uc804\uc9c0 \ubd84\uc57c\u25b6 2030\ub144\uae4c\uc9c0 \uc81c\uc870 \ub2a5\ub825\uc744 \ud655\ub9bd\ud558\uc5ec \uac1c\ubc1c\uff65\uc0dd\uc0b0\uc744 \uc120\ub3c4\ud558\ub294 \uc138\uacc4 \uac70\uc810 \uad6c\ucd95 \uc2e4\ud604\\n- (\uac1c\ubc1c\uff65\uc0dd\uc0b0 \uac70\uc810) \ubc30\ud130\ub9ac \ubc0f \uc790\ub3d9\ucc28 \uc5c5\uccb4\uc758 \uc774\ucc28\uc804\uc9c0 \uc591\uc0b0 \uacc4\ud68d\uacfc \uc18c\uc7ac \ubc0f \uc81c\uc870\uc7a5\uce58\uc758 \uc9d1\uc801\ud654 \\n\ucd94\uc9c4 \uc911\\n- (\uc778\uc7ac\uc721\uc131 \uac70\uc810) \uac04\uc0ac\uc774 \uc778\uc7ac\uc721\uc131 \ub4f1 \ucee8\uc18c\uc2dc\uc5c4 \ubc0f \uc0b0\uc5c5\uc885\ud569\uc5f0\uad6c\uc18c \uac04\uc0ac\uc774 \uc13c\ud130\ub97c \uc911\uc2ec\uc73c\ub85c \ud55c \\n\uc0b0\ud559\uad00 \ud611\ub825 \ucd94\uc9c4 \uc911\\n\ucd9c\ucc98 : \uc77c\ubcf8 \uacbd\uc81c\uc0b0\uc5c5\uc131',\n",
              " 'd10': '13 \u2160. ICT \uad6d\uac00 \uc0b0\uc5c5 \ud604\ud669\\n 4.ICT \uc8fc\uc694\ubc95\ub839 \ubc0f \uaddc\uc81c\\n  \u2460 \uc0b0\uc5c5\uacbd\uc7c1\ub825 \uac15\ud654\ubc95 (\uac1c\uc815)\\n \uc790\uad6d \uc0b0\uc5c5 \uad00\ub828 \ud22c\uc790 \uac15\ud654 \uc815\ucc45\\n\u2022 \uc77c\ubcf8 \uacbd\uc81c\uc0b0\uc5c5\uc131 (METI) \uc740 2023\ub144 12\uc6d4 \uc0b0\uc5c5\uacbd\uc7c1\ub825 \uac15\ud654\ubc95 \uac1c\uc815\uc5d0 \ub300\ud574 \ub17c\uc758\ud55c \uc790\ub8cc\ub97c \ubc1c\ud45c\ud568 . \\n\uc0b0\uc5c5\uacbd\uc7c1\ub825 \uac15\ud654\ubc95 \uac1c\uc815 \ubc29\ud5a5\uc5d0 \ub300\ud55c \uc815\ucc45\uc801 \uc9c0\uc6d0 \ubc29\uc548\uc740 \uc774\ud558\uc640 \uac19\uc74c\\n1) \uad6d\ub0b4 \ud22c\uc790 \ucd09\uc9c4\\n\u2460 \uc804\ub7b5 \ubd84\uc57c \uad6d\ub0b4 \uc0dd\uc0b0 \ucd09\uc9c4\\n-\uc815\ucc45 \ubd84\uc57c \uc911 \uad6d\uac00\uc801\uc73c\ub85c \uc7a5\uae30 \ud22c\uc790\uac00 \ud544\uc218\uc801\uc778 \ud22c\uc790 \ubd84\uc57c\ub97c \uc120\uc815\u00b7\uc9d1\uc911 \uc9c0\uc6d0\ud558\ub294 \ubc29\uc548 \uac80\ud1a0\\n-\uae30\ubc18 \uac15\ud654 \uc81c\ud488\uc758 \uc0dd\uc0b0\u00b7\ud310\ub9e4\uc5d0 \ub300\ud55c \ud22c\uc790\uc138\uc561\uac10\uba74 \uc870\uce58 \ubc29\uc548 \ub9c8\ub828 \uac80\ud1a0\\n-5\uac00\uc9c0 \uc804\ub7b5 \ubd84\uc57c\ub85c\ub294 \u25b2\ubc18\ub3c4\uccb4 , \u25b2\uc804\ub3d9\ucc28 , \u25b2\uadf8\ub9b0 \uc2a4\ud2f8, \u25b2\uadf8\ub9b0 \ucf00\ubbf8\uce7c , \u25b2SAF\uac00 \uc120\uc815\\n\u2461 \uc774\ub178\ubca0\uc774\uc158 \uac70\uc810 \uc138\uc81c(\uc774\ub178\ubca0\uc774\uc158 \ubc15\uc2a4 \uc138\uc81c)\\n-\uc77c\ubcf8\uc5d0\uc11c \uc2a4\uc2a4\ub85c \uc5f0\uad6c \uac1c\ubc1c\ud55c \ud2b9\ud5c8\uad8c \ub4f1 \uc9c0\uc2dd\uc7ac\uc0b0\uc5d0\uc11c \ubc1c\uc0dd\ud558\ub294 \uc18c\ub4dd\uc5d0 \ub300\ud574 \uc6b0\ub300\ud558\ub294 \\n\uc774\ub178\ubca0\uc774\uc158 \uac70\uc810 \uc138\uc81c \uc2e0\uc124 \uac80\ud1a0\\n-\uc9c0\uc2dd\uc7ac\uc0b0\uc758 \ub77c\uc774\uc120\uc2a4 \ubc0f \uc591\ub3c4\uc5d0 \uc758\ud55c \uc624\ud508 \uc774\ub178\ubca0\uc774\uc158 \ub4f1 \uae30\uc5c5\uc774 \uac1c\ubc1c\ud55c \uc9c0\uc2dd\uc7ac\uc0b0\uc758 \uc0ac\uc5c5\ud654\uc5d0\ub3c4 \\n\uc778\uc13c\ud2f0\ube0c\ub97c \ubd80\uc5ec\ud558\ub294 \ubc29\uc548 \uac80\ud1a0\\n-\uc0dd\uc131\ud615 AI \ub4f1 \uc18c\ud504\ud2b8\uc6e8\uc5b4\uc758 \uc800\uc791\uad8c\ub3c4 \ub300\uc0c1\uc5d0 \ud3ec\ud568\ud558\ub294 \ubc29\uc548 \uac80\ud1a0\\n2) \ud601\uc2e0 \ubc0f \ud22c\uc790 \ub300\uc0c1 \uc0ac\uc5c5 \ud655\ub300\\n\u2460 LPS \ud22c\uc790 \ub300\uc0c1 \uc0ac\uc5c5 \ud655\ub300\\n-LPS \ud22c\uc790 \ub300\uc0c1 \uc0ac\uc5c5\uc5d0 \uc554\ud638\uc790\uc0b0 \ucde8\ub4dd \ub4f1 \ucd94\uac00. \uc6f9 3.0(Web3.0) \uad00\ub828 \uc0ac\uc5c5\uc744 \uc2e4\uc2dc\ud558\ub294 \\n\uc2a4\ud0c0\ud2b8\uc5c5\uc758 \uc790\uae08\uc870\ub2ec \ubc29\uc548 \uac80\ud1a0\\n-LPS\uc758 \ud574\uc678 \ud22c\uc790 \uc0c1\ud55c \uaddc\uc81c \ucca0\ud3d0. \ud574\uc678 \ud22c\uc790\uc790\ub85c\ubd80\ud130\uc758 \uc790\uae08 \uc720\uc785 \ubc0f \ud574\uc678 \uc9c4\ucd9c \uc2a4\ud0c0\ud2b8\uc5c5\uc758 \\n\uc131\uc7a5\uc744 \ucd09\uc9c4\ud558\ub294 \ubc29\uc548 \uac80\ud1a0\\n\u2461 \ud2b9\uc815 \uc2e0\uc218\uc694 \uac1c\ucc99\uc0ac\uc5c5 \uacc4\ud68d \uc778\uc815\uc81c\ub3c4 \uc2e0\uc124\\n-\uae30\uc5c5 \ubc0f \ub300\ud559 \ub4f1 \uc5f0\uad6c\uae30\uad00\uc774 \uacf5\ub3d9\uc73c\ub85c \uc2e4\uc2dc\ud558\ub294 \uc5f0\uad6c\uac1c\ubc1c\uc5d0 \ub300\ud574 \ud45c\uc900\ud654\uc640 \uc9c0\uc2dd\uc7ac\uc0b0\uc744 \\n\uc720\uae30\uc801\uc73c\ub85c \ud65c\uc6a9\ud558\ub294 \uc624\ud508 \uc564 \ud074\ub85c\uc988 (Open & Close) \uc804\ub7b5 \uc218\ub9bd \ud65c\ub3d9 \ucd09\uc9c4 \uc704\ud55c \uacc4\ud68d\uc548\uc815\uc81c\ub3c4 \\n\uc2e0\uc124\\n\u2022 \ud55c\ud3b8 2023\ub144 12\uc6d4 \uc0b0\uc5c5\uad6c\uc870\uc2ec\uc758\ud68c\ub294 \uc2a4\ud0c0\ud2b8\uc5c5\uc774 \ud22c\uc790 \ud380\ub4dc\ub85c\ubd80\ud130 \ucd9c\uc790\ub97c \ubc1b\uc744 \ub54c \uc8fc\uc2dd \ub4f1\uc774 \\n\uc544\ub2c8\ub77c \uc554\ud638\uc790\uc0b0\uc744 \uc804\ub2ec\ud560 \uc218 \uc788\ub3c4\ub85d \ud558\ub294 \uaddc\uc81c \uc644\ud654 \uc815\ucc45\uc744 \uc81c\uc548\ud568 . \uc774\ub294 \uc2a4\ud0c0\ud2b8\uc5c5\uc5d0 \ub300\ud55c \ud574\uc678 \\n\ud22c\uc790\ub97c \uc7a5\ub824\ud558\uae30 \uc704\ud55c \ubc29\uc548\uc784',\n",
              " 'd11': '14 \u2160. ICT \uad6d\uac00 \uc0b0\uc5c5 \ud604\ud669\\n 4.ICT \uc8fc\uc694\ubc95\ub839 \ubc0f \uaddc\uc81c\\n  \u2461 \ucca8\ub2e8 \ubc18\ub3c4\uccb4 \uc81c\uc870 \uc7a5\ube44 \uc218\ucd9c \uaddc\uc81c\\n \ub300\uc911\uad6d \ubc18\ub3c4\uccb4 \uc7a5\ube44 \uc218\ucd9c \uc81c\ud55c \uc815\ucc45\\n\u2022 \uc77c\ubcf8 \uc815\ubd80\ub294 2023\ub144 3\uc6d4, \ubc18\ub3c4\uccb4 \uc81c\uc870 \uc7a5\ube44 23\uac1c \ud488\ubaa9\uc5d0 \ub300\ud55c \uc218\ucd9c\uc744 \uc81c\ud55c\ud568 . \uc218\ucd9c \uc81c\ud55c\uc5d0 \\n\ud3ec\ud568\ub418\ub294 \ud488\ubaa9\uc740 \ubc18\ub3c4\uccb4 \uc138\uc815 \uc7a5\ube44, \ubc15\ub9c9\uc99d\ucc29 \uc7a5\ube44, \uc5f4\ucc98\ub9ac \ub4f1 \uce69 \uc81c\uc870\uc6a9 \ud488\ubaa9\uc774 \ud3ec\ud568\ub428 . \ub610 \\n\uadf9\uc790\uc678\uc120 (EUV) \uad00\ub828 \uc81c\ud488 \uc81c\uc870 \uc7a5\ube44\uc640 \uba54\ubaa8\ub9ac \uc18c\uc790\uc758 3\ucc28\uc6d0 \uc801\uce35\uc744 \uc704\ud55c \uc2dc\uac01 \uc7a5\ube44\ub3c4 \ud3ec\ud568\ub428 \\n\ubaa8\ub450 10~14nm \uc774\ud558 \uc120\ud3ed\uc744 \uac00\uc9c4 \ucca8\ub2e8 \uc81c\ud488\uc744 \uc81c\uc870\ud558\ub294 \ub370 \ud544\uc694\ud55c \uc7a5\ube44\ub4e4\uc784\\n\u2022 \ud574\ub2f9 \uc870\uce58\ub294 2022\ub144 10\uc6d4 \ubbf8\uad6d\uc758 \ub300\uc911\uad6d \ubc18\ub3c4\uccb4 \uc7a5\ube44 \uc218\ucd9c \uaddc\uc81c\uc5d0 \ub300\ud55c \ud6c4\uc18d \uc870\uce58\uc784 . \uc77c\ubcf8\uc758 \\n\uc218\ucd9c \uaddc\uc81c\ub294 \ud2b9\uc815 \uad6d\uac00\ub97c \uba85\uc2dc\ud558\uc9c0 \uc54a\uc558\uc73c\ub098 23\uac1c \ud488\ubaa9\uc5d0 \ub300\ud574\uc120 \ud55c\uad6d, \ubbf8\uad6d \ub4f1 \uc6b0\ud638\uc801\uc778 42\uac1c \\n\uad6d\uac00\uc640 \uc9c0\uc5ed\uc744 \uc81c\uc678\ud55c \ub098\uba38\uc9c0 \uc9c0\uc5ed \uc218\ucd9c \uc2dc \uc77c\ubcf8 \uae30\uc5c5\ub4e4\uc740 \uac74\ubcc4\ub85c \uacbd\uc81c\uc0b0\uc5c5\uc131 (METI) \uc758 \ud5c8\uac00\ub97c \\n\ubc1b\ub3c4\ub85d \ud558\uc5ec \uc0ac\uc2e4\uc0c1 \uc911\uad6d\uc5d0 \ub300\ud55c \uc218\ucd9c\uc774 \ubd88\uac00\ub2a5\ud558\uac8c \ub428\\n \u2022 \uc77c\ubcf8\uc740 \uc138\uacc4 \ubc18\ub3c4\uccb4 \uc2dc\uc7a5 \uc7a5\ube44 \uc81c\uc870 \ubd84\uc57c\uc5d0\uc11c \ubbf8\uad6d, \ub124\ub35c\ub780\ub4dc\uc640 \ud568\uaed8 \ucd5c\uace0\uc758 \uacbd\uc7c1\ub825\uc744 \uac00\uc9c0\uace0 \\n\uc788\uc74c. \uc911\uad6d\uc740 \ud574\ub2f9 \ubd84\uc57c\uc5d0\uc11c \uc790\ub9bd\ud560 \uae30\uc220\ub825\uc744 \uc544\uc9c1 \uc5bb\uc9c0 \ubabb\ud558\uace0 \uc788\uc5b4 \uc790\ub9bd\uc744 \uc704\ud574 \ub9c9\ub300\ud55c \ud22c\uc790\ub97c \\n\uc9c4\ud589\ud558\uace0 \uc788\ub294 \uc0c1\ud0dc\uc784\\n \u2022 \uc77c\ubcf8\uc758 \uc218\ucd9c \uaddc\uc81c\uc640 \uad00\ub828\ud558\uc5ec \uc911\uad6d \uc0c1\ubb34\ubd80\ub294 \uc77c\ubcf8 \uc815\ubd80\uc758 \uc870\uce58\ub294 \uc218\ucd9c \ud1b5\uc81c \uc870\uce58\uc758 \ub0a8\uc6a9\uc774\uc790 \\n\uc790\uc720\ubb34\uc5ed\uacfc \uad6d\uc81c \uacbd\uc81c\u00b7\ubb34\uc5ed \uaddc\uce59\uc744 \uc2ec\uac01\ud558\uac8c \uc704\ubc30\ud558\ub294 \uac83\uc73c\ub85c , \uc774\uc5d0 \ub300\ud574 \ubc18\ub300\ud558\ub294 \uc785\uc7a5\uc744 \\n\ubc1c\ud45c\ud558\uba70 \uc989\uc2dc \uc2dc\uc815\uc744 \uc694\uad6c\ud568\\n[\ud45c 9] \uc77c\ubcf8 \ub300\ud45c EUV \uc5c5\uccb4\\n\uae30\uc5c5 \uc8fc\uc694 \uc81c\ud488/\uc11c\ube44\uc2a4 \uc2dc\uc7a5 \uc785\uc9c0\\n\ub3c4\ucfc4\uc77c\ub809\ud2b8\ub860\\n(Tokyo Electron)\ucf54\ud130/\uac1c\ubc1c\uc790\ub97c \uc704\ud55c EUV \uae30\uc220 \ub300\ub7c9 \uc0dd\uc0b0 \ub3c4\uad6c \uc2dc\uc7a5\uc5d0 \uc911\uc694 \uc785\uc9c0 \ucc28\uc9c0\\n\ub808\uc774\uc800\ud14d\\n(Lasertec)\uac80\uc0ac \uc7a5\ube44 EUV \uac1c\ubc1c\ub85c \uc774\uc775 \ud68d\ub4dd\\n\ub204\ud50c\ub808\uc5b4 \ud14c\ud06c\ub180\ub85c\uc9c0\\n(NuFlare Technology)\uad11\ud310 \ucd94\uc801\uc6a9 \uc804\uc790\ube54 \uc7a5\uce58 JEOL \uacfc IMS\uc758 \uc81c\ud734\ub85c \uacbd\uc7c1\\n\uae30\uac00\ud3ec\ud1a4\\n(Gigaphoton)\ub178\uad11\uae30\uc6a9 \uad11\uc6d0 \uc2dc\uc7a5\uc810\uc720\uc728 \ud68c\ubcf5 \uc704\ud574 \uc7ac\uae30 \ub178\ub825\\n\ucd9c\ucc98 : displaydaily',\n",
              " 'd12': '15 \u2160. ICT \uad6d\uac00 \uc0b0\uc5c5 \ud604\ud669\\n 5.ICT \uc8fc\uc694\uae30\uc5c5\\n \uc77c\ubcf8 ICT \uad00\ub828 \uae30\uc5c5 1\uc704, \ub3c4\uc694\ud0c0\\n\u2022 \uc77c\ubcf8\uc758 \ub300\ud45c\uc801 \uc790\ub3d9\ucc28 \uae30\uc5c5 \ub3c4\uc694\ud0c0 (Toyota) \uc758 \ub9e4\ucd9c\uc561\uc740 2,966 \uc5b5 1,000 \ub9cc \ub2ec\ub7ec(\uc57d 395\uc870 845\uc5b5 \\n\uc6d0)\ub85c \uc77c\ubcf8 ICT \uad00\ub828 \uae30\uc5c5 \uc911 1\uc704\ub97c \ucc28\uc9c0\ud568\\n\u2022 \uc804\uc790 \uc7a5\ube44 \uae30\uc5c5 \ubbf8\uc4f0\ube44\uc2dc (Mitsubishi Corporation) \uc640 \uc790\ub3d9\ucc28 \uae30\uc5c5 \ud63c\ub2e4(Honda) \uac00 \uac01\uac01 2, 3\uc704\\n\ub97c \ucc28\uc9c0\ud568\\n \uc77c\ubcf8 \uc804\ud1b5 \uae30\uc5c5\ub4e4 \uac15\uc138\\n\u2022 \uc77c\ubcf8\uc740 \uc124\ub9bd\ub41c \uc9c0 100\ub144 \uac00\uae4c\uc774 \ub41c \uc804\ud1b5 \uae30\uc5c5\ub4e4\uc774 \uc5ec\uc804\ud788 \uac15\uc138\ub97c \ubcf4\uc774\uace0 \uc788\uc74c. \ud788\ud0c0\uce58 (Hitachi),  \\n\ubbf8\uc4f0\ube44\uc2dc \uc804\uae30(Mitsubishi Electric) \ub4f1 \uae30\uc5c5\uc740 1920\ub144\ub300\uc5d0 \uc124\ub9bd\ub418\uc5c8\uc73c\uba70 , \uadf8 \uc678\uc758 \uae30\uc5c5\ub4e4 \ub610\ud55c \\n\ubc18\uc138\uae30 \uc774\uc0c1\uc758 \uc2dc\uae30 \ub3d9\uc548 \ubc1c\uc804\uc744 \uc774\uc5b4\uc624\uace0 \uc788\uc74c\\n[\ud45c 10] \uc77c\ubcf8 \uc8fc\uc694 ICT \uae30\uc5c5 \\n\uc21c\uc704 \uae30\uc5c5\uba85 \ub9e4\ucd9c\uc561 (10\uc5b5 \ub2ec\ub7ec) \uc0ac\uc5c5 \ubd84\uc57c\\n\u2460Toyota\\n(www.toyota.com)296.61 \uc790\ub3d9\ucc28\\n\u2461Mitsubishi Corporation\\n(www.mitsubishielectric.com)147.18 \uc804\uc790 \uc7a5\ube44\\n\u2462Honda\\n(www.honda.com)132.11 \uc790\ub3d9\ucc28\\n\u2463NTT, Nippon Telegraph&Telephone\\n(group.ntt)95.11 \ud1b5\uc2e0\\n\u2464Sony\\n(www.sony.co.kr)88.46 \uc804\uc790 \uc7a5\ube44\\n\u2465Nissan\\n(www.nissan.co.jp)86.12 \uc790\ub3d9\ucc28\\n\u2466Hitachi\\n(www.hitachi.com)75.06 \ud2b9\uc218\uc0b0\uc5c5\uae30\uacc4\\n\u2467Panasonic\\n(www.panasonic.co.kr)60.68 \uc804\uc790 \uc7a5\ube44\\n\u2468KDDI\\n(www.kddi.com)68.69 \uc774\ub3d9\ud1b5\uc2e0 , \uc2a4\ub9c8\ud2b8\ud3f0\\n\u2469Softbank\\n(www.softbank.jp)64.66 \ud22c\uc790, \uc774\ub3d9\ud1b5\uc2e0\\n\ucd9c\ucc98 : companies marketcap',\n",
              " 'd13': \"16 \u2160. ICT \uad6d\uac00 \uc0b0\uc5c5 \ud604\ud669\\n 6.\ud55c\uad6d \ud611\ub825 \ubc0f \uad6d\ub0b4\uae30\uc5c5 \uc9c4\ucd9c\uc0ac\ub840\\n \ud55c\uad6d-\uc77c\ubcf8 FTA \uccb4\uacb0 \uc5ec\ubd80\\n\u2022 \ud55c\uad6d\uacfc \uc77c\ubcf8\uc740 2010\ub144 1\uc6d4 1\uc77c \ud3ec\uad04\uc801 \uacbd\uc81c\ub3d9\ubc18\uc790\ud611\uc815 (CEPA) \uc774 \ubc1c\ud6a8\ub428\\n\u2022 2022\ub144 1\uc6d4 \ud55c\uad6d-\uc77c\ubcf8 CEPA \uac1c\uc120 \ud611\uc0c1\uc774 2\ub144 \ubc18 \ub9cc\uc5d0 \uc7ac\uac1c\ub428 . \ud574\ub2f9 \ud611\uc0c1\uc5d0\uc11c\ub294 \ud3ec\uc2a4\ud2b8 \ucf54\ub85c\ub098 \\n\uc2dc\ub300\ub97c \ub300\ube44\ud574 \uacf5\uae09\ub9dd \uac15\ud654, \uae30\ud6c4\ubcc0\ud654 , \ubc31\uc2e0, \ub514\uc9c0\ud138 \ud611\ub825 \ub4f1\uc758 \uc774\uc288 \uad00\ub828 \uc591\uad6d \ud611\ub825 \ud655\ub300 \\n\ubc29\uc548\uc744 \ub17c\uc758\ud574 \ub098\uac00\uae30\ub85c \ud569\uc758\ud568\\n \ud55c\uad6d-\uc77c\ubcf8 ICT \uae30\uad00 \ud611\ub825 \uc0ac\ub840\\n\u2022 2023\ub144 10\uc6d4 \uc774\uc885\ud638 \uacfc\ud559\uae30\uc220\uc815\ubcf4\ud1b5\uc2e0\ubd80 \uc7a5\uad00\uc774 \uc77c\ubcf8\uc744 \ubc29\ubb38\ud574 \ucd1d\ubb34\uc131 , \ubb38\ubd80\uacfc\ud559\uc131\uacfc \uc7a5\uad00\ud68c\ub2f4 \\n\uc9c4\ud589\ud558\uace0 \ud55c\uc77c \uac04 \uacf5\ub3d9\uc5f0\uad6c \ubc0f \uc778\ub825\uad50\ub958 \ud65c\uc131\ud654 \ubc29\uc548 \ub17c\uc758\\n \ud55c\uad6d-\uc77c\ubcf8 ICT \uae30\uc5c5 \uc9c4\ucd9c \uc0ac\ub840\\n\u2022 \uc804\uc790, \ub514\uc9c0\ud138 \uce58\ub8cc\uc81c , \ubb34\uc778 \ub85c\ubd07, \ud074\ub77c\uc6b0\ub4dc \ub4f1 \ub2e4\uc591\ud55c \ud55c\uad6d ICT \uc0ac\uc5c5\uc758 \uc77c\ubcf8 \uc9c4\ucd9c\uc774 \ud65c\ubc1c\ud568\\n[\ud45c 11] \ud55c\uad6d-\uc77c\ubcf8 \ud611\ub825 \ud604\ud669\\n\uad6c\ubd84 \ub0a0\uc9dc \ub0b4\uc6a9\\nFTA \uccb4\uacb0\uc5ec\ubd8010.01 \u2023 \ud55c\uad6d-\uc77c\ubcf8 \ud3ec\uad04\uc801 \uacbd\uc81c\ub3d9\ubc18\uc790\ud611\uc815 (CEPA) \ubc1c\ud6a8\\n22.01 \u2023 \ud55c\uad6d-\uc77c\ubcf8 CEPA \uac1c\uc120 \ud611\uc0c1 2\ub144 \ubc18 \ub9cc\uc5d0 \uc7ac\uac1c\\n\uc815\ubd8022.10 \u2023 NIPA\u00b7ITSA, \u2018\uc77c\ubcf8 \ud604\uc9c0 \ubc14\uc774\uc5b4 \ubc1c\uad74 \ud589\uc0ac\u2019 \uac1c\ucd5c\\n22.12 \u2023 \ucf54\ud2b8\ub77c , \uc77c\ubcf8 DX \uc2dc\uc7a5 \uc9c4\ucd9c \uc704\ud55c \u2018\ucf54\ub9ac\uc544 ICT \uc5d1\uc2a4\ud3ec in \uc7ac\ud32c\u2019 \uac1c\ucd5c\\n23.12 \u2023 \uc774\uc885\ud638 \uacfc\ud559\uae30\uc220\uc815\ubcf4\ud1b5\uc2e0\ubd80 \uc7a5\uad00 \uc77c\ubcf8 \ubc29\ubb38\\n\uae30\uc5c522.10 \u2023 \uc54c\uc11c\ud3ec\ud2b8 , \u2018\uc7ac\ud32c IT \uc704\ud06c\u2019 \ucc38\uac00\ud558\uba70 \uc77c\ubcf8 \ud654\uc0c1\ud68c\uc758 \uc2dc\uc7a5 \uacf5\ub7b5 \uac00\uc18d\ud654\\n22.10 \u2023 \uc2dc\ud050\uc544\uc774 , \uc77c\ubcf8 \uc804\uc6a9 \ubc29\ud654\ubcbd \uc81c\ud488\uc73c\ub85c \uc77c\ubcf8 IT \ubcf4\uc548 \uc2dc\uc7a5 \uacf5\ub7b5\\n22.11 \u2023 SKT, NTT \ub3c4\ubaa8\ucf54\uc640 ICT \ub3d9\ub9f9 \uac15\ud654\\n23.01 \u2023 \uc601\ub0a8\uc774\uacf5\ub300 \uc77c\ubcf8 IT \uc804\uacf5, \uc804\uc6d0 \ucde8\uc5c5\\n23.01 \u2023 \uc0bc\uc131\uc804\uc790 , \uc77c\ubcf8 \uc0c1\uc6a9\ub9dd\uc5d0\uc11c \u20185G \ub124\ud2b8\uc6cc\ud06c \uc2ac\ub77c\uc774\uc2f1 \u2019 \uac80\uc99d\\n23.02 \u2023 \uc0bc\uc131\uc804\uc790 , \uc77c\ubcf8 KDDI\uc5d0 '5G \ucf54\uc5b4' \uc194\ub8e8\uc158 \uacf5\uae09\\n23.07 \u2023 \ub85c\uc644, \uce58\ub9e4 \ub514\uc9c0\ud138 \uce58\ub8cc\uc81c\ub85c \ucd08\uace0\ub839\uc0ac\ud68c \uc77c\ubcf8 \uc9c4\ucd9c\\n23.11 \u2023 LS\uba38\ud2b8\ub9ac\uc5bc\uc988 , \uc77c\ubcf8 \ubb34\uc778 \uc6b4\ubc18 \ub85c\ubd07\uc5d0 \uc6b8\ud2b8\ub77c \ucee4\ud328\uc2dc\ud130 \uacf5\uae09\\n23.12 \u2023 \uc720\ub2c8\uc628\ucee4\ubba4\ub2c8\ud2f0 , \uc0dd\uccb4\uc778\uc99d \ud074\ub77c\uc6b0\ub4dc \uad6c\ub3c5 \uc11c\ube44\uc2a4\ub85c \uc77c\ubcf8 \uc2dc\uc7a5 \uc9c4\ucd9c\\n\ucd9c\ucc98 : \uc8fc\uc694 ICT \ub9e4\uccb4 \ubc1c\ud45c \uae30\uc0ac \ucde8\ud569\",\n",
              " 'd14': '\u2161 ICT \uc774\uc288 TOP 10                   16\\n   \u2460 \uc77c\ubcf8, \uc544\uc2dc\uc544\uc5d0\uc11c \ub450 \ubc88\uc9f8\ub85c \ud070 \ub370\uc774\ud130\uc13c\ud130 \ud5c8\ube0c\\n   \u2461 \uc77c\ubcf8, \uc790\uccb4 \uac1c\ubc1c \uc18c\ud504\ud2b8\uc6e8\uc5b4\ub85c \uc0ac\uc774\ubc84\ubcf4\uc548 \uac15\ud654\\n   \u2462 \uc77c\ubcf8, Web3 \uc0b0\uc5c5 \uc131\uc7a5 \ucd09\uc9c4 \ub3c4\ubaa8\\n   \u2463 \uc77c\ubcf8, \uc815\ubd80 \ud589\uc815 \uc5c5\ubb34\uc5d0 \uc0dd\uc131\ud615 AI \ub3c4\uc785\\n   \u2464 \uc77c\ubcf8, \uccab \uc790\uccb4 \uc81c\uc791 \uc591\uc790\ucef4\ud4e8\ud130 \uacf5\uac1c\\n   \u2465 \uc77c\ubcf8, 6G \uae30\uc220 \uac15\ud654 \uc704\ud574 \ud611\ub825 \ubc0f \uaddc\uc81c \uc644\ud654\\n   \u2466 \uc77c\ubcf8, \ub808\ubca8 4 \uc790\uc728\uc8fc\ud589 \ud5c8\uc6a9\\n   \u2467 \uc77c\ubcf8, \uc0dd\uccb4\uc778\uc2dd \uacb0\uc81c \ub3c4\uc785 \uc99d\uac00 \\n   \u2468 \uc77c\ubcf8, \ud589\uc815 \uc11c\ube44\uc2a4 \ub514\uc9c0\ud138\ud654 \ub178\ub825\\n   \u2469 \uc77c\ubcf8, \uc778\uc7ac \ubd80\uc871\uc73c\ub85c \ub514\uc9c0\ud138 \uc778\ub825 \uac15\ud654\uc5d0 \ud798\uc368',\n",
              " 'd15': '19 \u2161. ICT \uc774\uc288 Top10\\n \u2460\uc77c\ubcf8, \uc544\uc2dc\uc544\uc5d0\uc11c \ub450 \ubc88\uc9f8\ub85c \ud070 \ub370\uc774\ud130\uc13c\ud130 \ud5c8\ube0c\\n \uc77c\ubcf8 \ub370\uc774\ud130\uc13c\ud130 \uc2dc\uc7a5 CAGR 5.93% \uc608\uc0c1  \\n\u2022 \uc77c\ubcf8 \ub370\uc774\ud130\uc13c\ud130 \uc2dc\uc7a5\uc740 2022~2028 \ub144 \uc5f0\ud3c9\uade0 \uc131\uc7a5\ub960 (CAGR) 5.93% \ub85c \uc131\uc7a5\ud560 \uac83\uc774\ub77c \\n\uc608\uc0c1\ub428 . \uc544\uc2dc\uc544\ud0dc\ud3c9\uc591 (APAC) \uc9c0\uc5ed\uc758 \uacbd\uc81c \uac15\uad6d\uc774\uc790 \uae00\ub85c\ubc8c \uc5f0\uacb0\uc758 \ud5c8\ube0c\ub85c\uc11c \uc77c\ubcf8\uc758 \uc704\uc0c1\uc774 \\n\ud638\ud669\uc758 \uc8fc\uc694 \uc6d0\uc778\uc774 \ub41c \uac83\uc73c\ub85c \ubd84\uc11d\ub428\\n\u2022 \uc77c\ubcf8 \ub370\uc774\ud130\uc13c\ud130 \uc2dc\uc7a5\uc740 2028\ub144 114\uc5b5 4,000 \ub9cc \ub2ec\ub7ec(\uc57d 15\uc870 2,266 \uc5b5 \uc6d0) \uaddc\ubaa8\uc758 \ud22c\uc790\ub97c \\n\uc720\uce58\ud560 \uac83\uc73c\ub85c \uc608\uc0c1\ub428 . \uac19\uc740 \ud574 \ucf54\ub85c\ucf00\uc774\uc158 \uc2dc\uc7a5 \ub9e4\ucd9c\uc740 38\uc5b5 2,000 \ub9cc \ub2ec\ub7ec(\uc57d 5\uc870 844\uc5b5 \\n\uc6d0)\uc5d0 \uc774\ub97c \uac83\uc73c\ub85c \uc608\uce21\ub428 . \ub9ac\uc11c\uce58 \uc564 \ub9c8\ucf13(Research and Markets) \uc5d0 \uc758\ud558\uba74 \uc774\ub294 \uc77c\ubcf8\uc774 \\n\uc911\uad6d\uacfc \ud638\uc8fc\uc5d0 \uc774\uc5b4 \uc544\uc2dc\uc544\ud0dc\ud3c9\uc591 \uc9c0\uc5ed \ucd5c\uace0\uc758 \ub370\uc774\ud130\uc13c\ud130 \uc2dc\uc7a5\uc73c\ub85c \uc790\ub9ac \uc7a1\uac8c \ud558\ub294 \uac00\uc7a5 \\n\ud070 \uaddc\ubaa8\uc758 \ud22c\uc790 \uc911 \ud558\ub098\uc784\\n \ud64b\uce74\uc774\ub3c4 \u00b7\uaddc\uc288 \uc9c0\uc5ed \ub370\uc774\ud130\uc13c\ud130 \ubcf4\uc870\uae08 \uac80\ud1a0  \\n\u2022 2023\ub144 5\uc6d4, \uc77c\ubcf8 \uacbd\uc81c\uc0b0\uc5c5\uc131 (METI) \uc740 \ud64b\uce74\uc774\ub3c4\uacfc \uaddc\uc288 \uc9c0\uc5ed\uc758 \ub370\uc774\ud130\uc13c\ud130 \uac74\uc124\uc744 \\n\ucd09\uc9c4\ud558\uae30 \uc704\ud574 \ubcf4\uc870\uae08\uc744 \uc81c\uacf5\ud560 \uac83\uc744 \uc81c\uc548\ud568 . \ud64b\uce74\uc774\ub3c4\uc640 \uaddc\uc288\ub294 \uc7ac\uc0dd\uc5d0\ub108\uc9c0\uc5d0\uc11c \uc0dd\uc0b0\ub418\ub294 \\n\uc804\ub825\ub7c9\uc774 \ub9ce\uc544 \uc804\ub825 \uc18c\ube44\uac00 \ub9ce\uc740 \ub370\uc774\ud130\uc13c\ud130\uc5d0 \uc801\ud569\ud55c \uc9c0\uc5ed\uc774\ub77c\uace0 \ubd84\uc11d\ud568\\n\u2022 \uc77c\ubcf8 \ub0b4 \ub370\uc774\ud130\uc13c\ud130\uc758 80% \uc774\uc0c1\uc740 \ub3c4\ucfc4\uc640 \uc624\uc0ac\uce74 \uc9c0\uc5ed\uc5d0 \uc704\uce58\ud574 \uc788\uc74c. \ub300\uaddc\ubaa8 \uc790\uc5f0\uc7ac\ud574\uc5d0 \\n\ucde8\uc57d\ud55c \uc77c\ubcf8\uc758 \ud2b9\uc131\uc0c1 \ub370\uc774\ud130\uc13c\ud130\uc758 \ubd84\uc0b0\ud654\uac00 \uc694\uad6c\ub428 . \ubcf4\uc870\uae08 \uacc4\ud68d\uc73c\ub85c \uc778\ud55c \ud64b\uce74\uc774\ub3c4 , \uaddc\uc288 \\n\uc9c0\uc5ed \ud22c\uc790\ub294 \ub370\uc774\ud130\uc13c\ud130 \ubd84\uc0b0\ud654\uc5d0 \uae0d\uc815\uc801 \uae30\uc5ec\ub97c \ud560 \uac83\uc73c\ub85c \uae30\ub300\ub428\\n\u2022 \uc77c\ubcf8 \uad6d\ud1a0\ubd80\ub294 2023\ub144 4\uc6d4\ubd80\ud130 4\ub144\uac04 \ub370\uc774\ud130\uc13c\ud130 \ubcf4\uc870\uae08\uc73c\ub85c 455\uc5b5 \uc5d4(\uc57d 4,095 \uc5b5 910\ub9cc \\n\uc6d0)\uc744 \ubc30\uc815\ud560 \uacc4\ud68d\uc744 \uc81c\uc2dc\ud568\\n \ub3c4\ucfc4, \uc544\uc2dc\uc544\uc758 \ub370\uc774\ud130\uc13c\ud130 \ud5c8\ube0c\ub85c\uc11c \ubca0\uc774\uc9d5\uc5d0 \ub3c4\uc804  \\n\u2022 \uad6d\ub0b4\uc678 \ub370\uc774\ud130 \ucc98\ub9ac \uc218\uc694\uac00 \uae09\uaca9\ud788 \uc99d\uac00\ud568\uc5d0 \ub530\ub77c \ub3c4\ucfc4\uc5d0\uc11c\ub294 \ub370\uc774\ud130\uc13c\ud130\uac00 \uae09\uc99d\ud568 . \ub3c4\ucfc4 \\n\uc9c0\uc5ed \ub370\uc774\ud130 \uc2dc\uc124\uc758 \ucd1d \uc6a9\ub7c9\uc740 3~5\ub144 \ub0b4\uc5d0 \ub450 \ubc30\ub85c \uc99d\uac00\ud574 \ubca0\uc774\uc9d5\uc5d0 \uc774\uc5b4 \uc544\uc2dc\uc544\uc5d0\uc11c \ub450 \\n\ubc88\uc9f8\ub85c \ud070 \ub370\uc774\ud130\uc13c\ud130 \ud5c8\ube0c\uac00 \ub420 \uac83\uc73c\ub85c \uc804\ub9dd\ub428\\n\u2022 \uc99d\ub300\ub418\ub294 \uc548\ubcf4 \uc6b0\ub824\uc640 \ubbf8-\uc911 \uae34\uc7a5\uc73c\ub85c \uc778\ud574 \uae00\ub85c\ubc8c \uc815\ubcf4\uae30\uc220 \uae30\uc5c5 \ub4f1\uc740 \uc911\uad6d\uc758 \ub3c4\uc2dc\ub97c \\n\uc678\uba74\ud558\uace0 \uc788\uc74c. \uc774\uc5d0 \ub530\ub77c \ub3c4\ucfc4\ub294 \ubca0\uc774\uc9d5\uacfc\uc758 \uaca9\ucc28\ub97c \ube60\ub974\uac8c \uc881\ud788\uace0 \uc788\ub2e4\ub294 \ubd84\uc11d\uc784\\n\u2022 \ucfe0\uc2dc\uba3c\uc564\ub4dc\uc6e8\uc774\ud06c\ud544\ub4dc (Cushman & Wakefield) \ub294 2022\ub144 \ub9d0 \ub3c4\ucfc4 \uad11\uc5ed \uc9c0\uc5ed\uc758 \\n\ub370\uc774\ud130\uc13c\ud130 \uc6a9\ub7c9\uc740 \ucd1d 865MW \ub85c \ubca0\uc774\uc9d5\uc758 \uc808\ubc18 \uc218\uc900\uc774\uc5c8\uc9c0\ub9cc 3~5\ub144 \uc548\uc5d0 1,970MW \uc5d0 \\n\ub3c4\ub2ec\ud560 \uc804\ub9dd\uc784\\n\u2022 \ubd81\ubbf8\uc640 \uc720\ub77c\uc2dc\uc544 \uc0ac\uc774\uc5d0 \uc704\uce58\ud55c \uc77c\ubcf8\uc740 \uba54\ud0c0(Meta), \uad6c\uae00(Google) \ub4f1 \ubbf8\uad6d IT \ub300\uae30\uc5c5\ub4e4\uc774 \\n\ub300\uaddc\ubaa8 \ub370\uc774\ud130\ub97c \uc62e\uae30\ub294 \uc774\uc0c1\uc801\uc778 \uc911\uacc4\uad6d \uc5ed\ud560\uc744 \ud560 \uc218 \uc788\uc744 \uac83\uc73c\ub85c \ud3c9\uac00\ub428',\n",
              " 'd16': '20 \u2161. ICT \uc774\uc288 Top10\\n \u2461\uc77c\ubcf8, \uc790\uccb4 \uac1c\ubc1c \uc18c\ud504\ud2b8\uc6e8\uc5b4\ub85c \uc0ac\uc774\ubc84\ubcf4\uc548 \uac15\ud654\\n \uacbd\uc81c\uc0b0\uc5c5\uc131 , \ubbf8\uad6d \uad6d\ud1a0\uc548\ubcf4\ubd80\uc640 \uc18c\ud504\ud2b8\uc6e8\uc5b4 \ubcf4\uc548 \ud45c\uc900 \ud569\uc758\\n\u2022 2023\ub144 1\uc6d4, \uc77c\ubcf8 \uacbd\uc81c\uc0b0\uc5c5\uc131 (METI) \uacfc \ubbf8\uad6d \uad6d\ud1a0\uc548\ubcf4\ubd80\uac00 \uc0ac\uc774\ubc84\ubcf4\uc548 \ubd84\uc57c\uc5d0\uc11c \uad6d\ubc29 \ud611\ub825 \\n\uac15\ud654\ub97c \uc704\ud574 MOU \ub97c \uccb4\uacb0\ud568\\n\u2022 \uc591\uad6d\uc740 \uc911\uc694 \uae30\ubc18 \uc2dc\uc124\uc758 \ubcf4\ud638 \uac1c\uc120 \ubc0f \uc0ac\ud68c \uacbd\uc81c \ud65c\ub3d9\uc5d0 \ub300\ud55c \ud63c\ub780\uacfc \uae30\ubc00\uc815\ubcf4 \uc720\ucd9c\uc758 \\n\uc704\ud5d8\uc744 \uc904\uc774\uae30 \uc704\ud574 \uc815\ubd80 \uc870\ub2ec \uc18c\ud504\ud2b8\uc6e8\uc5b4\uc5d0 \ub300\ud574 \ub3d9\uc77c\ud55c \uc218\uc900\uc758 \ubcf4\uc548 \ud45c\uc900\uc744 \ud655\ub9bd\ud558\uae30\ub85c \\n\ud569\uc758\ud568\\n\u2022 \uc77c\ubcf8\uacfc \ubbf8\uad6d\uc740 \ub610\ud55c, \uc18c\ud504\ud2b8\uc6e8\uc5b4 \ubcf4\uc548 \ucde8\uc57d\uc131\uc744 \ud3c9\uac00\ud558\uae30 \uc704\ud55c \uc548\uc804 \uc2dc\uc2a4\ud15c \uad6c\ucd95\uc5d0 \\n\ud611\ub825\ud558\uace0 , \uc778\ub3c4 \ud0dc\ud3c9\uc591 \uc9c0\uc5ed\uc758 \uc0ac\uc774\ubc84 \ubc29\uc5b4 \uc5ed\ub7c9\uc744 \uac15\ud654\ud558\uae30 \uc704\ud55c \ud30c\ud2b8\ub108\uc2ed \ud611\uc815\uc5d0 \ud638\uc8fc\uc640 \\n\uc778\ub3c4\ub97c \ud3ec\ud568\uc2dc\ud0ac \uac83\uc73c\ub85c \uc608\uc0c1\ub428\\n\u2022 \uc774\ubc88 MOU \uccb4\uacb0 \uac01\uc11c\ub294 2022\ub144 \uad6d\uac00 \uc548\ubcf4 \uc804\ub7b5 \uac1c\uc815\uc5d0 \ub530\ub978 \uc815\ubd80 \uac04 \ucd5c\ucd08\uc758 \uc0ac\uc774\ubc84\ubcf4\uc548 \\n\ud611\ub825\uc73c\ub85c\uc11c \uc758\ubbf8\ub97c \uc9c0\ub2d8. \ub450 \uc804\ub7b5 \ubaa8\ub450 \uc911\uad6d, \ub7ec\uc2dc\uc544 , \ubd81\ud55c \ub4f1\uc758 \uad6d\uac00\ub4e4\uc774 \uac00\ud558\ub294 \uc704\ud611\uc5d0 \\n\ub300\uc751\ud558\uc5ec \ub354\uc6b1 \uac15\ub825\ud55c \uc0ac\uc774\ubc84\ubcf4\uc548\uc744 \ub2ec\uc131\ud558\ub294 \uac83\uc744 \ubaa9\ud45c\ub85c \ud568\\n  - \uc9c0\ub09c \uba87 \ub144 \ub3d9\uc548 \uc77c\ubcf8\uacfc \ubbf8\uad6d\uc758 \uc8fc\uc694 \uc2dc\uc2a4\ud15c\uc740 \uc545\uc758\uc801\uc778 \uacf5\uaca9\uc758 \ud45c\uc801\uc774 \ub418\uc5b4, \ubbf8\uad6d\uc758 \\nSolarWinds \ud574\ud0b9\uacfc Colonial Pipeline \ub79c\uc12c\uc6e8\uc5b4 \uacf5\uaca9\uc73c\ub85c \uc778\ud574 \uac01\uac01 \ubbfc\uac10\ud55c \ub370\uc774\ud130\uac00 \\n\ub178\ucd9c\ub418\uace0 \uac00\uc2a4 \ud30c\uc774\ud504\ub77c\uc778\uc774 \uc911\ub2e8\ub41c \ubc14 \uc788\uc74c\\n \uc815\ubd80 \uacc4\uc57d \uc5c5\uccb4\uc5d0 \ubbf8\uad6d \uc0ac\uc774\ubc84\ubcf4\uc548 \uaddc\uc815 \uc900\uc218 \uc694\uad6c\\n\u2022 2023\ub144 6\uc6d4, \uc77c\ubcf8\uc774 \ubbfc\uac10 \uc815\ubcf4\ub97c \ubcf4\ud638\ud558\uae30 \uc704\ud55c \ubaa9\uc801\uc73c\ub85c \uc815\ubd80 \uacc4\uc57d\uc5c5\uccb4\uc5d0 \ubbf8\uad6d \\n\uc0ac\uc774\ubc84\ubcf4\uc548 \uc9c0\uce68\uc744 \uc900\uc218\ud558\ub3c4\ub85d \uc694\uad6c\ud560 \uacc4\ud68d\uc744 \ubc1c\ud45c\ud568 . \uc774\ub294 \uc2f1\ud06c\ud0f1\ud06c\uc640 \ud1b5\uc2e0\uc5c5\uccb4\ub97c \ud3ec\ud568\ud55c \\n1,000 \uac1c \uc774\uc0c1\uc758 \uae30\uc5c5\uc5d0 \uc601\ud5a5\uc744 \ubbf8\uce60 \uac83\uc73c\ub85c \uc608\uc0c1\ub428\\n\u2022 \uc815\ubd80 \uc0ac\uc774\ubc84\ubcf4\uc548 \uc804\ub7b5\uc2e4\uc740 \uc911\uc559 \ubd80\ucc98\uc640 \ud568\uaed8 \ub3c5\ub9bd \ud589\uc815\uae30\uad00\uc758 \uc815\ubcf4\ubcf4\uc548 \uae30\uc900\uc744 \uac1c\uc815\ud574 \\n\uc678\ubd80\uc5c5\uccb4\uc5d0 \uc694\uad6c\ub418\ub294 \ub300\ucc45\uc744 \uac15\ud654\ud568 . \ud574\ub2f9 \uae30\uc900\uc740 2024\ub144 3\uc6d4\ubd80\ud130 \uc801\uc6a9\ub420 \uc608\uc815\uc784\\n \uc77c\ubcf8, \uc790\uccb4 \uac1c\ubc1c \uc18c\ud504\ud2b8\uc6e8\uc5b4\ub85c \uc0ac\uc774\ubc84 \ubc29\uc5b4 \uac15\ud654\\n\u2022 \uc77c\ubcf8\uc740 2025\ub144\ubd80\ud130 \uc790\uccb4 \uac1c\ubc1c\ud55c \uc18c\ud504\ud2b8\uc6e8\uc5b4\ub85c \uc0ac\uc774\ubc84 \ubc29\uc5b4\ub97c \uac15\ud654\ud560 \uacc4\ud68d\uc784 . \ud574\ub2f9 \\n\uc18c\ud504\ud2b8\uc6e8\uc5b4\ub294 \uc815\ubd80 \ucef4\ud4e8\ud130\ub97c \uc704\ud55c \uc0c8\ub85c\uc6b4 \uc2dc\uc2a4\ud15c\uc73c\ub85c , \uacf5\uaca9 \uc815\ubcf4\ub97c \uc218\uc9d1\u00b7\ubd84\uc11d\ud568\\n\u2022 \uc77c\ubcf8 \uc815\ubd80\uc758 \uc2e0\uaddc \uc18c\ud504\ud2b8\uc6e8\uc5b4\ub294 \ub9c8\uc774\ud06c\ub85c\uc18c\ud504\ud2b8 (Microsoft) \ubc0f \uae30\ud0c0 \uae30\uc5c5\uc758 \uae30\uc874 \\n\uc18c\ud504\ud2b8\uc6e8\uc5b4\uc640 \ud638\ud658\ub428 . \uc774\uc5d0 \ub530\ub77c \ud568\uaed8 \uc0ac\uc6a9\ub418\uba70 \uacc4\uce35\ud654\ud574 \ubc29\uc5b4 \ub2a5\ub825\uc744 \uac15\ud654\ud560 \uc608\uc815\uc784',\n",
              " 'd17': '21 \u2161. ICT \uc774\uc288 Top10 \\n \u2462\uc77c\ubcf8, Web3 \uc0b0\uc5c5 \uc131\uc7a5 \ucd09\uc9c4 \ub3c4\ubaa8\\n \uc77c\ubcf8 \uc815\ubd80, \uc6f93.0 \ubc31\uc11c \ubc1c\ud45c\\n\u2022 \uc77c\ubcf8 \uc790\ubbfc\ub2f9 \uc6f93.0(Web3.0) \ud504\ub85c\uc81d\ud2b8\ud300\uc774 \uae30\uc2dc\ub2e4 \ud6c4\ubbf8\uc624 (\u5cb8\u2f65\u2f42\u96c4 ) \ucd1d\ub9ac\uc758 \uae30\uc220 \uc9c4\ud765 \uc804\ub7b5 \\n\u2018\ucfe8 \uc7ac\ud32c(Cool Japan)\u2019 \ud504\ub85c\uc81d\ud2b8\uc758 \uc77c\ud658\uc73c\ub85c \uc790\uad6d \uc554\ud638\ud654\ud3d0 \uc0b0\uc5c5 \uc721\uc131\uc744 \uc704\ud55c \uad8c\uace0 \uc0ac\ud56d\uc744 \\n\ub2f4\uc740 \ubc31\uc11c\ub97c \ubc1c\ud45c\ud568\\n\u2022 \uc77c\ubcf8 \uc815\ubd80\ub294 \uae30\uc5c5\ub4e4\uc774 \uacfc\ub3c4\ud55c \uc138\uae08 \ubd80\ub2f4\uc73c\ub85c \uc778\ud574 \ub2e4\ub978 \uad00\ud560\uad8c\uc73c\ub85c \uc774\ub3d9\ud558\uae30 \uc2dc\uc791\ud55c \ud6c4 \\n\uc554\ud638\ud654\ud3d0\uc5d0 \ub300\ud574 \uc6b0\ud638\uc801\uc778 \ud658\uacbd\uc744 \uc870\uc131\ud558\ub824\uace0 \ub178\ub825\ud574 \uc654\uc74c. \uc6f93.0 \ud504\ub85c\uc81d\ud2b8 \ud300\uc740 NFT, \\n\ubd84\uc0b0\ud615 \uc790\uc728 \uc870\uc9c1 \ub4f1\uc5d0 \ub300\ud55c \uaddc\uc81c \uc81c\uc548\uc744 \uacf5\uc2dd\ud654\ud558\uae30 \uc704\ud55c \ud589\ubcf4\ub97c \uc804\uac1c\ud568 . \uc774 \uacfc\uc815\uc5d0\uc11c \\n\uc77c\ubc18\uc801\uc778 \uad00\ub8cc\uc801 \uc808\ucc28\uc758 \uc801\uc6a9\uc744 \ubc1b\uc9c0 \uc54a\uc74c\\n\u2022 \ubc31\uc11c\ub294 \ud1a0\ud070 \ubc1c\ud589\uc790 \uad00\ub828 \uc2b9\uc778\ub41c \uc8fc\uc694 \uba74\uc81c \uc0ac\ud56d\uc744 \uc5b8\uae09\ud558\uba70 \uc138\uae08 \uaddc\uc815\uc5d0 \ub300\ud55c \ucd94\uac00 \ubcc0\uacbd\uc744 \\n\uc81c\uc548\ud568 . \uc5ec\uae30\uc5d0\ub294 \ub2e4\ub978 \uae30\uc5c5\uc774 \ubc1c\ud589\ud588\uc73c\uba70 \ub2e8\uae30\uc801\uc73c\ub85c \uac70\ub798\ub418\uc9c0 \uc54a\uc744 \ud1a0\ud070\uc744 \ubcf4\uc720\ud558\uace0 \uc788\ub294 \\n\uae30\uc5c5\uc5d0 \ub300\ud55c \uc138\uae08 \uba74\uc81c\uac00 \ud3ec\ud568\ub428 . \ud22c\uc790\uc790\ub4e4\uc740 \uc190\uc2e4\uc744 3\ub144 \ub3d9\uc548 \uc774\uc6d4\ud560 \uc218 \uc788\ub3c4\ub85d \uc790\uccb4 \\n\ud3c9\uac00\ub97c \ud5c8\uc6a9\ud560 \uac83\uc744 \uad8c\uace0\ud558\uace0 , \uc790\uc0b0\uc774 \uba85\ubaa9\ud654\ud3d0\ub85c \uad50\ud658\ub420 \ub54c\ub9cc \uc554\ud638\ud654\ud3d0\uc5d0 \uacfc\uc138\ud574\uc57c \ud55c\ub2e4\uace0 \\n\uc81c\uc548\ud568\\n\u2022 \uc774\uc678\uc5d0\ub3c4 \ud68c\uacc4 \ud45c\uc900\uc758 \ubd80\uc871\uc73c\ub85c \uc6f93.0 \uae30\uc5c5\ub4e4\uc774 \uac10\uc0ac\uc778\uc744 \ucc3e\ub294 \ub370 \uc5b4\ub824\uc6c0\uc744 \uacaa\uace0 \uc788\ub294 \uc810\uc744 \\n\uc9c0\uc801\ud558\uba70 \uc774\ub294 \uc2dc\uae09\ud55c \ubb38\uc81c\uc784\uc744 \ud655\uc778\ud568 . \uac01 \ubd80\ucc98\uc640 \uae30\uad00\uc740 \uc9c0\uce68\uc744 \ub9c8\ub828\ud558\ub294 \ub370 \uc788\uc5b4 \\n\uc77c\ubcf8\uacf5\uc778\ud68c\uacc4\uc0ac\ud611\ud68c\ub97c \uc9c0\uc6d0\ud574\uc57c \ud55c\ub2e4\uace0 \uba85\uc2dc\ud568\\n \uc77c\ubcf8 \uc815\ubd80, \uc6f93.0 \uac15\uc870 \\n\u2022 \uc77c\ubcf8 \uc815\ubd80\ub294 \ucd5c\uadfc \uc5ec\ub7ec \ud589\ubcf4\uc5d0\uc11c \uc6f93.0\uc744 \uac15\uc870\ud558\uba70 \uad00\ub828 \uc0ac\uc5c5\uacfc \ud22c\uc790\uc5d0 \uc5f4\ub824 \uc788\uc74c\uc744 \\n\ubd80\uac01\ud558\uace0 \uc788\uc74c\\n\u2022 \uc77c\ubcf8 \uae30\uc2dc\ub2e4 \ud6c4\ubbf8\uc624 \ucd1d\ub9ac\uac00 \uace0\ub178 \ud0c0\ub85c(\u6cb3\u91ce \u592a\u90ce) \ub514\uc9c0\ud138 \ub2f4\ub2f9 \ub300\uc2e0\uc744 \uc0c8\ub85c \uc784\uba85\ud558\uba70 , \uc77c\ubcf8 \\n\uc815\ubd80\uac00 \uc6f93.0 \uac1c\ubc1c\uc744 \uacbd\uc81c \uacc4\ud68d\uc758 \ucd5c\uc6b0\uc120 \uacfc\uc81c\ub85c \uc0bc\uc744 \uac83\uc774\ub77c\ub294 \uae30\ub300\uac00 \uace0\uc870\ub428 . \uace0\ub178 \ud0c0\ub85c \\n\ub300\uc2e0\uc740 \ub514\uc9c0\ud138\uccad (Digital Agency) \uc744 \ub2f4\ub2f9\ud558\uac8c \ub428. \ucd5c\uadfc \uace0\ub178 \ud0c0\ub85c \ub300\uc2e0\uc740 \ud2b8\uc704\ud130\ub97c \ud1b5\ud574 \\n240\ub9cc \uba85\uc758 \ud314\ub85c\uc6cc\uc5d0\uac8c \uba54\ud0c0\ubc84\uc2a4 \uacf5\uac04\uc5d0\uc11c \uc0ac\uc6a9\ud560 \uc218 \uc788\ub294 \ub514\uc9c0\ud138 \uc544\ubc14\ud0c0\ub97c \ub9cc\ub4e4\uc5b4 \ub2ec\ub77c\uace0 \\n\uc694\uccad\ud55c \ubc14 \uc788\uc74c\\n\u2022 2023\ub144 5\uc6d4 \uc601\uad6d\uc744 \ubc29\ubb38\ud55c \uae30\uc2dc\ub2e4 \ucd1d\ub9ac\ub294 \uc601\uad6d \ud22c\uc790\uc790\ub4e4\uc5d0\uac8c \uc77c\ubcf8 \uc815\ubd80\uac00 \uc6f93.0 \uad00\ub828 \\n\uc131\uc7a5\uc744 \ubaa9\ud45c\ub85c \uc0bc\uace0 \uc788\ub2e4\uace0 \uc5f0\uc124\ud558\uba70 \uba54\ud0c0\ubc84\uc2a4 \ubc0f NFT \uad00\ub828 \uac1c\ubc1c\uc744 \ubaa8\ub450 \uc5b8\uae09\ud568\\n\u2022 \uc77c\ubcf8 \ub3c4\ucfc4 \uad6d\uc81c \ud3ec\ub7fc\uc5d0\uc11c \uc774\ud2c0\uac04 \uc9c4\ud589\ub41c \uc6f9X(WebX) \uc544\uc2dc\uc544 \ucee8\ud37c\ub7f0\uc2a4 \ud3d0\ub9c9\uc2dd\uc5d0\uc11c \uace0\uc774\ucf00 \\n\uc720\ub9ac\ucf54 (\u2f29\u6c60\u767e\u5408\u2f26 ) \ub3c4\ucfc4 \ub3c4\uc9c0\uc0ac\ub294 \uc601\uc0c1\uc744 \ud1b5\ud574 \uc8fc\ucd5c \uce21\uc744 \ucd95\ud558\ud558\uace0 \ub3c4\ucfc4\uac00 \uae00\ub85c\ubc8c \uc554\ud638\ud654\ud3d0 \\n\ud5c8\ube0c\ub85c \uc790\ub9ac\ub9e4\uae40\ud558\uace0 \uc788\uc74c\uc744 \uac15\uc870\ud568',\n",
              " 'd18': '22 \u2161. ICT \uc774\uc288 Top10\\n \u2463\uc77c\ubcf8, \uc815\ubd80 \ud589\uc815 \uc5c5\ubb34\uc5d0 \uc0dd\uc131\ud615 AI \ub3c4\uc785\\n \uc77c\ubcf8 \uc815\ubd80, \ud589\uc815\uc5c5\ubb34\uc5d0 \ucc57GPT \uae30\uc220 \ud65c\uc6a9 \\n\u2022 2023\ub144 7\uc6d4, \uc77c\ubcf8 \uc815\ubd80\ub294 \ub9c8\uc774\ud06c\ub85c\uc18c\ud504\ud2b8 (Microsoft) \ub85c\ubd80\ud130 \ucc57GPT(Chat GPT) \uae30\ubc18 \\n\uae30\uc220\uc744 \uc81c\uacf5\ubc1b\uc744 \uacc4\ud68d\uc744 \ubc1c\ud45c\ud568 . \uc774\uc6a9\ub8cc\ub294 \uc5f0\uac04 200\ub9cc \ub2ec\ub7ec(\uc57d 26\uc5b5 6,200 \ub9cc \uc6d0)\uc784 \\n\u2022 \uc77c\ubcf8 \uc815\ubd80\ub294 \ud589\uc815\uc758 \ub514\uc9c0\ud138\ud654\ub97c \ub3c4\uc785\ud574 \uacf5\ubb34\uc5d0 \ucc57GPT \uae30\uc220\uc744 \ud65c\uc6a9\ud558\uaca0\ub2e4\ub294 \ubc29\uce68\uc784 . \ud574\ub2f9 \\n\uae30\uc220\uc740 \uad6d\ud68c \ub2f5\ubcc0 \ucd08\uc548 \ubc0f \uc758\uc0ac\ub85d \uc791\uc131, \uc815\ubd80 \ud1b5\uacc4 \ubd84\uc11d \uc9c0\uc6d0 \ub4f1\uc5d0 \uc2dc\ud5d8\uc801\uc73c\ub85c \uc0ac\uc6a9\ub428\\n\u2022 \ub9c8\uc774\ud06c\ub85c\uc18c\ud504\ud2b8\uc640 \uc77c\ubcf8\uc740 \uad6d\uac00 \uc548\ubcf4 \uad00\uc810\uc5d0\uc11c \uae30\ubc00\uc815\ubcf4\ub97c \ucde8\uae09\ud560 \uc218 \uc788\ub3c4\ub85d \uc77c\ubcf8 \ub0b4\uc5d0 \uc804\uc6a9 \\n\uc124\ube44\ub97c \ub450\uae30\ub85c \uacb0\uc815\ud568 . \uc815\ubd80 \uc774\uc6a9\uc744 \uc704\ud574 AI\uc5d0 \ud559\uc2b5\uc2dc\ucf1c\uc57c \ud558\ub294 \ub300\ub7c9\uc758 \ud589\uc815\uc815\ubcf4\ub294 \uad6d\uc678\ub85c \\n\ubc18\ucd9c\ud558\uae30 \uc5b4\ub835\uae30 \ub54c\ubb38\uc784 . \ub9c8\uc774\ud06c\ub85c\uc18c\ud504\ud2b8\uac00 \uc804\uc6a9 \uc124\ube44 \ub4f1 \ud574\uc678\uc5d0 \uac70\uc810\uc744 \ub450\uace0 \uae30\uc220 \uc11c\ube44\uc2a4\ub97c \\n\uc804\uac1c\ud558\ub294 \uac83\uc740 \uc720\ub7fd \uc678\uc758 \uad6d\uac00 \uc911 \uc77c\ubcf8\uc774 \uc720\uc77c\ud568\\n\u2022 \ub9c8\uc774\ud06c\ub85c\uc18c\ud504\ud2b8\ub294 \ud611\ub825\uc744 \ud1b5\ud574 \uc77c\ubcf8\uc5b4 \ub370\uc774\ud130\ub97c \ucd95\uc801\ud558\uace0 \ud574\ub2f9 \uc5b8\uc5b4\uc758 \uc815\ubc00\ub3c4\ub97c \ub192\uc77c \\n\uacc4\ud68d\uc784 . \ub610\ud55c \uc815\ubd80 \uacc4\uc57d\uc744 \ubc1c\ud310\uc73c\ub85c \uc77c\ubcf8 \ubbfc\uac04 \uae30\uc5c5\uc5d0 \ub300\ud55c \uc11c\ube44\uc2a4\ub97c \ud655\ub300\ud560 \uc218 \uc788\uc744 \uac83\uc73c\ub85c \\n\uae30\ub300\ub428\\n \uc0ac\ubbf8\ud558\ub77c\uc2dc , \uc9c0\uc790\uccb4 \ucd5c\ucd08 \uc5c5\ubb34\uc6a9 AI \ub3c4\uc785\\n\u2022 2023\ub144 10\uc6d4, \uc77c\ubcf8 \uc0ac\uac00\ubbf8\ud558\ub77c\uc2dc\uac00 \uc77c\ubcf8\uc804\uae30\uc8fc\uc2dd\ud68c\uc0ac (NEC) \uc640 \ud611\uc815\uc744 \ub9fa\uace0 \uad6d\uc0b0 AI \uc11c\ube44\uc2a4 \\n\ub3c4\uc785\uc744 \uc704\ud574 \ud604\uc7ac \uac80\uc99d \uc808\ucc28\ub97c \uc9c4\ud589\ud568 . \uc77c\ubcf8\uc5d0\uc11c \uc790\uad6d AI \uc2dc\uc2a4\ud15c\uc758 \ub3c4\uc785 \uc0ac\ub840\ub294 \\n\uc0ac\uac00\ubbf8\ud558\ub77c\uc2dc\uac00 \ucd5c\ucd08\uc784\\n\u2022 \uc0ac\uac00\ubbf8\ud558\ub77c\uc2dc\ub294 AI\ub97c \ubb38\uc11c \uc791\uc131 \ubc0f \uc694\uc57d\uacfc \uc544\uc774\ub514\uc5b4 \uc0dd\uc131 \ub4f1\uc5d0 \ud65c\uc6a9\ud560 \uc608\uc815\uc784 . \uc77c\ubcf8 \uc804\ubb38 \\n\uc6a9\uc5b4 \ub300\uc751\uc5d0 \ubd88\ucda9\ubd84\ud558\ub2e4\ub294 \ud3c9\uac00\ub97c \ubc1b\ub294 \ucc57GPT\uc640 \ub2ec\ub9ac \uc77c\ubcf8\uc0b0 AI\ub294 \uc751\ub2f5\uc758 \uc815\ud655\uc131\uc774 \\n\uc0c1\ub300\uc801\uc73c\ub85c \ub192\uc744 \uac83\uc73c\ub85c \uae30\ub300\ub428\\n\u2022 \ud589\uc815 \uc5c5\ubb34\uc5d0 \uc0dd\uc131\ud615 AI \uae30\uc220\uc744 \ud65c\uc6a9\ud558\ub294 \uac83\uc5d0 \ub300\ud55c \uac1c\uc778\uc815\ubcf4\uc758 \uc720\ucd9c \uc704\ud5d8\uc758 \ubd88\uc548\uc774 \ub0a8\uc544 \\n\uc788\uc73c\ub098 \uc77c\ubcf8\uc0b0 AI \uc11c\ube44\uc2a4\ub294 \ub370\uc774\ud130\uc13c\ud130\ub97c \uc77c\ubcf8 \ub0b4\uc5d0 \uc124\uce58\ud558\uae30 \ub54c\ubb38\uc5d0 \uc815\ubcf4\ub97c \uc77c\ubcf8 \ub0b4\uc5d0\uc11c \\n\uad00\ub9ac\ud560 \uc218 \uc788\ub2e4\ub294 \uc7a5\uc810\ub3c4 \uc874\uc7ac\ud568',\n",
              " 'd19': '23 \u2161. ICT \uc774\uc288 Top10 \\n \u2464 \uc77c\ubcf8, \uccab \uc790\uccb4 \uc81c\uc791 \uc591\uc790\ucef4\ud4e8\ud130 \uacf5\uac1c\\n \uacbd\uc81c\uc0b0\uc5c5\uc131 , \uc591\uc790 \ucef4\ud4e8\ud130 \ud074\ub77c\uc6b0\ub4dc \uc774\uc6a9 \ud655\ub300\uc5d0 42\uc5b5 \uc5d4 \uc9c0\uc6d0\\n\u2022 2023\ub144 4\uc6d4, \uc77c\ubcf8 \uacbd\uc81c\uc0b0\uc5c5\uc131 (METI) \uc740 \uc591\uc790\ucef4\ud4e8\ud130\ub97c \uc774\uc6a9\ud55c \ud074\ub77c\uc6b0\ub4dc \uc774\uc6a9 \ud655\ub300\ub97c \uc704\ud574 \\n42\uc5b5 \uc5d4(\uc57d 378\uc5b5 84\ub9cc \uc6d0)\uc744 \uc870\uc131\ud568 . \uc774\ub97c \ud1b5\ud574 \uc591\uc790 \uae30\uc220\uc744 \uc774\uc6a9\ud55c \ud074\ub77c\uc6b0\ub4dc \uc778\ud504\ub77c \\n\uad6c\ucd95\uc744 \uac00\uc18d\ud654 \ud560 \uc804\ub9dd\uc784\\n\u2022 \uacbd\uc81c\uc0b0\uc5c5\uc131\uc740 \ud5a5\ud6c4 5\ub144\uac04 \ub3c4\ucfc4 \ub300\ud559, \ub3c4\uc694\ud0c0\uc790\ub3d9\ucc28 \ub4f1\uc73c\ub85c \uad6c\uc131\ud558\ub294 \uc0b0\ud559\ud611\uc758\ud68c\uc5d0 \uc790\uae08\uc744 \\n\uc6d0\uc870\ud574 \ucca8\ub2e8 \uae30\uacc4\uc758 \ub3c4\uc785\uc744 \ub4b7\ubc1b\uce68\ud560 \uacc4\ud68d\uc784 . \ubcf4\uc870\uae08\uc744 \uc774\uc6a9\ud574 \ube44\ud2b8 \uc218\uac00 127\uc778 \uace0\uc131\ub2a5 \\n\ubaa8\ub378\uc744 \ub3c4\uc785\ud568\\n \ub9ac\ucf04, \uc77c\ubcf8 \ucd5c\ucd08\uc758 \uc591\uc790 \ucef4\ud4e8\ud130 \uac00\ub3d9\\n\u2022 2023\ub144 3\uc6d4 \uc77c\ubcf8 \ub9ac\ucf04(Riken) \uc740 \uc790\uccb4 \uc81c\uc791\ud55c \uc77c\ubcf8 \ucd5c\ucd08\uc758 \uc591\uc790\ucef4\ud4e8\ud130\uc758 \uac00\ub3d9\uc744 \uc2dc\uc791\ud568 . \\n\ub9ac\ucf04\uc740 \uc591\uc790\ucef4\ud4e8\ud130\uc758 \uac00\ub3d9\uc744 \uc2dc\uc791\ud558\uace0 \ud074\ub77c\uc6b0\ub4dc\ub97c \uc11c\ube44\uc2a4\ub97c \ud1b5\ud574 \ub300\ud559 \ubc0f \uc5f0\uad6c\uae30\uad00\uc5d0\uc11c \\n\uc0ac\uc6a9\ud560 \uc218 \uc788\ub3c4\ub85d \uc9c0\uc6d0\ud568 . \ub9ac\ucf04\uc774 \uacf5\uac1c\ud55c \uc591\uc790\ucef4\ud4e8\ud130\ub294 \uc808\ub300 \uc601\ub3c4 \uac00\uae4c\uc774 \uc628\ub3c4\ub97c \ub0ae\ucdb0 \\n\uc804\uae30\uc800\ud56d\uc744 \uc5c6\uc564 \ucd08\uc804\ub3c4 \ud658\uacbd\uc5d0\uc11c \uc6b4\uc601\ud558\uba70 \uc131\ub2a5\uc740 64 \uc591\uc790 \ube44\ud2b8\uc784\\n\u2022 2023\ub144 10\uc6d4\uc5d0 \ub9ac\ucf04\uc740 \ud6c4\uc9c0\ucbd4\uc640 \uacf5\ub3d9\uc73c\ub85c \uac1c\ubc1c\ud55c \ub450 \ubc88\uc9f8 \uc591\uc790\ucef4\ud4e8\ud130\ub97c \uacf5\uac1c\ud568 . \ud6c4\uc9c0\ucbd4\uc640 \\n\ub9ac\ucf04\uc774 \uacf5\ub3d9 \uac1c\ubc1c\ud55c 64\ud050\ube44\ud2b8 \uc591\uc790\ucef4\ud4e8\ud130\ub294 \uc0ac\uc774\ud0c0\ub9c8\ud604 \uc640\ucf54\uc2dc\uc5d0 \uc788\ub294 \uc591\uc0ac\uc758 \uc5f0\uacc4 \uc13c\ud130\uc5d0 \\n\uc124\uce58\ud558\uc5ec \uc81c\uacf5\ud568 . \ud574\ub2f9 \uc591\uc790\ucef4\ud4e8\ud130\ub294 \uadf9\uc800\uc628\uc73c\ub85c \ub0c9\uac01\ud55c \ucd08\uc804\ub3c4 \ud68c\ub85c\ub85c \uacc4\uc0b0\ud558\ub294 \ubc94\uc6a9 \\n\ubc29\uc2dd\uc758 \uae30\uc220\uc744 \uc801\uc6a9\ud568\\n \uc77c\ubcf8 \uacf5\ub3d9 \uc5f0\uad6c \uadf8\ub8f9, \uc624\uc0ac\uce74\ub300\ud559\uc5d0\uc11c \uc77c\ubcf8 \uc138 \ubc88\uc9f8 \uc591\uc790\ucef4\ud4e8\ud130 \ucd9c\uc2dc\\n\u2022 2023\ub144 12\uc6d4, \uc624\uc0ac\uce74\ub300\ud559\uad50 \uc591\uc790\uc815\ubcf4 \ubc0f \uc591\uc790\uc0dd\ubb3c\ud559\uc138\ud130 , \ub9ac\ucf04(RIKEN), \uc0b0\uc5c5\uae30\uc220 \\n\uc885\ud569\uc5f0\uad6c\uc18c \ucca8\ub2e8\ubc18\ub3c4\uccb4\uc5f0\uad6c\uc13c\ud130 \ub4f1\uc774 \ud3ec\ud568\ub41c \uacf5\ub3d9 \uc5f0\uad6c \ud30c\ud2b8\ub108 \ucee8\uc18c\uc2dc\uc5c4\uc740 \uc624\uc0ac\uce74 \ub300\ud559\uc5d0\uc11c \\n\uc77c\ubcf8\uc758 \uc138 \ubc88\uc9f8 \ucd08\uc804\ub3c4 \uc591\uc790\ucef4\ud4e8\ud130 \uac1c\ubc1c\uc5d0 \uc131\uacf5\ud588\ub2e4\uace0 \ubc1c\ud45c\ud568\\n\u2022 \uc0c8\ub85c \uac1c\ubc1c\ub41c \ucd08\uc804\ub3c4 \uc591\uc790\ucef4\ud4e8\ud130\ub294 \ub9ac\ucf04\uc774 \uc81c\uacf5\ud558\ub294 64\ud050\ube44\ud2b8 \uce69\uc744 \uc0ac\uc6a9\ud558\uba70 , \ub0c9\uc7a5\uace0\ub97c \\n\uc81c\uc678\ud55c \ub300\ubd80\ubd84\uc758 \ubd80\ud488\uc744 \uc77c\ubcf8\uc0b0 \ubd80\ud488\uc73c\ub85c \uc0ac\uc6a9\ud558\uc5ec \uc77c\ubcf8\uc0b0 \ubd80\ud488\uc758 \uc131\ub2a5\uc744 \ud655\uc778\ud558\ub294 \ub4f1 \\n\ud14c\uc2a4\ud2b8\ubca0\ub4dc\ub85c \ud65c\uc6a9\ud560 \uc608\uc815\uc784\\n\u2022 \uc5f0\uad6c \uadf8\ub8f9\uc740 \uc591\uc790\ucef4\ud4e8\ud130\uac00 \uae30\uacc4\ud559\uc2b5 \ubc0f \uc2e4\uc6a9\uc801\uc778 \uc591\uc790 \uc54c\uace0\ub9ac\uc998 \uac1c\ubc1c \ubd84\uc57c\uc758 \ubc1c\uc804\uc744 \\n\ucd09\uc9c4\ud558\uace0 , \uc7ac\ub8cc \ubc0f \uc57d\ubb3c \uac1c\ubc1c \ubd84\uc57c\uc5d0\uc11c \uc0c8\ub85c\uc6b4 \uc0ac\uc6a9 \uc0ac\ub840\ub97c \ubc1c\uad74\ud560 \uc218 \uc788\uac8c \ud558\uba70, \ud658\uacbd \\n\ubb38\uc81c\ub97c \uc644\ud654\ud558\uae30 \uc704\ud55c \ucd5c\uc801\ud654 \ubb38\uc81c \ud574\uacb0\uc5d0 \uae30\uc5ec\ud560 \uac83\uc73c\ub85c \uae30\ub300\ub428',\n",
              " 'd20': '24 \u2161. ICT \uc774\uc288 Top10\\n \u2465\uc77c\ubcf8, 6G \uae30\uc220 \uac15\ud654 \uc704\ud574 \ud611\ub825 \ubc0f \uaddc\uc81c \uc644\ud654\\n NTT-KDDI, 6G \ud611\ub825 \ud569\uc758\\n\u2022 2023\ub144 3\uc6d4 \uc77c\ubcf8 \ub300\ud45c \uc774\ub3d9\ud1b5\uc2e0\uc0ac\uc778 NTT\uc640 KDDI \uac00 6G \uc5f0\uad6c\u00b7\uac1c\ubc1c\uc744 \ud611\ub825\ud558\uae30\ub85c \ud569\uc758\ud568 . \\n\uc591\uc0ac\ub294 \ubaa8\ubc14\uc77c \ubc0f \uad11 \ub124\ud2b8\uc6cc\ud06c \uad00\ub828 \uc804\uc1a1 \uc6a9\ub7c9 125\ubc30 \uc99d\uac00, \uc5d0\ub108\uc9c0 \ud6a8\uc728\uc131 100\ubc30 \uc99d\uac00, \\n\uc885\ub2e8 \uac04 \ud1b5\uc2e0 \ucd5c\uc885 \uc9c0\uc5f0 \uc18d\ub3c4 200\ubc30 \uac10\uc18c\ub97c \ubaa9\ud45c\ub85c \ud558\ub294 \uc0c8\ub85c\uc6b4 \ud1b5\uc2e0 \uae30\uc220 \uac1c\ubc1c\uc5d0 \ud611\ub825\ud560 \\n\uacc4\ud68d\uc784\\n\u2022 \uc591\uc0ac\ub294 5G\ubcf4\ub2e4 10\ubc30 \ub354 \ube60\ub978 6G\uac00 \ud604\uc7ac\uc758 \ud1b5\uc2e0 \uc778\ud504\ub77c\uc5d0\uc11c \uad6c\ud604\ub420 \uc2dc \uc804\ub825 \uc18c\ube44\uac00 \\n\uc99d\uac00\ud558\uace0 \uc804\uc1a1 \uc6a9\ub7c9\uc774 \ubd80\uc871\ud560 \uac83\uc73c\ub85c \uc804\ub9dd\ud568 . \uc774\ub7ec\ud55c \uae30\uc220\uc801 \uacfc\uc81c\ub97c \uadf9\ubcf5\ud558\uae30 \uc704\ud574 6G \\n\ud45c\uc900\uc744 \uac1c\ubc1c\ud558\uace0\uc790 \ud568. \uc774\uc5d0 \ub530\ub77c NTT\uc640 KDDI \uc758 \uae30\ubcf8 \ud569\uc758\uc5d0\uc11c\ub294 \uc774\ud558 \uc138 \uac00\uc9c0 \ubaa9\ud45c\uac00 \\n\uc124\uc815\ub428\\n- \uc804\uad11\uc790 (all-photonics) \ub124\ud2b8\uc6cc\ud06c \uc804\uc1a1 \ubc29\uc2dd \ud45c\uc900\ud654\\n- \uc774\ub3d9\ud1b5\uc2e0 \uc804\uad11\uc790 \ub124\ud2b8\uc6cc\ud06c \ud45c\uc900\ud654\\n- \uc624\ucf00\uc2a4\ud2b8\ub808\uc774\uc158 \uae30\uc220 \ud45c\uc900\ud654\\n\u2022 \uc591\uc0ac\ub294 NTT\uac00 \uac1c\ubc1c \uc911\uc778 \ucd5c\ucca8\ub2e8 \ub370\uc774\ud130 \uc804\uc1a1 \uae30\uc220 \u2018\uc544\uc774\uc628 (IOWN)\u2019 \uc744 \ud65c\uc6a9\ud574 \uc18c\ube44 \\n\uc804\ub825\ub7c9\uc744 \uc5b5\uc81c\ud558\ub294 \ub3d9\uc2dc\uc5d0 \ubc29\ub300\ud55c \ub370\uc774\ud130\ub97c \uc804\uc1a1\ud558\ub294 \ud1b5\uc2e0\ub9dd \uae30\uc220 \uae30\ubc18 \ud655\ub9bd\uc744 \ubaa9\ud45c\ub85c \\n\uacf5\ub3d9\uc5f0\uad6c\ub97c \uc9c4\ud589\ud568 . \uc544\uc774\uc628\uc740 \uc18c\ube44 \uc804\ub825\uc744 \uadf9\uc801\uc73c\ub85c \ub0ae\ucd9c \uac00\ub2a5\uc131\uc744 \uac00\uc9c0\uace0 \uc788\uc5b4 \uad6d\uc81c \uc0ac\ud68c\uc758 \\n\uc8fc\ubaa9\uc744 \ubc1b\uace0 \uc788\uc74c\\n\u2022 \uc591\uc0ac\ub294 2024\ub144 \uc911\uc5d0 \uae30\ubcf8 \uae30\uc220\uc744 \ud655\ub9bd\ud558\uace0 2030\ub144 \uc774\ud6c4 DC \ub4f1\uc758 \uc815\ubcf4\ud1b5\uc2e0\ub9dd \uc18c\ube44 \uc804\ub825\uc744 \\n\ud604\uc7ac \ub300\ube44 100\ubd84\uc758 1\ub85c \uc904\uc774\ub294 \uac83\uc744 \ubaa9\ud45c\ub85c \ud568. \ub610\ud55c, \ud574\ub2f9 \uc808\uc804\ubc29\uc2dd\uc774 \uc804 \uc138\uacc4 \ud45c\uc900\uc774 \\n\ub418\ub294 \uac83\uc744 \uacc4\ud68d\ud568\\n \uc77c\ubcf8 \uc758\ud68c, NTT \uaddc\uc81c \uc644\ud654 \ubaa8\uc0c9\\n\u2022 \uc77c\ubcf8 \uc790\ubbfc\ub2f9 \uad6d\ud68c\uc758\uc6d0\ub4e4\uc740 \ud1b5\uc2e0 \ub300\uae30\uc5c5 NTT\uac00 \uaddc\uc81c \uc81c\ud55c \uc5c6\uc774 \ucc28\uc138\ub300 6G \uae30\uc220\uc744 \uac1c\ubc1c\ud560 \\n\uc218 \uc788\ub3c4\ub85d \uc9c0\uc6d0\ud558\uae30 \uc704\ud574 \ud574\ub2f9 \uae30\uc5c5\uc5d0 \uc801\uc6a9\ub418\ub294 \ubc95\ub960\uc744 \uac1c\uc815\ud560 \ubc29\uc548\uc744 \ubaa8\uc0c9 \uc911\uc5d0 \uc788\uc74c. \uc774\ub294 \\n6G \uad00\ub828 \uae00\ub85c\ubc8c \uacbd\uc7c1\ub825\uc744 \uac15\ud654\ud558\uae30 \uc704\ud55c \ubc29\uc548\uc73c\ub85c \ud574\uc11d\ub428\\n\u2022 NTT\ub294 1985\ub144 \ubbfc\uc601\ud654\uac00 \ub418\uba74\uc11c \uc81c\uc815\ub41c \ucd94\uac00 \uaddc\uce59\uc758 \uc801\uc6a9\uc744 \ubc1b\uace0 \uc788\uc74c. \ud574\ub2f9 \ubb38\uc81c\ub97c \\n\ub17c\uc758\ud558\uae30 \uc704\ud574 \uc790\ubbfc\ub2f9\uc740 \ud504\ub85c\uc81d\ud2b8 \ud300\uc744 \uad6c\uc131\ud568',\n",
              " 'd21': '25 \u2161. ICT \uc774\uc288 Top10 \\n \u2466\uc77c\ubcf8, \ub808\ubca8 4 \uc790\uc728\uc8fc\ud589 \ud5c8\uc6a9\\n \ub3c4\ub85c\uad50\ud1b5\ubc95 \uac1c\uc815\uc73c\ub85c \ub808\ubca8 4 \uc790\uc728\uc8fc\ud589 \ud5c8\uc6a9\\n\u2022 2023\ub144 4\uc6d4, \uc77c\ubcf8\uc740 \ub3c4\ub85c\uad50\ud1b5\ubc95 \uac1c\uc815\uc744 \ud1b5\ud574 \ud2b9\uc815 \uc870\uac74 \ud558\uc5d0\uc11c \ub808\ubca8 4 \uc644\uc804 \uc790\uc728\uc8fc\ud589\ucc28\uc758 \\n\uacf5\uacf5 \ub3c4\ub85c \uc6b4\ud589\uc744 \ud5c8\uc6a9\ud568 . \uac1c\uc815\ub41c \ubc95\uc5d0 \ub530\ub974\uba74 \uc790\uc728\uc8fc\ud589 \uc11c\ube44\uc2a4 \uc81c\uacf5\uc5c5\uccb4\ub294 \uc0c8\ub85c\uc6b4 \ud5c8\uac00 \\n\uc81c\ub3c4\uc5d0 \ub530\ub77c \uacbd\ucc30\uc5d0 \uc6b4\uc601 \uacc4\ud68d\uc744 \uc81c\ucd9c\ud574\uc57c \ud568\\n\u2022 \ud5c8\uac00 \uc694\uac74\uc5d0 \ub530\ub77c \uc6b4\uc601\uc790\ub294 \uc11c\ube44\uc2a4\ub97c \uc6d0\uaca9\uc73c\ub85c \ubaa8\ub2c8\ud130\ub9c1\ud560 \uc0ac\ub78c\uc744 \ubc30\uc815\ud558\uace0 , \uc790\uc728\uc8fc\ud589\ucc28 \\n\ub0b4\ubd80/ \uc678\ubd80 \uc0c1\ud669\uc744 \uc2dc\uccad\uac01\uc801\uc73c\ub85c \ud655\uc778\ud568 . \ub610 \uc704\uce58\ub97c \ud655\uc778\ud558\uae30 \uc704\ud55c \uc6d0\uaca9 \ubaa8\ub2c8\ud130\ub9c1 \uc7a5\ube44\ub97c \\n\uc124\uce58\ud558\uace0 , \uc0ac\uc774\ubc84\ubcf4\uc548 \uc870\uce58\ub97c \ucde8\ud574\uc57c \ud568\\n\u2022 \ub3d9\uc2dc\uc5d0 \uc77c\ubcf8\uc740 \uc790\ub3d9 \ubc30\uc1a1 \ub85c\ubd07 \uc6b4\uc601\uc790\uac00 \ub2f9\uad6d\uc5d0 \ub4f1\ub85d\ud558\ub3c4\ub85d \uc694\uad6c\ud558\ub294 \uc2dc\uc2a4\ud15c\uc744 \uc2dc\uc791\ud568 . \\n\ub85c\ubd07\uc5d0\ub294 \uc6d0\uaca9 \uc81c\uc5b4 \ud45c\uc2dc\uac00 \uc788\uc5b4\uc57c \ud558\uba70 \ube44\uc0c1 \uc815\uc9c0 \ubc84\ud2bc\uc774 \uc7a5\ucc29\ub418\uc5b4\uc57c \ud568\\n\u2022 \uc815\ubd80\ub294 2025\ub144\uae4c\uc9c0 \ucd5c\uc18c 40\uac1c \uc9c0\uc5ed\uc5d0\uc11c \ub808\ubca8 4 \uc790\uc728\uc8fc\ud589 \uc11c\ube44\uc2a4\ub97c \uc2e4\ud604\ud55c\ub2e4\ub294 \ubaa9\ud45c\ub97c \\n\uc138\uc6c0\\n\u2022 \ud55c\ud3b8 \uc5d0\uc774\ud5e4\uc774\uc9c0 (Eiheiji) \ub294 \uc77c\ubcf8 \uc815\ubd80\uc758 \ub3c4\ub85c\uad50\ud1b5\ubc95 \uac1c\uc815\uc5d0 \ub530\ub77c \ud2b9\uc815 \uc870\uac74\uc5d0\uc11c \uc644\uc804 \ubb34\uc778 \\n\uc790\ub3d9\ucc28\uac00 \uc6b4\ud589\ud560 \uc218 \uc788\ub294 \uc5ec\uac1d \uc11c\ube44\uc2a4\ub97c \uc2dc\uc791\ud568\\n[\ud45c 12] \uc77c\ubcf8 \uc2b9\uc778\ub41c \ud2b9\uc815 \uc790\uc728\uc8fc\ud589 \uc6b4\ud589 \uacc4\ud68d \uac1c\uc694\\n\uad6c\ubd84 \ub0b4\uc6a9\\n\uc0ac\uc6a9 \ucc28\ub7c9\u25b6 \uc790\uc728\uc8fc\ud589\uc5d0 \uc0ac\uc6a9\ub418\ub294 \uc790\ub3d9\ucc28 \uc870\uac74\uc740 \uc774\ud558\uc640 \uac19\uc74c\\n- \uc8fc\ud589 \ud658\uacbd \uc870\uac74\uc5d0 \ubd80\ud569\ud55c 7\uc778\uc2b9 \uc77c\ubc18 \uc790\ub3d9\ucc28 4\ub300\\n- \uae30\ubcf8 \ubaa8\ub378\uc740 \uc57c\ub9c8\ud558 \ubaa8\ud130\uc758 AR-07: \uadf8\ub9b0 \uc2ac\ub85c\uc6b0 \ubaa8\ube4c\ub9ac\ud2f0 (\uc804\ub3d9 \uce74\ud2b8 \ub3c4\ub85c\uc6a9 \uc0ac\uc591)\\n-\ud2b9\uc815 \uc790\uc728\uc8fc\ud589 \uc2dc \uacbd\ub85c \uc0c1\uc5d0\uc11c \uc0ac\uc6a9\ub418\ub294 \ucc28\ub7c9\uc740 3\ub300\uc774\uba70 , \ubcc4\ub3c4\uc758 \uc608\ube44 \ucc28\ub7c9\uc740 1\ub300\\n\uc790\uc728 \uc6b4\ud589 \uc7a5\uce58 \\n\uc8fc\ud589 \ud658\uacbd \uc870\uac74\u25b6 \ub3c4\ub85c \uc0c1\ud669 \ubc0f \uc9c0\ub9ac\uc801 \uc0c1\ud669\\n- \ub3c4\ub85c \uad6c\uac04: \\n\u2460 \ud6c4\ucfe0\uc774\ud604 , \uc694\uc2dc\ub2e4\uad70 , \uc5d0\uc774\ud5e4\ub77c\uc9c0 \uad6c\uac04: \uc6b4\ud589 \uc885\ub8cc\ub41c \uac8c\uc774\ud6c4\ucfe0 \uc804\uae30\ucca0\ub3c4 \uc5d0\uc774\ud5e4\ub77c\uc9c0\uc120 \uad6c\uac04\\n\u2461 \uc5d0\uc774\ud5e4\ub77c\uc9c0 \uad6c\uac04 \ub0a8\ubd80 \uc77c\ubd80 : \uc5d0\uc774\ud5e4\uc774\uc9c0\ub9c8\uce58 \uc544\ub77c\ud0c0\ub2c8\uc5d0\uc11c \uc2dc\ube44 \uc0ac\uc774\uc758 \uc57d 2 km\\n-\ub3c4\ub85c \ud658\uacbd: \uc804\uc790\uae30 \uc720\ub3c4\uc120\uacfc RFID\uc5d0 \uc758\ud55c \uc8fc\ud589 \uacbd\ub85c\\n\u25b6 \ud658\uacbd \uc870\uac74\\n-\uae30\uc0c1 \uc0c1\ud669: \uc8fc\ubcc0 \ubcf4\ud589\uc790\ub97c \uac10\uc9c0\ud560 \uc218 \uc5c6\ub294 \uac15\uc6b0, \uac15\uc124 \ub4f1 \uc545\ucc9c\ud6c4 , \ub18d\ubb34, \uc57c\uac04 \ubd88\uac00\\n-\uad50\ud1b5 \uc0c1\ud669: \uae34\uae09\ucc28\ub7c9\uc774 \ub3c4\ub85c\uc5d0 \uc874\uc7ac\ud558\uc9c0 \uc54a\uc740 \uc0c1\ud0dc\\n\u25b6 \uc8fc\ud589 \uc0c1\ud669\\n-\ucc28\ub7c9 \uc18d\ub3c4: \uc790\uc728\uc8fc\ud589 \ucc28\ub7c9\uc758 \uc6b4\ud589 \uc18d\ub3c4\ub294 12km/h \uc774\ud558\\n-\ucc28\ub7c9 \uc8fc\ud589 \uc0c1\ud669\\n\u2460 \uc790\ub3d9\ucc28\uac00 \uc804\uc790\uc720\ub3c4\uc120 \uc0c1\uc5d0 \uc788\uc73c\uba70 , \ucc28\ub7c9\uc774 \uac10\uc9c0 \uac00\ub2a5\ud55c \uc790\uae30 \uc874\uc7ac\\n\u2461 \ub3c4\ub85c\uac00 \ub3d9\uacb0\ub418\uac70\ub098 \ubd88\uc548\uc815\ud558\uc9c0 \uc54a\uc740 \uc0c1\ud0dc\\n\ud2b9\uc815 \uc790\uc728 \uc6b4\ud589 \\n\uacbd\ub85c\u25b6 \ud2b9\uc815 \uc790\uc728\uc8fc\ud589 \uacbd\ub85c\ub294 \ub9c8\uc744 \ub3c4\ub85c \u2018\uc5d0\uc774\ud5e4\uc774\uc9c0\uc0b0 \ucc38\ub85c\ub3c4 \u2019\uc758 \ub0a8\ucabd \uc57d 2km\ub97c \uc0ac\uc6a9\\n\ucd9c\ucc98 : Japan-briefing',\n",
              " 'd22': '26 \u2161. ICT \uc774\uc288 Top10 \\n \u2467\uc77c\ubcf8, \uc0dd\uccb4\uc778\uc2dd \uacb0\uc81c \ub3c4\uc785 \uc99d\uac00 \\n \uc11c\uc77c\ubcf8 \uc5ec\uac1d \ucca0\ub3c4, \uc5bc\uad74 \uc778\uc2dd \ubc1c\uad8c \uc2dc\uc2a4\ud15c \uc2dc\ubc94 \uc6b4\ud589\\n\u2022 \uc11c\uc77c\ubcf8 \uc5ec\uac1d \ucca0\ub3c4(JR West) \ub294 \uc5f4\ucc28 \uc11c\ube44\uc2a4\ub97c \uc774\uc6a9\ud558\ub294 \uc2b9\uac1d\ub4e4\uc744 \uc704\ud55c \ube44\uc811\ucd09\uc2dd \uc0dd\uccb4\uc778\uc2dd \\n\ubc1c\uad8c \uc2dc\uc2a4\ud15c\uc744 \uc2dc\ud5d8 \uc6b4\uc601\ud568 . \ud574\ub2f9 \uc2dc\uc2a4\ud15c\uc744 \ud1b5\ud574 \uace0\uac1d\ub4e4\uc740 \uc548\uba74 \uc778\uc2dd \uae30\ub2a5\uc73c\ub85c \uc694\uae08\uc744 \\n\uc9c0\ubd88\ud560 \uc218 \uc788\uc74c\\n\u2022 \ucca0\ub3c4 \uc6b4\uc601\uc0ac\ub294 \uce74\uba54\ub77c\ub97c \uc0ac\uc6a9\ud558\uc5ec \uace0\uac1d\uc758 \uc5bc\uad74\uc744 \ud310\ub3c5\ud558\uace0 \uc0ac\uc804 \ub4f1\ub85d\ub41c \uc0ac\uc9c4\uacfc \uc77c\uce58\uc2dc\ucf1c \\n\uac04\ub2e8\ud788 \ud1b5\uacfc\ud560 \uc218 \uc788\ub3c4\ub85d \ud568. \ud574\ub2f9 \uc548\uba74 \uc778\uc2dd \uae30\uc220\uc740 \uc624\uc0ac\uce74 \ubc0f \uc2e0\uc624\uc0ac\uce74 \uc5ed\uc758 \uac1c\ucc30\uad6c\uc5d0\uc11c \\n\uc2dc\uc791\ub428\\n\u2022 \uc2dc\ubc94 \uc6b4\ud589\uc744 \ud1b5\ud574 \uc5bc\uad74\uc744 \ud575\uc2ec\uc73c\ub85c \ud558\ub294 \u2018\ud2f0\ucf13\ub9ac\uc2a4 (tickerless) \uc778\uc99d \ubc29\uc2dd\u2019\uc744 \uac80\uc99d\ud568 . \uc774\ub97c \\n\ud1b5\ud574 \ub514\uc9c0\ud138 \uae30\uc220\uacfc \ud604\uc2e4 \uc138\uacc4\ub97c \uacb0\ud569\ud55c \ucc28\uc138\ub300 \uc2ec\ub9ac\uc2a4 \ubaa8\ubc14\uc77c \uc11c\ube44\uc2a4 \uad6c\ucd95\uc744 \uacfc\uc81c\ub85c \uc0bc\uace0 \\n\uc548\uba74 \uc778\uc99d \uac1c\ucc30\uad6c\ub97c \uac1c\ubc1c\ud560 \uacc4\ud68d\uc784\\n \uc57c\ud6c4! \ub9c8\ud2b8, \uc548\uba74 \uc0dd\uccb4\uc778\uc2dd \uacb0\uc81c \ucd9c\uc2dc\\n\u2022 Yahoo! \ub9c8\ud2b8(Yahoo! Mart) \ub294 \uc778\ub825 \ubd80\uc871 \ubb38\uc81c \ud574\uacb0 \ubc0f \uc6d0\ud65c\ud55c \uace0\uac1d \uacbd\ud5d8 \uc81c\uacf5\uc744 \uc704\ud574 \\n\uace0\uac1d\uc774 \uc548\uba74 \uc778\uc2dd\uc744 \ud1b5\ud574 \uacb0\uc81c\ud560 \uc218 \uc788\ub294 \uc140\ud504 \uc11c\ube44\uc2a4 POS(Point-of-Sale) \uae08\uc804 \ub4f1\ub85d\uae30\ub97c \\n\ub3c4\uc785\ud558\uace0 \uc788\uc74c\\n\u2022 \uc548\uba74 \uc778\uc2dd \ubc29\ubc95\uc73c\ub85c \uacb0\uc81c\ud558\ub824\ub294 \uc18c\ube44\uc790\ub294 \uc57c\ud6c4! ID \ubc0f \ud398\uc774\ud398\uc774 (PayPay) \uacc4\uc815\uc5d0 \uc5f0\uacb0\ub41c \\n\uc6f9\uc0ac\uc774\ud2b8\uc5d0 \uc5bc\uad74 \uc774\ubbf8\uc9c0\ub97c \ub4f1\ub85d\ud574\uc57c \ud568. \uc140\ud504 \uacc4\uc0b0\ub300\uc5d0\uc11c \uace0\uac1d\uc740 \uc0c1\ud488\uc5d0 \ubd80\ucc29\ub41c \ubc14\ucf54\ub4dc\ub97c \\n\uc2a4\uce94\ud55c \ud6c4 \u2018\uc548\uba74 \uc778\uc2dd \uacb0\uc81c\u2019 \uc635\uc158\uc744 \uc120\ud0dd\ud55c \ud6c4 \uce74\uba54\ub77c\ub97c \ubc14\ub77c\ubcf4\uc544\uc57c \ud568. \uc778\uc2dd \uacfc\uc815\uc774 \\n\uc131\uacf5\ud558\uba74 \uc18c\ube44\uc790\uc758 \ud398\uc774\ud398\uc774 \uc794\uc561\uc744 \ud65c\uc6a9\ud574 \uacb0\uc81c\uac00 \uc644\ub8cc\ub428\\n \uc138\ube10\uc77c\ub808\ube10 , ATM \uac70\ub798\uc5d0 \uc5bc\uad74 \uc0dd\uccb4\uc778\uc2dd \uae30\uc220 \ub3c4\uc785\\n\u2022 \uc77c\ubcf8 \uc138\ube10\uc740\ud589 (Seven Bank) \ub294 2024\ub144 3\uc6d4\uae4c\uc9c0 \uc804\uad6d \uc138\ube10\uc77c\ub808\ube10\uc5d0 \uc788\ub294 \uc57d 2\ub9cc \ub300\uc758 \\nATM\uc5d0\uc11c \uace0\uac1d\uc774 \uc548\uba74 \uc778\uc2dd\uc744 \uc0ac\uc6a9\ud574 \uc785\ucd9c\uae08\uc744 \ud560 \uc218 \uc788\ub3c4\ub85d \ud560 \uac83\uc774\ub77c \ubc1d\ud798. \ud574\ub2f9 \\n\uc11c\ube44\uc2a4\ub294 \uc77c\ubcf8 \ucd5c\ucd08\uc758 \uc11c\ube44\uc2a4\uac00 \ub420 \uac83\uc73c\ub85c \uae30\ub300\ub428\\n\u2022 \uc548\uba74 \uc778\uc2dd\uc744 \uc774\uc6a9\ud558\uae30 \uc704\ud574 \uace0\uac1d\uc740 \uc138\ube10\uc740\ud589 ATM\uc5d0\uc11c \uacc4\uc88c \uc815\ubcf4\ub97c \uc0dd\uccb4 \uc778\uc2dd\uc5d0 \uc5f0\uacb0\ud574\uc57c \\n\ud568. \uc774\ud6c4 \ucd94\uac00 \ubcf4\uc548 \uc870\uce58\ub85c \ud5a5\ud6c4 \uac70\ub798\uc5d0 \ud544\uc694\ud55c \uace0\uc720 ID \uce74\ub4dc\ub97c \ubc1b\uac8c \ub428',\n",
              " 'd23': '27 \u2161. ICT \uc774\uc288 Top10 \\n \u2468\uc77c\ubcf8, \ud589\uc815 \uc11c\ube44\uc2a4 \ub514\uc9c0\ud138\ud654 \ub178\ub825 \\n \uc77c\ubcf8 \uc758\ub8cc\uacc4 , \uc804\uc790 \ucc98\ubc29\uc804 \uc810\uc9c4\uc801 \ub3c4\uc785\\n\u2022 \uc77c\ubcf8 \uc758\ub8cc\uacc4\ub294 \uc804\uc790 \ucc98\ubc29\uc804\uc744 \uc810\uc9c4\uc801\uc73c\ub85c \ub3c4\uc785\ud558\uace0 \uc788\uc74c. \ud574\ub2f9 \uc81c\ub3c4\ub294 \ud658\uc790\uc758 \ub3d9\uc758\ud558\uc5d0 \\n\uc758\ub8cc \uae30\uad00 \ub610\ub294 \uc57d\uad6d\uc5d0\uc11c \ucc98\ubc29 \ub370\uc774\ud130\ub97c \ud655\uc778\ud560 \uc218 \uc788\ub3c4\ub85d \ud558\ub294 \uad6c\uc870\uc784\\n\u2022 \uc804\uc790 \ucc98\ubc29\uc804\uc740 \ud658\uc790\uc758 \ub9c8\uc774 \ub118\ubc84 \ubcf4\ud5d8\uc99d\uacfc \ud568\uaed8 \ud65c\uc6a9\ud574 \uacfc\uac70 \ubcf5\uc57d \uc815\ubcf4\ub3c4 \ud655\uc778 \uac00\ub2a5\ud568 . \ub610 \\n\ubcd1\uc6a9 \uae08\uc9c0\uc57d\uc758 \ubcf5\uc6a9 \uc608\ubc29\uc5d0 \ub3c4\uc6c0\uc774 \ub418\uba70, \uc911\ubcf5 \ucc98\ubc29\uc744 \ud53c\ud568\uc73c\ub85c\uc368 \uc758\ub8cc\ube44 \uc5b5\uc81c\ub85c \uc774\uc5b4\uc9c8 \\n\uac00\ub2a5\uc131\uc774 \uc874\uc7ac\ud568\\n\u2022 \uc57c\ub9c8\uac00\ud0c0\ud604 \uc0ac\uce74\ud0c0\uc2dc \ub4f1\uc758 \uc758\ub8cc \uae30\uad00 \ubc0f \uc57d\uad6d\uc5d0\uc11c 2022\ub144 10\uc6d4\ubd80\ud130 \uc120\ud589 \ub3c4\uc785\ud558\uace0 \uc788\uc74c. \\n\ub3c4\uc785\ud558\ub294 \uc758\uc0ac\uc640 \uc57d\uc0ac\ub294 \ubcf8\uc778 \ud655\uc778 \ubc0f \ud658\uc790 \ud655\uc778\uc744 \uc704\ud55c \uc2dc\uc2a4\ud15c , \uadf8\ub9ac\uace0 \ud658\uc790\uc758 \ub9c8\uc774 \ub118\ubc84 \\n\ubcf4\ud5d8\uc99d\uc744 \uc0ac\uc6a9\ud558\ub294 \uc2dc\uc2a4\ud15c\uc774 \ud544\uc694\ud568\\n \uc77c\ubcf8 \ud6c4\uc0dd\ub178\ub3d9\uc131 , \uc804\uc790 \ubcf4\ud5d8\uc99d -\ub9c8\uc774\ub118\ubc84 \ud1b5\ud569\\n\u2022 \uc77c\ubcf8 \ud6c4\uc0dd\ub178\ub3d9\uc131\uc740 2024\ub144 12\uc6d4\uae4c\uc9c0 \ud604\uc7ac\uc758 \uac74\uac15\ubcf4\ud5d8\uc99d \ubc1c\ud589\uc744 \uc885\ub8cc \ubc0f \ud3d0\uc9c0\ud560 \ubc29\uce68\uc744 \\n\uad73\ud798. \uae30\uc2dc\ub2e4 \ud6c4\ubbf8\uc624 (\u5cb8\u2f65\u2f42\u96c4 ) \ucd1d\ub9ac\ub294 \uac74\uac15 \ubcf4\ud5d8\uc99d\uc744 \ud3d0\uc9c0\ud558\uace0 \ub9c8\uc774 \ub118\ubc84 \uce74\ub4dc\ub97c \\n\ubcf4\ud5d8\uc99d\uc73c\ub85c \uc0ac\uc6a9\ud558\ub294 \u2018\ub9c8\uc774\ub108 \ubcf4\ud5d8\uc99d \u2019\uc73c\ub85c \uc774\ud589\ud560 \ubc29\uce68\uc744 \ud45c\uba85\ud568\\n\u2022 \uac74\uac15\ubcf4\ud5d8\uc99d\uc740 \ud3d0\uc9c0\ub41c \ud6c4\uc5d0\ub3c4 \uc720\uc608\uae30\uac04\uc73c\ub85c\uc11c \ucd5c\uc7a5 1\ub144\uac04 \uc0ac\uc6a9\ud560 \uc218 \uc788\uc74c\\n \uc77c\ubcf8 \ubc95\ubb34\ubd80 , \uc804\uc790 \uad6c\uc18d \uc601\uc7a5\u00b7\uc2ec\ubb38\uae30\ub85d \ub3c4\uc785\\n\u2022 2023\ub144 12\uc6d4 \uc77c\ubcf8 \ubc95\ubb34\ubd80\ub294 \ud615\uc0ac \uc808\ucc28\uc758 \ub514\uc9c0\ud138\ud654\ub97c \ucd09\uc9c4\ud558\uae30 \uc704\ud574 \uc804\uc790 \uccb4\ud3ec \uc601\uc7a5\uacfc \\n\uc2ec\ubb38 \uae30\ub85d\uc744 \ub3c4\uc785\ud560 \uacc4\ud68d\uc774\ub77c\uace0 \ubc1d\ud798. \ubc95\ubb34\ubd80\ub294 \uc790\ubb38\uc704\uc6d0\ud68c\uc758 \uc81c\uc548\uc744 \ubc14\ud0d5\uc73c\ub85c 2024\ub144 \\n\uad6d\ud68c\uc5d0 \ud615\uc0ac\uc18c\uc1a1\ubc95 \uac1c\uc815\uc548\uc744 \uc81c\ucd9c\ud560 \uc608\uc815\uc774\ub77c\uace0 \uc804\ud568\\n\u2022 \uc81c\uc548\uc5d0\ub294 \uc9c8\ubcd1\uc774\ub098 \uc7a5\uc560\uac00 \uc788\ub294 \ud53c\uace0\uc778\uc774 \ube44\ub514\uc624 \ub9c1\ud06c\ub97c \ud1b5\ud574 \uc6d0\uaca9\uc73c\ub85c \uc7ac\ud310\uc5d0 \ucc38\uc11d\ud560 \uc218 \\n\uc788\ub3c4\ub85d \ud558\ub294 \ubc29\ubc95\uc774 \ud3ec\ud568\ub428 . \uae30\ud0c0 \uc870\uc0ac \ubc0f \ud615\uc0ac \uc808\ucc28\ub3c4 \uc628\ub77c\uc778\uc73c\ub85c \uacf5\uac1c\ub420 \uc608\uc815\uc774\uba70 \uae30\uc18c \\n\ubc0f \ubcf4\uc11d\uacfc \uad00\ub828\ub41c \uc808\ucc28\ub3c4 \ud3ec\ud568\ub428',\n",
              " 'd24': '28 \u2161. ICT \uc774\uc288 Top10\\n \u2469\uc77c\ubcf8, \uc778\uc7ac \ubd80\uc871\uc73c\ub85c \ub514\uc9c0\ud138 \uc778\ub825 \uac15\ud654\uc5d0 \ud798\uc368 \\n \uc778\ub825 \ubd80\uc871\uc744 \ub9c9\uae30 \uc704\ud574 \ub514\uc9c0\ud138 \uad50\uc721 \uac15\ud654\\n\u2022 \uc77c\ubcf8 \uc815\ubd80\ub294 AI \ub4f1 \uc778\uc7ac \ubd80\uc871\uc5d0 \uc9c1\uba74\ud55c \ubd84\uc57c\uc5d0 \ub300\ud55c \uad50\uc721\uc744 \uac15\ud654\ud558\uae30 \uc704\ud574 2024\ub144 \\n\ud68c\uacc4\uc5f0\ub3c4\uae4c\uc9c0 \ud574\ub2f9 \ubd84\uc57c\uc5d0\uc11c \uacf5\ubd80\ud558\ub294 \ud559\uc0dd\uc744 11\ub9cc \uba85\uc73c\ub85c \uc99d\ub300\ud560 \uacc4\ud68d\uc744 \ubc1c\ud45c\ud568 . \uc774\ub97c \\n\uc704\ud574 \ud559\uc0dd \ubc0f \uc9c1\uc7a5\uc778\uc774 \ub514\uc9c0\ud138 \uae30\uc220\uc744 \uc2b5\ub4dd\ud560 \uc218 \uc788\ub294 \uae30\ud68c\ub97c \ud655\ub300\ud560 \uacc4\ud68d\uc784\\n\u2022 \uc77c\ubcf8\uc5d0\ub294 \uc57d 100\ub9cc \uba85\uc758 \ub514\uc9c0\ud138 \uc778\ub825\uc774 \uc788\uc74c. \uc77c\ubcf8 \uc815\ubd80\ub294 2026\ub144 \ud68c\uacc4\uc5f0\ub3c4\uae4c\uc9c0 230\ub9cc \\n\uba85\uc758 \ub514\uc9c0\ud138 \uc778\ub825\uc774 \ubd80\uc871\ud560 \uac83\uc73c\ub85c \uc608\uc0c1\ud568\\n\u2022 \uc77c\ubcf8\uc740 \ud544\uc694\ud55c \uc9c0\uc2dd \ubc0f \uae30\uc220\uc744 \uac00\ub974\uce58\ub294 \uacfc\uc815\uc5d0 \uc778\uc99d\uc744 \ubd80\uc5ec\ud568 . \uac15\uc0ac \ubd80\uc871\uc774 \uc6b0\ub824\ub418\ub294 \ub9cc\ud07c \\n\uc815\ubd80\ub294 \uae30\uc5c5\uc5d0\uc11c \uc2e4\ubb34 \uacbd\ud5d8\uc774 \uc788\ub294 \uc804\ubb38\uac00\ub97c \ud30c\uacac\ud560 \uc218 \uc788\ub3c4\ub85d \ud558\ub294 \ubc29\uc548\uc744 \uac80\ud1a0\ud560 \uc608\uc815\uc784\\n\u2022 \ud55c\ud3b8 \uacbd\uc81c\uc0b0\uc5c5\uc131 (METI) \uc740 2023\ub144 8\uc6d4 \ub514\uc9c0\ud138 \uc778\uc7ac \uc131 \uc9c0\uce68\uc5d0 \uc0dd\uc131\ud615 AI\ub97c \ucd94\uac00\ud568\\n AI \uc778\ub825 \uc9c0\uce68 \uacc4\ud68d\\n\u2022 \uc77c\ubcf8 \uacbd\uc81c\uc0b0\uc5c5\uc131\uc740 \uae30\uc5c5\uc774 \uc0dd\uc131 AI \ud65c\uc6a9\uc5d0 \ub2a5\uc219\ud55c \uc778\uc7ac\ub97c \uc721\uc131\ud558\uae30 \uc704\ud55c \uc0c8\ub85c\uc6b4 \uc9c0\uce68\uc744 \\n\ub9c8\ub828\ud568 . \uc9c0\uce68\uc5d0\ub294 \uc0dd\uc131\ud615 AI\ub97c \ucd5c\ub300\ud55c \ud65c\uc6a9\ud558\uae30 \uc704\ud55c \uc758\uc0ac\uc18c\ud1b5 \uae30\uc220\uc758 \ud544\uc694\uc131\uc744 \uc5b8\uae09\ud558\ub294 \\n\ub3d9\uc2dc\uc5d0 \uae30\uc220\uc5d0 \ub300\ud55c \uacfc\ub3c4\ud55c \uc758\uc874\uc744 \uacbd\uace0\ud558\uace0 \uc724\ub9ac\uc640 \uad50\uc721\uc758 \uc911\uc694\uc131\uc744 \uc9c0\uc801\ud568\\n\u2022 \uc77c\ubcf8\uc5d0\ub294 AI \ubc0f \ub370\uc774\ud130 \ubd84\uc11d \uc804\ubb38 \uc778\ub825\uc774 \ubd80\uc871\ud568 . \uc774\uc5d0 \ub530\ub77c \uc815\ubd80 \ub2f9\uad6d\uc740 \uac00\uc774\ub4dc\ub77c\uc778\uc744 \\n\ud1b5\ud574 AI\uc758 \uc801\uc808\ud55c \ud65c\uc6a9\uc744 \uc7a5\ub824\ud558\uace0 \uae30\uc5c5\uc758 \ub514\uc9c0\ud138 \uc804\ud658\uc744 \uc9c0\uc6d0\ud558\ub294 \uac83\uc744 \ubaa9\ud45c\ub85c \ud558\uace0 \uc788\uc74c. \\n\uc77c\ubcf8 \uad50\uc721\ubd80\ub294 \ub514\uc9c0\ud138 \ubd84\uc57c\uc758 \uae30\uc220\uacfc \uae30\ud0c0 \uce21\uba74\uc744 \uac1c\uad04\uc801\uc73c\ub85c \uc124\uba85\ud558\ub294 \uc778\uc801\uc790\uc6d0 \uac1c\ubc1c \\n\uc9c0\uce68\uc778 \ub514\uc9c0\ud138 \uae30\uc220 \ud45c\uc900 \uac1c\uc815\ud310\uc744 \ubc1c\ud45c\ud568\\n\u2022 AI \uc778\ub825 \uc9c0\uce68 \uac00\uc774\ub4dc\ub77c\uc778\uc5d0\ub294 \uc0dd\uc131\ud615 AI \ud65c\uc6a9\uc774 \uc815\ubcf4 \uc720\ucd9c \ub4f1 \ub9ac\uc2a4\ud06c\uc640 \ubd88\uac00\ubd84\uc758 \uad00\uacc4\uac00 \\n\uc788\uc73c\uba70 , \uc724\ub9ac\uc640 \uad50\uc591\uc774 \uc911\uc694\ud558\ub2e4\uace0 \uc9c0\uc801\ud568 . \uc774\uc5d0 \ub530\ub77c \uae30\uc5c5\ub4e4\uc774 \uc790\uccb4 \uac00\uc774\ub4dc\ub77c\uc778\uc744 \ub9c8\ub828\ud560 \\n\uac83\uc744 \ucd09\uad6c\ud568\\n\u2022 \uc0dd\uc131\ud615 AI \ud65c\uc6a9\uc5d0 \ub300\ud574\uc11c\ub294 \uc800\uc791\uad8c \uce68\ud574 \ub4f1 \uc6b0\ub824\uac00 \uc874\uc7ac\ud568\uc5d0 \ub530\ub77c \uc77c\ubcf8 \uc815\ubd80\ub294 \uad00\ub828 \\n\uc704\ud5d8\uacfc \ub300\ucc45\uc5d0 \uad00\ud55c \ubcc4\ub3c4\uc758 \uc9c0\uce68\uc744 \ub9c8\ub828\ud568',\n",
              " 'd25': '29 [\ucc38\uace0\ubb38\ud5cc ]\\n\u25a0\ucc38\uace0 \uc790\ub8cc\\n1. \uc678\uad50\ubd80 , \u300c\uad6d\uac00\uac1c\ud669 \u300d\\n2. \uc138\uacc4\uc9c0\uc801\uc7ac\uc0b0\uad8c\uae30\uad6c (WIPO), \u300cGlobal Innovation Index 2023\u300d, 2023\\n3. \u500b\u2f08\u60c5\u5831\u4fdd\u8b77\u59d4\u54e1 \u4f1a , \u300c\u2f63\u6210AI\u30b5\u30fc\u30d3\u30b9\u306e \u5229\u2f64\u306b\u95a2\u3059\u308b\u6ce8\u610f\u559a\u8d77\u7b49 \u300d, 2023.06.02\\n4.\u5185\u95a3\u5e9c\u79d1\u5b66\u6280\u8853\u30fb \u30a4 \u30ce \u30d9 \u30fc \u30b7 \u30e7 \u30f3 \u63a8 \u9032 \u4e8b \u52d9 \u5c40 , \\n\u300cAI\u5b66\u7fd2\u30c7\u30fc\u30bf\u306e \u63d0\u4f9b\u4fc3\u9032 \u306b\u5411\u3051\u305f\u30a2\u30af\u30b7\u30e7\u30f3\u30d7\u30e9\u30f3 ver1.0 \u300d, 2023.11.07\\n5. \u7d4c\u6e08\u7523\u696d\u7701\u5546\u52d9\u60c5\u5831\u653f\u7b56\u5c40, \u300c\u534a\u5c0e\u4f53 \u30fb\u30c7\u30b8\u30bf\u30eb \u7523\u696d\u6226\u7565\uff08\u6539\u5b9a\u6848 \uff09\u300d, 2023.05\\n6. \u7d4c\u6e08\u7523\u696d\u653f\u7b56\u5c40, \u300c\u7523\u696d\u7af6 \u4e89\u2f12\u5f37\u5316\u6cd5\u306e\u2f92\u76f4\u3057\u300d\u306b\u3064\u3044\u3066 \u2461\u300d, 2023.12\\n7.\u30c7\u30b8\u30bf\u30eb \u6642\u4ee3\u306e\u2f08\u6750\u653f\u7b56 \u306b\u95a2\u3059\u308b\u691c\u8a0e\u4f1a, \u300c\u2f63\u6210AI\u6642\u4ee3\u306eDX\u63a8\u9032\u306b\u5fc5\u8981\u306a\u2f08\u6750\u30fb\u30b9\u30ad\u30eb\u306e \u8003\u3048\u2f45 \u300d, \\n2023.08.07\\n\u25a0\ucc38\uace0 \uc0ac\uc774\ud2b8\\n1. \uc6d4\ub4dc\ubc45\ud06c (World Bank) (data.worldbank.org)\\n2. SP \uae00\ub85c\ubc8c (SP Global) (www.spglobal.com)\\n3. \uc77c\ubcf8 \ucd1d\ubb34\uc131 (MIC) (www.soumu.go.jp)\\n4. \uc77c\ubcf8 \ubb38\ubd80\uacfc\ud559\uc131 (MEXT) (www.mext.go.jp)\\n5 \uc77c\ubcf8 \uacbd\uc81c\uc0b0\uc5c5\uc131 (METI) (www.meti.go.jp)\\n6. \uc77c\ubcf8 \ub514\uc9c0\ud138\uccad (\u30c7\u30b8\u30bf\u30eb \u5e81) (www.digital.go.jp)\\n7. w.media(w.media)\\n8. asia.nikkei(asia.nikkei.com)\\n9. japannews(japannews.yomiuri.co.jp)\\n10. coindesk(www.coindesk.com)\\n11. forkast(forkast.news)\\n12. cryptonews(cryptonews.com)\\n13. indiatimes(economictimes.indiatimes.com)\\n14. nhk(www3.nhk.or.jp)\\n15. reuters(www.reuters.com)\\n16. asiatimes(asiatimes.com)\\n17. nikkei(www.nikkei.com)\\n18. japantimes(www.japantimes.co.jp)\\n19. nippon(www.nippon.com)\\n20. meti(www.meti.go.jp)\\n21. paymentsjournal(www.paymentsjournal.com)\\n22. nfcw(www.nfcw.com)\\n23. biometricupdate(www.biometricupdate.com)\\n24. mainichi(mainichi.jp)',\n",
              " 'd26': '\u00b7 \ubc1c\ud589\u2024\ud3b8\uc9d1 : \uc815\ubcf4\ud1b5\uc2e0\uc0b0\uc5c5\uc9c4\ud765\uc6d0\\n\u00b7 \ubc1c\ud589\uc77c\uc790 : 2024.2.8\\n\ud574\ub2f9 \uc6d0\uace0\uc5d0 \ub300\ud574 \uc0ac\uc804 \ub3d9\uc758 \uc5c6\uc774 \uc0c1\uc5c5 \uc0c1 \ub610\ub294 \ub2e4\ub978 \ubaa9\uc801\uc73c\ub85c\\n\ubb34\ub2e8 \uc804\uc7ac\u00b7\ubcc0\uacbd\u00b7\uc81c 3\uc790 \ubc30\ud3ec \ub4f1\uc744 \uae08\ud569\ub2c8\ub2e4 .\\n\ub610\ud55c \ubcf8 \uc6d0\uace0\ub97c \uc778\uc6a9\ud558\uc2dc\uac70\ub098 \ud65c\uc6a9\ud558\uc2e4 \uacbd\uc6b0\\n\u25b3\ucd9c\ucc98 \ud45c\uae30 \u25b3\uc6d0\ubcf8 \ubcc0\uacbd \ubd88\uac00 \ub4f1\uc758 \uc774\uc6a9 \uaddc\uce59\uc744 \uc9c0\ud0a4\uc154\uc57c \ud569\ub2c8\ub2e4 . \\nCopyright 2024 NIPA \uc815\ubcf4\ud1b5\uc2e0\uc0b0\uc5c5\uc9c4\ud765\uc6d0 All Rights Reserved. \\nPrinted in Korea'}"
            ]
          },
          "metadata": {},
          "execution_count": 23
        }
      ]
    },
    {
      "cell_type": "code",
      "source": [
        "dataset['queries']"
      ],
      "metadata": {
        "colab": {
          "base_uri": "https://localhost:8080/"
        },
        "id": "r02-F7ER1FFL",
        "outputId": "7da292dc-9ba2-4056-b089-0633b53cd9c7"
      },
      "execution_count": null,
      "outputs": [
        {
          "output_type": "execute_result",
          "data": {
            "text/plain": [
              "{'q0': '\uc77c\ubcf8\uc5d0\uc11c \uc544\uc2dc\uc544\uc5d0\uc11c \ub450 \ubc88\uc9f8\ub85c \ud070 \ub370\uc774\ud130\uc13c\ud130 \ud5c8\ube0c\ub85c \uc790\ub9ac \uc7a1\uc740 \uc774\uc720\ub294 \ubb34\uc5c7\uc778\uac00\uc694?',\n",
              " 'q1': '\uc77c\ubcf8\uc774 6G \uae30\uc220 \uac15\ud654\ub97c \uc704\ud574 \uc5b4\ub5a4 \ud611\ub825 \ubc0f \uaddc\uc81c \uc644\ud654 \uc870\uce58\ub97c \ucde8\ud558\uace0 \uc788\ub098\uc694?',\n",
              " 'q2': 'ICT \uc815\ubd80\uae30\uad6c\uc758 \uc8fc\uc694 \uc5ed\ud560\uacfc \uae30\ub2a5\uc740 \ubb34\uc5c7\uc778\uac00\uc694?',\n",
              " 'q3': '\ud55c\uad6d\uacfc\uc758 \ud611\ub825 \ubc0f \uad6d\ub0b4\uae30\uc5c5\uc758 ICT \uc0b0\uc5c5 \uc9c4\ucd9c \uc0ac\ub840\ub294 \uc5b4\ub5a4 \uac83\ub4e4\uc774 \uc788\ub098\uc694?',\n",
              " 'q4': '2023\ub144 \uc77c\ubcf8\uc758 \uae00\ub85c\ubc8c \ud601\uc2e0\uc9c0\uc218 \uc21c\uc704\ub294 \uba87 \uc704\uc778\uac00\uc694?',\n",
              " 'q5': '2023\ub144 \uc77c\ubcf8\uc758 \uacbd\uc81c \ud65c\uc131\ud654\ub97c \uc704\ud574 \uae30\uc2dc\ub2e4 \ud6c4\ubbf8\uc624 \ucd1d\ub9ac\uac00 \ucd08\uc810\uc744 \ub9de\ucd94\uace0 \uc788\ub294 \uc815\ucc45\uc740 \ubb34\uc5c7\uc778\uac00\uc694?',\n",
              " 'q6': '\uc77c\ubcf8 \ucd1d\ubb34\uc131(MIC)\uc774 \ub2f4\ub2f9\ud558\ub294 \uc8fc\uc694 \ubd84\uc57c\ub294 \ubb34\uc5c7\uc778\uac00\uc694?',\n",
              " 'q7': '\uc77c\ubcf8 \ucd1d\ubb34\uc131\uc774 \ucd5c\uadfc \ubc1c\uac04\ud55c \ub85c\uceec 5G \uad00\ub828 \uac00\uc774\ub4dc\ub77c\uc778\uc758 \ubaa9\uc801\uc740 \ubb34\uc5c7\uc778\uac00\uc694?',\n",
              " 'q8': '\uc77c\ubcf8 \ubb38\ubd80\uacfc\ud559\uc131(MEXT)\uc740 \uad50\uc721 \ubd80\ubb38\uc5d0\uc11c \uc5b4\ub5a4 \ub514\uc9c0\ud138 \uc804\ud658(DX) \ud504\ub85c\uc81d\ud2b8\ub97c \ucd94\uc9c4\ud558\uace0 \uc788\ub098\uc694?',\n",
              " 'q9': '\uc77c\ubcf8 \ubb38\ubd80\uacfc\ud559\uc131\uc774 \ub3c4\ub3c4\ubd80\ud604\uc5d0 \uc870\uc131\ud55c ICT \uad00\ub828 \uae30\uae08 \uaddc\ubaa8\ub294 \uc5bc\ub9c8\uc774\uba70, \uc774 \uae30\uae08\uc740 \uc5b4\ub5a4 \ubaa9\uc801\uc744 \uc704\ud574 \uc0ac\uc6a9\ub418\ub098\uc694?',\n",
              " 'q10': '\uc77c\ubcf8 \uacbd\uc81c\uc0b0\uc5c5\uc131(METI)\uc740 \uc5b4\ub5a4 \ubd84\uc57c\uc5d0\uc11c \uad6d\uc81c \ud45c\uc900\uc744 \ubc1c\ud45c\ud588\uc73c\uba70, \uadf8 \ubaa9\uc801\uc740 \ubb34\uc5c7\uc785\ub2c8\uae4c?',\n",
              " 'q11': '\uc77c\ubcf8 \uacbd\uc81c\uc0b0\uc5c5\uc131\uc774 \ucd5c\uadfc \uc2dc\uc791\ud55c \uc790\uc728\uc8fc\ud589 \ubaa8\ube4c\ub9ac\ud2f0 \uc11c\ube44\uc2a4 \ud504\ub85c\uc81d\ud2b8\ub294 \uc5b4\ub5a4 \ubd80\uc11c\uc640 \ud611\uc5c5\ud558\uc5ec \uc9c4\ud589\ub418\uc5c8\uc2b5\ub2c8\uae4c?',\n",
              " 'q12': '\uc77c\ubcf8 \ub514\uc9c0\ud138\uccad\uc758 \ubc1c\uc871 \uc2dc\uae30\uc640 \uadf8 \ubaa9\ud45c\ub294 \ubb34\uc5c7\uc778\uac00\uc694?',\n",
              " 'q13': '\uc77c\ubcf8 \ub514\uc9c0\ud138\uccad\uc5d0\uc11c \ucd5c\uadfc \uc2e4\ud589\ud55c \uc815\ucc45 \uc911 \ud558\ub098\ub85c \uc2a4\ub9c8\ud2b8\ud3f0\uacfc \uad00\ub828\ub41c \uc11c\ube44\uc2a4\ub294 \ubb34\uc5c7\uc778\uac00\uc694?',\n",
              " 'q14': \"\uc77c\ubcf8 \uac1c\uc778\uc815\ubcf4\ubcf4\ud638\uc704\uc6d0\ud68c\uac00 \ubc1c\ud45c\ud55c '\uc0dd\uc131\ud615 AI \uc11c\ube44\uc2a4 \uc0ac\uc6a9\uc5d0 \uad00\ud55c \uc9c0\uce68'\uc5d0 \ub530\ub974\uba74 \uac1c\uc778\uc815\ubcf4\ub97c \ud504\ub86c\ud504\ud2b8\ub85c \uc785\ub825\ud560 \ub54c \uc8fc\uc758\ud574\uc57c \ud560 \uc810\uc740 \ubb34\uc5c7\uc778\uac00\uc694?\",\n",
              " 'q15': '\uc0dd\uc131\ud615 AI \uc11c\ube44\uc2a4 \uc81c\uacf5 \uc0ac\uc5c5\uc790\uac00 \uac1c\uc778\uc815\ubcf4\ub97c \uae30\uacc4 \ud559\uc2b5\uc5d0 \uc774\uc6a9\ud558\uc9c0 \uc54a\uae30 \uc704\ud574 \uc5b4\ub5a4 \ud655\uc778\uc774 \ud544\uc694\ud55c\uac00\uc694?',\n",
              " 'q16': '\uc77c\ubcf8 \ub0b4\uac01\ubd80\uac00 AI \ubaa8\ub378 \uc131\ub2a5 \ud5a5\uc0c1\uc744 \uc704\ud574 \ucd94\uc9c4\ud558\ub294 \uc561\uc158\ud50c\ub79c\uc758 \uc8fc\uc694 \ubaa9\ud45c\ub294 \ubb34\uc5c7\uc778\uac00\uc694?',\n",
              " 'q17': '\uc77c\ubcf8 \uc815\ubd80\uac00 AI \ud559\uc2b5 \ub370\uc774\ud130 \uc81c\uacf5\uc744 \ucd09\uc9c4\ud558\uae30 \uc704\ud574 \ub9c8\ub828\ud55c \ucee4\ubba4\ub2c8\ucf00\uc774\uc158 \ucc3d\uad6c\uc758 \uc5ed\ud560\uc740 \ubb34\uc5c7\uc778\uac00\uc694?',\n",
              " 'q18': \"\uc77c\ubcf8 \uacbd\uc81c\uc0b0\uc5c5\uc131\uc774 2023\ub144 5\uc6d4\uc5d0 \ubc1c\ud45c\ud55c '\ubc18\ub3c4\uccb4 \uff65\ub514\uc9c0\ud138 \uc0b0\uc5c5\uc804\ub7b5'\uc758 \uc8fc\uc694 \ubaa9\ud45c\ub294 \ubb34\uc5c7\uc778\uac00\uc694?\",\n",
              " 'q19': \"\uc77c\ubcf8\uc758 '\ubc18\ub3c4\uccb4 \uff65\ub514\uc9c0\ud138 \uc0b0\uc5c5\uc804\ub7b5'\uc5d0\uc11c \uc815\ubcf4\ucc98\ub9ac \ubd84\uc57c\uc758 \uc0b0\uc5c5\uae30\ubc18 \uad6c\ucd95\uc744 \uc704\ud574 \uc81c\uc548\ub41c \uc804\ub7b5\uc740 \ubb34\uc5c7\uc778\uac00\uc694?\",\n",
              " 'q20': '\uc77c\ubcf8 \uacbd\uc81c\uc0b0\uc5c5\uc131\uc774 2023\ub144 12\uc6d4\uc5d0 \uac1c\uc815 \ub17c\uc758\ud55c \uc0b0\uc5c5\uacbd\uc7c1\ub825 \uac15\ud654\ubc95\uc758 \uc8fc\uc694 \uac1c\uc815 \ubc29\ud5a5\uc740 \ubb34\uc5c7\uc778\uac00\uc694?',\n",
              " 'q21': '\uc77c\ubcf8\uc758 LPS \ud22c\uc790 \ub300\uc0c1 \uc0ac\uc5c5 \ud655\ub300 \ubc29\uc548\uc5d0\ub294 \uc5b4\ub5a4 \uc0c8\ub85c\uc6b4 \uc694\uc18c\ub4e4\uc774 \ud3ec\ud568\ub418\uc5c8\ub098\uc694?',\n",
              " 'q22': '\uc77c\ubcf8 \uc815\ubd80\uac00 2023\ub144 3\uc6d4\uc5d0 \uc218\ucd9c\uc744 \uc81c\ud55c\ud55c \ubc18\ub3c4\uccb4 \uc81c\uc870 \uc7a5\ube44 \ud488\ubaa9\uc5d0\ub294 \uc5b4\ub5a4 \uac83\ub4e4\uc774 \ud3ec\ud568\ub418\uc5c8\ub098\uc694?',\n",
              " 'q23': '\uc77c\ubcf8\uc758 \ubc18\ub3c4\uccb4 \uc7a5\ube44 \uc218\ucd9c \uaddc\uc81c\uc5d0 \ub300\ud55c \uc911\uad6d \uc0c1\ubb34\ubd80\uc758 \ubc18\uc751\uc740 \ubb34\uc5c7\uc774\uc5c8\ub098\uc694?',\n",
              " 'q24': '\uc77c\ubcf8\uc5d0\uc11c \uac00\uc7a5 \ub192\uc740 \ub9e4\ucd9c\uc744 \uae30\ub85d\ud55c ICT \uad00\ub828 \uae30\uc5c5\uc740 \uc5b4\ub514\uc774\uba70, \uadf8 \ub9e4\ucd9c\uc561\uc740 \uc5bc\ub9c8\uc778\uac00?',\n",
              " 'q25': '\uc77c\ubcf8\uc758 \uc804\ud1b5 \uae30\uc5c5 \uc911 1920\ub144\ub300\uc5d0 \uc124\ub9bd\ub41c \uae30\uc5c5\uc740 \ubb34\uc5c7\uc778\uac00?',\n",
              " 'q26': '\ud55c\uad6d\uacfc \uc77c\ubcf8 \uac04\uc758 \ud3ec\uad04\uc801 \uacbd\uc81c\ub3d9\ubc18\uc790\ud611\uc815(CEPA)\uc774 \ubc1c\ud6a8\ub41c \ub0a0\uc9dc\ub294 \uc5b8\uc81c\uc778\uac00\uc694?',\n",
              " 'q27': '2023\ub144 10\uc6d4, \ud55c\uad6d\uc758 \uacfc\ud559\uae30\uc220\uc815\ubcf4\ud1b5\uc2e0\ubd80 \uc7a5\uad00\uc774 \uc77c\ubcf8\uc744 \ubc29\ubb38\ud558\uc5ec \ub17c\uc758\ud55c \uc8fc\uc694 \ud611\ub825 \ubc29\uc548\uc740 \ubb34\uc5c7\uc778\uac00\uc694?',\n",
              " 'q28': '\uc77c\ubcf8\uc740 \uc5b4\ub5a4 \uae30\uc220\uc744 \uac15\ud654\ud558\uae30 \uc704\ud574 \ud611\ub825 \ubc0f \uaddc\uc81c \uc644\ud654\ub97c \ucd94\uc9c4\ud558\uace0 \uc788\ub098\uc694?',\n",
              " 'q29': '\uc77c\ubcf8\uc774 \ub3c4\uc785\uc744 \uc99d\uac00\uc2dc\ud0a4\uace0 \uc788\ub294 \uacb0\uc81c \ubc29\uc2dd\uc740 \ubb34\uc5c7\uc778\uac00\uc694?',\n",
              " 'q30': '\uc77c\ubcf8 \ub370\uc774\ud130\uc13c\ud130 \uc2dc\uc7a5\uc758 2022\ub144\ubd80\ud130 2028\ub144\uae4c\uc9c0\uc758 \uc5f0\ud3c9\uade0 \uc131\uc7a5\ub960(CAGR)\uc740 \uc5bc\ub9c8\ub85c \uc608\uc0c1\ub418\ub098\uc694?',\n",
              " 'q31': '\uc77c\ubcf8\uc758 \ub370\uc774\ud130\uc13c\ud130 \ubd84\uc0b0\ud654\ub97c \ucd09\uc9c4\ud558\uae30 \uc704\ud574 \uacc4\ud68d\ub41c \ud64b\uce74\uc774\ub3c4\uc640 \uaddc\uc288 \uc9c0\uc5ed\uc758 \ubcf4\uc870\uae08 \uc561\uc218\ub294 \uc5bc\ub9c8\uc778\uac00\uc694?',\n",
              " 'q32': '\uc77c\ubcf8\uacfc \ubbf8\uad6d\uc774 2023\ub144 1\uc6d4\uc5d0 \uccb4\uacb0\ud55c MOU\uc758 \uc8fc\uc694 \ubaa9\uc801\uc740 \ubb34\uc5c7\uc778\uac00\uc694?',\n",
              " 'q33': '\uc77c\ubcf8\uc740 2025\ub144\ubd80\ud130 \uc0ac\uc774\ubc84 \ubc29\uc5b4 \uac15\ud654\ub97c \uc704\ud574 \uc5b4\ub5a4 \uc0c8\ub85c\uc6b4 \uacc4\ud68d\uc744 \uc2e4\ud589\ud560 \uc608\uc815\uc778\uac00\uc694?',\n",
              " 'q34': '\uc77c\ubcf8 \uc815\ubd80\uac00 \uc6f93.0 \uc0b0\uc5c5 \uc131\uc7a5\uc744 \ucd09\uc9c4\ud558\uae30 \uc704\ud574 \ubc1c\ud45c\ud55c \ubc31\uc11c\uc758 \uc8fc\uc694 \ub0b4\uc6a9\uc740 \ubb34\uc5c7\uc778\uac00\uc694?',\n",
              " 'q35': '\uc77c\ubcf8 \uae30\uc2dc\ub2e4 \ud6c4\ubbf8\uc624 \ucd1d\ub9ac\uac00 \uc6f93.0 \uac1c\ubc1c\uc744 \uacbd\uc81c \uacc4\ud68d\uc758 \ucd5c\uc6b0\uc120 \uacfc\uc81c\ub85c \uc0bc\uae30 \uc704\ud574 \uc784\uba85\ud55c \ub514\uc9c0\ud138 \ub2f4\ub2f9 \ub300\uc2e0\uc740 \ub204\uad6c\uc778\uac00\uc694?',\n",
              " 'q36': '\uc77c\ubcf8 \uc815\ubd80\ub294 \uc5b4\ub5a4 \uae30\uc220\uc744 \ud589\uc815\uc5c5\ubb34\uc5d0 \ub3c4\uc785\ud560 \uacc4\ud68d\uc774\uba70, \uc774 \uae30\uc220\uc758 \ud65c\uc6a9 \ubaa9\uc801\uc740 \ubb34\uc5c7\uc778\uac00\uc694?',\n",
              " 'q37': '\uc0ac\uac00\ubbf8\ud558\ub77c\uc2dc\uac00 NEC\uc640 \ud611\uc815\ud558\uc5ec \ub3c4\uc785\ud558\ub824\ub294 AI \uc11c\ube44\uc2a4\ub294 \uc5b4\ub5a4 \ubd84\uc57c\uc5d0 \ud65c\uc6a9\ub420 \uc608\uc815\uc774\uba70, \uc774 AI\uc758 \uc7a5\uc810\uc740 \ubb34\uc5c7\uc778\uac00\uc694?',\n",
              " 'q38': '\uc77c\ubcf8 \uacbd\uc81c\uc0b0\uc5c5\uc131\uc774 \uc591\uc790 \ucef4\ud4e8\ud130 \ud074\ub77c\uc6b0\ub4dc \uc774\uc6a9 \ud655\ub300\ub97c \uc704\ud574 \uc870\uc131\ud55c \uc9c0\uc6d0\uae08\uc758 \uaddc\ubaa8\ub294 \uc5bc\ub9c8\uc778\uac00\uc694?',\n",
              " 'q39': '2023\ub144 3\uc6d4\uc5d0 \uc77c\ubcf8 \ub9ac\ucf04\uc774 \uac00\ub3d9\uc744 \uc2dc\uc791\ud55c \ucd5c\ucd08\uc758 \uc591\uc790\ucef4\ud4e8\ud130\uc758 \uc131\ub2a5\uc740 \uba87 \uc591\uc790 \ube44\ud2b8\uc778\uac00\uc694?',\n",
              " 'q40': '\uc77c\ubcf8\uc758 NTT\uc640 KDDI\uac00 6G \uac1c\ubc1c\uc744 \uc704\ud574 \ud611\ub825\ud558\uba74\uc11c \uc124\uc815\ud55c \uc138 \uac00\uc9c0 \ubaa9\ud45c\ub294 \ubb34\uc5c7\uc778\uac00\uc694?',\n",
              " 'q41': '\uc77c\ubcf8 \uc790\ubbfc\ub2f9\uc774 NTT\uc758 6G \uae30\uc220 \uac1c\ubc1c\uc744 \uc9c0\uc6d0\ud558\uae30 \uc704\ud574 \uace0\ub824 \uc911\uc778 \ubc95\ub960 \uac1c\uc815\uc758 \ubaa9\uc801\uc740 \ubb34\uc5c7\uc778\uac00\uc694?',\n",
              " 'q42': '\uc77c\ubcf8\uc5d0\uc11c 2023\ub144 \ub3c4\ub85c\uad50\ud1b5\ubc95 \uac1c\uc815\uc744 \ud1b5\ud574 \ud5c8\uc6a9\ub41c \ub808\ubca8 4 \uc790\uc728\uc8fc\ud589\ucc28\uc758 \uacf5\uacf5 \ub3c4\ub85c \uc6b4\ud589 \uc870\uac74\uc740 \ubb34\uc5c7\uc778\uac00\uc694?',\n",
              " 'q43': '\uc77c\ubcf8 \uc815\ubd80\uac00 2025\ub144\uae4c\uc9c0 \ubaa9\ud45c\ub85c \uc124\uc815\ud55c \ub808\ubca8 4 \uc790\uc728\uc8fc\ud589 \uc11c\ube44\uc2a4\uc758 \uc9c0\uc5ed \uc218\ub294 \uba87 \uac1c\uc785\ub2c8\uae4c?',\n",
              " 'q44': '\uc77c\ubcf8\uc5d0\uc11c \uc11c\uc77c\ubcf8 \uc5ec\uac1d \ucca0\ub3c4\uac00 \uc2dc\ud5d8 \uc6b4\uc601 \uc911\uc778 \uc548\uba74 \uc778\uc2dd \ubc1c\uad8c \uc2dc\uc2a4\ud15c\uc758 \ud2b9\uc9d5\uc740 \ubb34\uc5c7\uc778\uac00\uc694?',\n",
              " 'q45': '\uc138\ube10\uc77c\ub808\ube10\uc758 ATM\uc5d0\uc11c \ub3c4\uc785 \uc608\uc815\uc778 \uc548\uba74 \uc778\uc2dd \uae30\uc220\uc744 \ud1b5\ud574 \uace0\uac1d\uc774 \uc5b4\ub5a4 \uac70\ub798\ub97c \ud560 \uc218 \uc788\uac8c \ub420 \uc608\uc815\uc778\uac00\uc694?',\n",
              " 'q46': '\uc77c\ubcf8 \uc758\ub8cc\uacc4\uac00 \ub3c4\uc785\ud558\uace0 \uc788\ub294 \uc804\uc790 \ucc98\ubc29\uc804 \uc2dc\uc2a4\ud15c\uc758 \uc8fc\uc694 \ubaa9\uc801\uc740 \ubb34\uc5c7\uc778\uac00\uc694?',\n",
              " 'q47': '\uc77c\ubcf8 \ud6c4\uc0dd\ub178\ub3d9\uc131\uc774 \ucd94\uc9c4 \uc911\uc778 \uac74\uac15\ubcf4\ud5d8\uc99d\uacfc \uad00\ub828\ub41c \uacc4\ud68d\uc740 \ubb34\uc5c7\uc774\uba70, \uadf8\uc5d0 \ub530\ub978 \ubcc0\ud654\ub294 \uc5b8\uc81c\ubd80\ud130 \uc2dc\ud589\ub420 \uc608\uc815\uc778\uac00\uc694?',\n",
              " 'q48': '\uc77c\ubcf8 \uc815\ubd80\ub294 \ub514\uc9c0\ud138 \uc778\ub825 \ubd80\uc871 \ubb38\uc81c\ub97c \ud574\uacb0\ud558\uae30 \uc704\ud574 \uc5b4\ub5a4 \uacc4\ud68d\uc744 \ubc1c\ud45c\ud588\uc73c\uba70, \ubaa9\ud45c\ub85c \ud558\ub294 \ud559\uc0dd \uc218\ub294 \uc5bc\ub9c8\uc778\uac00\uc694?',\n",
              " 'q49': '\uc77c\ubcf8 \uacbd\uc81c\uc0b0\uc5c5\uc131\uc774 AI \uc778\uc7ac \uc721\uc131\uc744 \uc704\ud574 \ub9c8\ub828\ud55c \uc0c8\ub85c\uc6b4 \uc9c0\uce68\uc5d0\ub294 \uc5b4\ub5a4 \ub0b4\uc6a9\uc774 \ud3ec\ud568\ub418\uc5b4 \uc788\uc73c\uba70, \uae30\uc5c5\ub4e4\uc5d0\uac8c \ubb34\uc5c7\uc744 \ucd09\uad6c\ud558\uace0 \uc788\ub098\uc694?',\n",
              " 'q50': '2023\ub144 \ubc1c\ud589\ub41c \"Global Innovation Index\"\ub97c \ubc1c\ud45c\ud55c \uae30\uad00\uc740 \uc5b4\ub514\uc778\uac00\uc694?',\n",
              " 'q51': '\uc77c\ubcf8\uc758 AI \ud559\uc2b5 \ub370\uc774\ud130 \uc81c\uacf5 \ucd09\uc9c4\uc744 \uc704\ud55c \uc561\uc158 \ud50c\ub79c\uc774 \ubc1c\ud45c\ub41c \ub0a0\uc9dc\ub294 \uc5b8\uc81c\uc778\uac00\uc694?',\n",
              " 'q52': '\uc815\ubcf4\ud1b5\uc2e0\uc0b0\uc5c5\uc9c4\ud765\uc6d0\uc5d0\uc11c \ubc1c\ud589\ud55c \ubb38\uc11c\ub97c \uc0c1\uc5c5\uc801 \ubaa9\uc801\uc73c\ub85c \uc0ac\uc6a9\ud558\ub824\uba74 \uc5b4\ub5a4 \uc808\ucc28\uac00 \ud544\uc694\ud55c\uac00\uc694?',\n",
              " 'q53': '\uc815\ubcf4\ud1b5\uc2e0\uc0b0\uc5c5\uc9c4\ud765\uc6d0\uc758 \ubc1c\ud589\ubb3c\uc744 \uc778\uc6a9\ud560 \ub54c \uc900\uc218\ud574\uc57c \ud560 \uaddc\uce59\uc5d0\ub294 \uc5b4\ub5a4 \uac83\ub4e4\uc774 \uc788\ub098\uc694?'}"
            ]
          },
          "metadata": {},
          "execution_count": 24
        }
      ]
    },
    {
      "cell_type": "code",
      "source": [
        "dataset['relevant_docs']"
      ],
      "metadata": {
        "colab": {
          "base_uri": "https://localhost:8080/"
        },
        "id": "ObSKjl8Y1CPW",
        "outputId": "fbc2a599-5bfb-4b8c-c041-446d9ad5433a"
      },
      "execution_count": null,
      "outputs": [
        {
          "output_type": "execute_result",
          "data": {
            "text/plain": [
              "{'q0': {'d0'},\n",
              " 'q1': {'d0'},\n",
              " 'q2': {'d1'},\n",
              " 'q3': {'d1'},\n",
              " 'q4': {'d2'},\n",
              " 'q5': {'d2'},\n",
              " 'q6': {'d3'},\n",
              " 'q7': {'d3'},\n",
              " 'q8': {'d4'},\n",
              " 'q9': {'d4'},\n",
              " 'q10': {'d5'},\n",
              " 'q11': {'d5'},\n",
              " 'q12': {'d6'},\n",
              " 'q13': {'d6'},\n",
              " 'q14': {'d7'},\n",
              " 'q15': {'d7'},\n",
              " 'q16': {'d8'},\n",
              " 'q17': {'d8'},\n",
              " 'q18': {'d9'},\n",
              " 'q19': {'d9'},\n",
              " 'q20': {'d10'},\n",
              " 'q21': {'d10'},\n",
              " 'q22': {'d11'},\n",
              " 'q23': {'d11'},\n",
              " 'q24': {'d12'},\n",
              " 'q25': {'d12'},\n",
              " 'q26': {'d13'},\n",
              " 'q27': {'d13'},\n",
              " 'q28': {'d14'},\n",
              " 'q29': {'d14'},\n",
              " 'q30': {'d15'},\n",
              " 'q31': {'d15'},\n",
              " 'q32': {'d16'},\n",
              " 'q33': {'d16'},\n",
              " 'q34': {'d17'},\n",
              " 'q35': {'d17'},\n",
              " 'q36': {'d18'},\n",
              " 'q37': {'d18'},\n",
              " 'q38': {'d19'},\n",
              " 'q39': {'d19'},\n",
              " 'q40': {'d20'},\n",
              " 'q41': {'d20'},\n",
              " 'q42': {'d21'},\n",
              " 'q43': {'d21'},\n",
              " 'q44': {'d22'},\n",
              " 'q45': {'d22'},\n",
              " 'q46': {'d23'},\n",
              " 'q47': {'d23'},\n",
              " 'q48': {'d24'},\n",
              " 'q49': {'d24'},\n",
              " 'q50': {'d25'},\n",
              " 'q51': {'d25'},\n",
              " 'q52': {'d26'},\n",
              " 'q53': {'d26'}}"
            ]
          },
          "metadata": {},
          "execution_count": 25
        }
      ]
    },
    {
      "cell_type": "markdown",
      "source": [
        "## 6. \uc2e4\uc81c \ud559\uc2b5"
      ],
      "metadata": {
        "id": "S_HpgbjmfqPy"
      }
    },
    {
      "cell_type": "code",
      "source": [
        "# 7. \ubaa8\ub378 \ud559\uc2b5\n",
        "EPOCHS = 2"
      ],
      "metadata": {
        "id": "Q_YNSUxZufle"
      },
      "execution_count": null,
      "outputs": []
    },
    {
      "cell_type": "code",
      "source": [
        "# W&B(WandB, Weights and Biases) \ub85c\uae45 \ube44\ud65c\uc131\ud654\n",
        "# W&B\ub294 \ud559\uc2b5 \uacfc\uc815\uc744 \uc2e4\uc2dc\uac04\uc73c\ub85c \ucd94\uc801\ud558\uace0 \uc2dc\uac01\ud654\ud560 \uc218 \uc788\ub294 \ub3c4\uad6c\uc785\ub2c8\ub2e4.\n",
        "# \ud558\uc9c0\ub9cc \uc774 \ucf54\ub4dc\ub294 W&B \uae30\ub2a5\uc744 \uc0ac\uc6a9\ud558\uc9c0 \uc54a\uc73c\ubbc0\ub85c, \uc774\ub97c \ube44\ud65c\uc131\ud654\ud558\uc5ec \ub85c\uae45\uc744 \uc911\ub2e8\ud569\ub2c8\ub2e4.\n",
        "os.environ[\"WANDB_DISABLED\"] = \"true\""
      ],
      "metadata": {
        "id": "IPCE7Fhruhlb"
      },
      "execution_count": null,
      "outputs": []
    },
    {
      "cell_type": "code",
      "source": [
        "# \ud559\uc2b5 \ucd08\uae30\uc5d0 \ud559\uc2b5\ub960\uc744 \uc810\uc9c4\uc801\uc73c\ub85c \uc99d\uac00\uc2dc\ud0a4\ub294 \ub2e8\uacc4 \uc218 \uc124\uc815\n",
        "# \uc804\uccb4 \ud559\uc2b5 \ub2e8\uacc4\uc758 10%\ub97c \uc6cc\ubc0d\uc5c5\uc73c\ub85c \uc0ac\uc6a9\n",
        "warmup_steps = int(len(loader) * EPOCHS * 0.1)\n",
        "\n",
        "# \ubaa8\ub378 \ud559\uc2b5\n",
        "model.fit(\n",
        "    train_objectives=[(loader, loss)],  # \ud559\uc2b5 \ub370\uc774\ud130 \ub85c\ub354\uc640 \uc190\uc2e4 \ud568\uc218 \uc124\uc815\n",
        "    epochs=EPOCHS,  # \ucd1d \uc5d0\ud3ec\ud06c \uc218\n",
        "    warmup_steps=warmup_steps,  # \uc6cc\ubc0d\uc5c5 \ub2e8\uacc4\n",
        "    output_path='exp_finetune',  # \ud559\uc2b5\ub41c \ubaa8\ub378 \uc800\uc7a5 \uacbd\ub85c\n",
        "    show_progress_bar=True,  # \ud559\uc2b5 \uc9c4\ud589\ub960 \ud45c\uc2dc \uc5ec\ubd80\n",
        ")"
      ],
      "metadata": {
        "colab": {
          "base_uri": "https://localhost:8080/",
          "height": 133,
          "referenced_widgets": [
            "159633dd0f5f4d06a92f12c52861464d",
            "38ffbbda296e4bd8aad426b9189fb3f1",
            "a560c3aba375429092622435c781a54b",
            "63316480234545b88e94a41c555ecba5",
            "129e0714598a431dbff1fb5747903e5b",
            "d5ea0a98cd1a497e937cfb37d6425a4c",
            "ee265734c9a542dca2ea23219d40f45a",
            "8e245892ba074053978c64ecd4e376d2",
            "6e176d83f49c418d82002338cf4ee9f8",
            "65d4f1f8adf040a399c3d84aa7b5de21",
            "d7ec2d87e1794158b329f8f807377cf3"
          ]
        },
        "id": "20sw7XxVrjIG",
        "outputId": "aff74203-00e7-41af-8c5f-6ab6e401f8eb"
      },
      "execution_count": null,
      "outputs": [
        {
          "output_type": "stream",
          "name": "stderr",
          "text": [
            "Using the `WANDB_DISABLED` environment variable is deprecated and will be removed in v5. Use the --report_to flag to control the integrations used for logging result (for instance --report_to none).\n",
            "Using the `WANDB_DISABLED` environment variable is deprecated and will be removed in v5. Use the --report_to flag to control the integrations used for logging result (for instance --report_to none).\n"
          ]
        },
        {
          "output_type": "display_data",
          "data": {
            "text/plain": [
              "Computing widget examples:   0%|          | 0/1 [00:00<?, ?example/s]"
            ],
            "application/vnd.jupyter.widget-view+json": {
              "version_major": 2,
              "version_minor": 0,
              "model_id": "159633dd0f5f4d06a92f12c52861464d"
            }
          },
          "metadata": {}
        },
        {
          "output_type": "display_data",
          "data": {
            "text/plain": [
              "<IPython.core.display.HTML object>"
            ],
            "text/html": [
              "\n",
              "    <div>\n",
              "      \n",
              "      <progress value='26' max='26' style='width:300px; height:20px; vertical-align: middle;'></progress>\n",
              "      [26/26 00:50, Epoch 2/2]\n",
              "    </div>\n",
              "    <table border=\"1\" class=\"dataframe\">\n",
              "  <thead>\n",
              " <tr style=\"text-align: left;\">\n",
              "      <th>Step</th>\n",
              "      <th>Training Loss</th>\n",
              "    </tr>\n",
              "  </thead>\n",
              "  <tbody>\n",
              "  </tbody>\n",
              "</table><p>"
            ]
          },
          "metadata": {}
        }
      ]
    },
    {
      "cell_type": "code",
      "source": [
        "def evaluate_st(dataset, model_id, name, evaluator):\n",
        "    \"\"\"\n",
        "    SentenceTransformer \ubaa8\ub378\uc758 \uac80\uc0c9 \uc131\ub2a5\uc744 \ud3c9\uac00\ud558\ub294 \ud568\uc218\n",
        "    \"\"\"\n",
        "    # \ud3c9\uac00 \uacb0\uacfc\ub97c \uc800\uc7a5\ud560 \ub514\ub809\ud1a0\ub9ac \uc0dd\uc131\n",
        "    os.makedirs('results', exist_ok=True)\n",
        "\n",
        "    # \ud3c9\uac00\ud560 SentenceTransformer \ubaa8\ub378 \ub85c\ub4dc\n",
        "    model = SentenceTransformer(model_id)\n",
        "\n",
        "    # \ubaa8\ub378 \ud3c9\uac00 \uc218\ud589\n",
        "    result = evaluator(model)\n",
        "\n",
        "    # \uacb0\uacfc\ub97c DataFrame\uc73c\ub85c \ubcc0\ud658\ud558\uace0 CSV\ub85c \uc800\uc7a5\n",
        "    result_df = pd.DataFrame([result]) if isinstance(result, dict) else result\n",
        "    output_path = f'results/Information-Retrieval_evaluation_{name}_results.csv'\n",
        "    result_df.to_csv(output_path, index=False)\n",
        "\n",
        "    return result"
      ],
      "metadata": {
        "id": "73lV06XVusIi"
      },
      "execution_count": null,
      "outputs": []
    },
    {
      "cell_type": "code",
      "source": [
        "# SentenceTransformer \ud3c9\uac00 (\ucd94\uac00 \uc9c0\ud45c \uacc4\uc0b0)\n",
        "finetuned_model_path = \"exp_finetune\"  # \ud30c\uc778\ud29c\ub2dd\ub41c \ubaa8\ub378 \uacbd\ub85c\n",
        "evaluate_st(dataset=val_dataset, model_id=finetuned_model_path, name='finetuned', evaluator=evaluator)\n",
        "print(\"\ud30c\uc778\ud29c\ub2dd \ubaa8\ub378 \ud3c9\uac00 \uc644\ub8cc\")"
      ],
      "metadata": {
        "colab": {
          "base_uri": "https://localhost:8080/"
        },
        "id": "K3LJmojzi6gw",
        "outputId": "3c59aed3-3ff7-4ff7-daf2-de87fd4a4121"
      },
      "execution_count": null,
      "outputs": [
        {
          "output_type": "stream",
          "name": "stdout",
          "text": [
            "\ud30c\uc778\ud29c\ub2dd \ubaa8\ub378 \ud3c9\uac00 \uc644\ub8cc\n"
          ]
        }
      ]
    },
    {
      "cell_type": "code",
      "source": [
        "# SentenceTransformer \ud3c9\uac00 (\ucd94\uac00 \uc9c0\ud45c \uacc4\uc0b0)\n",
        "original_model_path = \"BAAI/bge-m3\"  # \uc6d0\ubcf8 \ubaa8\ub378 ID\n",
        "evaluate_st(dataset=val_dataset, model_id=original_model_path, name='original', evaluator=evaluator)\n",
        "print(\"\uc6d0\ubcf8 \ubaa8\ub378 \ud3c9\uac00 \uc644\ub8cc\")"
      ],
      "metadata": {
        "colab": {
          "base_uri": "https://localhost:8080/"
        },
        "id": "hImiIMBYjK8h",
        "outputId": "27b30631-926f-489c-f9a3-c3f2e817687c"
      },
      "execution_count": null,
      "outputs": [
        {
          "output_type": "stream",
          "name": "stdout",
          "text": [
            "\uc6d0\ubcf8 \ubaa8\ub378 \ud3c9\uac00 \uc644\ub8cc\n"
          ]
        }
      ]
    },
    {
      "cell_type": "code",
      "source": [
        "# \uacb0\uacfc \ube44\uad50\n",
        "df_st_original = pd.read_csv('results/Information-Retrieval_evaluation_original_results.csv')\n",
        "df_st_finetuned = pd.read_csv('results/Information-Retrieval_evaluation_finetuned_results.csv')\n",
        "\n",
        "df_st_original['model'] = 'bge-m3'\n",
        "df_st_finetuned['model'] = 'fine_tuned'\n",
        "df_st_all = pd.concat([df_st_original, df_st_finetuned])\n",
        "df_st_all = df_st_all.set_index('model')\n",
        "\n",
        "print(\"\\n\ubaa8\ub378 \uc131\ub2a5 \ube44\uad50:\")\n",
        "df_st_all"
      ],
      "metadata": {
        "colab": {
          "base_uri": "https://localhost:8080/",
          "height": 200
        },
        "id": "I8zBIaAAioH9",
        "outputId": "43c58aa3-fd68-4caa-b3be-f7a6cf30c56d"
      },
      "execution_count": null,
      "outputs": [
        {
          "output_type": "stream",
          "name": "stdout",
          "text": [
            "\n",
            "\ubaa8\ub378 \uc131\ub2a5 \ube44\uad50:\n"
          ]
        },
        {
          "output_type": "execute_result",
          "data": {
            "text/plain": [
              "            cosine_accuracy@1  cosine_accuracy@3  cosine_accuracy@5  \\\n",
              "model                                                                 \n",
              "bge-m3               0.833333           0.944444           0.962963   \n",
              "fine_tuned           0.907407           1.000000           1.000000   \n",
              "\n",
              "            cosine_accuracy@10  cosine_precision@1  cosine_precision@3  \\\n",
              "model                                                                    \n",
              "bge-m3                     1.0            0.833333            0.314815   \n",
              "fine_tuned                 1.0            0.907407            0.333333   \n",
              "\n",
              "            cosine_precision@5  cosine_precision@10  cosine_recall@1  \\\n",
              "model                                                                  \n",
              "bge-m3                0.192593                  0.1         0.833333   \n",
              "fine_tuned            0.200000                  0.1         0.907407   \n",
              "\n",
              "            cosine_recall@3  cosine_recall@5  cosine_recall@10  \\\n",
              "model                                                            \n",
              "bge-m3             0.944444         0.962963               1.0   \n",
              "fine_tuned         1.000000         1.000000               1.0   \n",
              "\n",
              "            cosine_ndcg@10  cosine_mrr@10  cosine_map@100  \n",
              "model                                                      \n",
              "bge-m3            0.910484       0.882253        0.882253  \n",
              "fine_tuned        0.958553       0.944444        0.944444  "
            ],
            "text/html": [
              "\n",
              "  <div id=\"df-7d3aa3bd-81ea-43cb-ba9c-110cffd82209\" class=\"colab-df-container\">\n",
              "    <div>\n",
              "<style scoped>\n",
              "    .dataframe tbody tr th:only-of-type {\n",
              "        vertical-align: middle;\n",
              "    }\n",
              "\n",
              "    .dataframe tbody tr th {\n",
              "        vertical-align: top;\n",
              "    }\n",
              "\n",
              "    .dataframe thead th {\n",
              "        text-align: right;\n",
              "    }\n",
              "</style>\n",
              "<table border=\"1\" class=\"dataframe\">\n",
              "  <thead>\n",
              "    <tr style=\"text-align: right;\">\n",
              "      <th></th>\n",
              "      <th>cosine_accuracy@1</th>\n",
              "      <th>cosine_accuracy@3</th>\n",
              "      <th>cosine_accuracy@5</th>\n",
              "      <th>cosine_accuracy@10</th>\n",
              "      <th>cosine_precision@1</th>\n",
              "      <th>cosine_precision@3</th>\n",
              "      <th>cosine_precision@5</th>\n",
              "      <th>cosine_precision@10</th>\n",
              "      <th>cosine_recall@1</th>\n",
              "      <th>cosine_recall@3</th>\n",
              "      <th>cosine_recall@5</th>\n",
              "      <th>cosine_recall@10</th>\n",
              "      <th>cosine_ndcg@10</th>\n",
              "      <th>cosine_mrr@10</th>\n",
              "      <th>cosine_map@100</th>\n",
              "    </tr>\n",
              "    <tr>\n",
              "      <th>model</th>\n",
              "      <th></th>\n",
              "      <th></th>\n",
              "      <th></th>\n",
              "      <th></th>\n",
              "      <th></th>\n",
              "      <th></th>\n",
              "      <th></th>\n",
              "      <th></th>\n",
              "      <th></th>\n",
              "      <th></th>\n",
              "      <th></th>\n",
              "      <th></th>\n",
              "      <th></th>\n",
              "      <th></th>\n",
              "      <th></th>\n",
              "    </tr>\n",
              "  </thead>\n",
              "  <tbody>\n",
              "    <tr>\n",
              "      <th>bge-m3</th>\n",
              "      <td>0.833333</td>\n",
              "      <td>0.944444</td>\n",
              "      <td>0.962963</td>\n",
              "      <td>1.0</td>\n",
              "      <td>0.833333</td>\n",
              "      <td>0.314815</td>\n",
              "      <td>0.192593</td>\n",
              "      <td>0.1</td>\n",
              "      <td>0.833333</td>\n",
              "      <td>0.944444</td>\n",
              "      <td>0.962963</td>\n",
              "      <td>1.0</td>\n",
              "      <td>0.910484</td>\n",
              "      <td>0.882253</td>\n",
              "      <td>0.882253</td>\n",
              "    </tr>\n",
              "    <tr>\n",
              "      <th>fine_tuned</th>\n",
              "      <td>0.907407</td>\n",
              "      <td>1.000000</td>\n",
              "      <td>1.000000</td>\n",
              "      <td>1.0</td>\n",
              "      <td>0.907407</td>\n",
              "      <td>0.333333</td>\n",
              "      <td>0.200000</td>\n",
              "      <td>0.1</td>\n",
              "      <td>0.907407</td>\n",
              "      <td>1.000000</td>\n",
              "      <td>1.000000</td>\n",
              "      <td>1.0</td>\n",
              "      <td>0.958553</td>\n",
              "      <td>0.944444</td>\n",
              "      <td>0.944444</td>\n",
              "    </tr>\n",
              "  </tbody>\n",
              "</table>\n",
              "</div>\n",
              "    <div class=\"colab-df-buttons\">\n",
              "\n",
              "  <div class=\"colab-df-container\">\n",
              "    <button class=\"colab-df-convert\" onclick=\"convertToInteractive('df-7d3aa3bd-81ea-43cb-ba9c-110cffd82209')\"\n",
              "            title=\"Convert this dataframe to an interactive table.\"\n",
              "            style=\"display:none;\">\n",
              "\n",
              "  <svg xmlns=\"http://www.w3.org/2000/svg\" height=\"24px\" viewBox=\"0 -960 960 960\">\n",
              "    <path d=\"M120-120v-720h720v720H120Zm60-500h600v-160H180v160Zm220 220h160v-160H400v160Zm0 220h160v-160H400v160ZM180-400h160v-160H180v160Zm440 0h160v-160H620v160ZM180-180h160v-160H180v160Zm440 0h160v-160H620v160Z\"/>\n",
              "  </svg>\n",
              "    </button>\n",
              "\n",
              "  <style>\n",
              "    .colab-df-container {\n",
              "      display:flex;\n",
              "      gap: 12px;\n",
              "    }\n",
              "\n",
              "    .colab-df-convert {\n",
              "      background-color: #E8F0FE;\n",
              "      border: none;\n",
              "      border-radius: 50%;\n",
              "      cursor: pointer;\n",
              "      display: none;\n",
              "      fill: #1967D2;\n",
              "      height: 32px;\n",
              "      padding: 0 0 0 0;\n",
              "      width: 32px;\n",
              "    }\n",
              "\n",
              "    .colab-df-convert:hover {\n",
              "      background-color: #E2EBFA;\n",
              "      box-shadow: 0px 1px 2px rgba(60, 64, 67, 0.3), 0px 1px 3px 1px rgba(60, 64, 67, 0.15);\n",
              "      fill: #174EA6;\n",
              "    }\n",
              "\n",
              "    .colab-df-buttons div {\n",
              "      margin-bottom: 4px;\n",
              "    }\n",
              "\n",
              "    [theme=dark] .colab-df-convert {\n",
              "      background-color: #3B4455;\n",
              "      fill: #D2E3FC;\n",
              "    }\n",
              "\n",
              "    [theme=dark] .colab-df-convert:hover {\n",
              "      background-color: #434B5C;\n",
              "      box-shadow: 0px 1px 3px 1px rgba(0, 0, 0, 0.15);\n",
              "      filter: drop-shadow(0px 1px 2px rgba(0, 0, 0, 0.3));\n",
              "      fill: #FFFFFF;\n",
              "    }\n",
              "  </style>\n",
              "\n",
              "    <script>\n",
              "      const buttonEl =\n",
              "        document.querySelector('#df-7d3aa3bd-81ea-43cb-ba9c-110cffd82209 button.colab-df-convert');\n",
              "      buttonEl.style.display =\n",
              "        google.colab.kernel.accessAllowed ? 'block' : 'none';\n",
              "\n",
              "      async function convertToInteractive(key) {\n",
              "        const element = document.querySelector('#df-7d3aa3bd-81ea-43cb-ba9c-110cffd82209');\n",
              "        const dataTable =\n",
              "          await google.colab.kernel.invokeFunction('convertToInteractive',\n",
              "                                                    [key], {});\n",
              "        if (!dataTable) return;\n",
              "\n",
              "        const docLinkHtml = 'Like what you see? Visit the ' +\n",
              "          '<a target=\"_blank\" href=https://colab.research.google.com/notebooks/data_table.ipynb>data table notebook</a>'\n",
              "          + ' to learn more about interactive tables.';\n",
              "        element.innerHTML = '';\n",
              "        dataTable['output_type'] = 'display_data';\n",
              "        await google.colab.output.renderOutput(dataTable, element);\n",
              "        const docLink = document.createElement('div');\n",
              "        docLink.innerHTML = docLinkHtml;\n",
              "        element.appendChild(docLink);\n",
              "      }\n",
              "    </script>\n",
              "  </div>\n",
              "\n",
              "\n",
              "<div id=\"df-d39f9460-480f-442e-b912-5080be61c40d\">\n",
              "  <button class=\"colab-df-quickchart\" onclick=\"quickchart('df-d39f9460-480f-442e-b912-5080be61c40d')\"\n",
              "            title=\"Suggest charts\"\n",
              "            style=\"display:none;\">\n",
              "\n",
              "<svg xmlns=\"http://www.w3.org/2000/svg\" height=\"24px\"viewBox=\"0 0 24 24\"\n",
              "     width=\"24px\">\n",
              "    <g>\n",
              "        <path d=\"M19 3H5c-1.1 0-2 .9-2 2v14c0 1.1.9 2 2 2h14c1.1 0 2-.9 2-2V5c0-1.1-.9-2-2-2zM9 17H7v-7h2v7zm4 0h-2V7h2v10zm4 0h-2v-4h2v4z\"/>\n",
              "    </g>\n",
              "</svg>\n",
              "  </button>\n",
              "\n",
              "<style>\n",
              "  .colab-df-quickchart {\n",
              "      --bg-color: #E8F0FE;\n",
              "      --fill-color: #1967D2;\n",
              "      --hover-bg-color: #E2EBFA;\n",
              "      --hover-fill-color: #174EA6;\n",
              "      --disabled-fill-color: #AAA;\n",
              "      --disabled-bg-color: #DDD;\n",
              "  }\n",
              "\n",
              "  [theme=dark] .colab-df-quickchart {\n",
              "      --bg-color: #3B4455;\n",
              "      --fill-color: #D2E3FC;\n",
              "      --hover-bg-color: #434B5C;\n",
              "      --hover-fill-color: #FFFFFF;\n",
              "      --disabled-bg-color: #3B4455;\n",
              "      --disabled-fill-color: #666;\n",
              "  }\n",
              "\n",
              "  .colab-df-quickchart {\n",
              "    background-color: var(--bg-color);\n",
              "    border: none;\n",
              "    border-radius: 50%;\n",
              "    cursor: pointer;\n",
              "    display: none;\n",
              "    fill: var(--fill-color);\n",
              "    height: 32px;\n",
              "    padding: 0;\n",
              "    width: 32px;\n",
              "  }\n",
              "\n",
              "  .colab-df-quickchart:hover {\n",
              "    background-color: var(--hover-bg-color);\n",
              "    box-shadow: 0 1px 2px rgba(60, 64, 67, 0.3), 0 1px 3px 1px rgba(60, 64, 67, 0.15);\n",
              "    fill: var(--button-hover-fill-color);\n",
              "  }\n",
              "\n",
              "  .colab-df-quickchart-complete:disabled,\n",
              "  .colab-df-quickchart-complete:disabled:hover {\n",
              "    background-color: var(--disabled-bg-color);\n",
              "    fill: var(--disabled-fill-color);\n",
              "    box-shadow: none;\n",
              "  }\n",
              "\n",
              "  .colab-df-spinner {\n",
              "    border: 2px solid var(--fill-color);\n",
              "    border-color: transparent;\n",
              "    border-bottom-color: var(--fill-color);\n",
              "    animation:\n",
              "      spin 1s steps(1) infinite;\n",
              "  }\n",
              "\n",
              "  @keyframes spin {\n",
              "    0% {\n",
              "      border-color: transparent;\n",
              "      border-bottom-color: var(--fill-color);\n",
              "      border-left-color: var(--fill-color);\n",
              "    }\n",
              "    20% {\n",
              "      border-color: transparent;\n",
              "      border-left-color: var(--fill-color);\n",
              "      border-top-color: var(--fill-color);\n",
              "    }\n",
              "    30% {\n",
              "      border-color: transparent;\n",
              "      border-left-color: var(--fill-color);\n",
              "      border-top-color: var(--fill-color);\n",
              "      border-right-color: var(--fill-color);\n",
              "    }\n",
              "    40% {\n",
              "      border-color: transparent;\n",
              "      border-right-color: var(--fill-color);\n",
              "      border-top-color: var(--fill-color);\n",
              "    }\n",
              "    60% {\n",
              "      border-color: transparent;\n",
              "      border-right-color: var(--fill-color);\n",
              "    }\n",
              "    80% {\n",
              "      border-color: transparent;\n",
              "      border-right-color: var(--fill-color);\n",
              "      border-bottom-color: var(--fill-color);\n",
              "    }\n",
              "    90% {\n",
              "      border-color: transparent;\n",
              "      border-bottom-color: var(--fill-color);\n",
              "    }\n",
              "  }\n",
              "</style>\n",
              "\n",
              "  <script>\n",
              "    async function quickchart(key) {\n",
              "      const quickchartButtonEl =\n",
              "        document.querySelector('#' + key + ' button');\n",
              "      quickchartButtonEl.disabled = true;  // To prevent multiple clicks.\n",
              "      quickchartButtonEl.classList.add('colab-df-spinner');\n",
              "      try {\n",
              "        const charts = await google.colab.kernel.invokeFunction(\n",
              "            'suggestCharts', [key], {});\n",
              "      } catch (error) {\n",
              "        console.error('Error during call to suggestCharts:', error);\n",
              "      }\n",
              "      quickchartButtonEl.classList.remove('colab-df-spinner');\n",
              "      quickchartButtonEl.classList.add('colab-df-quickchart-complete');\n",
              "    }\n",
              "    (() => {\n",
              "      let quickchartButtonEl =\n",
              "        document.querySelector('#df-d39f9460-480f-442e-b912-5080be61c40d button');\n",
              "      quickchartButtonEl.style.display =\n",
              "        google.colab.kernel.accessAllowed ? 'block' : 'none';\n",
              "    })();\n",
              "  </script>\n",
              "</div>\n",
              "\n",
              "  <div id=\"id_83fde742-bd9c-48bb-beb5-403349740319\">\n",
              "    <style>\n",
              "      .colab-df-generate {\n",
              "        background-color: #E8F0FE;\n",
              "        border: none;\n",
              "        border-radius: 50%;\n",
              "        cursor: pointer;\n",
              "        display: none;\n",
              "        fill: #1967D2;\n",
              "        height: 32px;\n",
              "        padding: 0 0 0 0;\n",
              "        width: 32px;\n",
              "      }\n",
              "\n",
              "      .colab-df-generate:hover {\n",
              "        background-color: #E2EBFA;\n",
              "        box-shadow: 0px 1px 2px rgba(60, 64, 67, 0.3), 0px 1px 3px 1px rgba(60, 64, 67, 0.15);\n",
              "        fill: #174EA6;\n",
              "      }\n",
              "\n",
              "      [theme=dark] .colab-df-generate {\n",
              "        background-color: #3B4455;\n",
              "        fill: #D2E3FC;\n",
              "      }\n",
              "\n",
              "      [theme=dark] .colab-df-generate:hover {\n",
              "        background-color: #434B5C;\n",
              "        box-shadow: 0px 1px 3px 1px rgba(0, 0, 0, 0.15);\n",
              "        filter: drop-shadow(0px 1px 2px rgba(0, 0, 0, 0.3));\n",
              "        fill: #FFFFFF;\n",
              "      }\n",
              "    </style>\n",
              "    <button class=\"colab-df-generate\" onclick=\"generateWithVariable('df_st_all')\"\n",
              "            title=\"Generate code using this dataframe.\"\n",
              "            style=\"display:none;\">\n",
              "\n",
              "  <svg xmlns=\"http://www.w3.org/2000/svg\" height=\"24px\"viewBox=\"0 0 24 24\"\n",
              "       width=\"24px\">\n",
              "    <path d=\"M7,19H8.4L18.45,9,17,7.55,7,17.6ZM5,21V16.75L18.45,3.32a2,2,0,0,1,2.83,0l1.4,1.43a1.91,1.91,0,0,1,.58,1.4,1.91,1.91,0,0,1-.58,1.4L9.25,21ZM18.45,9,17,7.55Zm-12,3A5.31,5.31,0,0,0,4.9,8.1,5.31,5.31,0,0,0,1,6.5,5.31,5.31,0,0,0,4.9,4.9,5.31,5.31,0,0,0,6.5,1,5.31,5.31,0,0,0,8.1,4.9,5.31,5.31,0,0,0,12,6.5,5.46,5.46,0,0,0,6.5,12Z\"/>\n",
              "  </svg>\n",
              "    </button>\n",
              "    <script>\n",
              "      (() => {\n",
              "      const buttonEl =\n",
              "        document.querySelector('#id_83fde742-bd9c-48bb-beb5-403349740319 button.colab-df-generate');\n",
              "      buttonEl.style.display =\n",
              "        google.colab.kernel.accessAllowed ? 'block' : 'none';\n",
              "\n",
              "      buttonEl.onclick = () => {\n",
              "        google.colab.notebook.generateWithVariable('df_st_all');\n",
              "      }\n",
              "      })();\n",
              "    </script>\n",
              "  </div>\n",
              "\n",
              "    </div>\n",
              "  </div>\n"
            ],
            "application/vnd.google.colaboratory.intrinsic+json": {
              "type": "dataframe",
              "variable_name": "df_st_all",
              "summary": "{\n  \"name\": \"df_st_all\",\n  \"rows\": 2,\n  \"fields\": [\n    {\n      \"column\": \"model\",\n      \"properties\": {\n        \"dtype\": \"string\",\n        \"num_unique_values\": 2,\n        \"samples\": [\n          \"fine_tuned\",\n          \"bge-m3\"\n        ],\n        \"semantic_type\": \"\",\n        \"description\": \"\"\n      }\n    },\n    {\n      \"column\": \"cosine_accuracy@1\",\n      \"properties\": {\n        \"dtype\": \"number\",\n        \"std\": 0.05237828008789241,\n        \"min\": 0.8333333333333334,\n        \"max\": 0.9074074074074074,\n        \"num_unique_values\": 2,\n        \"samples\": [\n          0.9074074074074074,\n          0.8333333333333334\n        ],\n        \"semantic_type\": \"\",\n        \"description\": \"\"\n      }\n    },\n    {\n      \"column\": \"cosine_accuracy@3\",\n      \"properties\": {\n        \"dtype\": \"number\",\n        \"std\": 0.039283710065919325,\n        \"min\": 0.9444444444444444,\n        \"max\": 1.0,\n        \"num_unique_values\": 2,\n        \"samples\": [\n          1.0,\n          0.9444444444444444\n        ],\n        \"semantic_type\": \"\",\n        \"description\": \"\"\n      }\n    },\n    {\n      \"column\": \"cosine_accuracy@5\",\n      \"properties\": {\n        \"dtype\": \"number\",\n        \"std\": 0.026189140043946322,\n        \"min\": 0.9629629629629628,\n        \"max\": 1.0,\n        \"num_unique_values\": 2,\n        \"samples\": [\n          1.0,\n          0.9629629629629628\n        ],\n        \"semantic_type\": \"\",\n        \"description\": \"\"\n      }\n    },\n    {\n      \"column\": \"cosine_accuracy@10\",\n      \"properties\": {\n        \"dtype\": \"number\",\n        \"std\": 0.0,\n        \"min\": 1.0,\n        \"max\": 1.0,\n        \"num_unique_values\": 1,\n        \"samples\": [\n          1.0\n        ],\n        \"semantic_type\": \"\",\n        \"description\": \"\"\n      }\n    },\n    {\n      \"column\": \"cosine_precision@1\",\n      \"properties\": {\n        \"dtype\": \"number\",\n        \"std\": 0.05237828008789241,\n        \"min\": 0.8333333333333334,\n        \"max\": 0.9074074074074074,\n        \"num_unique_values\": 2,\n        \"samples\": [\n          0.9074074074074074\n        ],\n        \"semantic_type\": \"\",\n        \"description\": \"\"\n      }\n    },\n    {\n      \"column\": \"cosine_precision@3\",\n      \"properties\": {\n        \"dtype\": \"number\",\n        \"std\": 0.013094570021973083,\n        \"min\": 0.3148148148148147,\n        \"max\": 0.3333333333333332,\n        \"num_unique_values\": 2,\n        \"samples\": [\n          0.3333333333333332\n        ],\n        \"semantic_type\": \"\",\n        \"description\": \"\"\n      }\n    },\n    {\n      \"column\": \"cosine_precision@5\",\n      \"properties\": {\n        \"dtype\": \"number\",\n        \"std\": 0.005237828008789229,\n        \"min\": 0.1925925925925925,\n        \"max\": 0.1999999999999999,\n        \"num_unique_values\": 2,\n        \"samples\": [\n          0.1999999999999999\n        ],\n        \"semantic_type\": \"\",\n        \"description\": \"\"\n      }\n    },\n    {\n      \"column\": \"cosine_precision@10\",\n      \"properties\": {\n        \"dtype\": \"number\",\n        \"std\": 0.0,\n        \"min\": 0.0999999999999999,\n        \"max\": 0.0999999999999999,\n        \"num_unique_values\": 1,\n        \"samples\": [\n          0.0999999999999999\n        ],\n        \"semantic_type\": \"\",\n        \"description\": \"\"\n      }\n    },\n    {\n      \"column\": \"cosine_recall@1\",\n      \"properties\": {\n        \"dtype\": \"number\",\n        \"std\": 0.05237828008789241,\n        \"min\": 0.8333333333333334,\n        \"max\": 0.9074074074074074,\n        \"num_unique_values\": 2,\n        \"samples\": [\n          0.9074074074074074\n        ],\n        \"semantic_type\": \"\",\n        \"description\": \"\"\n      }\n    },\n    {\n      \"column\": \"cosine_recall@3\",\n      \"properties\": {\n        \"dtype\": \"number\",\n        \"std\": 0.039283710065919325,\n        \"min\": 0.9444444444444444,\n        \"max\": 1.0,\n        \"num_unique_values\": 2,\n        \"samples\": [\n          1.0\n        ],\n        \"semantic_type\": \"\",\n        \"description\": \"\"\n      }\n    },\n    {\n      \"column\": \"cosine_recall@5\",\n      \"properties\": {\n        \"dtype\": \"number\",\n        \"std\": 0.026189140043946322,\n        \"min\": 0.9629629629629628,\n        \"max\": 1.0,\n        \"num_unique_values\": 2,\n        \"samples\": [\n          1.0\n        ],\n        \"semantic_type\": \"\",\n        \"description\": \"\"\n      }\n    },\n    {\n      \"column\": \"cosine_recall@10\",\n      \"properties\": {\n        \"dtype\": \"number\",\n        \"std\": 0.0,\n        \"min\": 1.0,\n        \"max\": 1.0,\n        \"num_unique_values\": 1,\n        \"samples\": [\n          1.0\n        ],\n        \"semantic_type\": \"\",\n        \"description\": \"\"\n      }\n    },\n    {\n      \"column\": \"cosine_ndcg@10\",\n      \"properties\": {\n        \"dtype\": \"number\",\n        \"std\": 0.03398988302883988,\n        \"min\": 0.9104840002731196,\n        \"max\": 0.95855295383598,\n        \"num_unique_values\": 2,\n        \"samples\": [\n          0.95855295383598\n        ],\n        \"semantic_type\": \"\",\n        \"description\": \"\"\n      }\n    },\n    {\n      \"column\": \"cosine_mrr@10\",\n      \"properties\": {\n        \"dtype\": \"number\",\n        \"std\": 0.04397593099045957,\n        \"min\": 0.8822530864197532,\n        \"max\": 0.9444444444444444,\n        \"num_unique_values\": 2,\n        \"samples\": [\n          0.9444444444444444\n        ],\n        \"semantic_type\": \"\",\n        \"description\": \"\"\n      }\n    },\n    {\n      \"column\": \"cosine_map@100\",\n      \"properties\": {\n        \"dtype\": \"number\",\n        \"std\": 0.04397593099045957,\n        \"min\": 0.8822530864197532,\n        \"max\": 0.9444444444444444,\n        \"num_unique_values\": 2,\n        \"samples\": [\n          0.9444444444444444\n        ],\n        \"semantic_type\": \"\",\n        \"description\": \"\"\n      }\n    }\n  ]\n}"
            }
          },
          "metadata": {},
          "execution_count": 32
        }
      ]
    }
  ]
}