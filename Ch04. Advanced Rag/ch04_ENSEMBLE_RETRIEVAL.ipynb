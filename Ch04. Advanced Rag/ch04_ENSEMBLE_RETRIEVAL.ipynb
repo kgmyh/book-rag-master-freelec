{
 "cells": [
  {
   "cell_type": "code",
   "execution_count": null,
   "id": "cJy1t37GsyL9",
   "metadata": {
    "id": "cJy1t37GsyL9"
   },
   "outputs": [],
   "source": [
    "!pip install langchain langchain_openai langchain_community pypdf kiwipiepy rank_bm25 faiss-cpu"
   ]
  },
  {
   "cell_type": "code",
   "execution_count": null,
   "id": "e8181ee7",
   "metadata": {},
   "outputs": [],
   "source": [
    "from google.colab import drive\n",
    "import os\n",
    "\n",
    "# 먼저 구글 드라이브 마운트\n",
    "drive.mount('/content/drive')"
   ]
  },
  {
   "cell_type": "code",
   "execution_count": null,
   "id": "U3aOf1kttmdQ",
   "metadata": {
    "id": "U3aOf1kttmdQ"
   },
   "outputs": [],
   "source": [
    "import os\n",
    "from dotenv import load_dotenv\n",
    "\n",
    "# .env 파일에서 환경 변수 로드\n",
    "load_dotenv(\"/content/.env\")\n",
    "\n",
    "# 환경 변수에서 API 키 가져오기\n",
    "os.environ[\"OPENAI_API_KEY\"] = os.getenv(\"OPENAI_API_KEY\")"
   ]
  },
  {
   "cell_type": "code",
   "execution_count": null,
   "id": "u9eVNXBIUTsb",
   "metadata": {
    "id": "u9eVNXBIUTsb"
   },
   "outputs": [],
   "source": [
    "from langchain_community.document_loaders import PyPDFLoader\n",
    "from langchain_text_splitters import RecursiveCharacterTextSplitter\n",
    "\n",
    "file_path = (\n",
    "    \"/content/drive/MyDrive/langchain-tutorial/Ch04. Advanced Rag/Data/투자설명서.pdf\"\n",
    ")\n",
    "loader = PyPDFLoader(file_path)\n",
    "\n",
    "doc_splitter = RecursiveCharacterTextSplitter(chunk_size=2000, chunk_overlap = 200)\n",
    "\n",
    "docs = loader.load_and_split(doc_splitter)"
   ]
  },
  {
   "cell_type": "code",
   "execution_count": null,
   "id": "MDWA_DQDmx9s",
   "metadata": {
    "id": "MDWA_DQDmx9s"
   },
   "outputs": [],
   "source": [
    "from langchain_community.retrievers import BM25Retriever\n",
    "from kiwipiepy import Kiwi\n",
    "\n",
    "kiwi_tokenizer = Kiwi()\n",
    "\n",
    "def kiwi_tokenize(text):\n",
    "    return [token.form for token in kiwi_tokenizer.tokenize(text)]"
   ]
  },
  {
   "cell_type": "code",
   "execution_count": null,
   "id": "rI-c1uf1Vagg",
   "metadata": {
    "id": "rI-c1uf1Vagg"
   },
   "outputs": [],
   "source": [
    "bm25_retriever = BM25Retriever.from_documents(docs, preprocess_func=kiwi_tokenize)\n",
    "bm25_retriever.k = 4"
   ]
  },
  {
   "cell_type": "code",
   "execution_count": null,
   "id": "_EVqHtvyg8id",
   "metadata": {
    "id": "_EVqHtvyg8id"
   },
   "outputs": [],
   "source": [
    "from langchain_openai.embeddings import OpenAIEmbeddings\n",
    "\n",
    "# OpenAI의 임베딩 모델 사용\n",
    "embedding = OpenAIEmbeddings(model=\"text-embedding-3-large\")"
   ]
  },
  {
   "cell_type": "code",
   "execution_count": null,
   "id": "p3PNlgs44qHB",
   "metadata": {
    "id": "p3PNlgs44qHB"
   },
   "outputs": [],
   "source": [
    "# FAISS 라이브러리 임포트\n",
    "from langchain_community.vectorstores import FAISS\n",
    "\n",
    "# FAISS DB 생성 후 저장\n",
    "faiss_store = FAISS.from_documents(docs, embedding)\n",
    "faiss_store.save_local(\"/content/DB\")"
   ]
  },
  {
   "cell_type": "code",
   "execution_count": null,
   "id": "urRxIxM3sUcS",
   "metadata": {
    "id": "urRxIxM3sUcS"
   },
   "outputs": [],
   "source": [
    "# 저장된 DB경로 지정 후, DB 로드\n",
    "persist_directory = \"/content/DB\"\n",
    "vectordb = FAISS.load_local(persist_directory, embeddings=embedding, allow_dangerous_deserialization=True)"
   ]
  },
  {
   "cell_type": "code",
   "execution_count": null,
   "id": "YR_-YBayhRST",
   "metadata": {
    "id": "YR_-YBayhRST"
   },
   "outputs": [],
   "source": [
    "# FAISS 리트리버 생성\n",
    "faiss_retriever = vectordb.as_retriever(search_kwargs={\"k\": 4})"
   ]
  },
  {
   "cell_type": "code",
   "execution_count": null,
   "id": "YolX7ezIm0t-",
   "metadata": {
    "id": "YolX7ezIm0t-"
   },
   "outputs": [],
   "source": [
    "from langchain.retrievers import EnsembleRetriever\n",
    "\n",
    "ensemble_retriever = EnsembleRetriever(\n",
    "    retrievers=[bm25_retriever, faiss_retriever], weights=[0.5, 0.5]\n",
    ")"
   ]
  },
  {
   "cell_type": "code",
   "execution_count": null,
   "id": "tiGYY3UGZ5zh",
   "metadata": {
    "id": "tiGYY3UGZ5zh"
   },
   "outputs": [],
   "source": [
    "from langchain.chains import RetrievalQA, ConversationalRetrievalChain\n",
    "from langchain_openai import ChatOpenAI\n",
    "\n",
    "# 관련있는 문서를 수집 후, Chatgpt로 최종 답변까지 수행\n",
    "qa_chain = RetrievalQA.from_chain_type(\n",
    "    llm=ChatOpenAI(temperature=0.2, model=\"gpt-4o\"),\n",
    "    chain_type=\"stuff\",\n",
    "    retriever=ensemble_retriever,\n",
    "    return_source_documents=True # 답변에 사용된 source document도 보여주도록 설정\n",
    ")"
   ]
  },
  {
   "cell_type": "code",
   "execution_count": null,
   "id": "4PFFn4-E6WMm",
   "metadata": {
    "id": "4PFFn4-E6WMm"
   },
   "outputs": [],
   "source": [
    "qa_chain.invoke(\"이 회사가 발행한 주식의 총 발행량이 어느정도야?\")"
   ]
  }
 ],
 "metadata": {
  "colab": {
   "provenance": []
  },
  "kernelspec": {
   "display_name": "Python 3 (ipykernel)",
   "language": "python",
   "name": "python3"
  },
  "language_info": {
   "codemirror_mode": {
    "name": "ipython",
    "version": 3
   },
   "file_extension": ".py",
   "mimetype": "text/x-python",
   "name": "python",
   "nbconvert_exporter": "python",
   "pygments_lexer": "ipython3",
   "version": "3.11.6"
  }
 },
 "nbformat": 4,
 "nbformat_minor": 5
}
