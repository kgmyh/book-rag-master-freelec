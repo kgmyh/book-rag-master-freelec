{
 "cells": [
  {
   "cell_type": "code",
   "execution_count": null,
   "metadata": {
    "colab": {
     "base_uri": "https://localhost:8080/"
    },
    "executionInfo": {
     "elapsed": 7119,
     "status": "ok",
     "timestamp": 1736512878440,
     "user": {
      "displayName": "김재웅",
      "userId": "06729560528582252852"
     },
     "user_tz": -540
    },
    "id": "ir4HTATFO3mw",
    "outputId": "755286c6-90b0-4de4-de81-ecb65f5d3cba"
   },
   "outputs": [],
   "source": [
    "pip install langchain"
   ]
  },
  {
   "cell_type": "code",
   "execution_count": 2,
   "metadata": {
    "executionInfo": {
     "elapsed": 4668,
     "status": "ok",
     "timestamp": 1736512887526,
     "user": {
      "displayName": "김재웅",
      "userId": "06729560528582252852"
     },
     "user_tz": -540
    },
    "id": "ubEGZFDeOS-j"
   },
   "outputs": [],
   "source": [
    "from langchain.text_splitter import RecursiveCharacterTextSplitter\n",
    "\n",
    "text = \"\"\"\n",
    "감정을 배제하고 이성적인 판단을 내리는 것이 중요하며, diversification을 통해 리스크를 관리하라. 과도한 자신감은 위험하지만, 적절한 분산 투자는 안정성을 높인다.\n",
    "시장의 변동성을 두려워하지 말고 기회로 삼아라. 하락장은 좋은 기업의 주식을 저렴하게 살 수 있는 기회다. 상승장에서는 과열 징후를 주의 깊게 살펴야 한다.\n",
    "당신의 투자 철학을 세우고 그에 따라 일관성 있게 행동하라. 성공한 투자자들은 자신만의 원칙을 가지고 있으며, 시장 상황과 관계없이 그 원칙을 고수한다. 끊임없는 학습과 경험을 통해 당신의 투자 철학을 발전시켜 나가라.\n",
    "\"\"\""
   ]
  },
  {
   "cell_type": "code",
   "execution_count": null,
   "metadata": {
    "colab": {
     "base_uri": "https://localhost:8080/"
    },
    "executionInfo": {
     "elapsed": 4,
     "status": "ok",
     "timestamp": 1736512887526,
     "user": {
      "displayName": "김재웅",
      "userId": "06729560528582252852"
     },
     "user_tz": -540
    },
    "id": "tSJVZIRFOwa0",
    "outputId": "194bc40b-4db1-4013-e05c-c06c3829695e"
   },
   "outputs": [],
   "source": [
    "text_splitter = RecursiveCharacterTextSplitter(chunk_size = 65, chunk_overlap=0)\n",
    "\n",
    "text_splitter.create_documents([text])"
   ]
  }
 ],
 "metadata": {
  "colab": {
   "authorship_tag": "ABX9TyNZ8UiM2NbCJKniMlHRiHpP",
   "provenance": []
  },
  "kernelspec": {
   "display_name": "Python 3",
   "name": "python3"
  },
  "language_info": {
   "name": "python"
  }
 },
 "nbformat": 4,
 "nbformat_minor": 0
}
