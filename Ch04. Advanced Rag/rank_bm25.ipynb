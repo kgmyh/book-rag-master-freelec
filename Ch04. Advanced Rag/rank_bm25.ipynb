{
 "cells": [
  {
   "cell_type": "markdown",
   "id": "b68c7456",
   "metadata": {},
   "source": [
    "bm25는 토큰 기반이므로 형태소 분석을 통해 전처리를 수행하는 것이 검색 성능 향성에 큰 영향을 미친다."
   ]
  },
  {
   "cell_type": "code",
   "execution_count": null,
   "id": "a896f050",
   "metadata": {},
   "outputs": [],
   "source": [
    "# 기본 예시 (영문 공백 토큰화)\n",
    "from rank_bm25 import BM25Okapi\n",
    "\n",
    "corpus = [\n",
    "    \"Hello there good man!\",\n",
    "    \"It is quite windy in London\",\n",
    "    \"How is the weather today?\"\n",
    "]\n",
    "\n",
    "tokenized_corpus = [c.lower().split() for c in corpus]\n",
    "\n",
    "\n",
    "# k1: 1.5 (≈ 1.2–2.0) - 단어 빈도 포화 강도. 질어가 많이 나올수록 점수를 더 줄지(↑) 결정\n",
    "# b: 0.75 (0–1) - 문서 길이 보정 강도. 긴 문서에 대한 가산을 얼마나 깎을지.\n",
    "# epsilon/delta - 변종별 상이. 희귀 단어/짧은 문서 보정용 추가 항(Plus/L 등). (소규모 코퍼스에서 도움이 될 수 있음.)\n",
    "bm25 = BM25Okapi(tokenized_corpus, k1=1.5, b=0.75)  # 기본값과 동일\n",
    "query = \"windy London\"\n",
    "scores = bm25.get_scores(query.lower().split())     # 각 문서 점수\n",
    "top_docs = bm25.get_top_n(query.lower().split(), corpus, n=2)  # 상위 2개 원문 반환\n"
   ]
  },
  {
   "cell_type": "code",
   "execution_count": null,
   "id": "3f2998fb",
   "metadata": {},
   "outputs": [],
   "source": []
  }
 ],
 "metadata": {
  "kernelspec": {
   "display_name": "book-rag-master-freelec",
   "language": "python",
   "name": "python3"
  },
  "language_info": {
   "codemirror_mode": {
    "name": "ipython",
    "version": 3
   },
   "file_extension": ".py",
   "mimetype": "text/x-python",
   "name": "python",
   "nbconvert_exporter": "python",
   "pygments_lexer": "ipython3",
   "version": "3.13.7"
  }
 },
 "nbformat": 4,
 "nbformat_minor": 5
}
