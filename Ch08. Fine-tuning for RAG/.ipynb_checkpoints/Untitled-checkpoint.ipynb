{
 "cells": [
  {
   "cell_type": "code",
   "execution_count": 1,
   "id": "55c3dda2",
   "metadata": {},
   "outputs": [
    {
     "name": "stdout",
     "output_type": "stream",
     "text": [
      " C 드라이브의 볼륨에는 이름이 없습니다.\n",
      " 볼륨 일련 번호: E2C3-1D63\n",
      "\n",
      " C:\\Users\\joo\\Desktop\\프리렉 책집필\\langchain-tutorial\\Ch08. Fine-tuning for RAG 디렉터리\n",
      "\n"
     ]
    },
    {
     "name": "stderr",
     "output_type": "stream",
     "text": [
      "파일을 찾을 수 없습니다.\n"
     ]
    }
   ],
   "source": [
    "%ls -al"
   ]
  },
  {
   "cell_type": "code",
   "execution_count": 2,
   "id": "56169a70",
   "metadata": {},
   "outputs": [
    {
     "data": {
      "text/plain": [
       "'C:\\\\Users\\\\joo\\\\Desktop\\\\프리렉 책집필\\\\langchain-tutorial\\\\Ch08. Fine-tuning for RAG'"
      ]
     },
     "execution_count": 2,
     "metadata": {},
     "output_type": "execute_result"
    }
   ],
   "source": [
    "%pwd"
   ]
  },
  {
   "cell_type": "code",
   "execution_count": 4,
   "id": "f564c1f4",
   "metadata": {},
   "outputs": [
    {
     "name": "stdout",
     "output_type": "stream",
     "text": [
      "'widgets' 항목이 성공적으로 삭제되었습니다.\n",
      "노트북 ch08_RAG_DATASET.ipynb이(가) 수정되었습니다.\n"
     ]
    }
   ],
   "source": [
    "import json\n",
    "\n",
    "# 수정할 노트북 파일 경로 (현재 디렉토리의 파일이면 파일명만 입력)\n",
    "notebook_path = \"ch08_RAG_DATASET.ipynb\"  # 이 부분을 실제 파일명으로 변경하세요\n",
    "\n",
    "# 노트북 파일 읽기\n",
    "with open(notebook_path, 'r', encoding='utf-8') as f:\n",
    "    notebook_content = json.load(f)\n",
    "\n",
    "# 'widgets' 항목 삭제\n",
    "if 'metadata' in notebook_content and 'widgets' in notebook_content['metadata']:\n",
    "    del notebook_content['metadata']['widgets']\n",
    "    print(\"'widgets' 항목이 성공적으로 삭제되었습니다.\")\n",
    "else:\n",
    "    print(\"'widgets' 항목을 찾을 수 없습니다.\")\n",
    "\n",
    "# 수정된 노트북 저장\n",
    "with open(notebook_path, 'w', encoding='utf-8') as f:\n",
    "    json.dump(notebook_content, f, indent=2)\n",
    "    \n",
    "print(f\"노트북 {notebook_path}이(가) 수정되었습니다.\")"
   ]
  },
  {
   "cell_type": "code",
   "execution_count": null,
   "id": "0b54a697",
   "metadata": {},
   "outputs": [],
   "source": []
  }
 ],
 "metadata": {
  "kernelspec": {
   "display_name": "Python 3 (ipykernel)",
   "language": "python",
   "name": "python3"
  },
  "language_info": {
   "codemirror_mode": {
    "name": "ipython",
    "version": 3
   },
   "file_extension": ".py",
   "mimetype": "text/x-python",
   "name": "python",
   "nbconvert_exporter": "python",
   "pygments_lexer": "ipython3",
   "version": "3.9.12"
  }
 },
 "nbformat": 4,
 "nbformat_minor": 5
}
