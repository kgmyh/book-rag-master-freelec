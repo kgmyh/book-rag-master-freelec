{
 "cells": [
  {
   "cell_type": "code",
   "execution_count": null,
   "metadata": {
    "colab": {
     "base_uri": "https://localhost:8080/"
    },
    "executionInfo": {
     "elapsed": 23138,
     "status": "ok",
     "timestamp": 1742718148525,
     "user": {
      "displayName": "조경아",
      "userId": "05652149574770065967"
     },
     "user_tz": -540
    },
    "id": "Ojlsc5Izydm6",
    "outputId": "5ca51a4c-1694-4499-a05b-3544161711a4"
   },
   "outputs": [
    {
     "name": "stdout",
     "output_type": "stream",
     "text": [
      "Mounted at /content/drive\n"
     ]
    }
   ],
   "source": [
    "from google.colab import drive\n",
    "drive.mount('/content/drive')"
   ]
  },
  {
   "cell_type": "code",
   "execution_count": null,
   "metadata": {
    "collapsed": true,
    "id": "PeY1QEffyjJp"
   },
   "outputs": [],
   "source": [
    "%%capture --no-stderr\n",
    "!pip install python-dotenv openAI langchain_community pypdf langchain pymupdf pdfplumber unstructured beautifulsoup4"
   ]
  },
  {
   "cell_type": "code",
   "execution_count": null,
   "metadata": {
    "id": "gvSfsBH6yjHD"
   },
   "outputs": [],
   "source": [
    "# 환경변수 설정"
   ]
  },
  {
   "cell_type": "code",
   "execution_count": null,
   "metadata": {
    "id": "-KGYBfqCyjEY"
   },
   "outputs": [],
   "source": [
    "# 라이브러리 불러오기\n",
    "import os\n",
    "from dotenv import load_dotenv\n",
    "\n",
    "# .env 파일에서 환경 변수 로드\n",
    "load_dotenv(\"/content/.env\")\n",
    "# 환경 변수에서 API 키 가져오기\n",
    "api_key = os.getenv(\"OPENAI_API_KEY\")"
   ]
  },
  {
   "cell_type": "code",
   "execution_count": null,
   "metadata": {
    "id": "Yatu8wikk5DZ"
   },
   "outputs": [],
   "source": [
    "# <WebBaseLoader>\n",
    "# 사용자 에이전트 설정\n",
    "import os\n",
    "os.environ[\"USER_AGENT\"] = \"MyApp/1.0 (Custom LangChain Application)\"\n",
    "\n",
    "# 라이브러리 불러오기\n",
    "from langchain_community.document_loaders import WebBaseLoader\n",
    "\n",
    "# 단일 URL 초기화\n",
    "loader = WebBaseLoader(\"https://docs.smith.langchain.com/\")\n",
    "# 다중 URL 초기화\n",
    "loader_multiple_pages = WebBaseLoader(\n",
    "    [\"https://python.langchain.com/docs/introduction/\", \"https://langchain-ai.github.io/langgraph/\"]\n",
    ")"
   ]
  },
  {
   "cell_type": "code",
   "execution_count": null,
   "metadata": {
    "colab": {
     "base_uri": "https://localhost:8080/"
    },
    "executionInfo": {
     "elapsed": 1786,
     "status": "ok",
     "timestamp": 1736404285155,
     "user": {
      "displayName": "조경아",
      "userId": "05652149574770065967"
     },
     "user_tz": -540
    },
    "id": "GYDB8Twfl0lJ",
    "outputId": "50f8174f-0034-4f4e-cb06-3030bcdaa8ce"
   },
   "outputs": [
    {
     "name": "stdout",
     "output_type": "stream",
     "text": [
      "{'source': 'https://docs.smith.langchain.com/', 'title': 'Get started with LangSmith | \\uf8ffü¶úÔ∏è\\uf8ffüõ†Ô∏è LangSmith', 'description': 'LangSmith is a platform for building production-grade LLM applications.', 'language': 'en'}\n"
     ]
    }
   ],
   "source": [
    "# 단일 문서 로드\n",
    "single_doc = loader.load()\n",
    "\n",
    "# 문서의 메타데이터 확인\n",
    "print(single_doc[0].metadata)"
   ]
  },
  {
   "cell_type": "code",
   "execution_count": null,
   "metadata": {
    "colab": {
     "base_uri": "https://localhost:8080/"
    },
    "executionInfo": {
     "elapsed": 2185,
     "status": "ok",
     "timestamp": 1736404287338,
     "user": {
      "displayName": "조경아",
      "userId": "05652149574770065967"
     },
     "user_tz": -540
    },
    "id": "8aYi5ts_lgQn",
    "outputId": "4f640b28-479d-4906-b4d6-63504bdd33f6"
   },
   "outputs": [
    {
     "name": "stdout",
     "output_type": "stream",
     "text": [
      "\n",
      "\n",
      "\n",
      "\n",
      "\n",
      "Introduction | ü¶úÔ∏èüîó LangChain\n",
      "\n",
      "\n",
      "\n",
      "\n",
      "\n",
      "\n",
      "Skip to main contentIntegrationsAPI ReferenceMoreContributingPeopleError referenceLangSmithLangGraphLangChain HubLangChain JS/TSv0.3v0.3v0.2v0.1üí¨SearchIntroductionTutorialsBuild a Question Answering application over a Graph DatabaseTutorialsBuild a simple LLM application with chat models and prompt templatesBuild a ChatbotBuild a Retrieval Augmented Generation (RAG) App: Part 2Build an Extraction ChainBuild an AgentTaggingBuild a Retrieval Augmented Generation (RAG) App: Part 1Build a semantic search engineBuild a Question/Answering system over SQL dataSummarize TextHow-to guidesHow-to guidesHow to use tools in a chainHow to use a vectorstore as a retrieverHow to add memory to chatbotsHow to use example selectorsHow to add a semantic layer over graph databaseHow to invoke runnables in parallelHow to stream chat model responsesHow to add default invocation args to a RunnableHow to add retrieval to chatbotsHow to use few shot examples in\n"
     ]
    }
   ],
   "source": [
    "# 문서 로드\n",
    "docs = loader_multiple_pages.load()\n",
    "\n",
    "# 첫 번째 문서의 페이지 콘텐트 확인\n",
    "print(docs[0].page_content[:1000])"
   ]
  },
  {
   "cell_type": "code",
   "execution_count": null,
   "metadata": {
    "id": "UlaU_EESCiyp"
   },
   "outputs": [],
   "source": [
    "from langchain_community.document_loaders import RecursiveUrlLoader\n",
    "\n",
    "loader = RecursiveUrlLoader(\"https://python.langchain.com/docs/introduction/\",\n",
    "                            max_depth=2,\n",
    "                            prevent_outside=True,\n",
    "                            link_regex = r'.*?smith.*?',\n",
    "                            exclude_dirs=['https://python.langchain.com/docs/concepts/'])\n",
    "docs = loader.load()"
   ]
  },
  {
   "cell_type": "code",
   "execution_count": null,
   "metadata": {
    "colab": {
     "base_uri": "https://localhost:8080/"
    },
    "executionInfo": {
     "elapsed": 3,
     "status": "ok",
     "timestamp": 1735473427827,
     "user": {
      "displayName": "조경아",
      "userId": "05652149574770065967"
     },
     "user_tz": -540
    },
    "id": "oSXkjSH8Ciu4",
    "outputId": "64b53778-d254-4462-e40e-024977322efd"
   },
   "outputs": [
    {
     "data": {
      "text/plain": [
       "{'source': 'https://python.langchain.com/docs/introduction/',\n",
       " 'content_type': 'text/html; charset=utf-8',\n",
       " 'title': 'Introduction | \\uf8ffü¶úÔ∏è\\uf8ffüîó LangChain',\n",
       " 'description': 'LangChain is a framework for developing applications powered by large language models (LLMs).',\n",
       " 'language': 'en'}"
      ]
     },
     "execution_count": 38,
     "metadata": {},
     "output_type": "execute_result"
    }
   ],
   "source": [
    "docs[0].metadata"
   ]
  },
  {
   "cell_type": "code",
   "execution_count": null,
   "metadata": {
    "colab": {
     "base_uri": "https://localhost:8080/"
    },
    "executionInfo": {
     "elapsed": 4,
     "status": "ok",
     "timestamp": 1735473353110,
     "user": {
      "displayName": "조경아",
      "userId": "05652149574770065967"
     },
     "user_tz": -540
    },
    "id": "sZDXALJNH3h-",
    "outputId": "6244fa50-0933-4075-db6f-5efac845d2d2"
   },
   "outputs": [
    {
     "name": "stdout",
     "output_type": "stream",
     "text": [
      "https://python.langchain.com/docs/introduction/\n"
     ]
    }
   ],
   "source": [
    "concept_docs = [doc for doc in docs if 'concepts' in doc.page_content]\n",
    "for doc in concept_docs:\n",
    "    print(doc.metadata['source'])"
   ]
  },
  {
   "cell_type": "code",
   "execution_count": null,
   "metadata": {
    "colab": {
     "base_uri": "https://localhost:8080/",
     "height": 105
    },
    "executionInfo": {
     "elapsed": 746,
     "status": "ok",
     "timestamp": 1736404415357,
     "user": {
      "displayName": "조경아",
      "userId": "05652149574770065967"
     },
     "user_tz": -540
    },
    "id": "IHXuBJlSH5yd",
    "outputId": "6c63c9ab-44d1-4494-cf9c-92f70a9ec023"
   },
   "outputs": [
    {
     "data": {
      "application/vnd.google.colaboratory.intrinsic+json": {
       "type": "string"
      },
      "text/plain": [
       "'\\n\\n\\n\\n\\nIntroduction | \\uf8ffü¶úÔ∏è\\uf8ffüîó LangChain\\n\\n\\n\\n\\n\\n\\nSkip to main contentIntegrationsAPI ReferenceMoreContributingPeopleError referenceLangSmithLangGraphLangChain HubLangChain JS/TSv0.3v0.3v0.2v0.1\\uf8ffüí¨SearchIntroductionTutorialsBuild a Question Answering application over a Graph DatabaseTutorialsBuild a simple LLM application with chat models and prompt templatesBuild a ChatbotBuild a Retrieval Augmented Generation (RAG) App: Part 2Build an Extraction ChainBuild an AgentTaggingBuild a Retrieval Augmented Generation (RAG) App: Part 1Build a semantic search engineBuild a Question/Answering system over SQL dataSummarize TextHow-to guidesHow-to guidesHow to use tools in a chainHow to use a vectorstore as a retrieverHow to add memory to chatbotsHow to use example selectorsHow to add a semantic layer over graph databaseHow to invoke runnables in parallelHow to stream chat model responsesHow to add default invocation args to a RunnableHow to add retrieval to chatbotsHow to use few shot examples in'"
      ]
     },
     "execution_count": 18,
     "metadata": {},
     "output_type": "execute_result"
    }
   ],
   "source": [
    " docs[0].page_content[:1000]"
   ]
  },
  {
   "cell_type": "code",
   "execution_count": null,
   "metadata": {
    "id": "m6GqDTFCaldW"
   },
   "outputs": [],
   "source": [
    "# <PyPDFLoader>\n",
    "# 라이브러리 불러오기\n",
    "from langchain_community.document_loaders import PyPDFLoader\n",
    "from langchain_community.document_loaders import PyMuPDFLoader\n",
    "from langchain_community.document_loaders import PDFPlumberLoader"
   ]
  },
  {
   "cell_type": "code",
   "execution_count": null,
   "metadata": {
    "colab": {
     "base_uri": "https://localhost:8080/"
    },
    "executionInfo": {
     "elapsed": 23175,
     "status": "ok",
     "timestamp": 1730470650440,
     "user": {
      "displayName": "조경아",
      "userId": "05652149574770065967"
     },
     "user_tz": -540
    },
    "id": "47PAavRWDfUU",
    "outputId": "34cb93f8-65df-4b79-d9cc-d3492a5a02b5"
   },
   "outputs": [
    {
     "name": "stdout",
     "output_type": "stream",
     "text": [
      "청크의 수: 83\n",
      "CPU times: user 17.2 s, sys: 106 ms, total: 17.4 s\n",
      "Wall time: 22.8 s\n"
     ]
    }
   ],
   "source": [
    "%%time\n",
    "loader = PyPDFLoader(\"/content/drive/MyDrive/Colab Notebooks/langchain_book/Ch02.RAG/Data/2024_KB_부동산_보고서_최종.pdf\")\n",
    "pages = loader.load_and_split()\n",
    "print('청크의 수:', len(pages))\n"
   ]
  },
  {
   "cell_type": "code",
   "execution_count": null,
   "metadata": {
    "colab": {
     "base_uri": "https://localhost:8080/"
    },
    "executionInfo": {
     "elapsed": 470,
     "status": "ok",
     "timestamp": 1730387973170,
     "user": {
      "displayName": "조경아",
      "userId": "05652149574770065967"
     },
     "user_tz": -540
    },
    "id": "xurYnAyKGWnj",
    "outputId": "1cacfaad-7b8a-4dc0-d058-dabb175db7de"
   },
   "outputs": [
    {
     "data": {
      "text/plain": [
       "Document(metadata={'source': '/content/drive/MyDrive/Colab Notebooks/langchain_book/2024_KB_부동산_보고서_최종.pdf', 'page': 11}, page_content='5 \\n2024 KB 부동산 보고서: 2024년 주택시장 진단과 전망 \\n \\n표Ⅰ-1. 공급 확대 정책 주요 내용 \\n날짜 주요 내용 \\n2023년 9월 \\n공공 부문 공급물량 확대: 3기 신도시를 포함한 공급물량 확대 및 조기 공급 방안 마련 \\n사업 여건 개선: 전매 제한 완화 및 규제 정상화, 조기 인허가 인센티브 및 절차 개선, 공사비 증액 \\n기준 마련 및 인력 확충, 분양 사업의 임대 사업 전환 촉진 \\n원활한 자금 지원: PF대출 보증 확대, 중도금 대출 지원 \\n비아파트 자금 조달 지원 및 규제 개선 \\n도심 공급 기반 확충: 정비사업 절차 및 소규모 사업 사업성 개선 \\n2024년 1월 \\n도심 공급 확대: 재건축·재개발 패스트트랙 도입 및 재건축 부담금 합리화, 1기 신도시 재정비사업의 \\n신속하고 내실 있는 계획 수립, 소규모 정비·도심 복합 사업 속도 개선 및 자금 지원 강화 \\n다양한 유형의 주택 공급 확대: 도시·건축 규제 완화 및 세제·금융 지원, 등록 임대 사업 여건 개선 \\n및 기업형 장기임대 활성화, 신축 매입 약정 확대, 전세 사기 예방 및 피해 지원 \\n신도시 등 공공주택 공급: 2024년 공공주택 14만 호 이상 공급, 신도시 조성 속도 제고 \\n건설 경기 활력 회복: PF대출 지원 및 유동성 지원, 공공 임대 참여 지분 조기 매각, 민간 사업장 \\n공공 인수, 재정 조기 집행 및 민자 사업 확대 \\n \\n자료: 국토교통부 보도자료 요약 \\n \\n■ 2024년 주택시장 3대 변수는 공급과 금리, 그리고 정책 \\n주택시장이 상승과 하락을 반복하면서 주택 경기 불확실성이 확대되고 있다. 특히 매수 수요 위축으\\n로 주택 매매 거래량이 급감하면서 향후 주택 경기에 대한 부정적 시각이 팽배하다. 무엇보다 여전히 \\n높은 금리가 부담으로 작용하고 있다. 주택 경기 불황기에 고금리로 인한 대출 부담은 주택 수요를 크\\n게 위축시킬 수밖에 없기 때문이다. \\n \\n그림Ⅰ-11. 매수우위지수 추이  표Ⅰ-2. 주요 금융기관 주택담보대출 금리(2024년 2월) \\n \\n \\n상품명 \\n당월 \\n최저 \\n당월 \\n최고 \\n전월 \\n평균 \\nKB주택담보대출 4.24 5.14 4.85 \\n신한주택대출 3.79 5.29 4.58 \\n우리아파트론 4.74 5.94 5.06 \\n하나원큐 아파트론 4.90 5.30 5.39 \\nNH주택담보대출 4.40 6.40 5.39 \\n카카오주택담보대출 4.54 5.19 4.82 \\n \\n자료: KB국민은행 \\n \\n 주: 아파트, 변동금리, 원리금 분할 상환 기준 \\n자료: 은행연합회')"
      ]
     },
     "execution_count": 17,
     "metadata": {},
     "output_type": "execute_result"
    }
   ],
   "source": [
    "pages[10]"
   ]
  },
  {
   "cell_type": "code",
   "execution_count": null,
   "metadata": {
    "colab": {
     "base_uri": "https://localhost:8080/"
    },
    "executionInfo": {
     "elapsed": 415,
     "status": "ok",
     "timestamp": 1730388239968,
     "user": {
      "displayName": "조경아",
      "userId": "05652149574770065967"
     },
     "user_tz": -540
    },
    "id": "io7zRJCCLQo8",
    "outputId": "4bc6d659-0a07-43b7-defa-090c82cb2817"
   },
   "outputs": [
    {
     "data": {
      "text/plain": [
       "{'source': '/content/drive/MyDrive/Colab Notebooks/langchain_book/2024_KB_부동산_보고서_최종.pdf',\n",
       " 'page': 11}"
      ]
     },
     "execution_count": 19,
     "metadata": {},
     "output_type": "execute_result"
    }
   ],
   "source": [
    "pages[10].metadata"
   ]
  },
  {
   "cell_type": "code",
   "execution_count": null,
   "metadata": {
    "colab": {
     "base_uri": "https://localhost:8080/"
    },
    "executionInfo": {
     "elapsed": 404,
     "status": "ok",
     "timestamp": 1730470653505,
     "user": {
      "displayName": "조경아",
      "userId": "05652149574770065967"
     },
     "user_tz": -540
    },
    "id": "a0IHOQfxGWj8",
    "outputId": "5009cef1-6806-4eb0-bf8e-fb8bb1b7e550"
   },
   "outputs": [
    {
     "name": "stdout",
     "output_type": "stream",
     "text": [
      "5 \n",
      "2024 KB 부동산 보고서: 2024년 주택시장 진단과 전망 \n",
      " \n",
      "표Ⅰ-1. 공급 확대 정책 주요 내용 \n",
      "날짜 주요 내용 \n",
      "2023년 9월 \n",
      "공공 부문 공급물량 확대: 3기 신도시를 포함한 공급물량 확대 및 조기 공급 방안 마련 \n",
      "사업 여건 개선: 전매 제한 완화 및 규제 정상화, 조기 인허가 인센티브 및 절차 개선, 공사비 증액 \n",
      "기준 마련 및 인력 확충, 분양 사업의 임대 사업 전환 촉진 \n",
      "원활한 자금 지원: PF대출 보증 확대, 중도금 대출 지원 \n",
      "비아파트 자금 조달 지원 및 규제 개선 \n",
      "도심 공급 기반 확충: 정비사업 절차 및 소규모 사업 사업성 개선 \n",
      "2024년 1월 \n",
      "도심 공급 확대: 재건축·재개발 패스트트랙 도입 및 재건축 부담금 합리화, 1기 신도시 재정비사업의 \n",
      "신속하고 내실 있는 계획 수립, 소규모 정비·도심 복합 사업 속도 개선 및 자금 지원 강화 \n",
      "다양한 유형의 주택 공급 확대: 도시·건축 규제 완화 및 세제·금융 지원, 등록 임대 사업 여건 개선 \n",
      "및 기업형 장기임대 활성화, 신축 매입 약정 확대, 전세 사기 예방 및 피해 지원 \n",
      "신도시 등 공공주택 공급: 2024년 공공주택 14만 호 이상 공급, 신도시 조성 속도 제고 \n",
      "건설 경기 활력 회복: PF대출 지원 및 유동성 지원, 공공 임대 참여 지분 조기 매각, 민간 사업장 \n",
      "공공 인수, 재정 조기 집행 및 민자 사업 확대 \n",
      " \n",
      "자료: 국토교통부 보도자료 요약 \n",
      " \n",
      "■ 2024년 주택시장 3대 변수는 공급과 금리, 그리고 정책 \n",
      "주택시장이 상승과 하락을 반복하면서 주택 경기 불확실성이 확대되고 있다. 특히 매수 수요 위축으\n",
      "로 주택 매매 거래량이 급감하면서 향후 주택 경기에 대한 부정적 시각이 팽배하다. 무엇보다 여전히 \n",
      "높은 금리가 부담으로 작용하고 있다. 주택 경기 불황기에 고금리로 인한 대출 부담은 주택 수요를 크\n",
      "게 위축시킬 수밖에 없기 때문이다. \n",
      " \n",
      "그림Ⅰ-11. 매수우위지수 추이  표Ⅰ-2. 주요 금융기관 주택담보대출 금리(2024년 2월) \n",
      " \n",
      " \n",
      "상품명 \n",
      "당월 \n",
      "최저 \n",
      "당월 \n",
      "최고 \n",
      "전월 \n",
      "평균 \n",
      "KB주택담보대출 4.24 5.14 4.85 \n",
      "신한주택대출 3.79 5.29 4.58 \n",
      "우리아파트론 4.74 5.94 5.06 \n",
      "하나원큐 아파트론 4.90 5.30 5.39 \n",
      "NH주택담보대출 4.40 6.40 5.39 \n",
      "카카오주택담보대출 4.54 5.19 4.82 \n",
      " \n",
      "자료: KB국민은행 \n",
      " \n",
      " 주: 아파트, 변동금리, 원리금 분할 상환 기준 \n",
      "자료: 은행연합회\n"
     ]
    }
   ],
   "source": [
    "print(pages[10].page_content)"
   ]
  },
  {
   "cell_type": "code",
   "execution_count": null,
   "metadata": {
    "colab": {
     "base_uri": "https://localhost:8080/"
    },
    "executionInfo": {
     "elapsed": 935,
     "status": "error",
     "timestamp": 1730535854034,
     "user": {
      "displayName": "조경아",
      "userId": "05652149574770065967"
     },
     "user_tz": -540
    },
    "id": "5G6JAXD9YA_P",
    "outputId": "62d9f073-1750-4a68-9e5f-28f6d1e04c8f"
   },
   "outputs": [
    {
     "name": "stderr",
     "output_type": "stream",
     "text": [
      "UsageError: Can't use statement directly after '%%time'!\n"
     ]
    }
   ],
   "source": [
    "# <PyMuPDFLoader>\n",
    "\n",
    "%%time # 셀 실행 시간을 측정하는 매직 커맨드\n",
    "loader = PyMuPDFLoader(\"/content/drive/MyDrive/Colab Notebooks/langchain_book/Ch02.RAG/Data/2024_KB_부동산_보고서_최종.pdf\")\n",
    "pages = loader.load_and_split()\n",
    "print('청크의 수:', len(pages))\n"
   ]
  },
  {
   "cell_type": "code",
   "execution_count": null,
   "metadata": {
    "colab": {
     "base_uri": "https://localhost:8080/"
    },
    "executionInfo": {
     "elapsed": 2,
     "status": "ok",
     "timestamp": 1730444654108,
     "user": {
      "displayName": "조경아",
      "userId": "05652149574770065967"
     },
     "user_tz": -540
    },
    "id": "S1eOtnKiYA8G",
    "outputId": "7789dc82-4aca-486d-be4b-120a00a18968"
   },
   "outputs": [
    {
     "data": {
      "text/plain": [
       "Document(metadata={'source': '/content/drive/MyDrive/Colab Notebooks/langchain_book/2024_KB_부동산_보고서_최종.pdf', 'file_path': '/content/drive/MyDrive/Colab Notebooks/langchain_book/2024_KB_부동산_보고서_최종.pdf', 'page': 11, 'total_pages': 84, 'Title': 'Morning Meeting', 'Author': '손은경', 'Creator': 'Microsoft® Word 2016', 'CreationDate': \"D:20240304153001+09'00'\", 'ModDate': \"D:20240304153001+09'00'\", 'Producer': 'Microsoft® Word 2016'}, page_content='2024 KB 부동산 보고서: 2024년 주택시장 진단과 전망\\n표Ⅰ-1. 공급 확대 정책 주요 내용\\n날짜 주요 내용\\n공공 부문 공급물량 확대: 3기 신도시를 포함한 공급물량 확대 및 조기 공급 방안 마련\\n사업 여건 개선: 전매 제한 완화 및 규제 정상화, 조기 인허가 인센티브 및 절차 개선, 공사비 증액\\n기준 마련 및 인력 확충, 분양 사업의 임대 사업 전환 촉진\\n2023년 9월\\n원활한 자금 지원: PF대출 보증 확대, 중도금 대출 지원\\n비아파트 자금 조달 지원 및 규제 개선\\n도심 공급 기반 확충: 정비사업 절차 및 소규모 사업 사업성 개선\\n도심 공급 확대: 재건축·재개발 패스트트랙 도입 및 재건축 부담금 합리화, 1기 신도시 재정비사업의\\n신속하고 내실 있는 계획 수립, 소규모 정비·도심 복합 사업 속도 개선 및 자금 지원 강화\\n다양한 유형의 주택 공급 확대: 도시·건축 규제 완화 및 세제·금융 지원, 등록 임대 사업 여건 개선\\n2024년 1월 및 기업형 장기임대 활성화, 신축 매입 약정 확대, 전세 사기 예방 및 피해 지원\\n신도시 등 공공주택 공급: 2024년 공공주택 14만 호 이상 공급, 신도시 조성 속도 제고\\n건설 경기 활력 회복: PF대출 지원 및 유동성 지원, 공공 임대 참여 지분 조기 매각, 민간 사업장\\n공공 인수, 재정 조기 집행 및 민자 사업 확대\\n자료: 국토교통부 보도자료 요약\\n■ 2024년 주택시장 3대 변수는 공급과 금리, 그리고 정책\\n주택시장이 상승과 하락을 반복하면서 주택 경기 불확실성이 확대되고 있다. 특히 매수 수요 위축으\\n로 주택 매매 거래량이 급감하면서 향후 주택 경기에 대한 부정적 시각이 팽배하다. 무엇보다 여전히\\n높은 금리가 부담으로 작용하고 있다. 주택 경기 불황기에 고금리로 인한 대출 부담은 주택 수요를 크\\n게 위축시킬 수밖에 없기 때문이다.\\n그림Ⅰ-11. 매수우위지수 추이 표Ⅰ-2. 주요 금융기관 주택담보대출 금리(2024년 2월)\\n당월 당월 전월\\n상품명\\n최저 최고 평균\\nKB주택담보대출 4.24 5.14 4.85\\n신한주택대출 3.79 5.29 4.58\\n우리아파트론 4.74 5.94 5.06\\n하나원큐 아파트론 4.90 5.30 5.39\\nNH주택담보대출 4.40 6.40 5.39\\n카카오주택담보대출 4.54 5.19 4.82\\n자료: KB국민은행 주: 아파트, 변동금리, 원리금 분할 상환 기준\\n자료: 은행연합회\\n5')"
      ]
     },
     "execution_count": 22,
     "metadata": {},
     "output_type": "execute_result"
    }
   ],
   "source": [
    "pages[10]"
   ]
  },
  {
   "cell_type": "code",
   "execution_count": null,
   "metadata": {
    "colab": {
     "base_uri": "https://localhost:8080/"
    },
    "executionInfo": {
     "elapsed": 39425,
     "status": "ok",
     "timestamp": 1730444164936,
     "user": {
      "displayName": "조경아",
      "userId": "05652149574770065967"
     },
     "user_tz": -540
    },
    "id": "r2l907ajcvdC",
    "outputId": "73298e22-5e58-4176-bd6b-bfcef3f59511"
   },
   "outputs": [
    {
     "name": "stdout",
     "output_type": "stream",
     "text": [
      "청크의 수: 83\n",
      "CPU times: user 32.1 s, sys: 117 ms, total: 32.3 s\n",
      "Wall time: 39.1 s\n"
     ]
    }
   ],
   "source": [
    "# <PDFPlumberLoader>\n",
    "\n",
    "%%time\n",
    "loader = PDFPlumberLoader(\"/content/drive/MyDrive/Colab Notebooks/langchain_book/Ch02.RAG/Data/2024_KB_부동산_보고서_최종.pdf\")\n",
    "pages = loader.load_and_split()\n",
    "print('청크의 수:', len(pages))\n"
   ]
  },
  {
   "cell_type": "code",
   "execution_count": null,
   "metadata": {
    "colab": {
     "base_uri": "https://localhost:8080/"
    },
    "executionInfo": {
     "elapsed": 333,
     "status": "ok",
     "timestamp": 1730444477717,
     "user": {
      "displayName": "조경아",
      "userId": "05652149574770065967"
     },
     "user_tz": -540
    },
    "id": "v9feUF-Ud4Kd",
    "outputId": "e7ad64b3-a738-4bce-ddc5-affc28108925"
   },
   "outputs": [
    {
     "data": {
      "text/plain": [
       "Document(metadata={'source': '/content/drive/MyDrive/Colab Notebooks/langchain_book/2024_KB_부동산_보고서_최종.pdf', 'file_path': '/content/drive/MyDrive/Colab Notebooks/langchain_book/2024_KB_부동산_보고서_최종.pdf', 'page': 11, 'total_pages': 84, 'Title': 'Morning Meeting', 'Author': '손은경', 'Creator': 'Microsoft® Word 2016', 'CreationDate': \"D:20240304153001+09'00'\", 'ModDate': \"D:20240304153001+09'00'\", 'Producer': 'Microsoft® Word 2016'}, page_content='2024 KB 부동산 보고서: 2024년 주택시장 진단과 전망\\n표Ⅰ-1. 공급 확대 정책 주요 내용\\n날짜 주요 내용\\n공공 부문 공급물량 확대: 3기 신도시를 포함한 공급물량 확대 및 조기 공급 방안 마련\\n사업 여건 개선: 전매 제한 완화 및 규제 정상화, 조기 인허가 인센티브 및 절차 개선, 공사비 증액\\n기준 마련 및 인력 확충, 분양 사업의 임대 사업 전환 촉진\\n2023년 9월\\n원활한 자금 지원: PF대출 보증 확대, 중도금 대출 지원\\n비아파트 자금 조달 지원 및 규제 개선\\n도심 공급 기반 확충: 정비사업 절차 및 소규모 사업 사업성 개선\\n도심 공급 확대: 재건축·재개발 패스트트랙 도입 및 재건축 부담금 합리화, 1기 신도시 재정비사업의\\n신속하고 내실 있는 계획 수립, 소규모 정비·도심 복합 사업 속도 개선 및 자금 지원 강화\\n다양한 유형의 주택 공급 확대: 도시·건축 규제 완화 및 세제·금융 지원, 등록 임대 사업 여건 개선\\n2024년 1월 및 기업형 장기임대 활성화, 신축 매입 약정 확대, 전세 사기 예방 및 피해 지원\\n신도시 등 공공주택 공급: 2024년 공공주택 14만 호 이상 공급, 신도시 조성 속도 제고\\n건설 경기 활력 회복: PF대출 지원 및 유동성 지원, 공공 임대 참여 지분 조기 매각, 민간 사업장\\n공공 인수, 재정 조기 집행 및 민자 사업 확대\\n자료: 국토교통부 보도자료 요약\\n■ 2024년 주택시장 3대 변수는 공급과 금리, 그리고 정책\\n주택시장이 상승과 하락을 반복하면서 주택 경기 불확실성이 확대되고 있다. 특히 매수 수요 위축으\\n로 주택 매매 거래량이 급감하면서 향후 주택 경기에 대한 부정적 시각이 팽배하다. 무엇보다 여전히\\n높은 금리가 부담으로 작용하고 있다. 주택 경기 불황기에 고금리로 인한 대출 부담은 주택 수요를 크\\n게 위축시킬 수밖에 없기 때문이다.\\n그림Ⅰ-11. 매수우위지수 추이 표Ⅰ-2. 주요 금융기관 주택담보대출 금리(2024년 2월)\\n당월 당월 전월\\n상품명\\n최저 최고 평균\\nKB주택담보대출 4.24 5.14 4.85\\n신한주택대출 3.79 5.29 4.58\\n우리아파트론 4.74 5.94 5.06\\n하나원큐 아파트론 4.90 5.30 5.39\\nNH주택담보대출 4.40 6.40 5.39\\n카카오주택담보대출 4.54 5.19 4.82\\n자료: KB국민은행 주: 아파트, 변동금리, 원리금 분할 상환 기준\\n자료: 은행연합회\\n5')"
      ]
     },
     "execution_count": 19,
     "metadata": {},
     "output_type": "execute_result"
    }
   ],
   "source": [
    "pages[10]"
   ]
  },
  {
   "cell_type": "code",
   "execution_count": null,
   "metadata": {
    "colab": {
     "base_uri": "https://localhost:8080/"
    },
    "executionInfo": {
     "elapsed": 345,
     "status": "ok",
     "timestamp": 1730444621370,
     "user": {
      "displayName": "조경아",
      "userId": "05652149574770065967"
     },
     "user_tz": -540
    },
    "id": "bUlqqFfZd4Gt",
    "outputId": "368faee2-2005-45f5-f034-9d63a42425d9"
   },
   "outputs": [
    {
     "name": "stdout",
     "output_type": "stream",
     "text": [
      "2024 KB 부동산 보고서: 2024년 주택시장 진단과 전망\n",
      "표Ⅰ-1. 공급 확대 정책 주요 내용\n",
      "날짜 주요 내용\n",
      "공공 부문 공급물량 확대: 3기 신도시를 포함한 공급물량 확대 및 조기 공급 방안 마련\n",
      "사업 여건 개선: 전매 제한 완화 및 규제 정상화, 조기 인허가 인센티브 및 절차 개선, 공사비 증액\n",
      "기준 마련 및 인력 확충, 분양 사업의 임대 사업 전환 촉진\n",
      "2023년 9월\n",
      "원활한 자금 지원: PF대출 보증 확대, 중도금 대출 지원\n",
      "비아파트 자금 조달 지원 및 규제 개선\n",
      "도심 공급 기반 확충: 정비사업 절차 및 소규모 사업 사업성 개선\n",
      "도심 공급 확대: 재건축·재개발 패스트트랙 도입 및 재건축 부담금 합리화, 1기 신도시 재정비사업의\n",
      "신속하고 내실 있는 계획 수립, 소규모 정비·도심 복합 사업 속도 개선 및 자금 지원 강화\n",
      "다양한 유형의 주택 공급 확대: 도시·건축 규제 완화 및 세제·금융 지원, 등록 임대 사업 여건 개선\n",
      "2024년 1월 및 기업형 장기임대 활성화, 신축 매입 약정 확대, 전세 사기 예방 및 피해 지원\n",
      "신도시 등 공공주택 공급: 2024년 공공주택 14만 호 이상 공급, 신도시 조성 속도 제고\n",
      "건설 경기 활력 회복: PF대출 지원 및 유동성 지원, 공공 임대 참여 지분 조기 매각, 민간 사업장\n",
      "공공 인수, 재정 조기 집행 및 민자 사업 확대\n",
      "자료: 국토교통부 보도자료 요약\n",
      "■ 2024년 주택시장 3대 변수는 공급과 금리, 그리고 정책\n",
      "주택시장이 상승과 하락을 반복하면서 주택 경기 불확실성이 확대되고 있다. 특히 매수 수요 위축으\n",
      "로 주택 매매 거래량이 급감하면서 향후 주택 경기에 대한 부정적 시각이 팽배하다. 무엇보다 여전히\n",
      "높은 금리가 부담으로 작용하고 있다. 주택 경기 불황기에 고금리로 인한 대출 부담은 주택 수요를 크\n",
      "게 위축시킬 수밖에 없기 때문이다.\n",
      "그림Ⅰ-11. 매수우위지수 추이 표Ⅰ-2. 주요 금융기관 주택담보대출 금리(2024년 2월)\n",
      "당월 당월 전월\n",
      "상품명\n",
      "최저 최고 평균\n",
      "KB주택담보대출 4.24 5.14 4.85\n",
      "신한주택대출 3.79 5.29 4.58\n",
      "우리아파트론 4.74 5.94 5.06\n",
      "하나원큐 아파트론 4.90 5.30 5.39\n",
      "NH주택담보대출 4.40 6.40 5.39\n",
      "카카오주택담보대출 4.54 5.19 4.82\n",
      "자료: KB국민은행 주: 아파트, 변동금리, 원리금 분할 상환 기준\n",
      "자료: 은행연합회\n",
      "5\n"
     ]
    }
   ],
   "source": [
    "print(pages[10].page_content)"
   ]
  },
  {
   "cell_type": "code",
   "execution_count": null,
   "metadata": {
    "id": "zJt7B7sS-hxk"
   },
   "outputs": [],
   "source": [
    "# <CSVLoader>\n",
    "from langchain_community.document_loaders import CSVLoader\n",
    "from langchain_community.document_loaders import UnstructuredCSVLoader"
   ]
  },
  {
   "cell_type": "code",
   "execution_count": null,
   "metadata": {
    "colab": {
     "base_uri": "https://localhost:8080/"
    },
    "executionInfo": {
     "elapsed": 978,
     "status": "ok",
     "timestamp": 1736404241259,
     "user": {
      "displayName": "조경아",
      "userId": "05652149574770065967"
     },
     "user_tz": -540
    },
    "id": "mmjca-aA-hud",
    "outputId": "8917e827-96cd-4e97-fcb6-dd5b21b27964"
   },
   "outputs": [
    {
     "name": "stdout",
     "output_type": "stream",
     "text": [
      "청크의 수: 2001\n",
      "CPU times: user 65.3 ms, sys: 863 µs, total: 66.2 ms\n",
      "Wall time: 543 ms\n"
     ]
    }
   ],
   "source": [
    "%%time\n",
    "\n",
    "# CSV 파일 로더 초기화\n",
    "loader = CSVLoader(\"/content/drive/MyDrive/Colab Notebooks/langchain_book/Ch02.RAG/Data/서울시_부동산_실거래가_정보.csv\")\n",
    "\n",
    "# CSV 파일 로드 및 행 분할\n",
    "documents = loader.load()\n",
    "\n",
    "print('청크의 수:', len(documents))"
   ]
  },
  {
   "cell_type": "code",
   "execution_count": null,
   "metadata": {
    "colab": {
     "base_uri": "https://localhost:8080/"
    },
    "collapsed": true,
    "executionInfo": {
     "elapsed": 2,
     "status": "ok",
     "timestamp": 1736404241686,
     "user": {
      "displayName": "조경아",
      "userId": "05652149574770065967"
     },
     "user_tz": -540
    },
    "id": "0Ro7lDuHTYrK",
    "outputId": "44c40dbd-1dc1-4beb-ab9f-c178a041d494"
   },
   "outputs": [
    {
     "data": {
      "text/plain": [
       "Document(metadata={'source': '/content/drive/MyDrive/Colab Notebooks/langchain_book/서울시_부동산_실거래가_정보.csv', 'row': 5}, page_content='\\ufeff접수연도: 2024\\n자치구코드: 11410\\n자치구명: 서대문구\\n법정동코드: 11600\\n법정동명: 창천동\\n지번구분: \\n지번구분명: \\n본번: \\n부번: \\n건물명: \\n계약일: 20241031\\n물건금액(만원): 340000\\n건물면적(㎡): 421.83\\n토지면적(㎡): 284\\n층: \\n권리구분: \\n취소일: \\n건축년도: 2014\\n건물용도: 단독다가구\\n신고구분: 직거래\\n신고한 개업공인중개사 시군구명: ')"
      ]
     },
     "execution_count": 6,
     "metadata": {},
     "output_type": "execute_result"
    }
   ],
   "source": [
    "documents[5]"
   ]
  },
  {
   "cell_type": "code",
   "execution_count": null,
   "metadata": {
    "colab": {
     "base_uri": "https://localhost:8080/"
    },
    "executionInfo": {
     "elapsed": 3015,
     "status": "ok",
     "timestamp": 1736404247252,
     "user": {
      "displayName": "조경아",
      "userId": "05652149574770065967"
     },
     "user_tz": -540
    },
    "id": "AyYyZIlGjQAR",
    "outputId": "9e7ae44c-7c9b-48d6-bfff-d1afb3ad2767"
   },
   "outputs": [
    {
     "name": "stdout",
     "output_type": "stream",
     "text": [
      "청크의 수: 1\n",
      "CPU times: user 2.06 s, sys: 103 ms, total: 2.17 s\n",
      "Wall time: 2.74 s\n"
     ]
    }
   ],
   "source": [
    "# <UnstructuredCSVLoader>\n",
    "%%time\n",
    "\n",
    "# CSV 파일 로더 초기화\n",
    "loader = UnstructuredCSVLoader(\"/content/drive/MyDrive/Colab Notebooks/langchain_book/Ch02.RAG/Data/서울시_부동산_실거래가_정보.csv\",\n",
    "                                   mode='elements')\n",
    "\n",
    "# CSV 파일 로드\n",
    "documents = loader.load()\n",
    "\n",
    "print('청크의 수:', len(documents))"
   ]
  },
  {
   "cell_type": "code",
   "execution_count": null,
   "metadata": {
    "colab": {
     "base_uri": "https://localhost:8080/",
     "height": 70
    },
    "executionInfo": {
     "elapsed": 7,
     "status": "ok",
     "timestamp": 1736404247253,
     "user": {
      "displayName": "조경아",
      "userId": "05652149574770065967"
     },
     "user_tz": -540
    },
    "id": "2-7W8n8QoB6T",
    "outputId": "01a74a5e-50b6-4e48-ceb7-68f8aeab27aa"
   },
   "outputs": [
    {
     "data": {
      "application/vnd.google.colaboratory.intrinsic+json": {
       "type": "string"
      },
      "text/plain": [
       "'{\\'source\\': \\'/content/drive/MyDrive/Colab Notebooks/langchain_book/서울시_부동산_실거래가_정보.csv\\', \\'file_directory\\': \\'/content/drive/MyDrive/Colab Notebooks/langchain_book\\', \\'filename\\': \\'서울시_부동산_실거래가_정보.csv\\', \\'last_modified\\': \\'2024-11-02T10:14:24\\', \\'text_as_html\\': \"<table><tr><td>접수연도</td><td>자치구코드</td><td>자치구명</td><td>법정동코드</td><td>법정동명</td><td>지번구분</td><td>지번구분명</td><td>본번</td><td>부번</td><td>건물명</td><td>계약일</td><td>물건금액(만원)</td><td>건물면적(㎡)</td><td>토지면적(㎡)</td><td>층</td><td>권'"
      ]
     },
     "execution_count": 8,
     "metadata": {},
     "output_type": "execute_result"
    }
   ],
   "source": [
    "str(documents[0].metadata)[:500]"
   ]
  },
  {
   "cell_type": "code",
   "execution_count": null,
   "metadata": {
    "colab": {
     "base_uri": "https://localhost:8080/",
     "height": 70
    },
    "executionInfo": {
     "elapsed": 6,
     "status": "ok",
     "timestamp": 1736404247253,
     "user": {
      "displayName": "조경아",
      "userId": "05652149574770065967"
     },
     "user_tz": -540
    },
    "id": "WqmcyDvnoIZr",
    "outputId": "7846ae22-7ee0-417e-c014-c3052c52a0b1"
   },
   "outputs": [
    {
     "data": {
      "application/vnd.google.colaboratory.intrinsic+json": {
       "type": "string"
      },
      "text/plain": [
       "'접수연도 자치구코드 자치구명 법정동코드 법정동명 지번구분 지번구분명 본번 부번 건물명 계약일 물건금액(만원) 건물면적(㎡) 토지면적(㎡) 층 권리구분 취소일 건축년도 건물용도 신고구분 신고한 개업공인중개사 시군구명 2024 11440 마포구 11100 신수동 1 대지 228 3 마인빌 20241031 37300 32.48 20 4 2022 연립다세대 직거래 2024 11320 도봉구 10800 도봉동 1 대지 565 9 (565-9) 20241031 9900 25.92 21 4 2003 연립다세대 직거래 2024 11500 강서구 10900 방화동 1 대지 620 214 (620-214) 20241031 10000 27.37 40.37 7 2011 오피스텔 중개거래 서울 강서구 2024 11680 강남구 11200 자곡동 1 대지 658 0 강남힐스테이트에코 20241031 17000 24.118 31.983 10 2014 오피스텔 중개거래 서울 강남구 2024 11500 강서구 1'"
      ]
     },
     "execution_count": 9,
     "metadata": {},
     "output_type": "execute_result"
    }
   ],
   "source": [
    "str(documents[0].page_content)[:500]"
   ]
  },
  {
   "cell_type": "code",
   "execution_count": null,
   "metadata": {
    "id": "E9P7G7dlkfrA"
   },
   "outputs": [],
   "source": [
    "from IPython.display import display, HTML"
   ]
  },
  {
   "cell_type": "code",
   "execution_count": null,
   "metadata": {
    "colab": {
     "base_uri": "https://localhost:8080/",
     "height": 190
    },
    "executionInfo": {
     "elapsed": 294,
     "status": "ok",
     "timestamp": 1736404259514,
     "user": {
      "displayName": "조경아",
      "userId": "05652149574770065967"
     },
     "user_tz": -540
    },
    "id": "jC5tNcaFjP4z",
    "outputId": "3bcf4676-c53c-40a3-a422-4b99dcedf37b"
   },
   "outputs": [
    {
     "data": {
      "text/html": [
       "<table><tr><td>접수연도</td><td>자치구코드</td><td>자치구명</td><td>법정동코드</td><td>법정동명</td><td>지번구분</td><td>지번구분명</td><td>본번</td><td>부번</td><td>건물명</td><td>계약일</td><td>물건금액(만원)</td><td>건물면적(㎡)</td><td>토지면적(㎡)</td><td>층</td><td>권리구분</td><td>취소일</td><td>건축년도</td><td>건물용도</td><td>신고구분</td><td>신고한 개업공인중개사 시군구명</td></tr><tr><td>2024</td><td>11440</td><td>마포구</td><td>11100</td><td>신수동</td><td>1</td><td>대지</td><td>228</td><td>3</td><td>마인빌</td><td>20241031</td><td>37300</td><td>32.48</td><td>20</td><td>4</td><td/><td/><td>2022</td><td>연립다세대</td><td>직거래</td><td/></tr><tr><td>2024</td><td>11320</td><td>도봉구</td><td>10800</td><td>도봉동</td><td>1</td><td>대지</td><td>565</td><td>9</td><td>(565-9)</td><td>20241031</td><td>9900</td><td>25.92</td><td>21</td><td>4</td><td/><td/><td>2003</td><td>연립다세대</td><td>직거래</td><td/></tr><tr><td>2024</td><td>11500</td><td>강서구</td><td>10900</td><td>방화동</td><td>1</td><td>대지</td><td>620</td><td>214</td><td>(620-214)</td><td>20241031</td><td>10000</td><td>27.37</td><td>40.37</td><td>7</td><td/><td/><td>2011</td><td>오피스텔</td><td>중개거래</td><td>서울 강서구</td></tr><tr><td>2024</td><td>11680</td><td>강남구</td><td>11200</td><td>자곡동</td><td>1</td><td>대지</td><td>658</td><td>0</td><td>강남힐스테이트에코</td><td>20241031</td><td>17000</td><td>24.118</td><td>31.983</td><td>10</td><td/><td/><td>2014</td><td>오피스텔</td><td>중개거래</td><td>서울 강남구</td></tr><tr><td>2024</td><td>11500</td><td>강서구</td><td>10300</td><td>화곡동</td><td>1</td><td>대지</td><td>343</td><td>44</td><td>계명아파트나동</td><td>20241031</td><td>39800</td><td>74.79</td><td>0</td><td>3</td><td/><td/><td>2001</td><td>아파트</td><td>중개거래</td><td>서울 강서구</td></tr><tr><td>2024</td><td>11410</td><td>서대문구</td><td>11600</td><td>창천동</td><td/><td/><td/><td/><td/><td>20241031</td><td>340000</td><td>421.83</td><td>284</td><td/><td/><td/><td>2014</td><td>단독다가구</td><td>직거래</td><td/></tr><tr><td>2024</td><td>11410</td><td>서대문구</td><td>10200</td><td>충정로3가</td><td/><td/><td/><td/><td/><td>20241031</td><td>31000</td><td>9.92</td><td>20</td><td/><td/><td/><td>195"
      ],
      "text/plain": [
       "<IPython.core.display.HTML object>"
      ]
     },
     "metadata": {},
     "output_type": "display_data"
    }
   ],
   "source": [
    "display(HTML(documents[0].metadata['text_as_html'][:2000]))"
   ]
  },
  {
   "cell_type": "code",
   "execution_count": null,
   "metadata": {
    "id": "KMKuvfY4BPIQ"
   },
   "outputs": [],
   "source": []
  },
  {
   "cell_type": "code",
   "execution_count": null,
   "metadata": {
    "id": "C50WrwcFBPEw"
   },
   "outputs": [],
   "source": []
  },
  {
   "cell_type": "code",
   "execution_count": null,
   "metadata": {
    "id": "MWkM8lzpydgU"
   },
   "outputs": [],
   "source": []
  }
 ],
 "metadata": {
  "colab": {
   "authorship_tag": "ABX9TyPFpL6n26hcyhFC9cFuUYJ7",
   "provenance": [
    {
     "file_id": "17pNawQlJCc7SQHqPznYT2QVIwvB4kjzI",
     "timestamp": 1729507273500
    },
    {
     "file_id": "1hYMuG0nH6xN6PV1yYXHF5rojjQIqhmi0",
     "timestamp": 1729491300245
    }
   ]
  },
  "kernelspec": {
   "display_name": "Python 3",
   "name": "python3"
  },
  "language_info": {
   "name": "python"
  }
 },
 "nbformat": 4,
 "nbformat_minor": 0
}
