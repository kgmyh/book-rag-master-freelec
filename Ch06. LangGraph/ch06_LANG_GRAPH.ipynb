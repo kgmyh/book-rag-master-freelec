{
 "cells": [
  {
   "metadata": {},
   "cell_type": "markdown",
   "source": "## 6.2 랭그래프 활용"
  },
  {
   "metadata": {},
   "cell_type": "markdown",
   "source": "### 6.2.1 루프 구현하기"
  },
  {
   "metadata": {
    "ExecuteTime": {
     "end_time": "2024-09-23T14:10:33.215056Z",
     "start_time": "2024-09-23T14:10:31.442486Z"
    }
   },
   "cell_type": "code",
   "source": [
    "%%capture --no-stderr\n",
    "%pip install -U langgraph\n",
    "%pip install -U langchain-openai\n",
    "%pip install -U python-dotenv"
   ],
   "outputs": [],
   "execution_count": 2
  },
  {
   "cell_type": "code",
   "metadata": {
    "colab": {
     "base_uri": "https://localhost:8080/"
    },
    "id": "eNo8avKTyDB2",
    "outputId": "4e6889d4-8d5e-41da-8ef6-995705f878ae",
    "ExecuteTime": {
     "end_time": "2024-09-23T14:10:58.235368Z",
     "start_time": "2024-09-23T14:10:33.734323Z"
    }
   },
   "source": [
    "from google.colab import drive\n",
    "drive.mount('/content/drive')"
   ],
   "outputs": [],
   "execution_count": 3
  },
  {
   "metadata": {},
   "cell_type": "code",
   "outputs": [],
   "execution_count": null,
   "source": [
    "from dotenv import load_dotenv\n",
    "import os\n",
    "\n",
    "# .env 파일에서 환경 변수 로드\n",
    "load_dotenv(\"/content/drive/MyDrive/Colab Notebooks/.env\")"
   ]
  },
  {
   "cell_type": "code",
   "metadata": {
    "id": "lcWjuzzK1_KP",
    "ExecuteTime": {
     "end_time": "2024-09-23T14:11:34.433469Z",
     "start_time": "2024-09-23T14:11:34.423883Z"
    }
   },
   "source": [
    "from typing import Annotated\n",
    "\n",
    "from typing_extensions import TypedDict\n",
    "\n",
    "from langgraph.graph import StateGraph, START, END\n",
    "from langgraph.graph.message import add_messages\n",
    "\n",
    "\n",
    "# 실습에서 사용할 그래프의 상태값 정의\n",
    "class State(TypedDict):\n",
    "    messages: Annotated[list, add_messages]\n",
    "\n",
    "# 실습에서 사용할 그래프 정의\n",
    "graph_builder = StateGraph(State)"
   ],
   "outputs": [],
   "execution_count": 5
  },
  {
   "cell_type": "code",
   "metadata": {
    "id": "pYNl44tt40g4",
    "ExecuteTime": {
     "end_time": "2024-09-23T14:11:46.498890Z",
     "start_time": "2024-09-23T14:11:45.890036Z"
    }
   },
   "source": [
    "from langchain_openai import ChatOpenAI\n",
    "\n",
    "# 오픈AI 클라이언트 정의\n",
    "llm = ChatOpenAI(model=\"gpt-4o-mini\")\n",
    "\n",
    "# 오픈AI를 호출하여 응답을 받아 온 뒤, 상태값에 저장하여 반환하는 챗봇 함수 정의\n",
    "def chatbot(state: State):\n",
    "    return {\"messages\": [llm.invoke(state[\"messages\"])]}\n",
    "\n",
    "# 챗봇 노드 정의\n",
    "graph_builder.add_node(\"chatbot\", chatbot)"
   ],
   "outputs": [
    {
     "data": {
      "text/plain": [
       "<langgraph.graph.state.StateGraph at 0x105aaa740>"
      ]
     },
     "execution_count": 6,
     "metadata": {},
     "output_type": "execute_result"
    }
   ],
   "execution_count": 6
  },
  {
   "cell_type": "code",
   "metadata": {
    "id": "mNl33z-k5e6r",
    "ExecuteTime": {
     "end_time": "2024-09-23T14:11:57.785447Z",
     "start_time": "2024-09-23T14:11:57.777770Z"
    }
   },
   "source": [
    "from langgraph.graph import StateGraph, START, END\n",
    "# 진입지점\n",
    "graph_builder.add_edge(START, \"chatbot\")\n",
    "# 종료지점\n",
    "graph_builder.add_edge(\"chatbot\", END)"
   ],
   "outputs": [
    {
     "data": {
      "text/plain": [
       "<langgraph.graph.state.StateGraph at 0x105aaa740>"
      ]
     },
     "execution_count": 7,
     "metadata": {},
     "output_type": "execute_result"
    }
   ],
   "execution_count": 7
  },
  {
   "cell_type": "code",
   "metadata": {
    "id": "uauFlo6y5iME",
    "ExecuteTime": {
     "end_time": "2024-09-23T14:12:00.827371Z",
     "start_time": "2024-09-23T14:12:00.822612Z"
    }
   },
   "source": [
    "graph = graph_builder.compile()"
   ],
   "outputs": [],
   "execution_count": 8
  },
  {
   "cell_type": "code",
   "metadata": {
    "colab": {
     "base_uri": "https://localhost:8080/",
     "height": 400
    },
    "id": "O25FlOkR5jxe",
    "outputId": "01aded87-6e9f-4448-9a16-d32ff674c5bb",
    "ExecuteTime": {
     "end_time": "2024-09-23T14:13:22.168732Z",
     "start_time": "2024-09-23T14:13:13.305364Z"
    }
   },
   "source": [
    "while True:\n",
    "    # 사용자의 질의 입력받음 \n",
    "    user_input = input(\"User: \")\n",
    "    print(\"User:\", user_input)\n",
    "    \n",
    "    # 사용자가 quit 혹은 exit 혹은 q를 입력했다면 루프 종료\n",
    "    if user_input.lower() in [\"quit\", \"exit\", \"q\"]:\n",
    "        print(\"Goodbye!\")\n",
    "        break\n",
    "        \n",
    "    # 사용자의 입력을 그래프에 입력하여 정의된 흐름 실행\n",
    "    for event in graph.stream({\"messages\": (\"user\", user_input)}):\n",
    "        for value in event.values():\n",
    "            print(\"Assistant:\", value[\"messages\"][-1].content)\n"
   ],
   "outputs": [
    {
     "name": "stdout",
     "output_type": "stream",
     "text": [
      "User: 너는 누구야?\n",
      "Assistant: 저는 OpenAI에서 개발한 AI 언어 모델입니다. 질문에 답변하거나 정보를 제공하는 데 도움을 줄 수 있습니다. 무엇을 도와드릴까요?\n",
      "User: 반가워!\n",
      "Assistant: 반가워요! 어떻게 도와드릴까요?\n",
      "User: exit\n",
      "Goodbye!\n"
     ]
    }
   ],
   "execution_count": 11
  },
  {
   "cell_type": "code",
   "metadata": {
    "ExecuteTime": {
     "end_time": "2024-09-23T14:13:42.072761Z",
     "start_time": "2024-09-23T14:13:41.802839Z"
    }
   },
   "source": [
    "from IPython.display import Image, display\n",
    "\n",
    "display(Image(graph.get_graph().draw_mermaid_png()))"
   ],
   "outputs": [
    {
     "data": {
      "image/jpeg": "[encoded data removed]",
      "text/plain": [
       "<IPython.core.display.Image object>"
      ]
     },
     "metadata": {},
     "output_type": "display_data"
    }
   ],
   "execution_count": 12
  },
  {
   "metadata": {},
   "cell_type": "markdown",
   "source": "### 6.2.2 조건문 구현하기"
  },
  {
   "metadata": {
    "ExecuteTime": {
     "end_time": "2024-09-23T14:13:51.180353Z",
     "start_time": "2024-09-23T14:13:49.466609Z"
    }
   },
   "cell_type": "code",
   "source": [
    "%%capture --no-stderr\n",
    "%pip install -U tavily-python\n",
    "%pip install -U langchain_community"
   ],
   "outputs": [],
   "execution_count": 13
  },
  {
   "metadata": {},
   "cell_type": "code",
   "outputs": [],
   "execution_count": null,
   "source": [
    "from dotenv import load_dotenv\n",
    "\n",
    "# .env 파일에서 환경 변수 로드\n",
    "load_dotenv(\"/content/drive/MyDrive/Colab Notebooks/.env\")"
   ]
  },
  {
   "metadata": {
    "ExecuteTime": {
     "end_time": "2024-09-23T14:14:41.296920Z",
     "start_time": "2024-09-23T14:14:37.541430Z"
    }
   },
   "cell_type": "code",
   "source": [
    "from langchain_community.tools.tavily_search import TavilySearchResults\n",
    "\n",
    "# Tavily검색 엔진을 도구로 정의\n",
    "tool = TavilySearchResults(max_results=2)\n",
    "tools = [tool]\n",
    "tool.invoke(\"내일 대한민국 서울의 날씨는?\")"
   ],
   "outputs": [
    {
     "data": {
      "text/plain": [
       "[{'url': 'https://weather.com/ko-KR/weather/tenday/l/82e46175f97c224acf6b95afc4934fbae0e4ba123adcee8a52b7be97c303467b',\n",
       "  'content': 'recents\\n전문 예보\\n10일 날씨-서울특별시\\n오늘 밤\\n화 13 | 밤\\n대체로 흐림. 풍향 남이며 변화 심함.\\n수 14\\n수 14 | 일\\n부분적으로 흐림. 풍향 북북동이며 변화 심함.\\n토 24\\n토 24 | 일\\n부분적으로 흐림. 풍향 남남동이며 변화 심함.\\n토 17\\n토 17 | 일\\n부분적으로 흐림. 풍향 북북서이며 변화 심함.\\n토 24 | 밤\\n부분적으로 흐림.'},\n",
       " {'url': 'https://www.accuweather.com/ko/kr/seoul/226081/hourly-weather-forecast/226081',\n",
       "  'content': 'Hourly weather forecast in 서울특별시, 서울시, 대한민국. Check current conditions in 서울특별시, 서울시, 대한민국 with radar, hourly, and more.'}]"
      ]
     },
     "execution_count": 16,
     "metadata": {},
     "output_type": "execute_result"
    }
   ],
   "execution_count": 16
  },
  {
   "metadata": {
    "ExecuteTime": {
     "end_time": "2024-09-23T14:14:59.311396Z",
     "start_time": "2024-09-23T14:14:59.181514Z"
    }
   },
   "cell_type": "code",
   "source": [
    "from typing import Annotated\n",
    "\n",
    "from langchain_openai import ChatOpenAI\n",
    "from typing_extensions import TypedDict\n",
    "\n",
    "from langgraph.graph import StateGraph, START\n",
    "from langgraph.graph.message import add_messages\n",
    "\n",
    "\n",
    "# 그래프 상태 정의\n",
    "class State(TypedDict):\n",
    "    messages: Annotated[list, add_messages]\n",
    "\n",
    "\n",
    "# 그래프 정의\n",
    "graph_builder = StateGraph(State)\n",
    "\n",
    "# 오픈AI 클라이언트 정의\n",
    "llm = ChatOpenAI(model=\"gpt-4o-mini\")\n",
    "# 오픈AI 클라이언트에 Tavily 검색 엔진 도구를 할당 \n",
    "llm_with_tools = llm.bind_tools(tools)\n",
    "\n",
    "# 챗봇 함수 정의\n",
    "def chatbot(state: State):\n",
    "    return {\"messages\": [llm_with_tools.invoke(state[\"messages\"])]}\n",
    "\n",
    "# 그래프에 챗봇 노드 추가\n",
    "graph_builder.add_node(\"chatbot\", chatbot)"
   ],
   "outputs": [
    {
     "data": {
      "text/plain": [
       "<langgraph.graph.state.StateGraph at 0x110156290>"
      ]
     },
     "execution_count": 17,
     "metadata": {},
     "output_type": "execute_result"
    }
   ],
   "execution_count": 17
  },
  {
   "metadata": {
    "ExecuteTime": {
     "end_time": "2024-09-23T14:15:17.337611Z",
     "start_time": "2024-09-23T14:15:17.314352Z"
    }
   },
   "cell_type": "code",
   "source": [
    "import json\n",
    "\n",
    "from langchain_core.messages import ToolMessage\n",
    "\n",
    "\n",
    "# 도구 노드로 사용될 클래스\n",
    "class BasicToolNode:\n",
    "\n",
    "    # 도구 노드에서 사용될 초기 파라미터 정의\n",
    "    def __init__(self, tools: list) -> None:\n",
    "        self.tools_by_name = {tool.name: tool for tool in tools}\n",
    "\n",
    "    # 도구 노드가 호출되었을때의 행동 정의\n",
    "    def __call__(self, inputs: dict):\n",
    "        # 입력된 상태의 가장 마지막 메세지 획득 \n",
    "        if messages := inputs.get(\"messages\", []):\n",
    "            message = messages[-1]\n",
    "        else:\n",
    "            raise ValueError(\"No message found in input\")\n",
    "        # 메세지의 tool_calls 에 도구호출을 위한 값들이 존재한다면 이를 활용해 도구 호출\n",
    "        outputs = []\n",
    "        for tool_call in message.tool_calls:\n",
    "            tool_result = self.tools_by_name[tool_call[\"name\"]].invoke(\n",
    "                tool_call[\"args\"]\n",
    "            )\n",
    "            # 도구 호출의 결과물을 ToolMessage로 정의하여 출력값에 저장\n",
    "            outputs.append(\n",
    "                ToolMessage(\n",
    "                    content=json.dumps(tool_result, ensure_ascii=False),\n",
    "                    name=tool_call[\"name\"],\n",
    "                    tool_call_id=tool_call[\"id\"],\n",
    "                )\n",
    "            )\n",
    "        # 출력값을 상태값 형식에 맞춰 반환 \n",
    "        return {\"messages\": outputs}\n",
    "\n",
    "\n",
    "# 도구 노드 정의\n",
    "tool_node = BasicToolNode(tools=[tool])\n",
    "# 도구 노드 그래프에 추가\n",
    "graph_builder.add_node(\"tools\", tool_node)"
   ],
   "outputs": [
    {
     "data": {
      "text/plain": [
       "<langgraph.graph.state.StateGraph at 0x110156290>"
      ]
     },
     "execution_count": 18,
     "metadata": {},
     "output_type": "execute_result"
    }
   ],
   "execution_count": 18
  },
  {
   "metadata": {
    "ExecuteTime": {
     "end_time": "2024-09-23T14:16:29.356686Z",
     "start_time": "2024-09-23T14:16:29.345146Z"
    }
   },
   "cell_type": "code",
   "source": [
    "from typing import Literal\n",
    "\n",
    "\n",
    "# 도구노드 호출 여부를 결정하는 함수 정의\n",
    "def route_tools(\n",
    "        state: State,\n",
    ") -> Literal[\"tools\", \"__end__\"]:\n",
    "    # 상태값의 가장 최근 메세지를 정의 \n",
    "    if isinstance(state, list):\n",
    "        ai_message = state[-1]\n",
    "    elif messages := state.get(\"messages\", []):\n",
    "        ai_message = messages[-1]\n",
    "    else:\n",
    "        raise ValueError(f\"No messages found in input state to tool_edge: {state}\")\n",
    "    \n",
    "    # 가장 최근 메세지가 tool_calls 속성을 포함하고 있다면 tools 노드를 아니라면 종료지점을 반환\n",
    "    if hasattr(ai_message, \"tool_calls\") and len(ai_message.tool_calls) > 0:\n",
    "        return \"tools\"\n",
    "    return \"__end__\"\n",
    "\n",
    "\n",
    "# 챗봇 노드에 조건부 엣지를 정의\n",
    "graph_builder.add_conditional_edges(\n",
    "    \"chatbot\",\n",
    "    route_tools,\n",
    "    {\"tools\": \"tools\", \"__end__\": \"__end__\"},\n",
    ")"
   ],
   "outputs": [
    {
     "data": {
      "text/plain": [
       "<langgraph.graph.state.StateGraph at 0x110156290>"
      ]
     },
     "execution_count": 19,
     "metadata": {},
     "output_type": "execute_result"
    }
   ],
   "execution_count": 19
  },
  {
   "metadata": {
    "ExecuteTime": {
     "end_time": "2024-09-23T14:16:45.037870Z",
     "start_time": "2024-09-23T14:16:45.028189Z"
    }
   },
   "cell_type": "code",
   "source": [
    "# 도구 노드와 챗봇 노드 연결\n",
    "graph_builder.add_edge(\"tools\", \"chatbot\")\n",
    "# 진입지점으로 챗봇 노드 지정\n",
    "graph_builder.add_edge(START, \"chatbot\")"
   ],
   "outputs": [
    {
     "data": {
      "text/plain": [
       "<langgraph.graph.state.StateGraph at 0x110156290>"
      ]
     },
     "execution_count": 21,
     "metadata": {},
     "output_type": "execute_result"
    }
   ],
   "execution_count": 21
  },
  {
   "metadata": {
    "ExecuteTime": {
     "end_time": "2024-09-23T14:16:49.167428Z",
     "start_time": "2024-09-23T14:16:47.705084Z"
    }
   },
   "cell_type": "code",
   "source": [
    "graph = graph_builder.compile()\n",
    "display(Image(graph.get_graph().draw_mermaid_png()))"
   ],
   "outputs": [
    {
     "data": {
      "image/jpeg": "[encoded data removed]",
      "text/plain": [
       "<IPython.core.display.Image object>"
      ]
     },
     "metadata": {},
     "output_type": "display_data"
    }
   ],
   "execution_count": 22
  },
  {
   "metadata": {},
   "cell_type": "markdown",
   "source": "### 6.2.3 스트리밍"
  },
  {
   "metadata": {
    "ExecuteTime": {
     "end_time": "2024-09-23T14:17:33.170055Z",
     "start_time": "2024-09-23T14:17:08.204800Z"
    }
   },
   "cell_type": "code",
   "source": [
    "from langchain_core.messages import BaseMessage\n",
    "\n",
    "while True:\n",
    "    # 사용자의 질문을 입력받습니다 \n",
    "    user_input = input(\"User: \")\n",
    "    print(\"User:\", user_input)\n",
    "    if user_input.lower() in [\"quit\", \"exit\", \"q\"]:\n",
    "        print(\"Goodbye!\")\n",
    "        break\n",
    "\n",
    "    # 업데이트된 내용을 확인할 수 있는 그래프 스트리밍을 정의합니다. \n",
    "    events = graph.stream(input={\"messages\": [(\"user\", user_input)]}, stream_mode=\"updates\")\n",
    "    \n",
    "    # 그래프 이벤트 내의 메세지를 출력합니다.\n",
    "    for event in events:\n",
    "        for value in event.values():\n",
    "            if isinstance(value[\"messages\"][-1], BaseMessage):\n",
    "                print(\"Assistant:\", value[\"messages\"][-1].content)\n"
   ],
   "outputs": [
    {
     "name": "stdout",
     "output_type": "stream",
     "text": [
      "User: 24년 9월 9일 서울 날씨는 어때?\n",
      "Assistant: \n",
      "Assistant: [{\"url\": \"https://hikersbay.com/climate/september/southkorea/seoul?lang=ko\", \"content\": \"9월 2024 에 서울특별시 의 날씨 조건에 대한 간략한 설명 ... 가장 긴 날은 년 9월 1일 월요일 이며, 12 시간 60 분 의 일광을 제공합니다, 일출은 오전 6:03 에, 일몰은 오후 7:03 에 있습니다. 여행자에게 햇빛 시간은 중요합니다. 이번 달은 평균적으로 12 시간의 일광이 ...\"}, {\"url\": \"https://dataful.kr/460\", \"content\": \"9월 서울 날씨 예보 3주 4주 9월 16일~29일 주별 기온 비 더위 전망 및 9월 서울 평균 기온 2024년 9월 3주 4주 서울 지역의 날씨 예보를 알려드립니다. 1. 2024년 9월 3주 4주 9월 16일~29일 서울 지역 기온 예보 2024년 9월 3주 4주 9월 16일~29일 서울 지역 기온 예보 예측 결과 9월 3주 9월 16일~22일 기간 서울의 기온은 평년 기온보다 높을 것으로 예보되었습니다. 예측 결과 9월 4주 9월 23일~29일 기간 서울의 기온은 평년 기온보다 높을 것으로 예보되었습니다. 예측 결과 9월 3주 9월 16일~22일 기간 서울의 강수량은 평년 강수량보다 많을 것으로 예보되었습니다. 예측 결과 9월 4주 9월 23일~29일 기간 서울의 강수량은 평년 강수량보다 많을 것으로 예보되었습니다. 마지막으로 정리하자면 2024년 9월 3주 4주 기간 동안 서울은 평소보다 기온이 높을 것으로 보입니다.\"}]\n",
      "Assistant: 2024년 9월 9일 서울의 날씨에 대한 정보는 다음과 같습니다:\n",
      "\n",
      "- 9월은 대체로 기온이 평년보다 높을 것으로 예측되고 있으며, 강수량도 평년보다 많을 것으로 보입니다.\n",
      "- 평균적으로 9월의 서울은 일조 시간이 약 12시간으로, 일출은 오전 6시 3분, 일몰은 오후 7시 3분입니다.\n",
      "\n",
      "더 구체적인 날씨 정보나 예보가 필요하시다면, 관련 링크를 참고하시기 바랍니다: [Hikersbay 날씨 정보](https://hikersbay.com/climate/september/southkorea/seoul?lang=ko)\n",
      "User: exit\n",
      "Goodbye!\n"
     ]
    }
   ],
   "execution_count": 23
  },
  {
   "metadata": {},
   "cell_type": "markdown",
   "source": "### 6.2.4 상태 저장하기"
  },
  {
   "metadata": {
    "ExecuteTime": {
     "end_time": "2024-09-23T14:18:23.010493Z",
     "start_time": "2024-09-23T14:18:22.988650Z"
    }
   },
   "cell_type": "code",
   "source": [
    "from langgraph.checkpoint.memory import MemorySaver\n",
    "\n",
    "memory = MemorySaver()"
   ],
   "outputs": [],
   "execution_count": 24
  },
  {
   "metadata": {
    "ExecuteTime": {
     "end_time": "2024-09-23T14:20:52.648951Z",
     "start_time": "2024-09-23T14:20:52.595548Z"
    }
   },
   "cell_type": "code",
   "source": [
    "from typing import Annotated\n",
    "\n",
    "from langchain_openai import ChatOpenAI\n",
    "from langchain_community.tools.tavily_search import TavilySearchResults\n",
    "from typing_extensions import TypedDict\n",
    "\n",
    "from langgraph.graph import StateGraph, START\n",
    "from langgraph.graph.message import add_messages\n",
    "from langgraph.prebuilt import ToolNode, tools_condition\n",
    "\n",
    "\n",
    "class State(TypedDict):\n",
    "    messages: Annotated[list, add_messages]\n",
    "\n",
    "\n",
    "graph_builder = StateGraph(State)\n",
    "\n",
    "\n",
    "tool = TavilySearchResults(max_results=2)\n",
    "tools = [tool]\n",
    "\n",
    "llm = ChatOpenAI(model=\"gpt-4o-mini\")\n",
    "llm_with_tools = llm.bind_tools(tools)\n",
    "\n",
    "def chatbot(state: State):\n",
    "    return {\"messages\": [llm_with_tools.invoke(state[\"messages\"])]}\n",
    "\n",
    "\n",
    "graph_builder.add_node(\"chatbot\", chatbot)\n",
    "\n",
    "# 미리 빌드된 도구노드\n",
    "tool_node = ToolNode(tools=[tool])\n",
    "graph_builder.add_node(\"tools\", tool_node)\n",
    "\n",
    "# 미리 빌드된 조건부 엣지\n",
    "graph_builder.add_conditional_edges(\n",
    "    \"chatbot\",\n",
    "    tools_condition,\n",
    ")\n",
    "\n",
    "graph_builder.add_edge(\"tools\", \"chatbot\")\n",
    "graph_builder.add_edge(START, \"chatbot\")\n",
    "\n",
    "# 체크포인터를 지정하여 그래프를 컴파일\n",
    "graph = graph_builder.compile(checkpointer=memory)"
   ],
   "outputs": [],
   "execution_count": 27
  },
  {
   "metadata": {
    "ExecuteTime": {
     "end_time": "2024-09-23T14:20:53.655756Z",
     "start_time": "2024-09-23T14:20:53.417412Z"
    }
   },
   "cell_type": "code",
   "source": [
    "from IPython.display import Image, display\n",
    "\n",
    "display(Image(graph.get_graph().draw_mermaid_png()))"
   ],
   "outputs": [
    {
     "data": {
      "image/jpeg": "[encoded data removed]",
      "text/plain": [
       "<IPython.core.display.Image object>"
      ]
     },
     "metadata": {},
     "output_type": "display_data"
    }
   ],
   "execution_count": 28
  },
  {
   "metadata": {
    "ExecuteTime": {
     "end_time": "2024-09-23T14:20:54.889555Z",
     "start_time": "2024-09-23T14:20:54.882817Z"
    }
   },
   "cell_type": "code",
   "source": "config = {\"configurable\": {\"thread_id\": \"1\"}}",
   "outputs": [],
   "execution_count": 29
  },
  {
   "metadata": {
    "ExecuteTime": {
     "end_time": "2024-09-23T14:20:59.165773Z",
     "start_time": "2024-09-23T14:20:58.371569Z"
    }
   },
   "cell_type": "code",
   "source": [
    "user_input = \"안녕! 내 이름은 오해원이야.\"\n",
    "\n",
    "events = graph.stream(\n",
    "    {\"messages\": [(\"user\", user_input)]}, config, stream_mode=\"values\"\n",
    ")\n",
    "for event in events:\n",
    "    event[\"messages\"][-1].pretty_print()"
   ],
   "outputs": [
    {
     "name": "stdout",
     "output_type": "stream",
     "text": [
      "================================\u001B[1m Human Message \u001B[0m=================================\n",
      "\n",
      "안녕! 내 이름은 오해원이야.\n",
      "==================================\u001B[1m Ai Message \u001B[0m==================================\n",
      "\n",
      "안녕하세요, 오해원님! 반갑습니다. 어떻게 도와드릴까요?\n"
     ]
    }
   ],
   "execution_count": 30
  },
  {
   "metadata": {
    "ExecuteTime": {
     "end_time": "2024-09-23T14:21:02.610909Z",
     "start_time": "2024-09-23T14:21:01.734929Z"
    }
   },
   "cell_type": "code",
   "source": [
    "user_input = \"내 이름을 기억하니?\"\n",
    "\n",
    "events = graph.stream(\n",
    "    {\"messages\": [(\"user\", user_input)]}, config, stream_mode=\"values\"\n",
    ")\n",
    "for event in events:\n",
    "    event[\"messages\"][-1].pretty_print()"
   ],
   "outputs": [
    {
     "name": "stdout",
     "output_type": "stream",
     "text": [
      "================================\u001B[1m Human Message \u001B[0m=================================\n",
      "\n",
      "내 이름을 기억하니?\n",
      "==================================\u001B[1m Ai Message \u001B[0m==================================\n",
      "\n",
      "네, 오해원님! 당신의 이름을 기억하고 있습니다. 다른 질문이나 도움이 필요하신 부분이 있나요?\n"
     ]
    }
   ],
   "execution_count": 31
  },
  {
   "metadata": {
    "ExecuteTime": {
     "end_time": "2024-09-23T14:21:12.427289Z",
     "start_time": "2024-09-23T14:21:11.068513Z"
    }
   },
   "cell_type": "code",
   "source": [
    "events = graph.stream(\n",
    "    {\"messages\": [(\"user\", user_input)]},\n",
    "    {\"configurable\": {\"thread_id\": \"2\"}},\n",
    "    stream_mode=\"values\",\n",
    ")\n",
    "for event in events:\n",
    "    event[\"messages\"][-1].pretty_print()"
   ],
   "outputs": [
    {
     "name": "stdout",
     "output_type": "stream",
     "text": [
      "================================\u001B[1m Human Message \u001B[0m=================================\n",
      "\n",
      "내 이름을 기억하니?\n",
      "==================================\u001B[1m Ai Message \u001B[0m==================================\n",
      "\n",
      "죄송하지만, 이전 대화의 내용을 기억할 수 없어서 당신의 이름을 알 수 없습니다. 당신의 이름을 알려주시면 기억하겠습니다!\n"
     ]
    }
   ],
   "execution_count": 32
  },
  {
   "metadata": {
    "ExecuteTime": {
     "end_time": "2024-09-23T14:21:18.162126Z",
     "start_time": "2024-09-23T14:21:18.148755Z"
    }
   },
   "cell_type": "code",
   "source": [
    "snapshot = graph.get_state(config)\n",
    "print(snapshot)"
   ],
   "outputs": [
    {
     "name": "stdout",
     "output_type": "stream",
     "text": [
      "StateSnapshot(values={'messages': [HumanMessage(content='안녕! 내 이름은 오해원이야.', additional_kwargs={}, response_metadata={}, id='0cc11544-9e2f-4ddb-997d-25a5919e4604'), AIMessage(content='안녕하세요, 오해원님! 반갑습니다. 어떻게 도와드릴까요?', additional_kwargs={'refusal': None}, response_metadata={'token_usage': {'completion_tokens': 20, 'prompt_tokens': 90, 'total_tokens': 110, 'completion_tokens_details': {'reasoning_tokens': 0}}, 'model_name': 'gpt-4o-mini-2024-07-18', 'system_fingerprint': 'fp_1bb46167f9', 'finish_reason': 'stop', 'logprobs': None}, id='run-03af035b-10b1-43cd-9623-c9bda70349c8-0', usage_metadata={'input_tokens': 90, 'output_tokens': 20, 'total_tokens': 110}), HumanMessage(content='내 이름을 기억하니?', additional_kwargs={}, response_metadata={}, id='ad673abb-54f7-4aea-a6a4-546947025f7c'), AIMessage(content='네, 오해원님! 당신의 이름을 기억하고 있습니다. 다른 질문이나 도움이 필요하신 부분이 있나요?', additional_kwargs={'refusal': None}, response_metadata={'token_usage': {'completion_tokens': 28, 'prompt_tokens': 124, 'total_tokens': 152, 'completion_tokens_details': {'reasoning_tokens': 0}}, 'model_name': 'gpt-4o-mini-2024-07-18', 'system_fingerprint': 'fp_1bb46167f9', 'finish_reason': 'stop', 'logprobs': None}, id='run-cf4d018f-2d16-4a8c-989f-fafd90a7f295-0', usage_metadata={'input_tokens': 124, 'output_tokens': 28, 'total_tokens': 152})]}, next=(), config={'configurable': {'thread_id': '1', 'checkpoint_ns': '', 'checkpoint_id': '1ef79b70-ffdf-6c7e-8004-2e542a488f98'}}, metadata={'source': 'loop', 'writes': {'chatbot': {'messages': [AIMessage(content='네, 오해원님! 당신의 이름을 기억하고 있습니다. 다른 질문이나 도움이 필요하신 부분이 있나요?', additional_kwargs={'refusal': None}, response_metadata={'token_usage': {'completion_tokens': 28, 'prompt_tokens': 124, 'total_tokens': 152, 'completion_tokens_details': {'reasoning_tokens': 0}}, 'model_name': 'gpt-4o-mini-2024-07-18', 'system_fingerprint': 'fp_1bb46167f9', 'finish_reason': 'stop', 'logprobs': None}, id='run-cf4d018f-2d16-4a8c-989f-fafd90a7f295-0', usage_metadata={'input_tokens': 124, 'output_tokens': 28, 'total_tokens': 152})]}}, 'step': 4, 'parents': {}}, created_at='2024-09-23T14:21:02.605406+00:00', parent_config={'configurable': {'thread_id': '1', 'checkpoint_ns': '', 'checkpoint_id': '1ef79b70-f7a0-62ca-8003-7def1c73ecf7'}}, tasks=())\n"
     ]
    }
   ],
   "execution_count": 33
  },
  {
   "metadata": {},
   "cell_type": "markdown",
   "source": "### 6.2.5 루프 개입하기"
  },
  {
   "metadata": {
    "ExecuteTime": {
     "end_time": "2024-09-23T14:21:26.952477Z",
     "start_time": "2024-09-23T14:21:26.938821Z"
    }
   },
   "cell_type": "code",
   "source": [
    "graph = graph_builder.compile(\n",
    "    checkpointer=memory,\n",
    "    interrupt_before=[\"tools\"],\n",
    ")"
   ],
   "outputs": [],
   "execution_count": 34
  },
  {
   "metadata": {
    "ExecuteTime": {
     "end_time": "2024-09-23T14:21:36.663183Z",
     "start_time": "2024-09-23T14:21:35.678463Z"
    }
   },
   "cell_type": "code",
   "source": [
    "user_input = \"지금 서울 날씨 어때?\"\n",
    "config = {\"configurable\": {\"thread_id\": \"2\"}}\n",
    "events = graph.stream(\n",
    "    {\"messages\": [(\"user\", user_input)]}, config, stream_mode=\"values\"\n",
    ")\n",
    "for event in events:\n",
    "    if \"messages\" in event:\n",
    "        event[\"messages\"][-1].pretty_print()"
   ],
   "outputs": [
    {
     "name": "stdout",
     "output_type": "stream",
     "text": [
      "================================\u001B[1m Human Message \u001B[0m=================================\n",
      "\n",
      "지금 서울 날씨 어때?\n",
      "==================================\u001B[1m Ai Message \u001B[0m==================================\n",
      "Tool Calls:\n",
      "  tavily_search_results_json (call_yuDFf1bqfno66lEjSTR3MaDh)\n",
      " Call ID: call_yuDFf1bqfno66lEjSTR3MaDh\n",
      "  Args:\n",
      "    query: 서울 날씨\n"
     ]
    }
   ],
   "execution_count": 35
  },
  {
   "metadata": {
    "ExecuteTime": {
     "end_time": "2024-09-23T14:21:38.835791Z",
     "start_time": "2024-09-23T14:21:38.829478Z"
    }
   },
   "cell_type": "code",
   "source": [
    "snapshot = graph.get_state(config)\n",
    "print(snapshot.next)"
   ],
   "outputs": [
    {
     "name": "stdout",
     "output_type": "stream",
     "text": [
      "('tools',)\n"
     ]
    }
   ],
   "execution_count": 36
  },
  {
   "metadata": {
    "ExecuteTime": {
     "end_time": "2024-09-23T14:23:35.700495Z",
     "start_time": "2024-09-23T14:23:35.305378Z"
    }
   },
   "cell_type": "code",
   "source": [
    "from langchain_core.messages import AIMessage\n",
    "\n",
    "# 최근 메세지\n",
    "existing_message = snapshot.values[\"messages\"][-1]\n",
    "# 최근 메세지의 id\n",
    "existing_message_id = existing_message.tool_calls[0][\"id\"]\n",
    "\n",
    "# 강제할 응답 정의\n",
    "answer = (\n",
    "    \"서울의 날씨는 매우 맑아요.\"\n",
    ")\n",
    "\n",
    "# 강제할 응답을 포함한 메세지 상태 정의\n",
    "new_messages = [\n",
    "    ToolMessage(content=answer, tool_call_id=existing_message_id),\n",
    "    AIMessage(content=answer),\n",
    "]\n",
    "# 그래프 상태를 새로 작성한 메세지 상태로 변경\n",
    "graph.update_state(\n",
    "    config,\n",
    "    {\"messages\": new_messages},\n",
    ")\n"
   ],
   "outputs": [
    {
     "data": {
      "text/plain": [
       "{'configurable': {'thread_id': '2',\n",
       "  'checkpoint_ns': '',\n",
       "  'checkpoint_id': '1ef79b76-b3e2-632a-8005-79e5c72e77ab'}}"
      ]
     },
     "execution_count": 37,
     "metadata": {},
     "output_type": "execute_result"
    }
   ],
   "execution_count": 37
  },
  {
   "metadata": {
    "ExecuteTime": {
     "end_time": "2024-09-23T14:23:39.693454Z",
     "start_time": "2024-09-23T14:23:39.678539Z"
    }
   },
   "cell_type": "code",
   "source": [
    "print(\"\\n\\nLast 2 messages;\")\n",
    "print(graph.get_state(config).values[\"messages\"][-2:])"
   ],
   "outputs": [
    {
     "name": "stdout",
     "output_type": "stream",
     "text": [
      "\n",
      "\n",
      "Last 2 messages;\n",
      "[ToolMessage(content='서울의 날씨는 매우 맑아요.', id='0b904976-06cb-47b0-b01e-b481b81182b2', tool_call_id='call_yuDFf1bqfno66lEjSTR3MaDh'), AIMessage(content='서울의 날씨는 매우 맑아요.', additional_kwargs={}, response_metadata={}, id='dd9ee60e-4631-45fe-b5d6-a12462bace82')]\n"
     ]
    }
   ],
   "execution_count": 38
  },
  {
   "metadata": {
    "ExecuteTime": {
     "end_time": "2024-09-23T14:24:01.856390Z",
     "start_time": "2024-09-23T14:24:01.850547Z"
    }
   },
   "cell_type": "code",
   "source": [
    "existing_message = snapshot.values[\"messages\"][-3]\n",
    "print(existing_message)"
   ],
   "outputs": [
    {
     "name": "stdout",
     "output_type": "stream",
     "text": [
      "content='죄송하지만, 이전 대화의 내용을 기억할 수 없어서 당신의 이름을 알 수 없습니다. 당신의 이름을 알려주시면 기억하겠습니다!' additional_kwargs={'refusal': None} response_metadata={'token_usage': {'completion_tokens': 34, 'prompt_tokens': 86, 'total_tokens': 120, 'completion_tokens_details': {'reasoning_tokens': 0}}, 'model_name': 'gpt-4o-mini-2024-07-18', 'system_fingerprint': 'fp_e9627b5346', 'finish_reason': 'stop', 'logprobs': None} id='run-f10911f7-501f-4aa5-b477-306753752a9b-0' usage_metadata={'input_tokens': 86, 'output_tokens': 34, 'total_tokens': 120}\n"
     ]
    }
   ],
   "execution_count": 39
  },
  {
   "metadata": {
    "ExecuteTime": {
     "end_time": "2024-09-23T14:24:05.849321Z",
     "start_time": "2024-09-23T14:24:04.887138Z"
    }
   },
   "cell_type": "code",
   "source": [
    "from langchain_core.messages import AIMessage\n",
    "\n",
    "user_input = \"지금 서울 날씨 어때?\"\n",
    "config = {\"configurable\": {\"thread_id\": \"3\"}}\n",
    "events = graph.stream(\n",
    "    {\"messages\": [(\"user\", user_input)]}, config, stream_mode=\"values\"\n",
    ")\n",
    "for event in events:\n",
    "    if \"messages\" in event:\n",
    "        event[\"messages\"][-1].pretty_print()"
   ],
   "outputs": [
    {
     "name": "stdout",
     "output_type": "stream",
     "text": [
      "================================\u001B[1m Human Message \u001B[0m=================================\n",
      "\n",
      "지금 서울 날씨 어때?\n",
      "==================================\u001B[1m Ai Message \u001B[0m==================================\n",
      "Tool Calls:\n",
      "  tavily_search_results_json (call_NQZyVhdGDnr34GDgCb4bK8Qo)\n",
      " Call ID: call_NQZyVhdGDnr34GDgCb4bK8Qo\n",
      "  Args:\n",
      "    query: 서울 날씨\n"
     ]
    },
    {
     "data": {
      "text/plain": [
       "{'configurable': {'thread_id': '3',\n",
       "  'checkpoint_ns': '',\n",
       "  'checkpoint_id': '1ef79b77-d361-6c36-8002-b1d6d86a16f1'}}"
      ]
     },
     "execution_count": 40,
     "metadata": {},
     "output_type": "execute_result"
    }
   ],
   "execution_count": 40
  },
  {
   "metadata": {},
   "cell_type": "code",
   "outputs": [],
   "execution_count": null,
   "source": [
    "snapshot = graph.get_state(config)\n",
    "existing_message = snapshot.values[\"messages\"][-1]\n",
    "new_tool_call = existing_message.tool_calls[0].copy()\n",
    "new_tool_call[\"args\"][\"query\"] = \"지금 경기도 날씨 어때?\"\n",
    "new_message = AIMessage(\n",
    "    content=existing_message.content,\n",
    "    tool_calls=[new_tool_call],\n",
    "    id=existing_message.id,\n",
    ")\n",
    "\n",
    "graph.update_state(config, {\"messages\": [new_message]})"
   ]
  },
  {
   "metadata": {
    "ExecuteTime": {
     "end_time": "2024-09-23T14:24:17.618481Z",
     "start_time": "2024-09-23T14:24:17.608659Z"
    }
   },
   "cell_type": "code",
   "source": [
    "print(\"\\n\\nLast 2 messages;\")\n",
    "print(graph.get_state(config).values[\"messages\"][-2:])"
   ],
   "outputs": [
    {
     "name": "stdout",
     "output_type": "stream",
     "text": [
      "\n",
      "\n",
      "Last 2 messages;\n",
      "[HumanMessage(content='지금 서울 날씨 어때?', additional_kwargs={}, response_metadata={}, id='abd0c63d-5e3e-453b-a67e-31f8ab9f6163'), AIMessage(content='', additional_kwargs={}, response_metadata={}, id='run-858aa847-9b80-479d-a194-9e07e8043f4e-0', tool_calls=[{'name': 'tavily_search_results_json', 'args': {'query': '지금 경기도 날씨 어때?'}, 'id': 'call_NQZyVhdGDnr34GDgCb4bK8Qo', 'type': 'tool_call'}])]\n"
     ]
    }
   ],
   "execution_count": 41
  },
  {
   "metadata": {},
   "cell_type": "code",
   "outputs": [],
   "execution_count": null,
   "source": ""
  }
 ],
 "metadata": {
  "colab": {
   "provenance": []
  },
  "kernelspec": {
   "display_name": "Python 3 (ipykernel)",
   "language": "python",
   "name": "python3"
  },
  "language_info": {
   "codemirror_mode": {
    "name": "ipython",
    "version": 3
   },
   "file_extension": ".py",
   "mimetype": "text/x-python",
   "name": "python",
   "nbconvert_exporter": "python",
   "pygments_lexer": "ipython3",
   "version": "3.10.12"
  }
 },
 "nbformat": 4,
 "nbformat_minor": 4
}
