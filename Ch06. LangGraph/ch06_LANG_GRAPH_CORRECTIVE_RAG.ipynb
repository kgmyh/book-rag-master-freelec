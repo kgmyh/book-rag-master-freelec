{
 "cells": [
  {
   "cell_type": "markdown",
   "id": "1161ff9fa369f535",
   "metadata": {},
   "source": [
    "## 6.3 랭그래프 실습"
   ]
  },
  {
   "cell_type": "markdown",
   "id": "8d49ac91ca8b685e",
   "metadata": {},
   "source": [
    "### 6.3.1 [실습] Corrective-RAG"
   ]
  },
  {
   "metadata": {},
   "cell_type": "code",
   "outputs": [],
   "execution_count": 1,
   "source": [
    "%%capture --no-stderr\n",
    "! pip install langchain_community tiktoken langchain-openai langchainhub chromadb langchain langgraph tavily-python python-dotenv"
   ],
   "id": "c3d4e7aa5c55cf3e"
  },
  {
   "metadata": {},
   "cell_type": "code",
   "outputs": [],
   "execution_count": null,
   "source": [
    "from google.colab import drive\n",
    "drive.mount('/content/drive')"
   ],
   "id": "be4b3bd9a09ff0db"
  },
  {
   "metadata": {},
   "cell_type": "code",
   "outputs": [],
   "execution_count": 2,
   "source": [
    "from dotenv import load_dotenv\n",
    "\n",
    "# .env 파일에서 환경 변수 로드\n",
    "load_dotenv(\"/content/drive/MyDrive/Colab Notebooks/.env\")"
   ],
   "id": "597e11ca06a691a7"
  },
  {
   "cell_type": "code",
   "id": "c7023519f81dcbda",
   "metadata": {
    "ExecuteTime": {
     "end_time": "2024-09-23T14:25:36.922295Z",
     "start_time": "2024-09-23T14:25:23.141845Z"
    }
   },
   "source": [
    "from langchain.text_splitter import RecursiveCharacterTextSplitter\n",
    "from langchain_community.document_loaders import WebBaseLoader\n",
    "from langchain_community.vectorstores import Chroma\n",
    "from langchain_openai import OpenAIEmbeddings\n",
    "\n",
    "# 크롤할 블로그의 url을 정의합니다 \n",
    "urls = [\n",
    "    \"https://google.github.io/styleguide/pyguide.html\",\n",
    "    \"https://google.github.io/styleguide/javaguide.html\",\n",
    "    \"https://google.github.io/styleguide/jsguide.html\",\n",
    "]\n",
    "\n",
    "# WebBaseLoader를 사용하여 주어진 URL 목록에서 문서를 크롤링합니다. \n",
    "docs = [WebBaseLoader(url).load() for url in urls]\n",
    "docs_list = [item for sublist in docs for item in sublist]\n",
    "\n",
    "# 지정한 크기만큼 텍스트를 분할하는 텍스트 분할기를 설정합니다. \n",
    "text_splitter = RecursiveCharacterTextSplitter.from_tiktoken_encoder(\n",
    "    chunk_size=250, chunk_overlap=0\n",
    ")\n",
    "# 문서를 분할합니다.\n",
    "doc_splits = text_splitter.split_documents(docs_list)\n",
    "\n",
    "# Chroma 벡터 저장소에 문서의 분할된 조각을 저장합니다.\n",
    "vectorstore = Chroma.from_documents(\n",
    "    documents=doc_splits,\n",
    "    collection_name=\"rag-chroma\",\n",
    "    embedding=OpenAIEmbeddings(),\n",
    ")\n",
    "# 벡터 저장소에서 검색을 수행할 수 있는 검색기를 생성합니다.\n",
    "retriever = vectorstore.as_retriever()"
   ],
   "outputs": [
    {
     "name": "stderr",
     "output_type": "stream",
     "text": [
      "USER_AGENT environment variable not set, consider setting it to identify your requests.\n"
     ]
    }
   ],
   "execution_count": 4
  },
  {
   "cell_type": "code",
   "id": "a7bcd444a5bb0dd8",
   "metadata": {
    "ExecuteTime": {
     "end_time": "2024-09-23T14:26:06.056852Z",
     "start_time": "2024-09-23T14:26:06.027727Z"
    }
   },
   "source": [
    "from langchain_core.prompts import ChatPromptTemplate\n",
    "from langchain_core.pydantic_v1 import BaseModel, Field\n",
    "from langchain_openai import ChatOpenAI\n",
    "\n",
    "\n",
    "# 문서와 질문의 연관성을 평가하기 위한 데이터 모델을 정의합니다.\n",
    "class GradeDocuments(BaseModel):\n",
    "    binary_score: str = Field(\n",
    "        description=\"문서와 질문의 연관성 여부. (예 or 아니오)\"\n",
    "    )\n",
    "\n",
    "\n",
    "# 연관성 평가를 위한 LLM 을 정의합니다. \n",
    "llm = ChatOpenAI(model=\"gpt-4o-mini\", temperature=0)\n",
    "structured_llm_grader = llm.with_structured_output(GradeDocuments)\n",
    "\n",
    "\n",
    "# LLM이 사용자의 질문에 대해 문서의 연관성을 평가할 수 있도록 지시하는 프롬프트를 정의합니다.\n",
    "system = \"\"\"당신은  사용자의 질문에 대해 검색된 문서의 관련성을 평가하는 전문가입니다.\n",
    "문서에 질문과 관련된 키워드나 의미가 담겨 있으면, 해당 문서를 ‘관련 있음’으로 평가하세요.\n",
    "문서가 질문과 관련이 있는지 여부를 ‘예’ 또는 ‘아니오’로 표시해 주세요.\"\"\"\n",
    "\n",
    "\n",
    "# 시스템 메시지와 사용자의 질문 및 문서 내용을 포함한 템플릿을 만듭니다.\n",
    "grade_prompt = ChatPromptTemplate.from_messages(\n",
    "    [\n",
    "        (\"system\", system),\n",
    "        (\"human\", \"검색된 문서: \\n\\n {document} \\n\\n 사용자 질문: {question}\"),\n",
    "    ]\n",
    ")\n",
    "\n",
    "# 프롬프트와 구조화된 LLM 평가기를 결합하여 retrieval_grader 객체를 만듭니다.\n",
    "retrieval_grader = grade_prompt | structured_llm_grader"
   ],
   "outputs": [],
   "execution_count": 6
  },
  {
   "cell_type": "code",
   "id": "778447ca4a99c1a5",
   "metadata": {
    "ExecuteTime": {
     "end_time": "2024-09-23T14:26:28.710234Z",
     "start_time": "2024-09-23T14:26:27.443101Z"
    }
   },
   "source": [
    "question = \"파이썬 코드 작성 가이드\"\n",
    "# 연관문서 검색\n",
    "docs = retriever.invoke(question)\n",
    "doc_txt = docs[1].page_content\n",
    "# 검색된 문서의 연관성 평가\n",
    "print(retrieval_grader.invoke({\"question\": question, \"document\": doc_txt}))"
   ],
   "outputs": [
    {
     "name": "stdout",
     "output_type": "stream",
     "text": [
      "binary_score='예'\n"
     ]
    }
   ],
   "execution_count": 7
  },
  {
   "metadata": {
    "ExecuteTime": {
     "end_time": "2024-09-23T14:28:18.070590Z",
     "start_time": "2024-09-23T14:28:18.061242Z"
    }
   },
   "cell_type": "code",
   "source": [
    "from langchain_core.output_parsers import StrOutputParser\n",
    "\n",
    "# LLM이 제공된 문맥을 바탕으로 답변할 수 있도록 지시하는 프롬프트를 정의합니다.\n",
    "system = \"\"\"당신은 질문에 답변하는 업무를 돕는 도우미입니다. \n",
    "제공된 문맥을 바탕으로 질문에 답변하세요. 만약 답을 모르면 모른다고 말하세요. \n",
    "세 문장을 넘지 않도록 답변을 간결하게 작성하세요.\"\"\"\n",
    "# 시스템 메시지와 사용자의 질문 및 문서 내용을 포함한 템플릿을 만듭니다.\n",
    "prompt = ChatPromptTemplate.from_messages(\n",
    "    [\n",
    "        (\"system\", system),\n",
    "        (\"human\", \"질문: {question} \\n문맥: {context} \\n답변:\"),\n",
    "    ]\n",
    ")\n",
    "\n",
    "# 검색된 문서들을 한 문자열로 합쳐줍니다\n",
    "def format_docs(docs):\n",
    "    return \"\\n\\n\".join(doc.page_content for doc in docs)\n",
    "\n",
    "# 프롬프트, LLM, 문자열 출력을 결합하여 RAG 체인을 만듭니다.\n",
    "rag_chain = prompt | llm | StrOutputParser()"
   ],
   "id": "a42d380917792fe6",
   "outputs": [],
   "execution_count": 15
  },
  {
   "metadata": {
    "ExecuteTime": {
     "end_time": "2024-09-23T14:28:20.714731Z",
     "start_time": "2024-09-23T14:28:18.709202Z"
    }
   },
   "cell_type": "code",
   "source": [
    "# 정의된 RAG 체인을 사용하여 질문과 문맥을 기반으로 답변을 생성합니다. \n",
    "generation = rag_chain.invoke(\n",
    "    {\"context\": format_docs(docs), \"question\": question}\n",
    ")\n",
    "\n",
    "# 생성된 답변을 출력합니다 \n",
    "print(generation)"
   ],
   "id": "3c486bc79dbcb0c2",
   "outputs": [
    {
     "name": "stdout",
     "output_type": "stream",
     "text": [
      "파이썬 코드 작성 가이드는 코드 포맷팅, 린트 사용, 그리고 스타일 규칙을 포함합니다. pylint를 사용하여 코드의 버그와 스타일 문제를 찾아야 하며, Google의 스타일 가이드를 따르는 것이 중요합니다. 자동 포맷터인 Black이나 Pyink을 사용하면 포맷팅에 대한 논쟁을 피할 수 있습니다.\n"
     ]
    }
   ],
   "execution_count": 16
  },
  {
   "cell_type": "code",
   "id": "318e20a5a1ee94e7",
   "metadata": {
    "ExecuteTime": {
     "end_time": "2024-09-23T14:28:39.251177Z",
     "start_time": "2024-09-23T14:28:39.236850Z"
    }
   },
   "source": [
    "# LLM이 입력된 질문을 웹검색에 적합한 형태로 변형하도록 지시하는 프롬프트를 정의합니다 \n",
    "system = \"\"\"당신은 입력된 질문을 변형하여 웹 검색에 최적화된 형태로 만드는 질문생성기입니다. \n",
    "입력된 질문을 보고 그 이면에 있는 의미나 의도를 파악해주세요.\"\"\"\n",
    "# 시스템 메시지와 사용자의 질문을 포함한 템플릿을 만듭니다 \n",
    "re_write_prompt = ChatPromptTemplate.from_messages(\n",
    "    [\n",
    "        (\"system\", system),\n",
    "        (\n",
    "            \"human\", \"질문: \\n\\n {question} \\n 더 나은 질문으로 바꿔주세요.\",\n",
    "        ),\n",
    "    ]\n",
    ")\n",
    "\n",
    "# 프롬프트, LLM, 문자열 출력을 결합하여 질문 변형 체인을 생성합니다.\n",
    "question_rewriter = re_write_prompt | llm | StrOutputParser()"
   ],
   "outputs": [],
   "execution_count": 18
  },
  {
   "metadata": {
    "ExecuteTime": {
     "end_time": "2024-09-23T14:28:51.073557Z",
     "start_time": "2024-09-23T14:28:50.161491Z"
    }
   },
   "cell_type": "code",
   "source": [
    "question = \"C++ 깔끔하게 짜고싶다\"\n",
    "question_rewriter.invoke({\"question\": question})"
   ],
   "id": "9922454c9d4d788e",
   "outputs": [
    {
     "data": {
      "text/plain": [
       "'C++ 코드를 깔끔하고 효율적으로 작성하는 방법은 무엇인가요?'"
      ]
     },
     "execution_count": 19,
     "metadata": {},
     "output_type": "execute_result"
    }
   ],
   "execution_count": 19
  },
  {
   "cell_type": "code",
   "id": "5832d87c4c976720",
   "metadata": {
    "ExecuteTime": {
     "end_time": "2024-09-23T14:28:58.840051Z",
     "start_time": "2024-09-23T14:28:58.791683Z"
    }
   },
   "source": [
    "from langchain_community.tools.tavily_search import TavilySearchResults\n",
    "\n",
    "web_search_tool = TavilySearchResults(k=3)"
   ],
   "outputs": [],
   "execution_count": 20
  },
  {
   "cell_type": "code",
   "id": "7e730df7af1c6fe5",
   "metadata": {
    "ExecuteTime": {
     "end_time": "2024-09-23T14:29:05.572070Z",
     "start_time": "2024-09-23T14:29:05.555574Z"
    }
   },
   "source": [
    "from typing import List\n",
    "\n",
    "from typing_extensions import TypedDict\n",
    "\n",
    "\n",
    "class GraphState(TypedDict):\n",
    "    question: str\n",
    "    generation: str\n",
    "    web_search: str\n",
    "    documents: List[str]"
   ],
   "outputs": [],
   "execution_count": 21
  },
  {
   "cell_type": "code",
   "id": "bde3f63e6b6becf7",
   "metadata": {
    "ExecuteTime": {
     "end_time": "2024-09-23T14:29:10.452423Z",
     "start_time": "2024-09-23T14:29:10.420380Z"
    }
   },
   "source": [
    "from langchain.schema import Document\n",
    "\n",
    "\n",
    "def retrieve(state):\n",
    "    \"\"\"\n",
    "    문서를 검색합니다\n",
    "\n",
    "    Args:\n",
    "        state (dict): 현재 그래프의 상태\n",
    "\n",
    "    Returns:\n",
    "        state (dict): 검색된 문서를 포함한 새로운 상태\n",
    "    \"\"\"\n",
    "    print(\"---검색---\")\n",
    "    question = state[\"question\"]\n",
    "\n",
    "    documents = retriever.invoke(question)\n",
    "    return {\"documents\": documents, \"question\": question}\n",
    "\n",
    "\n",
    "def generate(state):\n",
    "    \"\"\"\n",
    "    답변을 생성합니다\n",
    "\n",
    "    Args:\n",
    "        state (dict): 현재 그래프의 상태\n",
    "\n",
    "    Returns:\n",
    "        state (dict): LLM이 생성한 답변을 포함한 새로운 상태\n",
    "    \"\"\"\n",
    "    print(\"---생성---\")\n",
    "    question = state[\"question\"]\n",
    "    documents = state[\"documents\"]\n",
    "\n",
    "    generation = rag_chain.invoke({\"context\": documents, \"question\": question})\n",
    "    return {\"documents\": documents, \"question\": question, \"generation\": generation}\n",
    "\n",
    "\n",
    "def grade_documents(state):\n",
    "    \"\"\"\n",
    "    검색된 문서가 질문과 연관이 있는지 평가합니다\n",
    "\n",
    "    Args:\n",
    "        state (dict): 현재 그래프의 상태\n",
    "\n",
    "    Returns:\n",
    "        state (dict): 연관이 있다고 판단된 문서가 업데이트된 상태\n",
    "    \"\"\"\n",
    "\n",
    "    print(\"---문서와 질문의 연관성 평가---\")\n",
    "    question = state[\"question\"]\n",
    "    documents = state[\"documents\"]\n",
    "\n",
    "    filtered_docs = []\n",
    "    web_search = \"아니오\"\n",
    "    for d in documents:\n",
    "        score = retrieval_grader.invoke(\n",
    "            {\"question\": question, \"document\": d.page_content}\n",
    "        )\n",
    "        grade = score.binary_score\n",
    "        if grade == \"예\":\n",
    "            print(\"---평가: 연관 문서---\")\n",
    "            filtered_docs.append(d)\n",
    "        else:\n",
    "            print(\"---평가: 연관 없는 문서---\")\n",
    "            web_search = \"예\"\n",
    "            continue\n",
    "    return {\"documents\": filtered_docs, \"question\": question, \"web_search\": web_search}\n",
    "\n",
    "\n",
    "def transform_query(state):\n",
    "    \"\"\"\n",
    "    질문을 더 적합한 형태로 변환합니다\n",
    "\n",
    "    Args:\n",
    "        state (dict): 현재 그래프의 상태\n",
    "\n",
    "    Returns:\n",
    "        state (dict): 변환된 질문이 업데이트된 상태\n",
    "    \"\"\"\n",
    "\n",
    "    print(\"---질문 변환---\")\n",
    "    question = state[\"question\"]\n",
    "    documents = state[\"documents\"]\n",
    "\n",
    "    better_question = question_rewriter.invoke({\"question\": question})\n",
    "    return {\"documents\": documents, \"question\": better_question}\n",
    "\n",
    "\n",
    "def web_search(state):\n",
    "    \"\"\"\n",
    "    웹 검색을 수행합니다 \n",
    "\n",
    "    Args:\n",
    "        state (dict): 현재 그래프의 상태\n",
    "\n",
    "    Returns:\n",
    "        state (dict): 웹 검색 결과가 업데이트된 상태\n",
    "    \"\"\"\n",
    "\n",
    "    print(\"---웹 검색---\")\n",
    "    question = state[\"question\"]\n",
    "    documents = state[\"documents\"]\n",
    "\n",
    "    docs = web_search_tool.invoke({\"query\": question})\n",
    "    web_results = \"\\n\".join([d[\"content\"] for d in docs])\n",
    "    web_results = Document(page_content=web_results)\n",
    "    documents.append(web_results)\n",
    "\n",
    "    return {\"documents\": documents, \"question\": question}\n"
   ],
   "outputs": [],
   "execution_count": 22
  },
  {
   "cell_type": "code",
   "id": "54dd7a88e5eb8899",
   "metadata": {
    "ExecuteTime": {
     "end_time": "2024-09-23T14:29:12.586242Z",
     "start_time": "2024-09-23T14:29:12.580246Z"
    }
   },
   "source": [
    "def decide_to_generate(state):\n",
    "    \"\"\"\n",
    "    답변을 생성할지, 질문을 재 생성할지 결정합니다. \n",
    "\n",
    "    Args:\n",
    "        state (dict): 현재 그래프의 상태\n",
    "\n",
    "    Returns:\n",
    "        str: 다음에 호출할 노드\n",
    "    \"\"\"\n",
    "\n",
    "    print(\"---문서 검토---\")\n",
    "    web_search = state[\"web_search\"]\n",
    "\n",
    "    if web_search == \"예\":\n",
    "        print(\n",
    "            \"---연관 없는 문서가 있음. 질문을 변환---\"\n",
    "        )\n",
    "        return \"transform_query\"\n",
    "    else:\n",
    "        print(\"---연관 문서가 있음. 답변을 생성---\")\n",
    "        return \"generate\"\n"
   ],
   "outputs": [],
   "execution_count": 23
  },
  {
   "cell_type": "code",
   "id": "6729c15763168483",
   "metadata": {
    "ExecuteTime": {
     "end_time": "2024-09-23T14:29:20.701720Z",
     "start_time": "2024-09-23T14:29:20.653339Z"
    }
   },
   "source": [
    "from langgraph.graph import END, StateGraph, START\n",
    "\n",
    "workflow = StateGraph(GraphState)\n",
    "\n",
    "# 노드 정의\n",
    "workflow.add_node(\"retrieve\", retrieve)  # retrieve\n",
    "workflow.add_node(\"grade_documents\", grade_documents)  # grade documents\n",
    "workflow.add_node(\"generate\", generate)  # generatae\n",
    "workflow.add_node(\"transform_query\", transform_query)  # transform_query\n",
    "workflow.add_node(\"web_search_node\", web_search)  # web search\n",
    "\n",
    "# 그래프 정의\n",
    "workflow.add_edge(START, \"retrieve\")\n",
    "workflow.add_edge(\"retrieve\", \"grade_documents\")\n",
    "workflow.add_conditional_edges(\n",
    "    \"grade_documents\",\n",
    "    decide_to_generate,\n",
    "    {\n",
    "        \"transform_query\": \"transform_query\",\n",
    "        \"generate\": \"generate\",\n",
    "    },\n",
    ")\n",
    "workflow.add_edge(\"transform_query\", \"web_search_node\")\n",
    "workflow.add_edge(\"web_search_node\", \"generate\")\n",
    "workflow.add_edge(\"generate\", END)\n",
    "\n",
    "# 그래프 컴파일\n",
    "app = workflow.compile()"
   ],
   "outputs": [],
   "execution_count": 24
  },
  {
   "cell_type": "code",
   "id": "4c43203b5aebefc4",
   "metadata": {
    "ExecuteTime": {
     "end_time": "2024-09-23T14:29:24.746399Z",
     "start_time": "2024-09-23T14:29:22.991098Z"
    }
   },
   "source": [
    "from IPython.display import Image, display\n",
    "\n",
    "display(Image(app.get_graph().draw_mermaid_png()))"
   ],
   "outputs": [
    {
     "data": {
      "image/jpeg": "[encoded data removed]",
      "text/plain": [
       "<IPython.core.display.Image object>"
      ]
     },
     "metadata": {},
     "output_type": "display_data"
    }
   ],
   "execution_count": 25
  },
  {
   "cell_type": "code",
   "id": "1c913d9235d32db2",
   "metadata": {
    "ExecuteTime": {
     "end_time": "2024-09-23T14:31:05.729886Z",
     "start_time": "2024-09-23T14:30:58.886118Z"
    }
   },
   "source": [
    "from pprint import pprint\n",
    "\n",
    "inputs = {\"question\": \"구글의 코드 작성 가이드\"}\n",
    "for output in app.stream(inputs):\n",
    "    for key, value in output.items():\n",
    "        pprint(f\"Node '{key}':\")\n",
    "        # pprint(value, indent=2, width=80, depth=None)\n",
    "\n",
    "pprint(value[\"generation\"])"
   ],
   "outputs": [
    {
     "name": "stdout",
     "output_type": "stream",
     "text": [
      "---검색---\n",
      "\"Node 'retrieve':\"\n",
      "---문서와 질문의 연관성 평가---\n",
      "---평가: 연관 문서---\n",
      "---평가: 연관 문서---\n",
      "---평가: 연관 문서---\n",
      "---평가: 연관 문서---\n",
      "---문서 검토---\n",
      "---연관 문서가 있음. 답변을 생성---\n",
      "\"Node 'grade_documents':\"\n",
      "---생성---\n",
      "\"Node 'generate':\"\n",
      "('구글의 코드 작성 가이드는 JavaScript와 Java 프로그래밍 언어에 대한 코딩 표준을 정의합니다. 이 가이드는 주로 강제 규칙에 '\n",
      " '중점을 두며, 미적 형식뿐만 아니라 다양한 코딩 관습을 다룹니다. 새로운 파일은 구글 스타일을 사용해야 하며, 기존 코드와의 일관성을 '\n",
      " '유지해야 합니다.')\n"
     ]
    }
   ],
   "execution_count": 28
  },
  {
   "cell_type": "code",
   "id": "1b9cf0ace3409c5d",
   "metadata": {
    "ExecuteTime": {
     "end_time": "2024-09-23T14:31:59.903256Z",
     "start_time": "2024-09-23T14:31:49.203310Z"
    }
   },
   "source": [
    "from pprint import pprint\n",
    "\n",
    "inputs = {\"question\": \"C++ 깔끔하게 짜고싶다\"}\n",
    "for output in app.stream(inputs):\n",
    "    for key, value in output.items():\n",
    "        pprint(f\"Node '{key}':\")\n",
    "        # pprint(value, indent=2, width=80, depth=None)\n",
    "\n",
    "pprint(value[\"generation\"])"
   ],
   "outputs": [
    {
     "name": "stdout",
     "output_type": "stream",
     "text": [
      "---검색---\n",
      "\"Node 'retrieve':\"\n",
      "---문서와 질문의 연관성 평가---\n",
      "---평가: 연관 없는 문서---\n",
      "---평가: 연관 문서---\n",
      "---평가: 연관 없는 문서---\n",
      "---평가: 연관 없는 문서---\n",
      "---문서 검토---\n",
      "---연관 없는 문서가 있음. 질문을 변환---\n",
      "\"Node 'grade_documents':\"\n",
      "---질문 변환---\n",
      "\"Node 'transform_query':\"\n",
      "---웹 검색---\n",
      "\"Node 'web_search_node':\"\n",
      "---생성---\n",
      "\"Node 'generate':\"\n",
      "('C++ 코드를 깔끔하고 효율적으로 작성하려면, 적절한 알고리즘과 자료구조를 선택하고 불필요한 연산을 최소화해야 합니다. 또한, 코드의 '\n",
      " '가독성과 유지 보수성을 높이기 위해 문서화와 코드 리팩토링을 지속적으로 수행하는 것이 중요합니다. 마지막으로, 다양한 도구를 활용하여 '\n",
      " '코드 형식을 자동화하고, 여러 컴파일러에서 빌드하여 경고와 오류를 점검하는 것이 좋습니다.')\n"
     ]
    }
   ],
   "execution_count": 29
  }
 ],
 "metadata": {
  "kernelspec": {
   "display_name": "Python 3 (ipykernel)",
   "language": "python",
   "name": "python3"
  },
  "language_info": {
   "codemirror_mode": {
    "name": "ipython",
    "version": 3
   },
   "file_extension": ".py",
   "mimetype": "text/x-python",
   "name": "python",
   "nbconvert_exporter": "python",
   "pygments_lexer": "ipython3",
   "version": "3.10.12"
  }
 },
 "nbformat": 4,
 "nbformat_minor": 5
}
