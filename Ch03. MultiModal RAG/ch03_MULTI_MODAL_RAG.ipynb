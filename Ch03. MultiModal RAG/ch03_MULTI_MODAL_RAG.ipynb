{
  "cells": [
    {
      "cell_type": "markdown",
      "id": "3668d6f5e844f82c",
      "metadata": {
        "id": "3668d6f5e844f82c"
      },
      "source": [
        "# 3. 멀티모달 RAG"
      ]
    },
    {
      "cell_type": "markdown",
      "id": "dd3c7136519c1c26",
      "metadata": {
        "id": "dd3c7136519c1c26"
      },
      "source": [
        "PDF 분할 작업을 위해 `unstructured`를 사용합니다. `unstructured` 를 위해 다음과 도구의 설치가 필요합니다:\n",
        "\n",
        "- `tesseract` : 광학 문자 인식(OCR)을 위해 사용\n",
        "- `poppler` : PDF 렌더링 및 처리\n",
        "\n",
        "[poppler 설치 방법](https://pdf2image.readthedocs.io/en/latest/installation.html)과 [tesseract 설치 방법](https://tesseract-ocr.github.io/tessdoc/Installation.html)을 참고하여 설치해주세요."
      ]
    },
    {
      "cell_type": "code",
      "id": "afQeE-OayK5Z",
      "metadata": {
        "id": "afQeE-OayK5Z",
        "ExecuteTime": {
          "end_time": "2024-12-25T08:19:43.276083Z",
          "start_time": "2024-12-25T08:19:37.637968Z"
        }
      },
      "source": [
        "%%capture --no-stderr\n",
        "!sudo apt install tesseract-ocr\n",
        "!sudo apt install libtesseract-dev\n",
        "!sudo apt-get install poppler-utils"
      ],
      "outputs": [],
      "execution_count": 1
    },
    {
      "cell_type": "code",
      "id": "initial_id",
      "metadata": {
        "id": "initial_id",
        "jupyter": {
          "is_executing": true
        }
      },
      "source": [
        "%%capture --no-stderr\n",
        "! pip install -U \"unstructured[all-docs]\" langchain openai chromadb langchain-experimental langchain_openai nltk pillow pydantic lxml pillow matplotlib chromadb tiktoken"
      ],
      "outputs": [],
      "execution_count": 2
    },
    {
      "metadata": {
        "id": "58c762af2308d6ec",
        "outputId": "c184b647-ce19-4649-947b-bfd64b7687f9",
        "colab": {
          "base_uri": "https://localhost:8080/"
        }
      },
      "cell_type": "code",
      "outputs": [
        {
          "output_type": "stream",
          "name": "stdout",
          "text": [
            "Mounted at /content/drive\n"
          ]
        }
      ],
      "execution_count": 4,
      "source": [
        "from google.colab import drive\n",
        "drive.mount('/content/drive')"
      ],
      "id": "58c762af2308d6ec"
    },
    {
      "metadata": {
        "id": "dfef79276c1ae9bf",
        "outputId": "d6b3283c-94f7-40df-d880-d38dbfcaba9f",
        "colab": {
          "base_uri": "https://localhost:8080/"
        }
      },
      "cell_type": "code",
      "outputs": [
        {
          "output_type": "execute_result",
          "data": {
            "text/plain": [
              "True"
            ]
          },
          "metadata": {},
          "execution_count": 5
        }
      ],
      "execution_count": 5,
      "source": [
        "from dotenv import load_dotenv\n",
        "\n",
        "# .env 파일에서 환경 변수 로드\n",
        "load_dotenv(\"/content/.env\")"
      ],
      "id": "dfef79276c1ae9bf"
    },
    {
      "metadata": {
        "id": "e76f2a812111819f",
        "outputId": "83a0a0f9-8061-449c-9eae-3c766d7efb59",
        "colab": {
          "base_uri": "https://localhost:8080/"
        }
      },
      "cell_type": "code",
      "outputs": [
        {
          "output_type": "stream",
          "name": "stderr",
          "text": [
            "[nltk_data] Downloading package punkt_tab to /root/nltk_data...\n",
            "[nltk_data]   Unzipping tokenizers/punkt_tab.zip.\n",
            "[nltk_data] Downloading package averaged_perceptron_tagger_eng to\n",
            "[nltk_data]     /root/nltk_data...\n",
            "[nltk_data]   Unzipping taggers/averaged_perceptron_tagger_eng.zip.\n"
          ]
        },
        {
          "output_type": "execute_result",
          "data": {
            "text/plain": [
              "True"
            ]
          },
          "metadata": {},
          "execution_count": 6
        }
      ],
      "execution_count": 6,
      "source": [
        "import nltk\n",
        "\n",
        "nltk.download('punkt_tab')\n",
        "nltk.download('averaged_perceptron_tagger_eng')"
      ],
      "id": "e76f2a812111819f"
    },
    {
      "cell_type": "code",
      "id": "2cbe2d40fb72acdb",
      "metadata": {
        "id": "2cbe2d40fb72acdb",
        "jupyter": {
          "is_executing": true
        }
      },
      "source": [
        "# 파일 경로\n",
        "fpath = '/content/drive/MyDrive/langchain-tutorial/Ch03. MultiModal RAG'\n",
        "fname = \"sample.pdf\""
      ],
      "outputs": [],
      "execution_count": 7
    },
    {
      "cell_type": "code",
      "id": "7182cc69079ee2e5",
      "metadata": {
        "colab": {
          "base_uri": "https://localhost:8080/",
          "height": 370,
          "referenced_widgets": [
            "a51eab9064a34c0fa33c67c770fcd771",
            "71bc03b88b6f449696475e6e420e7d11",
            "357fe69710804ec993030088f0654bf6",
            "5b66d9b90dfc4638a949bf4203d3938f",
            "a1bc1b0c9a5149029001232d2bc1ff76",
            "e61ba3cd7c1a4584a456e7de3606bb7e",
            "9ec6d15613b044b7b66f5c9a1138bb13",
            "b6ce0ba9b29e48bbb5a67a7f269d21a8",
            "524dae50a7214baabbd567ee3c998e34",
            "109436f875fe470c8d1376fadb6f4f17",
            "9b09cc9dc0334393a02aed685ab6b550"
          ]
        },
        "id": "7182cc69079ee2e5",
        "outputId": "0b0fe83f-cf73-4984-fe13-f1d22b0c94e0",
        "jupyter": {
          "is_executing": true
        }
      },
      "source": [
        "from unstructured.partition.pdf import partition_pdf\n",
        "import os\n",
        "\n",
        "# PDF에서 요소 추출\n",
        "raw_pdf_elements = partition_pdf(\n",
        "    filename=os.path.join(fpath, fname),\n",
        "    extract_images_in_pdf=True,\n",
        "    extract_image_block_types=[\"Image\", \"Table\"],\n",
        "    chunking_strategy=\"by_title\",\n",
        "    extract_image_block_output_dir=fpath,\n",
        ")"
      ],
      "outputs": [
        {
          "output_type": "stream",
          "name": "stderr",
          "text": [
            "WARNING:pdfminer.pdfpage:CropBox missing from /Page, defaulting to MediaBox\n",
            "WARNING:pdfminer.pdfpage:CropBox missing from /Page, defaulting to MediaBox\n",
            "WARNING:pdfminer.pdfpage:CropBox missing from /Page, defaulting to MediaBox\n",
            "WARNING:pdfminer.pdfpage:CropBox missing from /Page, defaulting to MediaBox\n",
            "WARNING:pdfminer.pdfpage:CropBox missing from /Page, defaulting to MediaBox\n",
            "WARNING:pdfminer.pdfpage:CropBox missing from /Page, defaulting to MediaBox\n",
            "WARNING:pdfminer.pdfpage:CropBox missing from /Page, defaulting to MediaBox\n",
            "WARNING:pdfminer.pdfpage:CropBox missing from /Page, defaulting to MediaBox\n",
            "WARNING:pdfminer.pdfpage:CropBox missing from /Page, defaulting to MediaBox\n"
          ]
        },
        {
          "output_type": "display_data",
          "data": {
            "text/plain": [
              "yolox_l0.05.onnx:   0%|          | 0.00/217M [00:00<?, ?B/s]"
            ],
            "application/vnd.jupyter.widget-view+json": {
              "version_major": 2,
              "version_minor": 0,
              "model_id": "a51eab9064a34c0fa33c67c770fcd771"
            }
          },
          "metadata": {}
        },
        {
          "output_type": "stream",
          "name": "stderr",
          "text": [
            "WARNING:pdfminer.pdfpage:CropBox missing from /Page, defaulting to MediaBox\n",
            "WARNING:pdfminer.pdfpage:CropBox missing from /Page, defaulting to MediaBox\n",
            "WARNING:pdfminer.pdfpage:CropBox missing from /Page, defaulting to MediaBox\n",
            "WARNING:pdfminer.pdfpage:CropBox missing from /Page, defaulting to MediaBox\n",
            "WARNING:pdfminer.pdfpage:CropBox missing from /Page, defaulting to MediaBox\n",
            "WARNING:pdfminer.pdfpage:CropBox missing from /Page, defaulting to MediaBox\n",
            "WARNING:pdfminer.pdfpage:CropBox missing from /Page, defaulting to MediaBox\n",
            "WARNING:pdfminer.pdfpage:CropBox missing from /Page, defaulting to MediaBox\n",
            "WARNING:pdfminer.pdfpage:CropBox missing from /Page, defaulting to MediaBox\n"
          ]
        }
      ],
      "execution_count": 8
    },
    {
      "cell_type": "code",
      "id": "37b65a80b2505fc1",
      "metadata": {
        "id": "37b65a80b2505fc1",
        "jupyter": {
          "is_executing": true
        }
      },
      "source": [
        "# 텍스트, 테이블 추출\n",
        "tables = []\n",
        "texts = []\n",
        "for element in raw_pdf_elements:\n",
        "    if \"unstructured.documents.elements.Table\" in str(type(element)):\n",
        "        tables.append(str(element))  # 테이블 요소 추가\n",
        "    elif \"unstructured.documents.elements.CompositeElement\" in str(type(element)):\n",
        "        texts.append(str(element))  # 텍스트 요소 추가"
      ],
      "outputs": [],
      "execution_count": 9
    },
    {
      "cell_type": "code",
      "id": "dba3d78ab9b0b382",
      "metadata": {
        "id": "dba3d78ab9b0b382",
        "outputId": "b5a5290c-152a-44e6-edfa-52c34d9deb47",
        "colab": {
          "base_uri": "https://localhost:8080/",
          "height": 107
        },
        "jupyter": {
          "is_executing": true
        }
      },
      "source": [
        "tables[0]"
      ],
      "outputs": [
        {
          "output_type": "execute_result",
          "data": {
            "text/plain": [
              "'전년 대비(42주) 2023년 구분 2023년 증감 2024년 (1. 1.∼12. 31.) (%) (1. 1.∼10. 19.) (1. 1.∼10. 21.) 630 (100.0) 673 (100) 전체 663 (100.0) △5.0% 남자 성별 569 (84.5) 526 (83.5) 560 (84.5) △6.1% 1.0% 104 (15.5) 여자 103 (15.5) 104 (16.5) △60.0% 2 ( 0.3) 5 ( 0.7) 5 ( 0.8) 연령 0-9세 20 ( 3.2) 31 ( 4.6) 30 ( 4.5) 10-19세 △33.3% 20-29세 200 (30.2) 209 (33.2) 4.5% 201 (29.9) 30-39세 △18.2% 110 (16.6) 111 (16.5) 90 (14.3) △7.7% 104 (15.7) 96 (15.2) 107 (15.9) 40-49세 118 (17.5) 115 (17.3) △13.9% 50-59세 99 (15.7) 73 (11.6) 60-69세'"
            ],
            "application/vnd.google.colaboratory.intrinsic+json": {
              "type": "string"
            }
          },
          "metadata": {},
          "execution_count": 10
        }
      ],
      "execution_count": 10
    },
    {
      "cell_type": "code",
      "id": "595e984e88fb1074",
      "metadata": {
        "id": "595e984e88fb1074",
        "outputId": "ac94bd01-53e7-4224-c195-e0fe1f5c5485",
        "colab": {
          "base_uri": "https://localhost:8080/",
          "height": 36
        },
        "jupyter": {
          "is_executing": true
        }
      },
      "source": [
        "texts[0]"
      ],
      "outputs": [
        {
          "output_type": "execute_result",
          "data": {
            "text/plain": [
              "'42주차 (10.13.~10.19.)\\n\\nEe ee\\n\\n주차\\n\\n국내발생 해외유입\\n\\n전체'"
            ],
            "application/vnd.google.colaboratory.intrinsic+json": {
              "type": "string"
            }
          },
          "metadata": {},
          "execution_count": 11
        }
      ],
      "execution_count": 11
    },
    {
      "cell_type": "code",
      "id": "aaf8764a68eb61f7",
      "metadata": {
        "id": "aaf8764a68eb61f7",
        "jupyter": {
          "is_executing": true
        }
      },
      "source": [
        "from langchain_core.output_parsers import StrOutputParser\n",
        "from langchain_core.prompts import ChatPromptTemplate\n",
        "from langchain_openai import ChatOpenAI\n",
        "\n",
        "# 프롬프트 설정\n",
        "prompt_text = \"\"\"당신은 표와 텍스트를 요약하여 검색할 수 있도록 돕는 역할을 맡은 어시스턴트입니다.\n",
        "이 요약은 임베딩되어 원본 텍스트나 표 요소를 검색하는 데 사용될 것입니다.\n",
        "표 또는 텍스트에 대한 간결한 요약을 제공하여 검색에 최적화된 형태로 만들어 주세요. 표 또는 텍스트: {element} \"\"\"\n",
        "prompt = ChatPromptTemplate.from_template(prompt_text)\n",
        "\n",
        "# 텍스트 요약 체인\n",
        "model = ChatOpenAI(temperature=0, model=\"gpt-4o\")\n",
        "summarize_chain = {\"element\": lambda x: x} | prompt | model | StrOutputParser()\n",
        "\n",
        "# 제공된 텍스트에 대해 요약을 할 경우\n",
        "text_summaries = summarize_chain.batch(texts, {\"max_concurrency\": 5})\n",
        "# 요약을 원치 않을 경우\n",
        "# text_summaries = texts\n",
        "\n",
        "# 제공된 테이블에 적용\n",
        "table_summaries = summarize_chain.batch(tables, {\"max_concurrency\": 5})"
      ],
      "outputs": [],
      "execution_count": 12
    },
    {
      "cell_type": "code",
      "id": "469bdbcdc587fe55",
      "metadata": {
        "id": "469bdbcdc587fe55",
        "jupyter": {
          "is_executing": true
        },
        "colab": {
          "base_uri": "https://localhost:8080/",
          "height": 72
        },
        "outputId": "6abb9cfe-31e8-4af1-c24f-50835c1d63bf"
      },
      "source": [
        "table_summaries[0]"
      ],
      "outputs": [
        {
          "output_type": "execute_result",
          "data": {
            "text/plain": [
              "'2023년과 2024년의 성별 및 연령별 데이터 비교: 전체적으로 2023년 대비 2024년은 5.0% 감소. 남성은 6.1% 감소, 여성은 1.0% 증가. 연령별로는 0-9세가 0.3%에서 0.8%로 증가, 10-19세는 4.6%에서 4.5%로 감소. 20-29세는 30.2%에서 33.2%로 증가, 30-39세는 29.9%에서 18.2% 감소. 40-49세는 16.6%에서 16.5%로 소폭 감소, 50-59세는 15.7%에서 11.6%로 감소.'"
            ],
            "application/vnd.google.colaboratory.intrinsic+json": {
              "type": "string"
            }
          },
          "metadata": {},
          "execution_count": 13
        }
      ],
      "execution_count": 13
    },
    {
      "cell_type": "code",
      "id": "5b0a7404efb4064c",
      "metadata": {
        "id": "5b0a7404efb4064c",
        "jupyter": {
          "is_executing": true
        },
        "colab": {
          "base_uri": "https://localhost:8080/",
          "height": 36
        },
        "outputId": "f778c22c-ee78-4090-ba03-af927a4fcede"
      },
      "source": [
        "text_summaries[0]"
      ],
      "outputs": [
        {
          "output_type": "execute_result",
          "data": {
            "text/plain": [
              "'42주차(10.13.~10.19.) 요약: 국내 발생 및 해외 유입 사례를 포함한 전체 통계.'"
            ],
            "application/vnd.google.colaboratory.intrinsic+json": {
              "type": "string"
            }
          },
          "metadata": {},
          "execution_count": 14
        }
      ],
      "execution_count": 14
    },
    {
      "cell_type": "code",
      "id": "b57125183be1e4ed",
      "metadata": {
        "id": "b57125183be1e4ed",
        "jupyter": {
          "is_executing": true
        }
      },
      "source": [
        "import base64\n",
        "\n",
        "\n",
        "def encode_image(image_path) -> str:\n",
        "    # 이미지 base64 인코딩\n",
        "    with open(image_path, \"rb\") as image_file:\n",
        "        return base64.b64encode(image_file.read()).decode('utf-8')\n",
        "\n",
        "\n",
        "# 이미지의 base64 인코딩을 저장하는 리스트\n",
        "img_base64_list = []\n",
        "\n",
        "# 이미지를 읽어 base64 인코딩 후 저장\n",
        "for img_file in sorted(os.listdir(fpath)):\n",
        "    if img_file.endswith('.jpg'):\n",
        "        img_path = os.path.join(fpath, img_file)\n",
        "        base64_image = encode_image(img_path)\n",
        "        img_base64_list.append(base64_image)"
      ],
      "outputs": [],
      "execution_count": 15
    },
    {
      "cell_type": "code",
      "id": "cbd2dc098c4a065f",
      "metadata": {
        "id": "cbd2dc098c4a065f",
        "jupyter": {
          "is_executing": true
        },
        "colab": {
          "base_uri": "https://localhost:8080/"
        },
        "outputId": "d0da20bb-a862-43f3-bc6a-ca519843f368"
      },
      "source": [
        "len(img_base64_list)"
      ],
      "outputs": [
        {
          "output_type": "execute_result",
          "data": {
            "text/plain": [
              "49"
            ]
          },
          "metadata": {},
          "execution_count": 16
        }
      ],
      "execution_count": 16
    },
    {
      "cell_type": "code",
      "id": "14738919367d4b9d",
      "metadata": {
        "id": "14738919367d4b9d",
        "jupyter": {
          "is_executing": true
        }
      },
      "source": [
        "from langchain_core.messages import HumanMessage\n",
        "from langchain_openai import ChatOpenAI\n",
        "\n",
        "\n",
        "def image_summarize(img_base64: str) -> str:\n",
        "    # 이미지 요약\n",
        "    chat = ChatOpenAI(model=\"gpt-4o\", max_tokens=1024)\n",
        "    prompt = \"\"\"\n",
        "    당신은 이미지를 요약하여 검색을 위해 사용할 수 있도록 돕는 어시스턴트입니다.\n",
        "    이 요약은 임베딩되어 원본 이미지를 검색하는 데 사용됩니다.\n",
        "    이미지 검색에 최적화된 간결한 요약을 작성하세요.\n",
        "    \"\"\"\n",
        "    msg = chat.invoke(\n",
        "        [\n",
        "            HumanMessage(\n",
        "                content=[\n",
        "                    {\"type\": \"text\", \"text\": prompt},\n",
        "                    {\n",
        "                        \"type\": \"image_url\",\n",
        "                        \"image_url\": {\n",
        "                            \"url\": f\"data:image/jpeg;base64,{img_base64}\"\n",
        "                        },\n",
        "                    },\n",
        "                ]\n",
        "            )\n",
        "        ]\n",
        "    )\n",
        "    return msg.content\n",
        "\n",
        "\n",
        "# 이미지 요약을 저장하는 리스트\n",
        "image_summaries = []\n",
        "\n",
        "for img_base64 in img_base64_list:\n",
        "    image_summary = image_summarize(img_base64)\n",
        "    image_summaries.append(image_summary)\n"
      ],
      "outputs": [],
      "execution_count": 17
    },
    {
      "cell_type": "code",
      "id": "4da47296e0ef9980",
      "metadata": {
        "id": "4da47296e0ef9980",
        "jupyter": {
          "is_executing": true
        },
        "colab": {
          "base_uri": "https://localhost:8080/",
          "height": 36
        },
        "outputId": "921d75ad-3675-42f5-b932-ab700bb4c258"
      },
      "source": [
        "image_summaries[0]"
      ],
      "outputs": [
        {
          "output_type": "execute_result",
          "data": {
            "text/plain": [
              "'2024년 질병관리청 말라리아 주간 소식지, 42주차(10.13~10.19) 배너.'"
            ],
            "application/vnd.google.colaboratory.intrinsic+json": {
              "type": "string"
            }
          },
          "metadata": {},
          "execution_count": 18
        }
      ],
      "execution_count": 18
    },
    {
      "cell_type": "code",
      "id": "e138a1a899ab481c",
      "metadata": {
        "id": "e138a1a899ab481c",
        "jupyter": {
          "is_executing": true
        },
        "colab": {
          "base_uri": "https://localhost:8080/"
        },
        "outputId": "be006dbf-bac9-4b8f-e6c9-5bf21c2fa3a4"
      },
      "source": [
        "from langchain.retrievers import MultiVectorRetriever\n",
        "from langchain_core.stores import InMemoryStore\n",
        "from langchain_openai import OpenAIEmbeddings\n",
        "from langchain_community.vectorstores import Chroma\n",
        "\n",
        "# 분할한 텍스트들을 색인할 벡터 저장소\n",
        "vectorstore = Chroma(collection_name=\"multi_modal_rag\",\n",
        "                     embedding_function=OpenAIEmbeddings())\n",
        "\n",
        "# 원본문서 저장을 위한 저장소 선언\n",
        "docstore = InMemoryStore()\n",
        "id_key = \"doc_id\"\n",
        "\n",
        "# 검색기\n",
        "retriever = MultiVectorRetriever(\n",
        "    vectorstore=vectorstore,\n",
        "    docstore=docstore,\n",
        "    id_key=id_key,\n",
        ")"
      ],
      "outputs": [
        {
          "output_type": "stream",
          "name": "stderr",
          "text": [
            "<ipython-input-19-b9ca233ad4d2>:7: LangChainDeprecationWarning: The class `Chroma` was deprecated in LangChain 0.2.9 and will be removed in 1.0. An updated version of the class exists in the :class:`~langchain-chroma package and should be used instead. To use it run `pip install -U :class:`~langchain-chroma` and import as `from :class:`~langchain_chroma import Chroma``.\n",
            "  vectorstore = Chroma(collection_name=\"multi_modal_rag\",\n"
          ]
        }
      ],
      "execution_count": 19
    },
    {
      "cell_type": "code",
      "id": "a42f5a52e5257342",
      "metadata": {
        "id": "a42f5a52e5257342",
        "jupyter": {
          "is_executing": true
        }
      },
      "source": [
        "import uuid\n",
        "\n",
        "# 원본 텍스트 데이터 저장\n",
        "doc_ids = [str(uuid.uuid4()) for _ in texts]\n",
        "retriever.docstore.mset(list(zip(doc_ids, texts)))\n",
        "\n",
        "# 원본 테이블 데이터 저장\n",
        "table_ids = [str(uuid.uuid4()) for _ in tables]\n",
        "retriever.docstore.mset(list(zip(table_ids, tables)))\n",
        "\n",
        "# 원본 이미지(base64) 데이터 저장\n",
        "img_ids = [str(uuid.uuid4()) for _ in img_base64_list]\n",
        "retriever.docstore.mset(list(zip(img_ids, img_base64_list)))"
      ],
      "outputs": [],
      "execution_count": 20
    },
    {
      "cell_type": "code",
      "id": "c4497cb33a9d7bbc",
      "metadata": {
        "id": "c4497cb33a9d7bbc",
        "jupyter": {
          "is_executing": true
        },
        "colab": {
          "base_uri": "https://localhost:8080/"
        },
        "outputId": "55ce7e24-b5b9-4812-dd89-165ec6c32ada"
      },
      "source": [
        "from langchain.schema.document import Document\n",
        "\n",
        "# 텍스트 요약 벡터 저장\n",
        "summary_texts = [\n",
        "    Document(page_content=s, metadata={id_key: doc_ids[i]})\n",
        "    for i, s in enumerate(text_summaries)\n",
        "]\n",
        "retriever.vectorstore.add_documents(summary_texts)\n",
        "\n",
        "# 테이블 요약 벡터 저장\n",
        "summary_tables = [\n",
        "    Document(page_content=s, metadata={id_key: table_ids[i]})\n",
        "    for i, s in enumerate(table_summaries)\n",
        "]\n",
        "retriever.vectorstore.add_documents(summary_tables)\n",
        "\n",
        "# 이미지 요약 벡터 저장\n",
        "\n",
        "summary_img = [\n",
        "    Document(page_content=s, metadata={id_key: img_ids[i]})\n",
        "    for i, s in enumerate(image_summaries)\n",
        "]\n",
        "retriever.vectorstore.add_documents(summary_img)"
      ],
      "outputs": [
        {
          "output_type": "execute_result",
          "data": {
            "text/plain": [
              "['ac89ba5e-9bdc-4e2c-85da-ad38840413f3',\n",
              " '5acb6500-f505-4c07-a85f-6dd9155024ba',\n",
              " 'cefd863d-cb9d-4d22-a47f-7e2a49f62910',\n",
              " '72120d73-13f0-4943-9db8-c4a5d1e62150',\n",
              " '721a271e-95c0-43e2-a90d-f714df8df698',\n",
              " '8c709779-30ba-4a06-abbc-010618180b05',\n",
              " 'a4b56e96-f406-43e5-bde4-02d29275d60a',\n",
              " '3a8c114c-cfef-42ab-b71b-ddb3e50370c0',\n",
              " '3ee3d16a-1dc1-4517-8681-f944c970db46',\n",
              " '6fde4d3d-e9bc-4701-908f-46713e51ebcc',\n",
              " 'e4a29b9f-ebfa-46f7-a59e-d06768813a68',\n",
              " 'c3541c6b-9f78-4a21-9a3d-6701c018935b',\n",
              " 'c45302f4-e7a7-441b-9c5c-8989dbb82d95',\n",
              " '4f463184-4268-4724-b240-4696500da1d5',\n",
              " '7b0bb992-6525-46f9-973d-b26d537dd030',\n",
              " '61f46ead-62df-43b2-95e2-4befc1c7cf8c',\n",
              " '1b7755bf-5790-48a8-a03a-3b307e1f6550',\n",
              " 'ae76b042-75b9-437a-9121-9f436c02bfd5',\n",
              " '205f0a30-8c49-492e-a806-5c54ffd00461',\n",
              " '18e94097-66ba-4204-a0d6-d9f8c755c390',\n",
              " 'f9513063-45df-4682-adff-75037d29e6c5',\n",
              " '69519d35-d613-496d-83f8-324a7df9341d',\n",
              " '3d1c2648-0785-499a-9b3c-b9e3bff8fca6',\n",
              " '722475cd-35dd-4f80-955d-2155f46da93a',\n",
              " '60794438-558f-475e-93a5-d82069952a13',\n",
              " '455fbf0c-9d40-4b0d-8428-45a07ec816b0',\n",
              " 'e6590531-991f-4c12-a3ab-05eb7ce7c991',\n",
              " '7de1e7a3-ee54-4721-9b01-d3ed448ea37a',\n",
              " 'e30e0d8d-22cc-42a0-b96b-a837c933aa08',\n",
              " 'b5dd337e-69e2-49e7-b013-5af9c0ac8a0d',\n",
              " '71f57da4-b9fa-4cc7-905f-679e3f5da2a3',\n",
              " 'bc1de571-7512-412e-a7cf-9a647ddc8b71',\n",
              " '3238e4cf-6cda-4f9b-bec4-82ae67577041',\n",
              " 'b66fd3a3-40f0-432f-aecd-d3bd9dc55307',\n",
              " 'e9d57bac-6a79-4fd3-97a5-6b9695f14af2',\n",
              " 'c5cf0e31-e707-4d1c-9020-56eec3e9cff3',\n",
              " '8756feaf-0b37-4f62-a83c-924920717139',\n",
              " 'a763aeeb-4f37-4339-8ceb-6ebe03143e3b',\n",
              " '18b50b86-3b81-448a-bd76-70426d7dec33',\n",
              " '163083a8-e84a-4b18-96fd-cc516efd311e',\n",
              " 'd1689622-91c5-4033-baf3-5db17db7f3e7',\n",
              " '3eb1d755-52d7-46b7-a07b-7ec752e97ec5',\n",
              " '8defdee6-68be-43af-b338-fc537e81e1d1',\n",
              " 'd9534b79-f202-4d9d-a555-8b8b12d15159',\n",
              " '03601866-f51b-4dae-aae5-10b68d4da71f',\n",
              " 'da26053d-f2d0-4a56-bb38-9a2f7d6d1947',\n",
              " 'a852a30b-cfbd-40c3-a6c7-a0b1cb3d6b13',\n",
              " 'c2b3a3da-2e25-4bae-9a2a-a6a6446423b9',\n",
              " 'a4f966c4-9be1-4ad8-8abe-3eee93726480']"
            ]
          },
          "metadata": {},
          "execution_count": 21
        }
      ],
      "execution_count": 21
    },
    {
      "cell_type": "code",
      "id": "95fefc660b81ec88",
      "metadata": {
        "id": "95fefc660b81ec88",
        "jupyter": {
          "is_executing": true
        }
      },
      "source": [
        "docs = retriever.invoke(\n",
        "    \"말라리아 군집 사례는 어떤가요? \"\n",
        ")"
      ],
      "outputs": [],
      "execution_count": 22
    },
    {
      "cell_type": "code",
      "id": "87ba57c732cbc847",
      "metadata": {
        "id": "87ba57c732cbc847",
        "jupyter": {
          "is_executing": true
        },
        "colab": {
          "base_uri": "https://localhost:8080/"
        },
        "outputId": "2732e71a-1dd5-45aa-921f-492e21fa6b83"
      },
      "source": [
        "len(docs)"
      ],
      "outputs": [
        {
          "output_type": "execute_result",
          "data": {
            "text/plain": [
              "4"
            ]
          },
          "metadata": {},
          "execution_count": 23
        }
      ],
      "execution_count": 23
    },
    {
      "cell_type": "code",
      "id": "167b054f05f0a659",
      "metadata": {
        "id": "167b054f05f0a659",
        "jupyter": {
          "is_executing": true
        }
      },
      "source": [
        "from base64 import b64decode\n",
        "\n",
        "def split_image_text_types(docs):\n",
        "    # 이미지와 텍스트 데이터를 분리\n",
        "    b64 = []\n",
        "    text = []\n",
        "    for doc in docs:\n",
        "        try:\n",
        "            b64decode(doc)\n",
        "            b64.append(doc)\n",
        "        except Exception as e:\n",
        "            text.append(doc)\n",
        "    return {\n",
        "        \"images\": b64,\n",
        "        \"texts\": text\n",
        "    }\n",
        "\n",
        "docs_by_type = split_image_text_types(docs)"
      ],
      "outputs": [],
      "execution_count": 24
    },
    {
      "cell_type": "code",
      "id": "63f2acd44917313c",
      "metadata": {
        "id": "63f2acd44917313c",
        "jupyter": {
          "is_executing": true
        },
        "colab": {
          "base_uri": "https://localhost:8080/"
        },
        "outputId": "8c421e17-e148-4293-e7e1-275eec792d3b"
      },
      "source": [
        "len(docs_by_type[\"images\"])"
      ],
      "outputs": [
        {
          "output_type": "execute_result",
          "data": {
            "text/plain": [
              "2"
            ]
          },
          "metadata": {},
          "execution_count": 25
        }
      ],
      "execution_count": 25
    },
    {
      "cell_type": "code",
      "id": "871a679e3863b093",
      "metadata": {
        "id": "871a679e3863b093",
        "jupyter": {
          "is_executing": true
        },
        "colab": {
          "base_uri": "https://localhost:8080/"
        },
        "outputId": "1bbbcd94-1b51-4541-bd7a-bb9c0f144710"
      },
      "source": [
        "len(docs_by_type[\"texts\"])"
      ],
      "outputs": [
        {
          "output_type": "execute_result",
          "data": {
            "text/plain": [
              "2"
            ]
          },
          "metadata": {},
          "execution_count": 26
        }
      ],
      "execution_count": 26
    },
    {
      "cell_type": "code",
      "id": "21fc03a7c6bd9c2f",
      "metadata": {
        "id": "21fc03a7c6bd9c2f",
        "jupyter": {
          "is_executing": true
        },
        "colab": {
          "base_uri": "https://localhost:8080/",
          "height": 36
        },
        "outputId": "a16ac4b0-763d-4511-a01d-5a5bc8350548"
      },
      "source": [
        "docs_by_type[\"images\"][0][:100]"
      ],
      "outputs": [
        {
          "output_type": "execute_result",
          "data": {
            "text/plain": [
              "'/9j/4AAQSkZJRgABAQAAAQABAAD/2wBDAAgGBgcGBQgHBwcJCQgKDBQNDAsLDBkSEw8UHRofHh0aHBwgJC4nICIsIxwcKDcpLDAx'"
            ],
            "application/vnd.google.colaboratory.intrinsic+json": {
              "type": "string"
            }
          },
          "metadata": {},
          "execution_count": 27
        }
      ],
      "execution_count": 27
    },
    {
      "cell_type": "code",
      "id": "43ef750dafdecca2",
      "metadata": {
        "id": "43ef750dafdecca2",
        "jupyter": {
          "is_executing": true
        },
        "colab": {
          "base_uri": "https://localhost:8080/"
        },
        "outputId": "0b988cb9-a72d-43e3-ff4c-e5cbea8e2647"
      },
      "source": [
        "docs_by_type[\"texts\"]"
      ],
      "outputs": [
        {
          "output_type": "execute_result",
          "data": {
            "text/plain": [
              "['42주차 (10.13.~10.19.) 3 말라리아 군집사례 현황 - (누적) 4개 시도(경기, 서울, 인천, 강원), 총 46건의 군집사례* 확인 * 군집사례 : 위험지역 내에서 2명 이상의 환자가 증상 발생 간격이 14일 이내, 환자 거주지 거리가 1Km 이내인 경우 표6 군집사례 발생 현황 사례건수(환자수) 시·도 시군구 발생(군집사례건수) 4개 시도 46건(114명) 합계 ▸5명 군집(1) : 양천구, 강서구(1) 1건(5명) 서울 ▸2명 군집(5) : 서구(2), 강화군(1), 연수구(1), 중구(1) 인천 5건(10명) ▸6명 군집(1) : 파주시(1) ▸4명 군집(3) : 파주시(2), 김포시(1), ▸3명 군집(6) : 파주시(4), 김포시(1), 일산서구(1) 경기 39건(94명) ▸2명 군집(29) : 파주시(15), 김포시(10), 일산동구(2), 일산서구(1), 연천군(1) ▸5명 군집(1) : 철원군(1) 1건(5명) 강원 그림 6. 군집사례 6',\n",
              " '42주차 (10.13.~10.19.)\\n\\n3 말라리아 군집사례 현황\\n\\n* 군집사례 : 위험지역 내에서 2명 이상의 환자가 증상 발생 간격이 14일 이내, 환자 거주지 거리가 1Km 이내인 경우\\n\\n사례건수(환자수) 시·도 시군구 발생(군집사례건수) 4개 시도 46건(114명) 합계 ▸5명 군집(1) : 양천구, 강서구(1) 1건(5명) 서울 ▸2명 군집(5) : 서구(2), 강화군(1), 연수구(1), 중구(1) 인천 5건(10명) ▸6명 군집(1) : 파주시(1) ▸4명 군집(3) : 파주시(2), 김포시(1), ▸3명 군집(6) : 파주시(4), 김포시(1), 일산서구(1) 경기 39건(94명) ▸2명 군집(29) : 파주시(15), 김포시(10), 일산동구(2), 일산서구(1), 연천군(1) ▸5명 군집(1) : 철원군(1) 1건(5명) 강원\\n\\n그림 6. 군집사례']"
            ]
          },
          "metadata": {},
          "execution_count": 28
        }
      ],
      "execution_count": 28
    },
    {
      "cell_type": "code",
      "id": "77fb63643f0ce89e",
      "metadata": {
        "id": "77fb63643f0ce89e",
        "jupyter": {
          "is_executing": true
        },
        "colab": {
          "base_uri": "https://localhost:8080/",
          "height": 151
        },
        "outputId": "47abe4a9-2c2f-41bd-d0b6-d131e1360289"
      },
      "source": [
        "\n",
        "from IPython.display import display, HTML\n",
        "\n",
        "def plt_img_base64(img_base64):\n",
        "    # base64 이미지로 html 태그를 작성합니다\n",
        "    image_html = f'<img src=\"data:image/jpeg;base64,{img_base64}\" />'\n",
        "\n",
        "    # html 태그를 기반으로 이미지를 표기합니다\n",
        "    display(HTML(image_html))\n",
        "\n",
        "plt_img_base64(docs_by_type[\"images\"][0])"
      ],
      "outputs": [
        {
          "output_type": "display_data",
          "data": {
            "text/plain": [
              "<IPython.core.display.HTML object>"
            ],
            "text/html": [
              "<img src=\"data:image/jpeg;base64,/9j/4AAQSkZJRgABAQAAAQABAAD/2wBDAAgGBgcGBQgHBwcJCQgKDBQNDAsLDBkSEw8UHRofHh0aHBwgJC4nICIsIxwcKDcpLDAxNDQ0Hyc5PTgyPC4zNDL/2wBDAQkJCQwLDBgNDRgyIRwhMjIyMjIyMjIyMjIyMjIyMjIyMjIyMjIyMjIyMjIyMjIyMjIyMjIyMjIyMjIyMjIyMjL/wAARCABtBRkDASIAAhEBAxEB/8QAHwAAAQUBAQEBAQEAAAAAAAAAAAECAwQFBgcICQoL/8QAtRAAAgEDAwIEAwUFBAQAAAF9AQIDAAQRBRIhMUEGE1FhByJxFDKBkaEII0KxwRVS0fAkM2JyggkKFhcYGRolJicoKSo0NTY3ODk6Q0RFRkdISUpTVFVWV1hZWmNkZWZnaGlqc3R1dnd4eXqDhIWGh4iJipKTlJWWl5iZmqKjpKWmp6ipqrKztLW2t7i5usLDxMXGx8jJytLT1NXW19jZ2uHi4+Tl5ufo6erx8vP09fb3+Pn6/8QAHwEAAwEBAQEBAQEBAQAAAAAAAAECAwQFBgcICQoL/8QAtREAAgECBAQDBAcFBAQAAQJ3AAECAxEEBSExBhJBUQdhcRMiMoEIFEKRobHBCSMzUvAVYnLRChYkNOEl8RcYGRomJygpKjU2Nzg5OkNERUZHSElKU1RVVldYWVpjZGVmZ2hpanN0dXZ3eHl6goOEhYaHiImKkpOUlZaXmJmaoqOkpaanqKmqsrO0tba3uLm6wsPExcbHyMnK0tPU1dbX2Nna4uPk5ebn6Onq8vP09fb3+Pn6/9oADAMBAAIRAxEAPwD3yiiiqAKrXd/a2KBriZUz0HUn8Kz77WmE5tNOVJphxI7Z2x/4mqcOnorGad/tFwxy0j/0HStI0+siZStsTSa3e3JK2NmFTtLMe3qBULLqc4zJqboD2iQL+tWsdPapEhlf7qE1p7sdkZ3bKAs7nvqV4T/11NKIL+PJi1W457SAMP1rR+yT/wBz9RTWt5l6xn8OaOZFWZTj1HWLXiaGK7TPVDtb+X9PxrRstas71/LDNFN/zzkGCfp61VxzyOfeobm0huk2yrk9m7ihwi0CbR0NFc1FqV5pRxdbrq1OAsn8SfX1q+NftCAQyYPrIBWXs5dClNGtRWV/b1r/AH4/+/go/t61/vx/9/BR7OXYOePc1aKyv7etf78f/fwUf29a/wB+P/v4KPZy7Bzx7mrRWV/b1r/fj/7+Cj+3rX+/H/38FHs5dg549zVorK/t61/vx/8AfwUf29a/34/+/go9nLsHPHuatFZX9vWv9+P/AL+Cj+3rX+/H/wB/BR7OXYOePc1aKyv7etf78f8A38FH9vWv9+P/AL+Cj2cuwc8e5q0Vlf29a/34/wDv4KP7etf78f8A38FHs5dg549zVorK/t61/vx/9/BR/b1r/fj/AO/go9nLsHPHuatFZX9vWv8Afj/7+Cj+3rX+/H/38FHs5dg549zVorK/t61/vx/9/BR/b1r/AH4/+/go9nLsHPHuatFZX9vWv9+P/v4KP7etf78f/fwUezl2Dnj3NWisr+3rX+/H/wB/BR/b1r/fj/7+Cj2cuwc8e5q0Vlf29a/34/8Av4KP7etf78f/AH8FHs5dg549zVorK/t61/vx/wDfwUf29a/34/8Av4KPZy7Bzx7mrRWV/b1r/fj/AO/go/t61/vx/wDfwUezl2Dnj3NWisr+3rX+/H/38FH9vWv9+P8A7+Cj2cuwc8e5q0Vlf29a/wB+P/v4KP7etf78f/fwUezl2Dnj3NWisr+3rX+/H/38FH9vWv8Afj/7+Cj2cuwc8e5q0Vlf29a/34/+/go/t61/vx/9/BR7OXYOePc1aKyv7etf78f/AH8FH9vWv9+P/v4KPZy7Bzx7mrRWV/b1r/fj/wC/go/t61/vx/8AfwUezl2Dnj3NWisr+3rX+/H/AN/BR/b1r/fj/wC/go9nLsHPHuatFZX9vWv9+P8A7+Cj+3rX+/H/AN/BR7OXYOePc1aKyv7etf78f/fwUf29a/34/wDv4KPZy7Bzx7mrRWV/b1r/AH4/+/go/t61/vx/9/BR7OXYOePc1aKyv7etf78f/fwUf29a/wB+P/v4KPZy7Bzx7mrRWV/b1r/fj/7+Cj+3rX+/H/38FHs5dg549zVorK/t61/vx/8AfwUf29a/34/+/go9nLsHPHuatFZX9vWv9+P/AL+Cj+3rX+/H/wB/BR7OXYOePc1aKyv7etf78f8A38FH9vWv9+P/AL+Cj2cuwc8e5q0Vlf29a/34/wDv4KP7etf78f8A38FHs5dg549zVorK/t61/vx/9/BR/b1r/fj/AO/go9nLsHPHuatFZX9vWv8Afj/7+Cj+3rX+/H/38FHs5dg549zVorK/t61/vx/9/BR/b1r/AH4/+/go9nLsHPHuatFZX9vWv9+P/v4KP7etf78f/fwUezl2Dnj3NWisr+3rX+/H/wB/BR/b1r/fj/7+Cj2cuwc8e5q0Vlf29a/34/8Av4KP7etf78f/AH8FHs5dg549zVorK/t61/vx/wDfwUf29a/34/8Av4KPZy7Bzx7mrRWV/b1r/fj/AO/go/t61/vx/wDfwUezl2Dnj3NWisr+3rX+/H/38FH9vWv9+P8A7+Cj2cuwc8e5q0Vlf29a/wB+P/v4KP7etf78f/fwUezl2Dnj3NWisr+3rX+/H/38FH9vWv8Afj/7+Cj2cuwc8e5q0Vlf29a/34/+/go/t61/vx/9/BR7OXYOePc1aKyv7etf78f/AH8FH9vWv9+P/v4KPZy7Bzx7mrRWV/b1r/fj/wC/go/t61/vx/8AfwUezl2Dnj3NWisr+3rX+/H/AN/BR/b1r/fj/wC/go9nLsHPHuatFZX9vWv9+P8A7+Cj+3rX+/H/AN/BR7OXYOePc1aKyv7etf78f/fwUf29a/34/wDv4KPZy7Bzx7mrRWV/b1r/AH4/+/go/t61/vx/9/BR7OXYOePc1aKyv7etf78f/fwUf29a/wB+P/v4KPZy7Bzx7mrRWV/b1r/fj/7+Cj+3rX+/H/38FHs5dg549zVorK/t61/vx/8AfwUf29a/34/+/go9nLsHPHuatFZX9vWv9+P/AL+Cj+3rX+/H/wB/BR7OXYOePc1aKyv7etf78f8A38FH9vWv9+P/AL+Cj2cuwc8e5q0Vlf29a/34/wDv4KP7etf78f8A38FHs5dg549zVorK/t61/vx/9/BR/b1r/fj/AO/go9nLsHPHuatFZX9vWv8Afj/7+Cj+3rX+/H/38FHs5dg549zVorK/t61/vx/9/BR/b1r/AH4/+/go9nLsHPHuatFZX9vWv9+P/v4KP7etf78f/fwUezl2Dnj3NWisr+3rX+/H/wB/BR/b1r/fj/7+Cj2cuwc8e5q0Vlf29a/34/8Av4KP7etf78f/AH8FHs5dg549zVorK/t61/vx/wDfwUf29a/34/8Av4KPZy7Bzx7mrRWV/b1r/fj/AO/go/t61/vx/wDfwUezl2Dnj3NWisr+3rX+/H/38FH9vWv9+P8A7+Cj2cuwc8e5q0Vlf29a/wB+P/v4KP7etf78f/fwUezl2Dnj3NWisr+3rX+/H/38FH9vWv8Afj/7+Cj2cuwc8e5q0Vlf29a/34/+/go/t61/vx/9/BR7OXYOePc1aKyv7etf78f/AH8FH9vWv9+P/v4KPZy7Bzx7mrRWV/b1r/fj/wC/go/t61/vx/8AfwUezl2Dnj3NWisr+3rX+/H/AN/BR/b1r/fj/wC/go9nLsHPHuatFZX9vWv9+P8A7+Cj+3rX+/H/AN/BR7OXYOePc1aKyv7etf78f/fwUf29a/34/wDv4KPZy7Bzx7mrRWV/b1r/AH4/+/go/t61/vx/9/BR7OXYOePc1aKox6rbSAYb8iDVqOeKX7jgn071Li1uNNMkooopDCiiigArF1m9MpbTLZh5zj98SPuIf6nNXtUvl0+wknJG77qA92PT/PtWPp9u8MLSSHdPMd8jd8nnFa04395kyfQlt7aO1hEcY4HUnqx9TVqGB5jwML6mkhhM0oUdByTWD4z8aReGoRYWO2TUHHQ9Ih6n1PoKpKVSShHczcoxjzSNrUtW0bw9Gr6jdIjt9xT8zMfZRzXGal8WY1lKabpzOg/5aTtt/wDHR/jXmdzd3N9dPc3U8k0z8s7scn/AVFXpUsBBfxNWcVTFSbtHQ7s/FjXdxK2mngHsY3/+Lq1bfFu9V1+16ZbyLnkwuVP4A5rzqit3g6D+yZ/WKnc920rxt4f15khE/k3D8LFONpJ9j0J/Gtae1ZPnTlB+lfOfevQfA/j6W1nh0vV5i9sxCRzyNzH6AnuCcDPvXFWwTguam7+R0UsQpO0lqehEBlIPIPaua1XTDat5sSnyj1/2T6V2N3bhP3iDg9apSos0bRvyrDBrmp1Lao6ZRucK3U0lWb61NrdvETwDwfUdqrV3J3VzmaswooopiCiiigAooooAKKKKACiiigAooooAKKKKACiiigAooooAKKKKACiiigAooooAKKKKACiiigAooooAKKKKACiiigAooooAKKKKACiiigAooooAKKKKACiiigAooooAKKKKACiiigAooooAKKKKACiiigAooooAKKKKACiiigAooooAKKKKACiiigAooooAKKKKACiiigAooooAKKKKACiiigAooooAKKKKACiiigAooooAKKKKACiiigAooooAKKKKACiiigAooooAKKKKACiiigAooooAKKKKACiiigAooooAKKKKACiiigAooooAKKKKACiiigAooooAKKKKACiiigAooooAKKKKACiiigAooooAKKKKACiiigAooooAUHHI61ftdYvLdgTIZAOzH+RrPopOKe402tju9M8QQ3eEZvmA5B6j/GtsEMAQcg8g15Wkjo4dGIZehHau08P6x9piEUmN4IB57+tcNahy+9E6adW+jOhooorlNjA1Y/a9Xt7Y5EcCmVsngk9P8+9S4/WqVjiW4vboNvEs7BSTnKg4FaMKeZKo966NlYxe43VdRh8P6BPfz8mNd2M/eY9B+deA317cajfzXly4eaZyzMOn4e2Olej/ABb1R1FjpasAjAzye5zhf615gOgr0cvpWh7TqzixdRuXL2Cp7OzuNQvIrS0iaWeVtqIvUmoK6TwVr9j4c1eW+vbeabMJjj8oAlSSMnkjsMfjXbUlKMW4q7OeCTkk9jpLb4Tutur6lrMNvI38CR7gD6ZJGfyrG8S/D3UfD9q15HMl5Zr990Xaye5Xnj3BNY/ibXJPEGu3F8Wk8pmxCjn7iDoMdB6/WvS/ADzSeALwamWNmDKIzL08rYM4/wBnO79a4pzr0oqpKV/Kx0xjSqNwireZ47R+v1oorvavoch7F8NvETappT6ZdkvPagBWY8vGeP04/MV0s0flTMnYdDXing7UX0zxbYSLIUSSQQy89VY4/ng/hXul+uJEb1GK8XE0/ZVtNmelh5uVPXoc5r9sJLVZx95DtP0Nc0Riu1u4/NtZYyOCp/OuKbIYg1pQd1ZinF7iUUUVuZmtoejDWJJlacxCMA8LnOa1T4StQSDqigjqNo/xpPBX+vvP91f5msW/srttRumW1mIMrkERnnk1zNylUcVK1jVJKKdrmhq/hxNN0/7Ul2ZRuAxsxkH3zUnh7R7PUNNuJrhGZ0cgEMRxgGr+sqyeDbVWBDBIgQRyDineDyF0m5JGQJSSP+Ais3Ul7Ju+ty1Fc9rHFqNzAepxXV/8IUP+giP+/P8A9lWXrOp2eoRwra2YgKEliFAz+VUv7K1H/nwuv+/Lf4VvJykk78pmrJ7XOh/4QokcagD/ANsf/sqw9FtIrzWILacExuW3AHHRSf6V0/hG1uLa2uRPBJEWcEB1K549657w3/yMVr9W/wDQTWcZytNN3sU4q8WluJ4gsYNP1QwW6lY9gOCc80ui6J/bHn/6SIfK2/wbs5z7j0q94psrubV2litppIxGuXVCR371gwWtxdFhbwSy7evloWx+VXBuVNWepMklPY6b/hCh/wBBEf8Afn/7Ks3WfD50i3jm+0iUO+3GzbjjPqao/wBlaj/z4XX/AH5b/Cun8XAjR7QEYIkH/oJqOacZxXNe5VouLdrFHRNHs73RLi5nRjKjMFIYjooIrmgCSABkntXaeGf+Rau/9+T/ANBFc/4dgW4122VhlVJf8hkfriqhNpzb6ClHSNupqWnhJRbCbULryC38AwNv1J71U1jw3JpsP2mGXzrfucYK/wCIqTxfdPLqi2+TsiQce55z/KtTwvIb7RLizmO5UJQZ/usOn86z56kYqo38iuWLfIkYfhvT7fUr+SK5UsixFgASOcgf1qlqtvHa6pcQRAiNHwoJzxWv4OBXV5weohI/8eWq2vadeDUry6+zv5G/O/HGK0U/3rTfQjl9y5i0UUV0GY+FVeaNHbarMAT6DNdR/wAI/of/AEFh/wB/krlKKznFy2diotLdHV/8I/of/QWH/f5Kkh8L6TcMVg1FpWAyQkiMQPwrkK6rwVFma7m7BVUfjk/0rGpGcIuXMaQcZO1jn9StUstRnto2LLG20E9a1tO8OQ31hFctqCxM+coVBxgkevtWPfzefqNzMOjysw+maSzs5r65SCBCzsfwA9T7Vq1LkWtiFbm2udMfBkaruOo4X1MQx/6FWTrOix6XFE8d4J97EEBQMfqa6/U9PF3oz2ELgyRou0E+nTP1wa88lhkglaKVGR1OCrDBFY0Jynq5fIupFR2R0S6PZnwn9vMbfaNhO7ccZ3Y6VzVdmn/Ihf8AbM/+h1xlaUW3zX7k1Ela3Y3dM0CPUNKkvGuGQoWG0LnOBmsKu48NxsfDMox98yY/LFcPRSm5Skn0CcUkjpNH0ezvNBuLuZGMyb9pDEdFyK5uuz8Pf8ird/WT/wBBFcaQR1FFKTcpJhNJJHUr4LdlB+3LyM/6r/69ZetaI2jiEmcSiXd0XGMY9/eq9vp9958TfY7jbuBz5TYxn6V2Ou3dnZ3NpJfW/nxFJFC7A2DlOcH8azc5xmle5XLFxbtYwLnRLWHw0moq8vnMqkgkbeTj0p+v6RZ2GmW09ujK7sAxLE/wk1ra3LDP4SMsEflxMEKJgDA3DsKg8Wf8gWz/AN9f/QTUwqSbV31ZUopJ+hxtFFFdpzgAScAZNbOkrpAt3/tOGZpd3y7Q3THtWdZXTWN5FcooZozkA9DXa2N/rl9Csq2drFG3KmVmGR9BWFaTS/4NjSmk2Yd8ugGylFnBOLjHyEh8Z/E1gBSHAYEc969AuJ9egjLpbWc2P4Y2bP64rFj0yXxI7ajLOlu+7YY9hONoHvWdOrZe9t63KnC70IvEukWemwQPbIyl2IOWJ7VlWOm3Ny8UwtJZrfeN5QdQDyK6Txr/AMetp/vt/KqPhpNTukeK3vTb2sZ5wgYkn0zThOXseZv7wlFc9i//AGbpP/QDv/8Ax7/4qsHU9KnS4mmt7CeG0XkbwflGOc8nvmujfUrGKQxPr9zvBwSI1xn/AL4qpryanb6eZk1E3FnKAGBRQcHpyByKinKakrvfvcqSi1/wxWl0ezTwmL8I32jYp3bjjJYDpXN13KWst74Ljt4F3SPGuATjowNcfe2Fxp84huUCOV3YBB4/D6VrQne6b1uRUjazSK1FFFdBkFFFFABRRRQAUUUUAFFFFABRRRQAUUUUAFFFFABRRRQAUUUUAFFFFABRRRQAUUUUAFFFFABRRRQAUUUUAFFFFABRRRQAUUUUAFFFFABRRRQAUUUUAFFFFABRRRQAUUUUAFFFFABRRRQAUUUUAFFFFABRRRQAUUUUAFFFFABRRRQAUUUUAFFFFABRRRQAUUUUAFFFFABRRRQAUUUUAFFFFABRRRQAUUUUAFFFFABRRRQAUUUUAFFFFABVmxumtLpJFGRnDD271Wo+lS1dDTsz0ywuRPFtyC6AZxnkHoefofyq3XE2WoJaLpl9IzAJJ9kkIGcq/HP0YIc+ma7avMqQ5WdsZXRzmh2sj6VE6KNpJ7+hIrWt7aWOXcwAGD3qv4bBTSFibho3dWHockkfrWsRxSqVHdhFdTxX4pOzeLwp6JbIF/Nj/WuKrv8A4sWxTXrO5/hmt9v4qx/+KFcBXu4Rp0Y2PJrq1RhRRXZ/DeHSbzW57HVLaCczRZg81c/MDyB7kZ/Ktak/ZwcrbEQjzSUSHwb4j0bQorldU0z7W8jqyOIkcoADn71d3rBPjrwtJJ4f1KSNEGJLMoF3kc7D3H5kGuD8UeC9V0/XLkWemzzWckheBreIuApOQvHTHTn0rtvh7pVz4Z0LUdQ1dTapJh9knBVEB5I7E56deK8/Eezsq8H72n9WOujz39lJaHjvQ4NFSXEgmuZZQMB3LY9Mmo69M4hVZkcOrEMMYI7e9fSlxE08MZUZYf4V87aTZDUtXs7LJBnmWPjsCRk/lk/hX0moFeVmUrOFvM78HqpGZ9im/uj8xXn03DlcYwf8/wAq9UchUZj0AzXlMnLk+tY4STbdzesrIbRRRXYcxoaXq9xpLyNAkbeYADvBPT6EV0w1DxMRn+zLf/P/AAKuJruP7P15UBbWI1GO6j/CuWuopp6fM2pt7FLUR4i1O1+zzafGqbg2UIzx9WqfRY77SdOuIZ9PnYsxbKMhAGMevtUv2LW/+g3D/wB8j/CtG0E9vp8q3t5HPJ8x3jAwMdKwlP3eVWt8zRR1vqecp/rF+orvfEWrXGlRQNbiMmRiDvGemK4FTh1J7Gu3vtV8O6iqLdTFwhJUbZBj8hXRXV5RbV1qZU3o9bGN/wAJhqX923/74P8AjVbw1/yMNr9W/wDQTWr5vhKPlYmc/Rz/ADNSWd9pVxrNjFp9qYmV2LMUAyNjcZzmpbSi1GLWg7O6uyTX9fubC9ezjiiZGjGSwOefxqHwT0vv+2f/ALNWf4t/5Dh/65r/AFqXwvqlnpv2oXcvl+Zs2/KTnGc9B70uT9x7q1dh837zUWfxZqMdxLGqwYVyBlD2P1rO1LXLvVIUiuBGFVtw2Ljmtt38JO7O2WZiSf8AW9ab9s8LQfctGk/4AT/6EacXFaqDv6Cab3kWfDP/ACLV3/vyf+gisPwu4TX4Af4gy/oa6TR5YZ9H1CW3j8uFpJCiYAwNg7CuHgme3njmjOHjYMp9xRTXNzruEnblZseLI2TXXYjiRFYflj+la3g1PLsLqduELgZ+g5/nTnvdE1+2jN5IIJk7M20j1wehFV9U1mxs9LOm6WQ25SpZeig9ee5NS3KUFStqVopOdyv4PbdrNw3rCT/48KTXtdvDc3mn4j8jdt+7zj65o8Gf8hWb/rgf/QlrN13/AJDl5/10NWop1nfsRdqnoZ1FFFdRka2i3+nWQmF/afaC+3Z+7VtuM56/hWt/bvh//oEj/vxH/jXJ11niextbbSraSC3ijdnALIoBPymuepGPOr31NYt8rt0NSy/si+0+S9j02FY03ZDQpngZqjB4p0i2UrBYyxKeSEjRc/karaLqdlbeHri3mnVJm34Ug85HFctWcKKk5KV7FSqWSaNzV9T0q8s1jsrHyJQ4JbylXjB4yDV208QRQ2cdtpmm4u3HzKoyMjv6tXLVreGf+Rhtf+B/+gGtZ04qHoRGbciI3+p2GpNcSPJHcty4kGNw9CPSp9W15tVtoo2tY43U5ZxyT9PQV0GsWuhy35a/uWjn2jKg447dqofYfC//AD+v/wB9H/Cs1Ug7ScXf0KcZK6uKt6B4N+z+RcZ2EeZ5Z2fe9a5eON5pVjjUs7kBQO5rur5LaPwhKlm5e3CfIxPX5v8AGs3w8dJsbJ9QlnDXCjBVhgp7KO+fX+XNFOpyxlJLqOUbtJvodFYxw6ZaWlizqJGBCj+83Vq4TWtOfTdSkj24iYloz2K//W6Ualq9xqGoC6yY/LP7pQfuD/Gt3+29N1bSHTVF2zRjPyjkn1X39qUITpPm3vuEpRmrdiz4Xl8nw7PLjOx3bGeuFBrA1rXf7YSFfs3k+WSfv7s5x7D0rc8P4/4Ra8xnGZMZ/wB0VxdVSgnUlJ7pinJqKR6BruqT6VY28tusZZ22neCeMfWsCHWrfVbxf7bWMQRxts2Kw+Ykehz0BrVuda0C+gjjuy0gTkDawwce1UnvfDESN5Vmztjj5CefxNZU42jZxd+5cnd7qxo639n/AOESP2T/AI98J5fXpuHrzVfxZ/yBbP8A31/9BNF9/wAiLF/uR/8AoQo8Wf8AIFs/99f/AEE0qatKK82Etn6I42iiivQOYchVZFLDKggkeorvNZgudX02BtLnHlk5Kq23cO35elcDW/4asZb5rjy72e28vaf3RxnOev5VhXjtO+xpTf2e5r+HtM1LT5pZL2XZBs+4ZN3Pr6DvVRtM07V725vBfpCGlIC8c4A55Pc5rC1G7vDczW013NKkcjLh3ODg46VSU4YH3qVSk25X1fYbmtrHY+Nf+PW0/wB9v5VnaKNZ03MkFi8sEwDFT39CD2o8R61a6rBAluJMoxJ3rjtUOnarrd1LFZ2lx0UBQUXCqPU4qYQkqVmvvHKS57nTx6faXNq15NpCJcEMxhOMkj9Of61l6nHrmrQrbppwt7cEHb5i5OOnfp+FXnFzaKP7Q8QLG5GdqxoP5jJ/KoGmtZ/lXxLKpPclVH8hWMbp33+80dmrf5Eryz2Hg0PE+yaJAMjnB3gGuMu7y4vpRLcyGRwNuSAOK6nWYtQtNBNuphuLTA3TDIcc5yecfjXH10YdKzl5mVVvRBRRRXSZBRRRQAUUUUAFFFFABRRRQAUUUUAFFFFABRRRQAUUUUAFFFFABRRRQAUUUUAFFFFABRRRQAUUUUAFFFFABRRRQAUUUUAFFFFABRRRQAUUUUAFFFFABRRRQAUUUUAFFFFABRRRQAUUUUAFFFFABRRRQAUUUUAFFFFABRRRQAUUUUAFFFFABRRRQAUUUUAFFFFABRRRQAUUUUAFFFFABRRRQAUUUUAFFFFABRRRQAUUUUAFFFFABRRRQAUA4I+tFA60nsC3LF5I0fhOdgxUpMpRh1B4wfzrtP8AhIo/+eUv/fpq4nXCsHhOGM9Z5gw+gGf6Cum8qX/n/n/NP8a5KsU0m/P9DeLabSNTSj9m1XUbIsCN/np7ButbI6ViatustQtdTH+qT91NgdFPc+1bSEFAQRg8gg5zXHPXU6F2OS+IuhNrXhxnhi33VoTLHjrj+ID8Bn6gV4YDkA5B+nSvqB1DcEZFeK+P/CEuj6hJqNnFnT5n3EKOIWPUH0BPT8q9HL8Ql+7k/Q4sXS+2jiqdHI8MiyROySIQyspwQR3BptFescB2dp8T/EVrAI3a1uSBgPNEd3/jpFZOueL9Z8QJ5V7c4gBz5MS7Uz7+v45rCorKNClF8yirlurNqzYUUVpaFod3r+qR2NoCCTl5CMiNR1J/z1rSUlFczISbdkdb8LdD+16tJq80beVbArETwDIe49cAn9K9hNUdG0q20bSoLC1QLHEuP949yfc1exXzuIre1qOR7FGn7ONjP1m4FrpVxJnB2FR9TXnDda6jxfqAd47JGBCYd/r2H9a5XOa68LDlhfuZVmmwooorpMQrub7UtB1O1SC5uztVg/yqwOcEenvXDUVlUpqbTvsXGfKdR9l8K/8AP3J/49/hR9l8K/8AP3J/49/hXL0UvZP+Zj5/JD5QglcRnKbjtPt2plFFamYVo6FcRWutW807hI13ZY9vlIrOopSXMmhp2dzX8SXUF5qxlt5BJH5ajcPWsiiiiMeVJIG7u4UUUVQjqdB1KztdBuIJ51SVmchTnnKgCuWooqIwUW2upTldJBRRRVkm54XvLey1GWS5lWNDEVBPrkVQ1eaO41a5liYNGzkqw71SoqFBKfOVze7YKKKKskK7a41rQb62jiuyzqmDgowwcY7VxNFZ1Kana/QqM3E6zzvCf/PE/k/+NHneE/8Anifyf/GuToqPYf3n95XtPJFzU2s21CQ2C4tuNo59Bnr75qTQ7qGz1m3uJ32RJu3NgnGVI7fWs+iteW8eUi+tzsr248M6hcGe4uGMhAGQHHT8KreV4S/57v8A+RP8K5aislQsrKTLdS/RHX3+qaQnh+Wwsrgt8uEUq397PUiuQooq6dNQVkTKTkFFFFaEnU6JqVnbeHbm3mnVJWL7VOcnKjFctRRURgottdSnK6SCiiirJN2412Cbw6mmiKQSKqjccY4Oat+I9Ss7zSrWK3nWR0cFlGePlNcvRWXsYppovndrBRRRWpAVv+GdVtdMa5+1OyiQLtwpPTP+NYFFROCnHlY4ycXdHXSXXhWWV5HjYu5LMcPyTTfO8J/88T+T/wCNcnRWfsF/M/vL9p5I3NXk0JrMDTYys+8ZOG6c56/hVTRdT/srUBOyF0ZSjgdcHHT8qzqKtU1y8r1J5ne51t7FoetT/ahqXkSsAGD8Dj2P+NVxoWjpzJrcTL6KVz/M1zVFSqTSspOxTmnq0dXqeuWMGk/2bp5aUFPL3noB369TXKUUVcKagrImUnLcKKKKskKKKKACiiigAooooAKKKKACiiigAooooAKKKKACiiigAooooAKKKKACiiigAooooAKKKKACiiigAooooAKKKKACiiigAooooAKKKKACiiigAooooAKKKKACiiigAooooAKKKKACiiigAooooAKKKKACiiigAooooAKKKKACiiigAooooAKKKKACiiigAooooAKKKKACiiigAooooAKKKKACiiigAooooAKKKKACiiigAooooAKKKKACpbaBri4SJASWPOOw7mogVxz1PAq9PdLoOmmd8G8mBESZ6D1/z9KlvotxpdWZniKUajr9tpdu4VInWEAdmJAP8/1r1f7ND/c/U15v4A0Z73VJNVuYw0MP3C4zulPcfTn8x6cem1x4qSuoLodNFaOT6kdxBHdW8kEy7o5FKsPUVmaRcyW0zaVdn99FzExP+sj7GteqGp6d9tRZIn8q6iO6KUDofQ+1cqelmatdTR6mopraO4ieKZFkjcYZWGQR9Ko6ZqouWe2ugIbyPh42I59x6itTIqWrMNGjyvxL8LSC9zobjGMm1kP6Kf6H868/vNG1PTiVu7C5gx3eMgfn0/WvpJvpmgKMdK7aWPqQVpK5zVMJGWq0PmDvjIJqW3tri7kCW0EszZxiJC38hX0i+mWEr75LK3dvVolJ/lVhY0RcIoUDoAMVu807RMlgu7PFNC+HGr6nIHvVNhbg9ZAN7D2Xt+Nes6J4fsPD9oLawiCL1Zjyzn1J/wAgVp4GKXIHeuKtiqlb4tjpp0IU9gqlqeoxadZtNIcnoq92NSXt9BYwGWdwF7AdT9BXnl54n06/vHkv3myh2okS5Cj69zU0aLm/IqpNRViC5nkuJnllbdI5yx96hqb+2PDv/T16fd/+vR/a/hzn/j74/wBn/wCvXpq6Vkmcu+tyGipv7X8Of9Pf/fP/ANej+1/Dn/T3/wB8/wD16Lv+VhykNFTf2v4c4/4++f8AZ/8Ar0f2v4c/6e/++f8A69F3/Kw5fMhoqb+1/Dn/AE9/98//AF6P7X8Oc/8AH3x1+X/69F3/ACsOUhoqb+1/Dn/T3/3z/wDXo/tfw5/09/8AfP8A9ei7/lYcpDRU39r+HeP+Pvn/AGf/AK9H9r+HP+nv/vn/AOvRd/ysOXzIaKm/tfw5/wBPf/fP/wBej+1/Dn/T3/3z/wDXou/5WHKQ0VN/a/hzn/j74/2f/r0f2v4c/wCnv/vn/wCvRd/ysOUhoqb+1/Dn/T3/AN8//Xo/tfw5x/x98/7P/wBei7/lYcvmQ0VN/a/hz/p7/wC+f/r0f2v4c/6e/wDvn/69F3/Kw5SGipv7X8Oc/wDH3x1+X/69H9r+HP8Ap7/75/8Ar0Xf8rDlIaKm/tfw5/09/wDfP/16P7X8O8f8ffP+z/8AXou/5WHKQ0VN/a/hz/p7/wC+f/r0f2v4c/6e/wDvn/69F3/Kw5SGipv7X8Of9Pf/AHz/APXo/tfw5z/x98f7P/16Lv8AlYcpDRU39r+HP+nv/vn/AOvR/a/hz/p7/wC+f/r0Xf8AKw5SGipv7X8Ocf8AH3z/ALP/ANej+1/Dn/T3/wB8/wD16Lv+Vhy+ZDRU39r+HP8Ap7/75/8Ar0f2v4c5/wCPvjr8v/16Lv8AlYcpDRU39r+HP+nv/vn/AOvR/a/hz/p7/wC+f/r0Xf8AKw5SGipv7X8O8f8AH3z/ALP/ANej+1/Dn/T3/wB8/wD16Lv+Vhy+ZDRU39r+HP8Ap7/75/8Ar0f2v4c/6e/++f8A69F3/Kw5SGipv7X8Oc/8ffH+z/8AXo/tfw5/09/98/8A16Lv+VhykNFTf2v4c/6e/wDvn/69H9r+HOP+Pvnp8v8A9ei7/lYcvmQ0VN/a/hz/AKe/++f/AK9H9r+HP+nv/vn/AOvRd/ysOUhoqb+1/DnP/H3x1+X/AOvR/a/hz/p7/wC+f/r0Xf8AKw5SGipv7X8Of9Pf/fP/ANej+1/Dv/T3/wB8/wD16Lv+VhykNFTf2v4c/wCnv/vn/wCvR/a/hz/p7/75/wDr0Xf8rDlIaKm/tfw5/wBPf/fP/wBej+1/DnP/AB98dfl/+vRd/wArDlIaKm/tfw5/09/98/8A16P7X8Of9Pf/AHz/APXou/5WHKQ0VN/a/hzj/j756fL/APXo/tfw5/09/wDfP/16Lv8AlYcvmQ0VN/a/hz/p7/75/wDr0f2v4c5/4++Ovy//AF6Lv+VhykNFTf2v4c/6e/8Avn/69H9r+HP+nv8A75/+vRd/ysOUhoqb+1/Dv/T3/wB8/wD16P7X8Of9Pf8A3z/9ei7/AJWHL5kNFTf2v4c/6e/++f8A69H9r+HP+nv/AL5/+vRd/wArDlIaKm/tfw5z/wAffHX5f/r0f2v4c/6e/wDvn/69F3/Kw5SGipv7X8Of9Pf/AHz/APXo/tfw5x/x989Pl/8Ar0Xf8rDl8yGipv7X8Of9Pf8A3z/9ej+1/Dn/AE9/98//AF6Lv+VhykNFTf2v4c5/4++Ovy//AF6P7X8Of9Pf/fP/ANei7/lYcpDRU39r+HP+nv8A75/+vR/a/h3/AKe/++f/AK9F3/Kw5SGipv7X8Of9Pf8A3z/9ej+1/Dn/AE9/98//AF6Lv+VhykNFTf2v4c/6e/8Avn/69H9r+HOf+Pvjr8v/ANei7/lYcpDRU39r+HP+nv8A75/+vR/a/hz/AKe/++f/AK9F3/Kw5SGipv7X8Ocf8ffPT5f/AK9H9r+HP+nv/vn/AOvRd/ysOXzIaKm/tfw5/wBPf/fP/wBej+1/DnP/AB98dfl/+vRd/wArDlIaKm/tfw5/09/98/8A16P7X8Of9Pf/AHz/APXou/5WHKQ0VN/a/h3/AKe/++f/AK9H9r+HP+nv/vn/AOvRd/ysOXzIaKm/tfw5/wBPf/fP/wBej+1/Dn/T3/3z/wDXou/5WHKQ0VN/a/hzn/j746/L/wDXo/tfw5/09/8AfP8A9ei7/lYcpDRU39r+HP8Ap7/75/8Ar0f2v4c4/wCPvnp8v/16Lv8AlYcvmQ0VN/a/hz/p7/75/wDr0f2v4c/6e/8Avn/69F3/ACsOUhoqb+1/Dgz/AMffH+z/APXo/tfw5/09/wDfP/16Lv8AlYcpDRU39r+HP+nv/vn/AOvR/a/h3/p7/wC+f/r0Xf8AKw5SGipv7Y8Ocf8AH1z0+X/69H9r+HP+nv8A75/+vRd/ysOUhoqb+1/Dn/T3/wB8/wD16P7X8Oc/8ffHX5f/AK9F3/Kw5SGipv7X8Of9Pf8A3z/9ej+1/Dv/AE9/98//AF6Lv+VhykNFTf2v4c4/4++eny//AF6P7X8Of9Pf/fP/ANei7/lYcpDRU39r+HP+nv8A75/+vR/a/hwZ/wCPvj/Z/wDr0Xf8rDlIaKm/tfw5/wBPf/fP/wBej+1/Dn/T3/3z/wDXou/5WHKQ0VN/a/h3/p7/AO+f/r0f2x4c4/4+ueny/wD16Lv+VhykNFTf2v4c/wCnv/vn/wCvR/a/hz/p7/75/wDr0Xf8rDlIaKm/tfw5z/x98dfl/wDr0f2v4c/6e/8Avn/69F3/ACsOUhoqb+1/Dv8A09/98/8A16P7X8Ocf8ffPT5f/r0Xf8rDlIaKm/tfw5/09/8AfP8A9ej+1/Dn/T3/AN8//Xou/wCVhykNFTf2v4cGf+Pvj/Z/+vR/a/hz/p7/AO+f/r0Xf8rDlIaKm/tfw5/09/8AfP8A9ej+1/Dv/T3/AN8//Xou/wCVhykNFTf2x4c4/wCPrnp8v/16P7X8Of8AT3/3z/8AXou/5WHKQ0VN/a/hz/p7/wC+f/r0f2v4c5/4++Ovy/8A16Lv+VhykNFTf2v4c/6e/wDvn/69H9r+Hf8Ap7/75/8Ar0Xf8rDlIaKm/tfw5x/x989Pl/8Ar0f2v4c/6e/++f8A69F3/Kw5SGipv7X8Of8AT3/3z/8AXo/tfw4M/wDH3x/s/wD16Lv+VhykNFTf2v4c/wCnv/vn/wCvR/a/hz/p7/75/wDr0Xf8rDlIaKm/tfw7/wBPf/fP/wBej+2PDnH/AB9c9Pl/+vRd/wArDlIaKm/tfw5/09/98/8A16P7X8Of9Pf/AHz/APXou/5WHKQ0VN/a/hzn/j746/L/APXo/tjw6OcXR+q//XovL+VisurIRUsNtNcNtijZ/oOKSTxHo8IBttPllbtvYDP6mqM/iXVdRJt7GExADJjtkJYj69adptbWH7psz3FhoKb7iRbi8x8sKHgH39PxrFsbDU/GOsFmyI8/vJiPkiUdh7+g/GtHRfAF/ezRz6kPs9qTueMt+8cEZ6c4/HBr0fT9OtNLtRbWUIhiBLbQSck9yTya56leNO/Jq+5rGm5/FohdPsYdNsILK3BEUKhVz1Pufc9as0UV57dzpCiiigCpfadBfp84Kyr9yVOGU9uaoJe3+lqE1GJpoRx9oh+bt/EOv41tUU0+jFYhgvba6UNBNHICM/KwJqyORWXcaJYTtvEPky9pYTsYfl9Kieyv7Vd8Wqyuq4G2aMNn8Rijli9mLVGzQelYoudR4/0iA49YTz/49SJDqd05zqfloOqxwAZ59c0uXzGma7ypEu6R1VfVjgVky62LiT7PpkRuZT1fH7tPqacug2zsXu5Zrtjg/vX4H4DFaccaRIEjRUQdFUYAp2ivMDKi0NLhTJqpF3O3UEnYo9AOP1qMeEdBEZT+zY8Ft/3mznOeuf0rbop88lswcU90Yx8J6C27Omw/MwY4yOR6c8D2HFI3hLQXDA6bF8y7Tgkce2Dwfcc1tUUe0n3Fyx7GN/wimhby/wDZsOSu09cY+mcfjSL4S0FQmNNhO1SoySeD688n3PNbVFHtJ9w5Y9jGHhPQVCD+zYfkORkk5+vPP40g8I6CAo/s2P5WLD5m6n8eR7dK2qKPaT7hyx7GKfCWgnfnTYvnYMeT19ueB7DilPhPQjv/AOJbD8/XGRj6c8fhWzRR7SfcOWPYxW8JaC2/OmxfOoU4LDgenPB9xzS/8IpoW5W/s2HKqVHXGD7Z6+/atmij2k+4csexjL4T0FSmNNh+QYGcn8+efxpB4S0EFCNNi+Riw5PX355HseK2qKPaT7hyx7GL/wAIjoOzZ/ZsWN277zZznPXOce3TtSnwnoLbs6bD8zBjjI5HpzwPYcVs0Ue0n3Dlj2MVvCWguGB02L5l2nBI49sHg+45pf8AhFNC3l/7NhyV2nrjH0zj8a2aKPaT7hyx7GKvhLQVCY02E7VKjJJ4Przyfc80o8J6CoQf2bD8hyMknP155/Gtmij2k+4csexijwjoICj+zY/lYsPmbqfx5Ht0oPhLQTvzpsXzsGPJ6+3PA9hxW1RR7SfcOWPYxj4T0I7/APiWw/P1xkY+nPH4UjeEtBbfnTYvnUKcFhwPTng+45raoo9pPuHLHsY3/CKaFuVv7NhyqlR1xg+2evv2oXwnoKlMabD8gwM5P588/jWzRR7SfcOWPYxR4S0EFCNNi+Riw5PX355HseKP+ER0HZs/s2LG7d95s5znrnOPbp2raoo9pPuHLHsYx8J6C27Omw/MwY4yOR6c8D2HFI3hLQXDA6bF8y7Tgkce2Dwfcc1tUUe0n3Dlj2Mb/hFNC3l/7NhyV2nrjH0zj8aRfCWgqExpsJ2qVGSTwfXnk+55raoo9pPuHLHsYw8J6CoQf2bD8hyMknP155/GkHhHQQFH9mx/KxYfM3U/jyPbpW1RR7SfcOWPYxT4S0E786bF87BjyevtzwPYcUp8J6Ed/wDxLYfn64yMfTnj8K2aKPaT7hyx7GK3hLQW3502L51CnBYcD054PuOaX/hFNC3K39mw5VSo64wfbPX37Vs0Ue0n3Dlj2MZfCegqUxpsPyDAzk/nzz+NIPCWggoRpsXyMWHJ6+/PI9jxW1RR7SfcOWPYxf8AhEdB2bP7Nixu3febOc565zj26dqU+E9BbdnTYfmYMcZHI9OeB7Ditmij2k+4csexit4S0FwwOmxfMu04JHHtg8H3HNL/AMIpoW8v/ZsOSu09cY+mcfjWzRR7SfcOWPYxV8JaCoTGmwnapUZJPB9eeT7nmlHhPQRs/wCJbD8nTJJz9eefxrZoo9pPuHLHsYq+EtBXZjTYvlYsMknk+vPI9jxR/wAIjoOGH9mxfMwY8t1HpzwPatqij2k+4csexjN4T0Jg+dNh+c5OMjH054/CkbwloLb86bF86hTgsOB6c8H3HNbVFHtJ9w5Y9jG/4RTQt4f+zYchdvfGPpnGfehfCegrtxpkPyrtGcnj355Puea2aKPaT7hyx7GKPCWggoRpsXyMWHJ6+/PI9jxSf8IjoOwJ/ZsWA277zZznPXOce3Stuij2k+4csexjHwnoLbs6bD8zBjjI5HpzwPYcUjeEtBffnTYvnGDgkY+mDx9RW1RR7SfcOWPYxv8AhFNC3M39mw5ZQp64wPbPB96RfCWgqExpsJ2qVGSTwfXnk+55raoo9pPuHLHsYw8J6CNn/Eth+Tpkk5+vPP40i+EtBXZjTYvlYsMknk+vPI9jxW1RR7SfcOWPYxf+ER0HDD+zYvmYMeW6j054HtSt4T0Jg+dNh+c5OMjH054/Ctmij2k+4csexit4S0Ft+dNi+dQpwWHA9OeD7jml/wCEU0LeH/s2HIXb3xj6Zxn3rZoo9pPuHLHsYy+E9BXbjTIflXaM5PHvzyfc80g8JaCChGmxfIxYcnr788j2PFbVFHtJ9w5Y9jE/4RHQdgT+zYsBt33mznOeuc49ulOPhPQW3Z02H5mDHGRyPTngew4rZoo9pPuHLHsYreEtBffnTYvnGDgkY+mDx9RS/wDCKaFuZv7NhyyhT1xge2eD71s0Ue0n3Dlj2MVfCWgqExpsJ2qVGSTwfXnk+55pR4T0EbP+JbD8nTJJz9eefxrZoo9pPuHLHsYq+EtBXZjTYvlYsMknk+vPI9jxR/wiOg4Yf2bF8zBjy3UenPA9q2qKPaT7hyx7GM3hPQmD502H5zk4yMfTnj8KRvCWgtvzpsXzqFOCw4Hpzwfcc1tUUe0n3Dlj2Mb/AIRTQt4f+zYchdvfGPpnGfehfCegrtxpkPyrtGcnj355Puea2aKPaT7hyx7GKPCWggoRpsXyMWHJ6+/PI9jxSf8ACI6DsCf2bFgNu+82c5z1znHt0rboo9pPuHLHsYx8J6C27Omw/MwY4yOR6c8D2HFI3hLQX3502L5xg4JGPpg8fUVtUUe0n3Dlj2Mb/hFNC3M39mw5ZQp64wPbPB96RfCWgqExpsJ2qVGSTwfXnk+55raoo9pPuHLHsYw8J6CNn/Eth+Tpkk5+vPP40i+EtBXZjTYvlYsMknk+vPI9jxW1RR7SfcOWPYxf+ER0HDD+zYvmYMeW6j054HtSt4T0Jg+dNh+c5OMjH054/Ctmij2k+4csexit4S0Ft+dNi+dQpwWHA9OeD7jml/4RTQt4f+zYchdvfGPpnGfetmij2k+4csexjL4T0FduNMh+Vdozk8e/PJ9zzSDwloIKEabF8jFhyevvzyPY8VtUUe0n3Dlj2MT/AIRHQdgT+zYsBt33mznOeuc49ulOPhPQW3Z02H5mDHGRyPTngew4rZoo9pPuHLHsYreEtBffnTYvnGDgkY+mDx9RS/8ACKaFuZv7NhyyhT1xge2eD71s0Ue0n3Dlj2MVfCWgqExpsJ2qVGSTwfXnk+55pR4T0EbP+JbD8nTJJz9eefxrZoo9pPuHLHsYq+EtBXZjTYvlYsMknk+vPI9jxR/wiWg7Cv8AZsWCd3U5znPXP6VtUUe0n3Dlj2MVvCWgtuzpsXzMGOCRyPTnge3ShvCWgtvzpsXzqFOCw4Hpzwfcc1tUUe0n3Dlj2Mb/AIRTQt+/+zIc4298flnr70L4T0FduNMh+Vdozk8e/PJ9zzWzRR7SfcOWPYxV8JaCojA02L92crksc8Y555/HNH/CI6CFC/2bFgMWHLdT+PT26Ctqij2k+4csexjHwnoLbs6bD8zBjjI5HpzwPYcUh8I6CwkB02L951wWGPpz8vTtitqij2k+4csexjN4T0Fi5Omw/OoU4JHHtzwfcc0f8IpoWVP9mQ/KCo69/wAeT71s0Ue0n3Dlj2MUeEtBVkI02LKDAySc/Xnk8dTQvhLQV2Y02L5WLDJJ5PrzyPY8VtUUe0n3Dlj2MX/hEtB2Ff7NiwTu6nOc565/ShvCWgtuzpsXzMGOCRyPTnge3Stqij2k+4csexit4S0Ft+dNi+dQpwWHA9OeD7jml/4RTQt+/wDsyHONvfH5Z6+9bNFHtJ9w5Y9jGXwnoK7caZD8q7RnJ49+eT7nmkXwloKiMDTYv3ZyuSxzxjnnn8c1tUUe0n3Dlj2MX/hEdBChf7NiwGLDlup/Hp7dBSnwnoLbs6bD8zBjjI5HpzwPYcVs0Ue0n3Dlj2MU+EdBYSA6bF+864LDH05+Xp2xSt4T0Fi5Omw/OoU4JHHtzwfcc1s0Ue0n3Dlj2Mb/AIRTQsqf7Mh+UFR17/jyfekHhLQVZCNNiygwMknP155PHU1tUUe0n3Dlj2MVfCWgrsxpsXysWGSTyfXnkex4o/4RLQdhX+zYsE7upznOeuf0raoo9pPuHLHsYreEtBbdnTYvmYMcEjkenPA9ulDeEtBbfnTYvnUKcFhwPTng+45raoo9pPuHLHsY3/CKaFv3/wBmQ5xt74/LPX3oXwnoK7caZD8q7RnJ49+eT7nmtmij2k+4csexir4S0FRGBpsX7s5XJY54xzzz+OaP+ER0EKF/s2LAYsOW6n8ent0FbVFHtJ9w5Y9jGPhPQW3Z02H5mDHGRyPTngew4pD4R0FhIDpsX7zrgsMfTn5enbFbVFHtJ9w5Y9jGbwnoLFydNh+dQpwSOPbng+45o/4RTQsqf7Mh+UFR17/jyfetmij2k+4csexijwloKshGmxZQYGSTn688njqaF8JaCuzGmxfKxYZJPJ9eeR7Hitqij2k+4csexi/8IloOwr/ZsWCd3U5znPXP6UN4S0Ft2dNi+ZgxwSOR6c8D26VtUUe0n3Dlj2MVvCWgtvzpsXzqFOCw4Hpzwfcc0v8Awimhb9/9mQ5xt74/LPX3rZoo9pPuHLHsYy+E9BXbjTIflXaM5PHvzyfc80i+EtBURgabF+7OVyWOeMc88/jmtqij2k+4csexi/8ACI6CFC/2bFgMWHLdT+PT26ClPhPQW3Z02H5mDHGRyPTngew4rZoo9pPuHLHsYp8I6CwkB02L951wWGPpz8vTtilbwnoLFydNh+dQpwSOPbng+45rZoo9pPuHLHsZKeGNEQADS7YgdmTd/OtC2s7WyjMdpbQwITkrEgUE/QVNRScm92NJLYKKKKQwooooA//Z\" />"
            ]
          },
          "metadata": {}
        }
      ],
      "execution_count": 29
    },
    {
      "cell_type": "code",
      "id": "bc3902c5deb454",
      "metadata": {
        "id": "bc3902c5deb454",
        "jupyter": {
          "is_executing": true
        },
        "colab": {
          "base_uri": "https://localhost:8080/",
          "height": 107
        },
        "outputId": "6a1c4110-ab18-4733-96fa-7cc09681ba65"
      },
      "source": [
        "docs_by_type[\"texts\"][0]"
      ],
      "outputs": [
        {
          "output_type": "execute_result",
          "data": {
            "text/plain": [
              "'42주차 (10.13.~10.19.) 3 말라리아 군집사례 현황 - (누적) 4개 시도(경기, 서울, 인천, 강원), 총 46건의 군집사례* 확인 * 군집사례 : 위험지역 내에서 2명 이상의 환자가 증상 발생 간격이 14일 이내, 환자 거주지 거리가 1Km 이내인 경우 표6 군집사례 발생 현황 사례건수(환자수) 시·도 시군구 발생(군집사례건수) 4개 시도 46건(114명) 합계 ▸5명 군집(1) : 양천구, 강서구(1) 1건(5명) 서울 ▸2명 군집(5) : 서구(2), 강화군(1), 연수구(1), 중구(1) 인천 5건(10명) ▸6명 군집(1) : 파주시(1) ▸4명 군집(3) : 파주시(2), 김포시(1), ▸3명 군집(6) : 파주시(4), 김포시(1), 일산서구(1) 경기 39건(94명) ▸2명 군집(29) : 파주시(15), 김포시(10), 일산동구(2), 일산서구(1), 연천군(1) ▸5명 군집(1) : 철원군(1) 1건(5명) 강원 그림 6. 군집사례 6'"
            ],
            "application/vnd.google.colaboratory.intrinsic+json": {
              "type": "string"
            }
          },
          "metadata": {},
          "execution_count": 30
        }
      ],
      "execution_count": 30
    },
    {
      "cell_type": "code",
      "id": "22a920703df7e17",
      "metadata": {
        "id": "22a920703df7e17",
        "jupyter": {
          "is_executing": true
        }
      },
      "source": [
        "from operator import itemgetter\n",
        "from langchain.schema.runnable import RunnablePassthrough, RunnableLambda\n",
        "\n",
        "def prompt_func(dict):\n",
        "    format_texts = \"\\n\".join(dict[\"context\"][\"texts\"])\n",
        "    text = f\"\"\"\n",
        "    다음 문맥에만 기반하여 질문에 답하세요. 문맥에는 텍스트, 표, 그리고 아래 이미지가 포함될 수 있습니다:\n",
        "    질문: {dict[\"question\"]}\n",
        "\n",
        "    텍스트와 표:\n",
        "    {format_texts}\n",
        "    \"\"\"\n",
        "\n",
        "    prompt = [\n",
        "        HumanMessage(\n",
        "            content=[\n",
        "                {\"type\": \"text\", \"text\": text},\n",
        "                {\"type\": \"image_url\", \"image_url\": {\"url\": f\"data:image/jpeg;base64,{dict['context']['images'][0]}\"}},\n",
        "            ]\n",
        "        )\n",
        "    ]\n",
        "\n",
        "    return prompt\n",
        "\n",
        "\n",
        "model = ChatOpenAI(temperature=0, model=\"gpt-4o\", max_tokens=1024)\n",
        "\n",
        "# RAG 파이프라인\n",
        "chain = (\n",
        "        {\"context\": retriever | RunnableLambda(split_image_text_types), \"question\": RunnablePassthrough()}\n",
        "        | RunnableLambda(prompt_func)\n",
        "        | model\n",
        "        | StrOutputParser()\n",
        ")"
      ],
      "outputs": [],
      "execution_count": 31
    },
    {
      "cell_type": "code",
      "id": "c754bf8ca75dcc81",
      "metadata": {
        "id": "c754bf8ca75dcc81",
        "jupyter": {
          "is_executing": true
        },
        "colab": {
          "base_uri": "https://localhost:8080/",
          "height": 72
        },
        "outputId": "09f966e6-3fec-4638-ef81-1592707708fa"
      },
      "source": [
        "chain.invoke(\n",
        "    \"말라리아 군집 사례는 어떤가요?\"\n",
        ")"
      ],
      "outputs": [
        {
          "output_type": "execute_result",
          "data": {
            "text/plain": [
              "'42주차(10.13.~10.19.) 동안 말라리아 군집 사례는 총 4개 시도(경기, 서울, 인천, 강원)에서 46건이 확인되었습니다. 총 환자 수는 114명입니다. 군집 사례는 위험 지역 내에서 2명 이상의 환자가 증상 발생 간격이 14일 이내이고, 환자 거주지 거리가 1Km 이내인 경우를 말합니다.\\n\\n- 서울: 1건(5명)\\n- 인천: 5건(10명)\\n- 경기: 39건(94명)\\n- 강원: 1건(5명)'"
            ],
            "application/vnd.google.colaboratory.intrinsic+json": {
              "type": "string"
            }
          },
          "metadata": {},
          "execution_count": 32
        }
      ],
      "execution_count": 32
    },
    {
      "cell_type": "code",
      "id": "7d1f6ca58dfe3e72",
      "metadata": {
        "id": "7d1f6ca58dfe3e72",
        "jupyter": {
          "is_executing": true
        }
      },
      "source": [],
      "outputs": [],
      "execution_count": 32
    }
  ],
  "metadata": {
    "colab": {
      "provenance": []
    },
    "kernelspec": {
      "display_name": "Python 3",
      "language": "python",
      "name": "python3"
    },
    "language_info": {
      "codemirror_mode": {
        "name": "ipython",
        "version": 2
      },
      "file_extension": ".py",
      "mimetype": "text/x-python",
      "name": "python",
      "nbconvert_exporter": "python",
      "pygments_lexer": "ipython2",
      "version": "2.7.6"
    },
    "widgets": {
      "application/vnd.jupyter.widget-state+json": {
        "a51eab9064a34c0fa33c67c770fcd771": {
          "model_module": "@jupyter-widgets/controls",
          "model_name": "HBoxModel",
          "model_module_version": "1.5.0",
          "state": {
            "_dom_classes": [],
            "_model_module": "@jupyter-widgets/controls",
            "_model_module_version": "1.5.0",
            "_model_name": "HBoxModel",
            "_view_count": null,
            "_view_module": "@jupyter-widgets/controls",
            "_view_module_version": "1.5.0",
            "_view_name": "HBoxView",
            "box_style": "",
            "children": [
              "IPY_MODEL_71bc03b88b6f449696475e6e420e7d11",
              "IPY_MODEL_357fe69710804ec993030088f0654bf6",
              "IPY_MODEL_5b66d9b90dfc4638a949bf4203d3938f"
            ],
            "layout": "IPY_MODEL_a1bc1b0c9a5149029001232d2bc1ff76"
          }
        },
        "71bc03b88b6f449696475e6e420e7d11": {
          "model_module": "@jupyter-widgets/controls",
          "model_name": "HTMLModel",
          "model_module_version": "1.5.0",
          "state": {
            "_dom_classes": [],
            "_model_module": "@jupyter-widgets/controls",
            "_model_module_version": "1.5.0",
            "_model_name": "HTMLModel",
            "_view_count": null,
            "_view_module": "@jupyter-widgets/controls",
            "_view_module_version": "1.5.0",
            "_view_name": "HTMLView",
            "description": "",
            "description_tooltip": null,
            "layout": "IPY_MODEL_e61ba3cd7c1a4584a456e7de3606bb7e",
            "placeholder": "​",
            "style": "IPY_MODEL_9ec6d15613b044b7b66f5c9a1138bb13",
            "value": "yolox_l0.05.onnx: 100%"
          }
        },
        "357fe69710804ec993030088f0654bf6": {
          "model_module": "@jupyter-widgets/controls",
          "model_name": "FloatProgressModel",
          "model_module_version": "1.5.0",
          "state": {
            "_dom_classes": [],
            "_model_module": "@jupyter-widgets/controls",
            "_model_module_version": "1.5.0",
            "_model_name": "FloatProgressModel",
            "_view_count": null,
            "_view_module": "@jupyter-widgets/controls",
            "_view_module_version": "1.5.0",
            "_view_name": "ProgressView",
            "bar_style": "success",
            "description": "",
            "description_tooltip": null,
            "layout": "IPY_MODEL_b6ce0ba9b29e48bbb5a67a7f269d21a8",
            "max": 216625723,
            "min": 0,
            "orientation": "horizontal",
            "style": "IPY_MODEL_524dae50a7214baabbd567ee3c998e34",
            "value": 216625723
          }
        },
        "5b66d9b90dfc4638a949bf4203d3938f": {
          "model_module": "@jupyter-widgets/controls",
          "model_name": "HTMLModel",
          "model_module_version": "1.5.0",
          "state": {
            "_dom_classes": [],
            "_model_module": "@jupyter-widgets/controls",
            "_model_module_version": "1.5.0",
            "_model_name": "HTMLModel",
            "_view_count": null,
            "_view_module": "@jupyter-widgets/controls",
            "_view_module_version": "1.5.0",
            "_view_name": "HTMLView",
            "description": "",
            "description_tooltip": null,
            "layout": "IPY_MODEL_109436f875fe470c8d1376fadb6f4f17",
            "placeholder": "​",
            "style": "IPY_MODEL_9b09cc9dc0334393a02aed685ab6b550",
            "value": " 217M/217M [00:01&lt;00:00, 142MB/s]"
          }
        },
        "a1bc1b0c9a5149029001232d2bc1ff76": {
          "model_module": "@jupyter-widgets/base",
          "model_name": "LayoutModel",
          "model_module_version": "1.2.0",
          "state": {
            "_model_module": "@jupyter-widgets/base",
            "_model_module_version": "1.2.0",
            "_model_name": "LayoutModel",
            "_view_count": null,
            "_view_module": "@jupyter-widgets/base",
            "_view_module_version": "1.2.0",
            "_view_name": "LayoutView",
            "align_content": null,
            "align_items": null,
            "align_self": null,
            "border": null,
            "bottom": null,
            "display": null,
            "flex": null,
            "flex_flow": null,
            "grid_area": null,
            "grid_auto_columns": null,
            "grid_auto_flow": null,
            "grid_auto_rows": null,
            "grid_column": null,
            "grid_gap": null,
            "grid_row": null,
            "grid_template_areas": null,
            "grid_template_columns": null,
            "grid_template_rows": null,
            "height": null,
            "justify_content": null,
            "justify_items": null,
            "left": null,
            "margin": null,
            "max_height": null,
            "max_width": null,
            "min_height": null,
            "min_width": null,
            "object_fit": null,
            "object_position": null,
            "order": null,
            "overflow": null,
            "overflow_x": null,
            "overflow_y": null,
            "padding": null,
            "right": null,
            "top": null,
            "visibility": null,
            "width": null
          }
        },
        "e61ba3cd7c1a4584a456e7de3606bb7e": {
          "model_module": "@jupyter-widgets/base",
          "model_name": "LayoutModel",
          "model_module_version": "1.2.0",
          "state": {
            "_model_module": "@jupyter-widgets/base",
            "_model_module_version": "1.2.0",
            "_model_name": "LayoutModel",
            "_view_count": null,
            "_view_module": "@jupyter-widgets/base",
            "_view_module_version": "1.2.0",
            "_view_name": "LayoutView",
            "align_content": null,
            "align_items": null,
            "align_self": null,
            "border": null,
            "bottom": null,
            "display": null,
            "flex": null,
            "flex_flow": null,
            "grid_area": null,
            "grid_auto_columns": null,
            "grid_auto_flow": null,
            "grid_auto_rows": null,
            "grid_column": null,
            "grid_gap": null,
            "grid_row": null,
            "grid_template_areas": null,
            "grid_template_columns": null,
            "grid_template_rows": null,
            "height": null,
            "justify_content": null,
            "justify_items": null,
            "left": null,
            "margin": null,
            "max_height": null,
            "max_width": null,
            "min_height": null,
            "min_width": null,
            "object_fit": null,
            "object_position": null,
            "order": null,
            "overflow": null,
            "overflow_x": null,
            "overflow_y": null,
            "padding": null,
            "right": null,
            "top": null,
            "visibility": null,
            "width": null
          }
        },
        "9ec6d15613b044b7b66f5c9a1138bb13": {
          "model_module": "@jupyter-widgets/controls",
          "model_name": "DescriptionStyleModel",
          "model_module_version": "1.5.0",
          "state": {
            "_model_module": "@jupyter-widgets/controls",
            "_model_module_version": "1.5.0",
            "_model_name": "DescriptionStyleModel",
            "_view_count": null,
            "_view_module": "@jupyter-widgets/base",
            "_view_module_version": "1.2.0",
            "_view_name": "StyleView",
            "description_width": ""
          }
        },
        "b6ce0ba9b29e48bbb5a67a7f269d21a8": {
          "model_module": "@jupyter-widgets/base",
          "model_name": "LayoutModel",
          "model_module_version": "1.2.0",
          "state": {
            "_model_module": "@jupyter-widgets/base",
            "_model_module_version": "1.2.0",
            "_model_name": "LayoutModel",
            "_view_count": null,
            "_view_module": "@jupyter-widgets/base",
            "_view_module_version": "1.2.0",
            "_view_name": "LayoutView",
            "align_content": null,
            "align_items": null,
            "align_self": null,
            "border": null,
            "bottom": null,
            "display": null,
            "flex": null,
            "flex_flow": null,
            "grid_area": null,
            "grid_auto_columns": null,
            "grid_auto_flow": null,
            "grid_auto_rows": null,
            "grid_column": null,
            "grid_gap": null,
            "grid_row": null,
            "grid_template_areas": null,
            "grid_template_columns": null,
            "grid_template_rows": null,
            "height": null,
            "justify_content": null,
            "justify_items": null,
            "left": null,
            "margin": null,
            "max_height": null,
            "max_width": null,
            "min_height": null,
            "min_width": null,
            "object_fit": null,
            "object_position": null,
            "order": null,
            "overflow": null,
            "overflow_x": null,
            "overflow_y": null,
            "padding": null,
            "right": null,
            "top": null,
            "visibility": null,
            "width": null
          }
        },
        "524dae50a7214baabbd567ee3c998e34": {
          "model_module": "@jupyter-widgets/controls",
          "model_name": "ProgressStyleModel",
          "model_module_version": "1.5.0",
          "state": {
            "_model_module": "@jupyter-widgets/controls",
            "_model_module_version": "1.5.0",
            "_model_name": "ProgressStyleModel",
            "_view_count": null,
            "_view_module": "@jupyter-widgets/base",
            "_view_module_version": "1.2.0",
            "_view_name": "StyleView",
            "bar_color": null,
            "description_width": ""
          }
        },
        "109436f875fe470c8d1376fadb6f4f17": {
          "model_module": "@jupyter-widgets/base",
          "model_name": "LayoutModel",
          "model_module_version": "1.2.0",
          "state": {
            "_model_module": "@jupyter-widgets/base",
            "_model_module_version": "1.2.0",
            "_model_name": "LayoutModel",
            "_view_count": null,
            "_view_module": "@jupyter-widgets/base",
            "_view_module_version": "1.2.0",
            "_view_name": "LayoutView",
            "align_content": null,
            "align_items": null,
            "align_self": null,
            "border": null,
            "bottom": null,
            "display": null,
            "flex": null,
            "flex_flow": null,
            "grid_area": null,
            "grid_auto_columns": null,
            "grid_auto_flow": null,
            "grid_auto_rows": null,
            "grid_column": null,
            "grid_gap": null,
            "grid_row": null,
            "grid_template_areas": null,
            "grid_template_columns": null,
            "grid_template_rows": null,
            "height": null,
            "justify_content": null,
            "justify_items": null,
            "left": null,
            "margin": null,
            "max_height": null,
            "max_width": null,
            "min_height": null,
            "min_width": null,
            "object_fit": null,
            "object_position": null,
            "order": null,
            "overflow": null,
            "overflow_x": null,
            "overflow_y": null,
            "padding": null,
            "right": null,
            "top": null,
            "visibility": null,
            "width": null
          }
        },
        "9b09cc9dc0334393a02aed685ab6b550": {
          "model_module": "@jupyter-widgets/controls",
          "model_name": "DescriptionStyleModel",
          "model_module_version": "1.5.0",
          "state": {
            "_model_module": "@jupyter-widgets/controls",
            "_model_module_version": "1.5.0",
            "_model_name": "DescriptionStyleModel",
            "_view_count": null,
            "_view_module": "@jupyter-widgets/base",
            "_view_module_version": "1.2.0",
            "_view_name": "StyleView",
            "description_width": ""
          }
        }
      }
    }
  },
  "nbformat": 4,
  "nbformat_minor": 5
}