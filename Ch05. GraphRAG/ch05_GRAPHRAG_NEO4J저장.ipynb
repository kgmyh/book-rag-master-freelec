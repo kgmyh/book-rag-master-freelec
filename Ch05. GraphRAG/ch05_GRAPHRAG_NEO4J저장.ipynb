{
 "cells": [
  {
   "cell_type": "code",
   "execution_count": null,
   "id": "VMaVZ_5FAZlV",
   "metadata": {
    "colab": {
     "base_uri": "https://localhost:8080/"
    },
    "executionInfo": {
     "elapsed": 11731,
     "status": "ok",
     "timestamp": 1740970786176,
     "user": {
      "displayName": "김재웅",
      "userId": "06729560528582252852"
     },
     "user_tz": -540
    },
    "id": "VMaVZ_5FAZlV",
    "outputId": "142552b7-5326-4cc2-d3c7-dc2c8e582a32"
   },
   "outputs": [],
   "source": [
    "!pip install neo4j"
   ]
  },
  {
   "cell_type": "code",
   "execution_count": null,
   "id": "t0San4J7DsIP",
   "metadata": {
    "colab": {
     "base_uri": "https://localhost:8080/"
    },
    "executionInfo": {
     "elapsed": 52906,
     "status": "ok",
     "timestamp": 1740970892836,
     "user": {
      "displayName": "김재웅",
      "userId": "06729560528582252852"
     },
     "user_tz": -540
    },
    "id": "t0San4J7DsIP",
    "outputId": "7b7fa198-4740-494f-f058-dc24b8b2d95d"
   },
   "outputs": [],
   "source": [
    "from google.colab import drive\n",
    "import os\n",
    "\n",
    "# 먼저 구글 드라이브 마운트\n",
    "drive.mount('/content/drive')\n",
    "\n",
    "# 디렉토리 변경\n",
    "os.chdir('/content/drive/MyDrive/working_directory')\n",
    "\n",
    "GRAPHRAG_FOLDER = '/content/drive/MyDrive/working_directory/output'"
   ]
  },
  {
   "cell_type": "code",
   "execution_count": null,
   "id": "lq4K_-PPAYyy",
   "metadata": {
    "executionInfo": {
     "elapsed": 196,
     "status": "ok",
     "timestamp": 1740972124834,
     "user": {
      "displayName": "김재웅",
      "userId": "06729560528582252852"
     },
     "user_tz": -540
    },
    "id": "lq4K_-PPAYyy"
   },
   "outputs": [],
   "source": [
    "from neo4j import GraphDatabase\n",
    "import pandas as pd\n",
    "import time\n",
    "\n",
    "#실제 인스턴스 정보를 입력합니다.\n",
    "NEO4J_URI=\"neo4j+s://...\"\n",
    "NEO4J_USERNAME=\"neo4j\"\n",
    "NEO4J_PASSWORD=\"password\"\n",
    "NEO4J_DATABASE = \"neo4j\"\n",
    "\n",
    "driver = GraphDatabase.driver(NEO4J_URI, auth=(NEO4J_USERNAME, NEO4J_PASSWORD))"
   ]
  },
  {
   "cell_type": "code",
   "execution_count": null,
   "id": "TytOu9e0E-zx",
   "metadata": {
    "executionInfo": {
     "elapsed": 14,
     "status": "ok",
     "timestamp": 1740972126119,
     "user": {
      "displayName": "김재웅",
      "userId": "06729560528582252852"
     },
     "user_tz": -540
    },
    "id": "TytOu9e0E-zx"
   },
   "outputs": [],
   "source": [
    "def batched_import(statement, df, batch_size=1000):\n",
    "    \"\"\"\n",
    "    Import a dataframe into Neo4j using a batched approach.\n",
    "\n",
    "    Parameters: statement is the Cypher query to execute, df is the dataframe to import, and batch_size is the number of rows to import in each batch.\n",
    "    \"\"\"\n",
    "    total = len(df)\n",
    "    start_s = time.time()\n",
    "    for start in range(0, total, batch_size):\n",
    "        batch = df.iloc[start : min(start + batch_size, total)]\n",
    "        result = driver.execute_query(\n",
    "            \"UNWIND $rows AS value \" + statement,\n",
    "            rows=batch.to_dict(\"records\"),\n",
    "            database_=NEO4J_DATABASE,\n",
    "        )\n",
    "        print(result.summary.counters)\n",
    "    print(f\"{total} rows in {time.time() - start_s} s.\")\n",
    "    return total"
   ]
  },
  {
   "cell_type": "code",
   "execution_count": null,
   "id": "d787bf7b-ac9b-4bfb-b140-a50a3fd205c5",
   "metadata": {
    "colab": {
     "base_uri": "https://localhost:8080/"
    },
    "executionInfo": {
     "elapsed": 1176,
     "status": "ok",
     "timestamp": 1740972130592,
     "user": {
      "displayName": "김재웅",
      "userId": "06729560528582252852"
     },
     "user_tz": -540
    },
    "id": "d787bf7b-ac9b-4bfb-b140-a50a3fd205c5",
    "outputId": "bf97a502-5bad-42a2-92db-82d6443b9dc0"
   },
   "outputs": [],
   "source": [
    "# create constraints, idempotent operation\n",
    "\n",
    "statements = [\n",
    "    \"\\ncreate constraint chunk_id if not exists for (c:__Chunk__) require c.id is unique\",\n",
    "    \"\\ncreate constraint document_id if not exists for (d:__Document__) require d.id is unique\",\n",
    "    \"\\ncreate constraint community_id if not exists for (c:__Community__) require c.community is unique\",\n",
    "    \"\\ncreate constraint entity_id if not exists for (e:__Entity__) require e.id is unique\",\n",
    "    \"\\ncreate constraint entity_title if not exists for (e:__Entity__) require e.name is unique\",\n",
    "    \"\\ncreate constraint covariate_title if not exists for (e:__Covariate__) require e.title is unique\",\n",
    "    \"\\ncreate constraint related_id if not exists for ()-[rel:RELATED]->() require rel.id is unique\",\n",
    "    \"\\n\",\n",
    "]\n",
    "\n",
    "for statement in statements:\n",
    "    if len((statement or \"\").strip()) > 0:\n",
    "        print(statement)\n",
    "        driver.execute_query(statement)"
   ]
  },
  {
   "cell_type": "code",
   "execution_count": null,
   "id": "ed7f212e-9148-424c-adc6-d81db9f8e5a5",
   "metadata": {
    "colab": {
     "base_uri": "https://localhost:8080/"
    },
    "executionInfo": {
     "elapsed": 748,
     "status": "ok",
     "timestamp": 1740922277406,
     "user": {
      "displayName": "김재웅",
      "userId": "06729560528582252852"
     },
     "user_tz": -540
    },
    "id": "ed7f212e-9148-424c-adc6-d81db9f8e5a5",
    "outputId": "00120890-23fb-4c47-a3d8-353bb413d58b"
   },
   "outputs": [],
   "source": [
    "doc_df = pd.read_parquet(\n",
    "    f\"{GRAPHRAG_FOLDER}/create_final_documents.parquet\", columns=[\"id\", \"title\"]\n",
    ")\n",
    "\n",
    "# Import documents\n",
    "statement = \"\"\"\n",
    "MERGE (d:__Document__ {id:value.id})\n",
    "SET d += value {.title}\n",
    "\"\"\"\n",
    "\n",
    "batched_import(statement, doc_df)"
   ]
  },
  {
   "cell_type": "code",
   "execution_count": null,
   "id": "eacxZ2VODese",
   "metadata": {
    "colab": {
     "base_uri": "https://localhost:8080/"
    },
    "executionInfo": {
     "elapsed": 1739,
     "status": "ok",
     "timestamp": 1740922280370,
     "user": {
      "displayName": "김재웅",
      "userId": "06729560528582252852"
     },
     "user_tz": -540
    },
    "id": "eacxZ2VODese",
    "outputId": "bdaa8ddb-fab6-45e3-82f9-7813aab0f835"
   },
   "outputs": [],
   "source": [
    "# 텍스트 유닛(청크) 임포트\n",
    "text_df = pd.read_parquet(f'{GRAPHRAG_FOLDER}/create_final_text_units.parquet', columns=[\"id\", \"text\", \"n_tokens\", \"document_ids\"])\n",
    "\n",
    "statement = \"\"\"\n",
    "MERGE (c:__Chunk__ {id:value.id})\n",
    "SET c += value {.text, .n_tokens}\n",
    "WITH c, value\n",
    "UNWIND value.document_ids AS document\n",
    "MATCH (d:__Document__ {id:document})\n",
    "MERGE (c)-[:PART_OF]->(d)\n",
    "\"\"\"\n",
    "\n",
    "batched_import(statement, text_df)"
   ]
  },
  {
   "cell_type": "code",
   "execution_count": null,
   "id": "PyQ5XUSRpVaZ",
   "metadata": {
    "colab": {
     "base_uri": "https://localhost:8080/"
    },
    "executionInfo": {
     "elapsed": 1599,
     "status": "ok",
     "timestamp": 1740922283584,
     "user": {
      "displayName": "김재웅",
      "userId": "06729560528582252852"
     },
     "user_tz": -540
    },
    "id": "PyQ5XUSRpVaZ",
    "outputId": "53c6857b-373a-4c48-cc6b-4a8da3a3d1c6"
   },
   "outputs": [],
   "source": [
    "# 엔티티 임포트\n",
    "entity_df = pd.read_parquet(\n",
    "    f'{GRAPHRAG_FOLDER}/create_final_entities.parquet',\n",
    "    columns=[\"title\", \"type\", \"description\", \"human_readable_id\", \"id\", \"text_unit_ids\"]\n",
    ")\n",
    "\n",
    "#  Cypher 쿼리\n",
    "statement = \"\"\"\n",
    "MERGE (e:__Entity__ {id: value.id})\n",
    "SET e.human_readable_id = value.human_readable_id,\n",
    "    e.description = value.description,\n",
    "    e.name = coalesce(replace(value.title, '\"', ''), 'Unknown')\n",
    "WITH e, value\n",
    "CALL apoc.create.addLabels(e, CASE WHEN coalesce(value.type, \"\") = \"\" THEN [] ELSE [apoc.text.upperCamelCase(replace(value.type, '\"', ''))] END) YIELD node\n",
    "UNWIND value.text_unit_ids AS text_unit\n",
    "MATCH (c:__Chunk__ {id: text_unit})\n",
    "MERGE (c)-[:HAS_ENTITY]->(e)\n",
    "\"\"\"\n",
    "\n",
    "# 데이터 임포트 실행\n",
    "batched_import(statement, entity_df)"
   ]
  },
  {
   "cell_type": "code",
   "execution_count": null,
   "id": "ow0DLFM8pVJY",
   "metadata": {
    "colab": {
     "base_uri": "https://localhost:8080/"
    },
    "executionInfo": {
     "elapsed": 2233,
     "status": "ok",
     "timestamp": 1740922376012,
     "user": {
      "displayName": "김재웅",
      "userId": "06729560528582252852"
     },
     "user_tz": -540
    },
    "id": "ow0DLFM8pVJY",
    "outputId": "4a087d19-dbed-4a90-c045-12468c476025"
   },
   "outputs": [],
   "source": [
    "# 관계 임포트\n",
    "rel_df = pd.read_parquet(f'{GRAPHRAG_FOLDER}/create_final_relationships.parquet',\n",
    "                         columns=[\"source\", \"target\", \"id\", \"combined_degree\", \"weight\", \"human_readable_id\", \"description\", \"text_unit_ids\"])\n",
    "\n",
    "rel_df.rename(columns={'combined_degree':'rank'})\n",
    "\n",
    "rel_statement = \"\"\"\n",
    "    MATCH (source:__Entity__ {name:replace(value.source,'\"','')})\n",
    "    MATCH (target:__Entity__ {name:replace(value.target,'\"','')})\n",
    "    MERGE (source)-[rel:RELATED {id: value.id}]->(target)\n",
    "    SET rel += value {.rank, .weight, .human_readable_id, .description, .text_unit_ids}\n",
    "    RETURN count(*) as createdRels\n",
    "\"\"\"\n",
    "\n",
    "batched_import(rel_statement, rel_df)"
   ]
  },
  {
   "cell_type": "code",
   "execution_count": null,
   "id": "umKezS5jp-iv",
   "metadata": {
    "colab": {
     "base_uri": "https://localhost:8080/"
    },
    "executionInfo": {
     "elapsed": 2133,
     "status": "ok",
     "timestamp": 1740922394145,
     "user": {
      "displayName": "김재웅",
      "userId": "06729560528582252852"
     },
     "user_tz": -540
    },
    "id": "umKezS5jp-iv",
    "outputId": "a7ec09bb-2ca5-4036-fec6-f102d570b4b8"
   },
   "outputs": [],
   "source": [
    "# 커뮤니티 임포트\n",
    "community_df = pd.read_parquet(\n",
    "    f'{GRAPHRAG_FOLDER}/create_final_communities.parquet',\n",
    "    columns=[\"id\", \"level\", \"title\", \"text_unit_ids\", \"relationship_ids\"]\n",
    ")\n",
    "\n",
    "statement = \"\"\"\n",
    "MERGE (c:__Community__ {community: value.title})\n",
    "SET c.title = value.title,\n",
    "    c.level = value.level\n",
    "WITH c, value\n",
    "UNWIND value.text_unit_ids as text_unit_id\n",
    "MATCH (t:__Chunk__ {id: text_unit_id})\n",
    "MERGE (c)-[:HAS_CHUNK]->(t)\n",
    "WITH distinct c, value\n",
    "UNWIND value.relationship_ids as rel_id\n",
    "MATCH (start:__Entity__)-[:RELATED {id: rel_id}]->(end:__Entity__)\n",
    "MERGE (start)-[:IN_COMMUNITY]->(c)\n",
    "MERGE (end)-[:IN_COMMUNITY]->(c)\n",
    "RETURN count(distinct c) as createdCommunities\n",
    "\"\"\"\n",
    "\n",
    "batched_import(statement, community_df)\n"
   ]
  },
  {
   "cell_type": "code",
   "execution_count": null,
   "id": "LrOkJUDxqBYB",
   "metadata": {
    "colab": {
     "base_uri": "https://localhost:8080/"
    },
    "executionInfo": {
     "elapsed": 1526,
     "status": "ok",
     "timestamp": 1740922455314,
     "user": {
      "displayName": "김재웅",
      "userId": "06729560528582252852"
     },
     "user_tz": -540
    },
    "id": "LrOkJUDxqBYB",
    "outputId": "af5d2109-7467-43ac-ef7a-f5227e0ed9fa"
   },
   "outputs": [],
   "source": [
    "# 커뮤니티 보고서 임포트\n",
    "community_report_df = pd.read_parquet(\n",
    "    f'{GRAPHRAG_FOLDER}/create_final_community_reports.parquet',\n",
    "    columns=[\"id\", \"community\", \"level\", \"title\", \"summary\", \"findings\", \"rank\", \"rank_explanation\", \"full_content\"]\n",
    ")\n",
    "\n",
    "# community 값을 \"Community \" + 숫자 형태로 문자열을 만들어줌\n",
    "community_report_df['community'] = \"Community \" + community_report_df['community'].astype(str)\n",
    "\n",
    "community_statement = \"\"\"\n",
    "MERGE (c:__Community__ {community: value.community})\n",
    "SET c.level = value.level,\n",
    "    c.name = value.title,\n",
    "    c.rank = value.rank,\n",
    "    c.rank_explanation = value.rank_explanation,\n",
    "    c.full_content = value.full_content,\n",
    "    c.summary = value.summary\n",
    "WITH c, value\n",
    "UNWIND range(0, size(value.findings)-1) AS finding_idx\n",
    "WITH c, value, finding_idx, value.findings[finding_idx] AS finding\n",
    "MERGE (c)-[:HAS_FINDING]->(f:Finding {id: finding_idx})\n",
    "SET f += finding\n",
    "\"\"\"\n",
    "\n",
    "batched_import(community_statement, community_report_df)\n"
   ]
  },
  {
   "cell_type": "code",
   "execution_count": null,
   "id": "sj9YPgZ8BX7w",
   "metadata": {
    "colab": {
     "base_uri": "https://localhost:8080/"
    },
    "executionInfo": {
     "elapsed": 485,
     "status": "ok",
     "timestamp": 1740972824234,
     "user": {
      "displayName": "김재웅",
      "userId": "06729560528582252852"
     },
     "user_tz": -540
    },
    "id": "sj9YPgZ8BX7w",
    "outputId": "eb0d9fe3-8b84-46a8-b2ac-d191f2741bc0"
   },
   "outputs": [],
   "source": [
    "# 노드 임포트: 엔티티-커뮤니티 연결\n",
    "node_df = pd.read_parquet(f'{GRAPHRAG_FOLDER}/create_final_nodes.parquet', columns=['id', 'human_readable_id', 'title', 'community', 'level', 'degree', 'x', 'y'])\n",
    "node_df['community'] = \"Community \" + node_df['community'].astype(str)\n",
    "statement = \"\"\"\n",
    "MATCH (e:__Entity__)\n",
    "WHERE e.name = replace(value.title, '\"', '')\n",
    "MERGE (c:__Community__ {community: value.community})\n",
    "MERGE (e)-[:IN_COMMUNITY]->(c)\n",
    "\"\"\"\n",
    "\n",
    "batched_import(statement, node_df)"
   ]
  }
 ],
 "metadata": {
  "colab": {
   "provenance": []
  },
  "kernelspec": {
   "display_name": "Python 3 (ipykernel)",
   "language": "python",
   "name": "python3"
  },
  "language_info": {
   "codemirror_mode": {
    "name": "ipython",
    "version": 3
   },
   "file_extension": ".py",
   "mimetype": "text/x-python",
   "name": "python",
   "nbconvert_exporter": "python",
   "pygments_lexer": "ipython3",
   "version": "3.11.5"
  }
 },
 "nbformat": 4,
 "nbformat_minor": 5
}
