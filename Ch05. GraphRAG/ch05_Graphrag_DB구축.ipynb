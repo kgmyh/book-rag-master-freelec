{
 "cells": [
  {
   "cell_type": "code",
   "execution_count": null,
   "metadata": {
    "id": "idu3kUKRLSHi"
   },
   "outputs": [],
   "source": [
    "!pip install graphrag"
   ]
  },
  {
   "cell_type": "code",
   "execution_count": null,
   "metadata": {
    "id": "DBvNDzw-Lbdx"
   },
   "outputs": [],
   "source": [
    "from pathlib import Path\n",
    "\n",
    "working_dir = Path('working_directory')\n",
    "working_dir.mkdir(parents=True, exist_ok=True)"
   ]
  },
  {
   "cell_type": "code",
   "execution_count": null,
   "metadata": {
    "id": "F3KT2_awMN-K"
   },
   "outputs": [],
   "source": [
    "!graphrag init --root ./working_directory"
   ]
  },
  {
   "cell_type": "code",
   "execution_count": null,
   "metadata": {
    "id": "0_dypCfeMYCa"
   },
   "outputs": [],
   "source": [
    "# 워킹 디렉토리 안에 input폴더 생성\n",
    "input_dir = working_dir / 'input'\n",
    "input_dir.mkdir(parents=True, exist_ok=True)"
   ]
  },
  {
   "cell_type": "code",
   "execution_count": null,
   "metadata": {},
   "outputs": [],
   "source": [
    "import shutil\n",
    "import os\n",
    "from google.colab import drive\n",
    "\n",
    "# 먼저 구글 드라이브 마운트\n",
    "drive.mount('/content/drive')\n",
    "\n",
    "# 소스 및 대상 경로 정의\n",
    "source_path = '/content/drive/MyDrive/langchain-tutorial/Ch05. GraphRAG/Data/How_to_invest_money.txt'\n",
    "destination_path = '/content/working_directory/input/How_to_invest_money.txt'\n",
    "\n",
    "# 파일 복사\n",
    "shutil.copy(source_path, destination_path)\n",
    "\n",
    "# 파일이 성공적으로 복사되었는지 확인\n",
    "if os.path.exists(destination_path):\n",
    "    print(f\"파일이 {destination_path}에 성공적으로 복사되었습니다\")\n",
    "else:\n",
    "    print(\"파일 복사 실패\")"
   ]
  },
  {
   "cell_type": "code",
   "execution_count": null,
   "metadata": {
    "id": "y0avgFWxdlbV"
   },
   "outputs": [],
   "source": [
    "!graphrag index --root ./working_directory"
   ]
  },
  {
   "cell_type": "code",
   "execution_count": null,
   "metadata": {
    "id": "XdqsQE1AZb48"
   },
   "outputs": [],
   "source": [
    "# 먼저 구글 드라이브 마운트\n",
    "from google.colab import drive\n",
    "drive.mount('/content/drive')\n"
   ]
  },
  {
   "cell_type": "code",
   "execution_count": null,
   "metadata": {
    "id": "h8k_2suwb_cJ"
   },
   "outputs": [],
   "source": [
    "# working_directory 폴더를 구글 드라이브로 복사\n",
    "!cp -r /content/working_directory \"/content/drive/My Drive/\""
   ]
  }
 ],
 "metadata": {
  "colab": {
   "authorship_tag": "ABX9TyO1S5Gh1lD0jyjh5ufU4E29",
   "provenance": []
  },
  "kernelspec": {
   "display_name": "Python 3",
   "name": "python3"
  },
  "language_info": {
   "name": "python"
  }
 },
 "nbformat": 4,
 "nbformat_minor": 0
}
